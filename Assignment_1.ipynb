{
  "nbformat": 4,
  "nbformat_minor": 0,
  "metadata": {
    "kernelspec": {
      "display_name": "Python 3",
      "language": "python",
      "name": "python3"
    },
    "language_info": {
      "codemirror_mode": {
        "name": "ipython",
        "version": 3
      },
      "file_extension": ".py",
      "mimetype": "text/x-python",
      "name": "python",
      "nbconvert_exporter": "python",
      "pygments_lexer": "ipython3",
      "version": "3.7.3"
    },
    "colab": {
      "name": "Assignment -1.ipynb",
      "provenance": [],
      "include_colab_link": true
    }
  },
  "cells": [
    {
      "cell_type": "markdown",
      "metadata": {
        "id": "view-in-github",
        "colab_type": "text"
      },
      "source": [
        "<a href=\"https://colab.research.google.com/github/plaban1981/INEURON/blob/Data_Science_Master/Assignment_1.ipynb\" target=\"_parent\"><img src=\"https://colab.research.google.com/assets/colab-badge.svg\" alt=\"Open In Colab\"/></a>"
      ]
    },
    {
      "cell_type": "markdown",
      "metadata": {
        "id": "SIzs6G0M5Yti",
        "colab_type": "text"
      },
      "source": [
        "1. Write a program which will find all such numbers which are divisible by 7 but are not a multiple of 5, between 2000 and 3200 (both included). The numbers obtained should be printed in a comma-separated sequence on a single line. "
      ]
    },
    {
      "cell_type": "code",
      "metadata": {
        "id": "RhZtzp2d5Ytx",
        "colab_type": "code",
        "colab": {
          "base_uri": "https://localhost:8080/",
          "height": 54
        },
        "outputId": "9cfe3057-fb1d-4ebb-d820-0dd36713756b"
      },
      "source": [
        "numbers = []\n",
        "for i in range(2000,3200):\n",
        "  if (i % 7 ==0 ) and (i % 5 !=0 ) :\n",
        "    numbers.append(i)\n",
        "\n",
        "\"\".join(str(numbers))"
      ],
      "execution_count": 1,
      "outputs": [
        {
          "output_type": "execute_result",
          "data": {
            "text/plain": [
              "'[2002, 2009, 2016, 2023, 2037, 2044, 2051, 2058, 2072, 2079, 2086, 2093, 2107, 2114, 2121, 2128, 2142, 2149, 2156, 2163, 2177, 2184, 2191, 2198, 2212, 2219, 2226, 2233, 2247, 2254, 2261, 2268, 2282, 2289, 2296, 2303, 2317, 2324, 2331, 2338, 2352, 2359, 2366, 2373, 2387, 2394, 2401, 2408, 2422, 2429, 2436, 2443, 2457, 2464, 2471, 2478, 2492, 2499, 2506, 2513, 2527, 2534, 2541, 2548, 2562, 2569, 2576, 2583, 2597, 2604, 2611, 2618, 2632, 2639, 2646, 2653, 2667, 2674, 2681, 2688, 2702, 2709, 2716, 2723, 2737, 2744, 2751, 2758, 2772, 2779, 2786, 2793, 2807, 2814, 2821, 2828, 2842, 2849, 2856, 2863, 2877, 2884, 2891, 2898, 2912, 2919, 2926, 2933, 2947, 2954, 2961, 2968, 2982, 2989, 2996, 3003, 3017, 3024, 3031, 3038, 3052, 3059, 3066, 3073, 3087, 3094, 3101, 3108, 3122, 3129, 3136, 3143, 3157, 3164, 3171, 3178, 3192, 3199]'"
            ]
          },
          "metadata": {
            "tags": []
          },
          "execution_count": 1
        }
      ]
    },
    {
      "cell_type": "markdown",
      "metadata": {
        "id": "4UGC7B-B5YuE",
        "colab_type": "text"
      },
      "source": [
        "2. Write a Python program to accept the user's first and last name and then getting them printed in the the reverse order with a space between first name and last name"
      ]
    },
    {
      "cell_type": "code",
      "metadata": {
        "id": "IB3L1jMp5YuK",
        "colab_type": "code",
        "colab": {
          "base_uri": "https://localhost:8080/",
          "height": 70
        },
        "outputId": "d1a22d78-9ea5-4aaa-fed2-302b93f5d47c"
      },
      "source": [
        "first_name  = input('Enter First Name ')\n",
        "Last_name = input('Enter Second Name')\n",
        "Name = first_name + \" \" + Last_name\n",
        "print(Name[::-1])"
      ],
      "execution_count": 2,
      "outputs": [
        {
          "output_type": "stream",
          "text": [
            "Enter First Name Plaban\n",
            "Enter Second NameNayak\n",
            "kayaN nabalP\n"
          ],
          "name": "stdout"
        }
      ]
    },
    {
      "cell_type": "markdown",
      "metadata": {
        "id": "NUunblBf5YuZ",
        "colab_type": "text"
      },
      "source": [
        "3.Write a Python program to find the volume of a sphere with diameter 12 cm.  \n",
        " \n",
        "Formula: V=4/3 * π * r 3 "
      ]
    },
    {
      "cell_type": "code",
      "metadata": {
        "id": "Fwvx5fFN5Yue",
        "colab_type": "code",
        "colab": {
          "base_uri": "https://localhost:8080/",
          "height": 34
        },
        "outputId": "59be7732-1575-4d1b-8ed9-455d47bdea19"
      },
      "source": [
        "import math\n",
        "def volume_sphere(radius):\n",
        "  volume = 4/3 * math.pi * radius\n",
        "  return volume\n",
        "\n",
        "print(f'volume of the sphere with diameter of 12 cm is {volume_sphere(12/2)}')"
      ],
      "execution_count": 3,
      "outputs": [
        {
          "output_type": "stream",
          "text": [
            "volume of the sphere with diameter of 12 cm is 25.132741228718345\n"
          ],
          "name": "stdout"
        }
      ]
    },
    {
      "cell_type": "markdown",
      "metadata": {
        "id": "IAB5W9IN5Yus",
        "colab_type": "text"
      },
      "source": [
        "4.Write a program which accepts a sequence of comma-separated numbers from console and generate a list. "
      ]
    },
    {
      "cell_type": "code",
      "metadata": {
        "id": "ZHZqNa965Yux",
        "colab_type": "code",
        "colab": {
          "base_uri": "https://localhost:8080/",
          "height": 52
        },
        "outputId": "4085a429-3b9d-4153-813f-1a0c3225bf12"
      },
      "source": [
        "numbers = input('enter a sequence of comma separated numbers')\n",
        "list_of_numbers = [int(num) for num in numbers.split(\",\")]\n",
        "print(list_of_numbers)"
      ],
      "execution_count": 4,
      "outputs": [
        {
          "output_type": "stream",
          "text": [
            "enter a sequence of comma separated numbers1,100,999,87,5,47,883,2,10\n",
            "[1, 100, 999, 87, 5, 47, 883, 2, 10]\n"
          ],
          "name": "stdout"
        }
      ]
    },
    {
      "cell_type": "markdown",
      "metadata": {
        "id": "pimhx8yl5Yu-",
        "colab_type": "raw"
      },
      "source": [
        "5. Create the below pattern using nested for loop in Python. \n",
        " \n",
        " \n",
        "*  \n",
        "* *  \n",
        "* * * \n",
        "* * * *  \n",
        "* * * * *  \n",
        "* * * *  \n",
        "* * *  \n",
        "* *  \n",
        "* \n",
        " \n",
        " "
      ]
    },
    {
      "cell_type": "code",
      "metadata": {
        "id": "KBh-kCiX5YvC",
        "colab_type": "code",
        "colab": {}
      },
      "source": [
        ""
      ],
      "execution_count": 0,
      "outputs": []
    },
    {
      "cell_type": "markdown",
      "metadata": {
        "id": "BKyUwtwU5YvW",
        "colab_type": "text"
      },
      "source": [
        "6. Write a Python program to reverse a word after accepting the input from the user. \n",
        " \n",
        "Sample Output: \n",
        " \n",
        "Input word: iNeuron \n",
        " \n",
        "Output: norueNi"
      ]
    },
    {
      "cell_type": "code",
      "metadata": {
        "id": "ccD27Kuv5Yva",
        "colab_type": "code",
        "colab": {
          "base_uri": "https://localhost:8080/",
          "height": 52
        },
        "outputId": "82494e3f-d5cd-45e3-a23e-e3f8380f4a27"
      },
      "source": [
        "def reverse(word):\n",
        "  return word[::-1]\n",
        "word = input(\"input a word\")\n",
        "print(f\"Reverse of {word} : {reverse(word)}\")"
      ],
      "execution_count": 6,
      "outputs": [
        {
          "output_type": "stream",
          "text": [
            "input a wordiNeuron\n",
            "Reverse of iNeuron : norueNi\n"
          ],
          "name": "stdout"
        }
      ]
    },
    {
      "cell_type": "markdown",
      "metadata": {
        "id": "fuPo9Xsx5Yvp",
        "colab_type": "text"
      },
      "source": [
        "7. Write a Python Program to print the given string in the format specified in the ​sample output. \n",
        " WE, THE PEOPLE OF INDIA, having solemnly resolved to constitute India into a SOVEREIGN, SOCIALIST, SECULAR, DEMOCRATIC REPUBLIC and to secure to all its citizens \n",
        " \n",
        "Sample Output: \n",
        " \n",
        "WE, THE PEOPLE OF INDIA,   having solemnly resolved to constitute India into a SOVEREIGN, !  SOCIALIST, SECULAR, DEMOCRATIC REPUBLIC    and to secure to all its citizens "
      ]
    },
    {
      "cell_type": "code",
      "metadata": {
        "id": "2NSDP12v5Yvs",
        "colab_type": "code",
        "colab": {
          "base_uri": "https://localhost:8080/",
          "height": 52
        },
        "outputId": "996e7e26-3b55-4261-b2e7-34a061e30dfa"
      },
      "source": [
        "print('WE, THE PEOPLE OF INDIA,having solemnly resolved to constitute India into a SOVEREIGN,! SOCIALIST, SECULAR, DEMOCRATIC REPUBLIC\\nand to secure to all its citizens')"
      ],
      "execution_count": 8,
      "outputs": [
        {
          "output_type": "stream",
          "text": [
            "WE, THE PEOPLE OF INDIA,having solemnly resolved to constitute India into a SOVEREIGN,! SOCIALIST, SECULAR, DEMOCRATIC REPUBLIC\n",
            "and to secure to all its citizens\n"
          ],
          "name": "stdout"
        }
      ]
    },
    {
      "cell_type": "markdown",
      "metadata": {
        "id": "bnNNpVyj5Yv4",
        "colab_type": "text"
      },
      "source": [
        "Note : - NOTE:​ ​The​ ​solution​ ​shared​ ​through​ ​Github​ ​should​ ​contain​ ​the​ ​source code​ ​used​ ​ and​  ​the​ ​output"
      ]
    },
    {
      "cell_type": "code",
      "metadata": {
        "id": "OY8nL9OI5Yv7",
        "colab_type": "code",
        "colab": {}
      },
      "source": [
        ""
      ],
      "execution_count": 0,
      "outputs": []
    }
  ]
}