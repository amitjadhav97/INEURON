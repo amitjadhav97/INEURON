{
  "nbformat": 4,
  "nbformat_minor": 0,
  "metadata": {
    "colab": {
      "name": "Assignment_1_ineuron.ipynb",
      "provenance": [],
      "collapsed_sections": [],
      "include_colab_link": true
    },
    "kernelspec": {
      "name": "python3",
      "display_name": "Python 3"
    }
  },
  "cells": [
    {
      "cell_type": "markdown",
      "metadata": {
        "id": "view-in-github",
        "colab_type": "text"
      },
      "source": [
        "<a href=\"https://colab.research.google.com/github/plaban1981/INEURON/blob/master/Assignment_1_ineuron.ipynb\" target=\"_parent\"><img src=\"https://colab.research.google.com/assets/colab-badge.svg\" alt=\"Open In Colab\"/></a>"
      ]
    },
    {
      "cell_type": "markdown",
      "metadata": {
        "id": "YlF0qi4EyaUP",
        "colab_type": "text"
      },
      "source": [
        "##1.\n",
        "Write a program which will find all such numbers which are divisible by 7 but are not a multiple\n",
        "of 5, between 2000 and 3200 (both included). The numbers obtained should be printed in a\n",
        "comma-separated sequence on a single line"
      ]
    },
    {
      "cell_type": "code",
      "metadata": {
        "id": "AS4WoX2OyOzA",
        "colab_type": "code",
        "outputId": "941ad3d9-59bb-43e9-a032-50c3079774e5",
        "colab": {
          "base_uri": "https://localhost:8080/",
          "height": 54
        }
      },
      "source": [
        "def num_7_5(num):\n",
        "  \n",
        "    return num\n",
        "numbers = []\n",
        "for i in range(2000,3200):\n",
        "  if (i % 7 ==0 ) and (i % 5 !=0 ) :\n",
        "    numbers.append(i)\n",
        "\n",
        "\"\".join(str(numbers))"
      ],
      "execution_count": 1,
      "outputs": [
        {
          "output_type": "execute_result",
          "data": {
            "text/plain": [
              "'[2002, 2009, 2016, 2023, 2037, 2044, 2051, 2058, 2072, 2079, 2086, 2093, 2107, 2114, 2121, 2128, 2142, 2149, 2156, 2163, 2177, 2184, 2191, 2198, 2212, 2219, 2226, 2233, 2247, 2254, 2261, 2268, 2282, 2289, 2296, 2303, 2317, 2324, 2331, 2338, 2352, 2359, 2366, 2373, 2387, 2394, 2401, 2408, 2422, 2429, 2436, 2443, 2457, 2464, 2471, 2478, 2492, 2499, 2506, 2513, 2527, 2534, 2541, 2548, 2562, 2569, 2576, 2583, 2597, 2604, 2611, 2618, 2632, 2639, 2646, 2653, 2667, 2674, 2681, 2688, 2702, 2709, 2716, 2723, 2737, 2744, 2751, 2758, 2772, 2779, 2786, 2793, 2807, 2814, 2821, 2828, 2842, 2849, 2856, 2863, 2877, 2884, 2891, 2898, 2912, 2919, 2926, 2933, 2947, 2954, 2961, 2968, 2982, 2989, 2996, 3003, 3017, 3024, 3031, 3038, 3052, 3059, 3066, 3073, 3087, 3094, 3101, 3108, 3122, 3129, 3136, 3143, 3157, 3164, 3171, 3178, 3192, 3199]'"
            ]
          },
          "metadata": {
            "tags": []
          },
          "execution_count": 1
        }
      ]
    },
    {
      "cell_type": "markdown",
      "metadata": {
        "id": "GBkMu6Qr0CUN",
        "colab_type": "text"
      },
      "source": [
        "##3.\n",
        "Write a Python program to accept the user's first and last name and then getting them printed in\n",
        "the the reverse order with a space between first name and last name.\n"
      ]
    },
    {
      "cell_type": "code",
      "metadata": {
        "id": "iyNUoDCh1GK0",
        "colab_type": "code",
        "colab": {
          "base_uri": "https://localhost:8080/",
          "height": 68
        },
        "outputId": "b49ace02-243c-4fd0-f763-b0ae40179e0c"
      },
      "source": [
        "first_name  = input('Enter First Name ')\n",
        "Last_name = input('Enter Second Name')\n",
        "Name = first_name + \" \" + Last_name\n",
        "print(Name[::-1])"
      ],
      "execution_count": 2,
      "outputs": [
        {
          "output_type": "stream",
          "text": [
            "Enter First Name Plaban\n",
            "Enter Second NameNayak\n",
            "kayaN nabalP\n"
          ],
          "name": "stdout"
        }
      ]
    },
    {
      "cell_type": "markdown",
      "metadata": {
        "id": "lMAwaFhZ3HVq",
        "colab_type": "text"
      },
      "source": [
        "## 4.\n",
        "Write a Python program to find the volume of a sphere with diameter 12 cm.\n",
        "\n",
        "\n",
        "Formula: V=4/3 * π * r\n"
      ]
    },
    {
      "cell_type": "code",
      "metadata": {
        "id": "etq1bxs43J-Q",
        "colab_type": "code",
        "colab": {
          "base_uri": "https://localhost:8080/",
          "height": 34
        },
        "outputId": "483ab8a2-f29c-4209-b127-4a68206bae17"
      },
      "source": [
        "import math\n",
        "def volume_sphere(radius):\n",
        "  volume = 4/3 * math.pi * radius\n",
        "  return volume\n",
        "\n",
        "print(f'volume of the sphere with diameter of 12 cm is {volume_sphere(12/2)}')"
      ],
      "execution_count": 4,
      "outputs": [
        {
          "output_type": "stream",
          "text": [
            "volume of the sphere with diameter of 12 cm is 25.132741228718345\n"
          ],
          "name": "stdout"
        }
      ]
    },
    {
      "cell_type": "markdown",
      "metadata": {
        "id": "3tJSt78L4tnI",
        "colab_type": "text"
      },
      "source": [
        "##Task 2:\n"
      ]
    },
    {
      "cell_type": "markdown",
      "metadata": {
        "id": "Kkqbuzre4ust",
        "colab_type": "text"
      },
      "source": [
        "##1.\n",
        "Write a program which accepts a sequence of comma-separated numbers from console and\n",
        "generate a list.\n"
      ]
    },
    {
      "cell_type": "code",
      "metadata": {
        "id": "trx9XpAG5Bah",
        "colab_type": "code",
        "colab": {
          "base_uri": "https://localhost:8080/",
          "height": 51
        },
        "outputId": "b5f46e50-0a3d-46d8-e95a-8d5b0a8f43ac"
      },
      "source": [
        "numbers = input('enter a sequence of comma separated numbers')\n",
        "list_of_numbers = [int(num) for num in numbers.split(\",\")]\n",
        "print(list_of_numbers)"
      ],
      "execution_count": 8,
      "outputs": [
        {
          "output_type": "stream",
          "text": [
            "enter a sequence of comma separated numbers111,2,33,678,99,100,28,39,10\n",
            "[111, 2, 33, 678, 99, 100, 28, 39, 10]\n"
          ],
          "name": "stdout"
        }
      ]
    },
    {
      "cell_type": "markdown",
      "metadata": {
        "id": "gTAw7rtO6G24",
        "colab_type": "text"
      },
      "source": [
        "##2.\n",
        "Create the below pattern using nested for loop in Python.\n",
        "\n",
        "#*\n",
        "#* *\n",
        "#* * *\n",
        "#* * * *\n",
        "#* * * * *\n",
        "#* * * *\n",
        "#* * *\n",
        "#* *\n",
        "#*"
      ]
    },
    {
      "cell_type": "code",
      "metadata": {
        "id": "dYf3Q8cY6WlE",
        "colab_type": "code",
        "colab": {
          "base_uri": "https://localhost:8080/",
          "height": 187
        },
        "outputId": "d38ccbb8-0595-40ab-b1c0-b6c78c91783f"
      },
      "source": [
        "n = 6\n",
        "for i in range(5):\n",
        "  #for j in range(i):\n",
        "  print((i+ 1)*'*')\n",
        "for i in range(5,0,-1):\n",
        "  print((i -1) * \"*\")"
      ],
      "execution_count": 16,
      "outputs": [
        {
          "output_type": "stream",
          "text": [
            "*\n",
            "**\n",
            "***\n",
            "****\n",
            "*****\n",
            "****\n",
            "***\n",
            "**\n",
            "*\n",
            "\n"
          ],
          "name": "stdout"
        }
      ]
    },
    {
      "cell_type": "markdown",
      "metadata": {
        "id": "3fE_wAtiCHPi",
        "colab_type": "text"
      },
      "source": [
        "##3.\n",
        "Write a Python program to reverse a word after accepting the input from the user.\n",
        "\n",
        "Sample Output:\n",
        "\n",
        "Input word: AcadGild\n",
        "\n",
        "Output: dilGdacA"
      ]
    },
    {
      "cell_type": "code",
      "metadata": {
        "id": "mXAF_9orCKWY",
        "colab_type": "code",
        "colab": {
          "base_uri": "https://localhost:8080/",
          "height": 51
        },
        "outputId": "6c0f187e-4e70-459a-ed9d-9375f5fd5a09"
      },
      "source": [
        "text = input('enter text')\n",
        "print(f'reverse of {text} is {text[::-1]}')"
      ],
      "execution_count": 17,
      "outputs": [
        {
          "output_type": "stream",
          "text": [
            "enter textAcadGild\n",
            "reverse of AcadGild is dliGdacA\n"
          ],
          "name": "stdout"
        }
      ]
    },
    {
      "cell_type": "markdown",
      "metadata": {
        "id": "dIhvEutfC67m",
        "colab_type": "text"
      },
      "source": [
        "##4.\n",
        "Write a Python Program to print the given string in the format specified in the sample output.\n",
        "\n",
        "WE, THE PEOPLE OF INDIA, having solemnly resolved to constitute India into a\n",
        "SOVEREIGN, SOCIALIST, SECULAR, DEMOCRATIC REPUBLIC and to secure to all\n",
        "its citizens\n",
        "\n",
        "\n",
        "Sample Output:\n",
        "\n",
        "WE, THE PEOPLE OF INDIA,\n",
        "\n",
        "having solemnly resolved to constitute India into a SOVEREIGN, !\n",
        "\n",
        "SOCIALIST, SECULAR, DEMOCRATIC REPUBLIC\n",
        "\n",
        "and to secure to all its citizens"
      ]
    },
    {
      "cell_type": "code",
      "metadata": {
        "id": "0N76-SArEavE",
        "colab_type": "code",
        "colab": {
          "base_uri": "https://localhost:8080/",
          "height": 85
        },
        "outputId": "6e3da2d5-59ca-42c8-a605-b1a3c5381bed"
      },
      "source": [
        "print('WE, THE PEOPLE OF INDIA,\\nhaving solemnly resolved to constitute India into a SOVEREIGN,!\\nSOCIALIST, SECULAR, DEMOCRATIC REPUBLIC\\nand to secure to all its citizens')"
      ],
      "execution_count": 19,
      "outputs": [
        {
          "output_type": "stream",
          "text": [
            "WE, THE PEOPLE OF INDIA,\n",
            "having solemnly resolved to constitute India into a SOVEREIGN,!\n",
            "SOCIALIST, SECULAR, DEMOCRATIC REPUBLIC\n",
            "and to secure to all its citizens\n"
          ],
          "name": "stdout"
        }
      ]
    }
  ]
}