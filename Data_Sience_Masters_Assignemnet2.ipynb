{
  "nbformat": 4,
  "nbformat_minor": 0,
  "metadata": {
    "colab": {
      "name": "Data_Sience_Masters_Assignemnet2.ipynb",
      "provenance": [],
      "authorship_tag": "ABX9TyN2fQ5aBTTNCkMjcIDc6BcV",
      "include_colab_link": true
    },
    "kernelspec": {
      "name": "python3",
      "display_name": "Python 3"
    }
  },
  "cells": [
    {
      "cell_type": "markdown",
      "metadata": {
        "id": "view-in-github",
        "colab_type": "text"
      },
      "source": [
        "<a href=\"https://colab.research.google.com/github/plaban1981/INEURON/blob/Data_Science_Master/Data_Sience_Masters_Assignemnet2.ipynb\" target=\"_parent\"><img src=\"https://colab.research.google.com/assets/colab-badge.svg\" alt=\"Open In Colab\"/></a>"
      ]
    },
    {
      "cell_type": "markdown",
      "metadata": {
        "id": "DZ0WUUIW2FtQ",
        "colab_type": "text"
      },
      "source": [
        "1.1\n",
        "Write a Python Program to implement your own myreduce() function which works exactly like\n",
        "Python's built-in function reduce()"
      ]
    },
    {
      "cell_type": "code",
      "metadata": {
        "id": "bQHLouPl2EVJ",
        "colab_type": "code",
        "colab": {
          "base_uri": "https://localhost:8080/",
          "height": 51
        },
        "outputId": "f9514e19-b2f2-42dd-b082-5db76ced33ca"
      },
      "source": [
        "def myreduce(anyfunc, sequence):\n",
        "\n",
        " # Get first item in sequence and assign to result\n",
        "  result = sequence[0]\n",
        " # iterate over remaining items in sequence and apply reduction function \n",
        "  for item in sequence[1:]:\n",
        "   result = anyfunc(result, item)\n",
        "\n",
        "  return result\n",
        "\n",
        "# test myreduce function\n",
        "def sum(x,y): return x + y\n",
        "def sub(x,y):return x - y\n",
        "print (\"Sum on list [1,2,3] using custom reduce function \"   + str(myreduce(sum, [1,2,3])) )\n",
        "print (\"Subtraction on list [1,2,3] using custom reduce function \"   + str(myreduce(sub, [1,2,3])) )"
      ],
      "execution_count": 3,
      "outputs": [
        {
          "output_type": "stream",
          "text": [
            "Sum on list [1,2,3] using custom reduce function 6\n",
            "Subtraction on list [1,2,3] using custom reduce function -4\n"
          ],
          "name": "stdout"
        }
      ]
    },
    {
      "cell_type": "markdown",
      "metadata": {
        "id": "5OSFDKarD5Aj",
        "colab_type": "text"
      },
      "source": [
        "1.2\n",
        "Write a Python program to implement your own myfilter() function which works exactly like\n",
        "Python's built-in function filter()\n",
        "\n"
      ]
    },
    {
      "cell_type": "code",
      "metadata": {
        "id": "wAw81KIwEDRL",
        "colab_type": "code",
        "colab": {
          "base_uri": "https://localhost:8080/",
          "height": 34
        },
        "outputId": "1d6fe868-ad11-4ec4-d286-41a2996cbc1b"
      },
      "source": [
        "def myfilter(anyfunc, sequence):\n",
        "\n",
        " # Initialize empty list\n",
        " result = []\n",
        " # iterate over sequence of items in sequence and apply filter function\n",
        " for item in sequence:\n",
        "  if anyfunc(item):\n",
        "   result.append(item)\n",
        "\n",
        " # return funal output\n",
        " return result\n",
        "\n",
        " # test myfilter function\n",
        "def ispositive(x):\n",
        " if (x <= 0): \n",
        "  return False \n",
        " else: \n",
        "  return True\n",
        "\n",
        "print (\"Filter only positive Integers on list [0,1,-2,3,4,5] using custom filter function\"  + str(myfilter(ispositive, [0,1,-2,3,4,5])))"
      ],
      "execution_count": 4,
      "outputs": [
        {
          "output_type": "stream",
          "text": [
            "Filter only positive Integers on list [0,1,-2,3,4,5] using custom filter function[1, 3, 4, 5]\n"
          ],
          "name": "stdout"
        }
      ]
    },
    {
      "cell_type": "markdown",
      "metadata": {
        "id": "l8_6Z3_DEbnz",
        "colab_type": "text"
      },
      "source": [
        "2.\n",
        "Implement List comprehensions to produce the following lists.\n",
        "Write List comprehensions to produce the following Lists\n",
        "\n",
        "['A', 'C', 'A', 'D', 'G', 'I', ’L’, ‘ D’]\n",
        "\n",
        "['x', 'xx', 'xxx', 'xxxx', 'y', 'yy', 'yyy', 'yyyy', 'z', 'zz', 'zzz', 'zzzz']\n",
        "\n",
        "['x', 'y', 'z', 'xx', 'yy', 'zz', 'xx', 'yy', 'zz', 'xxxx', 'yyyy', 'zzzz']\n",
        "\n",
        "[[2], [3], [4], [3], [4], [5], [4], [5], [6]]\n",
        "\n",
        "[[2, 3, 4, 5], [3, 4, 5, 6], [4, 5, 6, 7], [5, 6, 7, 8]]\n",
        "\n",
        "[(1, 1), (2, 1), (3, 1), (1, 2), (2, 2), (3, 2), (1, 3), (2, 3), (3, 3)]\n"
      ]
    },
    {
      "cell_type": "code",
      "metadata": {
        "id": "6PiAJ9xGEuyG",
        "colab_type": "code",
        "colab": {
          "base_uri": "https://localhost:8080/",
          "height": 119
        },
        "outputId": "9192f055-6b66-42d6-a214-897966f6225a"
      },
      "source": [
        "#\n",
        "text ='ACADGILD'\n",
        "result = [x for x in text]\n",
        "print(result)\n",
        "#\n",
        "text = 'xyz'\n",
        "result1 = [i * (j+1) for j in range(len(text)) for i in text]\n",
        "print(result1)\n",
        "#\n",
        "result2 = [j * (i+1) for j in text for i in range(len(text))]\n",
        "print(result2)\n",
        "#\n",
        "text = '234'\n",
        "result3 = [[int(i) +j] for j in range(len(text)) for i in text]\n",
        "print(result3)\n",
        "#\n",
        "list1 = [2,3,4,5]\n",
        "result4 = [[i + j for j in range(len(list1))] for i in list1]\n",
        "print(result4)\n",
        "#\n",
        "list2 = [1,2,3]\n",
        "result5 = [(j,i) for j in list2 for i in list2]\n",
        "print(result5)"
      ],
      "execution_count": 9,
      "outputs": [
        {
          "output_type": "stream",
          "text": [
            "['A', 'C', 'A', 'D', 'G', 'I', 'L', 'D']\n",
            "['x', 'y', 'z', 'xx', 'yy', 'zz', 'xxx', 'yyy', 'zzz']\n",
            "['x', 'xx', 'xxx', 'y', 'yy', 'yyy', 'z', 'zz', 'zzz']\n",
            "[[2], [3], [4], [3], [4], [5], [4], [5], [6]]\n",
            "[[2, 3, 4, 5], [3, 4, 5, 6], [4, 5, 6, 7], [5, 6, 7, 8]]\n",
            "[(1, 1), (1, 2), (1, 3), (2, 1), (2, 2), (2, 3), (3, 1), (3, 2), (3, 3)]\n"
          ],
          "name": "stdout"
        }
      ]
    },
    {
      "cell_type": "markdown",
      "metadata": {
        "id": "mYDqPW2RFmfx",
        "colab_type": "text"
      },
      "source": [
        "3.\n",
        "Implement a function longestWord() that takes a list of words and returns the longest one.\n"
      ]
    },
    {
      "cell_type": "code",
      "metadata": {
        "id": "zefBFpPWJtPc",
        "colab_type": "code",
        "colab": {
          "base_uri": "https://localhost:8080/",
          "height": 34
        },
        "outputId": "e8f886f1-8fac-4ddb-96ae-554fb785cb5a"
      },
      "source": [
        "word_list =[ 'egg','elephant','giraffee','beautiful','weourtysxfdgh']\n",
        "def longest(list1):\n",
        "  length = [len(x) for x in list1]\n",
        "  return word_list[length.index(max(length))]\n",
        "\n",
        "\n",
        "print(f'The longest word in the list is {longest(word_list)}')"
      ],
      "execution_count": 11,
      "outputs": [
        {
          "output_type": "stream",
          "text": [
            "The longest word in the list is weourtysxfdgh\n"
          ],
          "name": "stdout"
        }
      ]
    },
    {
      "cell_type": "markdown",
      "metadata": {
        "id": "x3alrIRRJ67v",
        "colab_type": "text"
      },
      "source": [
        "##Task 2:\n",
        "\n",
        "####1.1\n",
        "Write a Python Program(with class concepts) to find the area of the triangle using the below\n",
        "formula.\n",
        "\n",
        "area = (s*(s-a)*(s-b)*(s-c)) ** 0.5\n",
        "\n",
        "Function to take the length of the sides of triangle from user should be defined in the parent\n",
        "\n",
        "class and function to calculate the area should be defined in subclass.\n"
      ]
    },
    {
      "cell_type": "code",
      "metadata": {
        "id": "4u4acK-lJ_nQ",
        "colab_type": "code",
        "colab": {
          "base_uri": "https://localhost:8080/",
          "height": 34
        },
        "outputId": "4cba6b6d-c426-494e-e62d-054b33ce8143"
      },
      "source": [
        " class triangle:\n",
        "  def __init__(self,a,b,c):\n",
        "    self.a = a\n",
        "    self.b = b\n",
        "    self.c = c\n",
        "\n",
        "\n",
        "  def area(self,a,b,c):\n",
        "    s= (a + b + c) /2.0\n",
        "    #print(s)\n",
        "    result = (s * (s-a) * (s-b) * (s-c)) * 0.5\n",
        "    return result\n",
        "area_triangle = triangle(9,6,8)\n",
        "print(f' area of the traingle {area_triangle.area(9,6,8)}')"
      ],
      "execution_count": 16,
      "outputs": [
        {
          "output_type": "stream",
          "text": [
            " area of the traingle 276.71875\n"
          ],
          "name": "stdout"
        }
      ]
    },
    {
      "cell_type": "markdown",
      "metadata": {
        "id": "TKcZAD5wKpnt",
        "colab_type": "text"
      },
      "source": [
        "1.2\n",
        "Write a function filter_long_words() that takes a list of words and an integer n and returns the list\n",
        "of words that are longer than n"
      ]
    },
    {
      "cell_type": "code",
      "metadata": {
        "id": "c3WBkkPeKqlc",
        "colab_type": "code",
        "colab": {
          "base_uri": "https://localhost:8080/",
          "height": 34
        },
        "outputId": "bded6082-c5cb-43f5-c357-cd6ad92e234c"
      },
      "source": [
        "def filter_long_words(list_words,n):\n",
        "  result = [x for x in list_words if len(x) > n]\n",
        "  return result\n",
        "word_list =[ 'egg','elephant','giraffee','beautiful','weourtysxfdgh']\n",
        "print(f'result : {filter_long_words(word_list,8)}')"
      ],
      "execution_count": 17,
      "outputs": [
        {
          "output_type": "stream",
          "text": [
            "result : ['beautiful', 'weourtysxfdgh']\n"
          ],
          "name": "stdout"
        }
      ]
    },
    {
      "cell_type": "markdown",
      "metadata": {
        "id": "ZHyH2JLdK23C",
        "colab_type": "text"
      },
      "source": [
        "2.1\n",
        "Write a Python program using function concept that maps list of words into a list of integers\n",
        "representing the lengths of the corresponding words.\n",
        "Hint: If a list [ ab,cde,erty] is passed on to the python function output should come as [2,3,4]\n",
        "Here 2,3 and 4 are the lengths of the words in the list."
      ]
    },
    {
      "cell_type": "code",
      "metadata": {
        "id": "E7jUMpM1K44g",
        "colab_type": "code",
        "colab": {
          "base_uri": "https://localhost:8080/",
          "height": 34
        },
        "outputId": "5aeed5e7-b4fd-4666-80be-4bb54f2016b5"
      },
      "source": [
        "def map_word_len(list_words):\n",
        "  length = [len(x) for x in list_words]\n",
        "  return length\n",
        "print(map_word_len(['ab','cde','erty']))"
      ],
      "execution_count": 18,
      "outputs": [
        {
          "output_type": "stream",
          "text": [
            "[2, 3, 4]\n"
          ],
          "name": "stdout"
        }
      ]
    },
    {
      "cell_type": "markdown",
      "metadata": {
        "id": "5OebyeIrLo6g",
        "colab_type": "text"
      },
      "source": [
        "2.2\n",
        "Write a Python function which takes a character (i.e. a string of length 1) and returns True if it is\n",
        "a vowel, False otherwise.\n"
      ]
    },
    {
      "cell_type": "code",
      "metadata": {
        "id": "obyspWsjLfxH",
        "colab_type": "code",
        "colab": {
          "base_uri": "https://localhost:8080/",
          "height": 34
        },
        "outputId": "2acf4b4b-2a31-4817-f289-8b0ed1450435"
      },
      "source": [
        "def check_vowel(character):\n",
        "  if character.lower() in ['a','e','i','o','u']:\n",
        "    return True\n",
        "  else:\n",
        "    return False\n",
        "print(check_vowel('a'))"
      ],
      "execution_count": 19,
      "outputs": [
        {
          "output_type": "stream",
          "text": [
            "True\n"
          ],
          "name": "stdout"
        }
      ]
    },
    {
      "cell_type": "code",
      "metadata": {
        "id": "tSf4xCGgLkMJ",
        "colab_type": "code",
        "colab": {
          "base_uri": "https://localhost:8080/",
          "height": 34
        },
        "outputId": "796aeb48-2238-48cb-b852-8e651a857014"
      },
      "source": [
        "print(check_vowel('b'))"
      ],
      "execution_count": 20,
      "outputs": [
        {
          "output_type": "stream",
          "text": [
            "False\n"
          ],
          "name": "stdout"
        }
      ]
    }
  ]
}