{
  "nbformat": 4,
  "nbformat_minor": 0,
  "metadata": {
    "colab": {
      "name": "Desicion_Tree_Assignment.ipynb",
      "provenance": [],
      "authorship_tag": "ABX9TyPyG3VdxOcaoJZP/vC6ky12",
      "include_colab_link": true
    },
    "kernelspec": {
      "name": "python3",
      "display_name": "Python 3"
    }
  },
  "cells": [
    {
      "cell_type": "markdown",
      "metadata": {
        "id": "view-in-github",
        "colab_type": "text"
      },
      "source": [
        "<a href=\"https://colab.research.google.com/github/plaban1981/INEURON/blob/Supervised-Models/Desicion_Tree_Assignment.ipynb\" target=\"_parent\"><img src=\"https://colab.research.google.com/assets/colab-badge.svg\" alt=\"Open In Colab\"/></a>"
      ]
    },
    {
      "cell_type": "markdown",
      "metadata": {
        "id": "EbC5eyDjBof0",
        "colab_type": "text"
      },
      "source": [
        "## Poblem Statement : Predicting Survival in the Titanic Data Set"
      ]
    },
    {
      "cell_type": "markdown",
      "metadata": {
        "id": "f4wHx5GqBx3P",
        "colab_type": "text"
      },
      "source": [
        "#### Loading Data and modules"
      ]
    },
    {
      "cell_type": "code",
      "metadata": {
        "id": "oA8PDU2zBfa2",
        "colab_type": "code",
        "colab": {}
      },
      "source": [
        "import numpy as np\n",
        "import pandas as pd\n",
        "import seaborn as sb\n",
        "import matplotlib.pyplot as plt\n",
        "%matplotlib inline\n",
        "\n",
        "from sklearn.preprocessing import OneHotEncoder,LabelEncoder,StandardScaler\n",
        "\n",
        "from sklearn.linear_model import LogisticRegression\n",
        "from sklearn.tree import DecisionTreeClassifier,export_graphviz\n",
        "\n",
        "from sklearn.model_selection import train_test_split,GridSearchCV\n",
        "from sklearn.metrics import classification_report,accuracy_score,confusion_matrix,plot_confusion_matrix\n",
        "\n",
        "from sklearn import tree\n",
        "from IPython.display import Image\n",
        "import pydotplus\n",
        "\n"
      ],
      "execution_count": 0,
      "outputs": []
    },
    {
      "cell_type": "code",
      "metadata": {
        "id": "iqckBmlpEHxo",
        "colab_type": "code",
        "colab": {}
      },
      "source": [
        "url = 'https://raw.githubusercontent.com/BigDataGal/Python-for-Data-Science/master/titanic-train.csv'"
      ],
      "execution_count": 0,
      "outputs": []
    },
    {
      "cell_type": "code",
      "metadata": {
        "id": "FR-aknspEJy2",
        "colab_type": "code",
        "colab": {
          "base_uri": "https://localhost:8080/",
          "height": 233
        },
        "outputId": "d805cf9b-24b8-4775-a843-1948d2db2a9b"
      },
      "source": [
        "titanic = pd.read_csv(url)\n",
        "titanic.head()"
      ],
      "execution_count": 8,
      "outputs": [
        {
          "output_type": "execute_result",
          "data": {
            "text/html": [
              "<div>\n",
              "<style scoped>\n",
              "    .dataframe tbody tr th:only-of-type {\n",
              "        vertical-align: middle;\n",
              "    }\n",
              "\n",
              "    .dataframe tbody tr th {\n",
              "        vertical-align: top;\n",
              "    }\n",
              "\n",
              "    .dataframe thead th {\n",
              "        text-align: right;\n",
              "    }\n",
              "</style>\n",
              "<table border=\"1\" class=\"dataframe\">\n",
              "  <thead>\n",
              "    <tr style=\"text-align: right;\">\n",
              "      <th></th>\n",
              "      <th>PassengerId</th>\n",
              "      <th>Survived</th>\n",
              "      <th>Pclass</th>\n",
              "      <th>Name</th>\n",
              "      <th>Sex</th>\n",
              "      <th>Age</th>\n",
              "      <th>SibSp</th>\n",
              "      <th>Parch</th>\n",
              "      <th>Ticket</th>\n",
              "      <th>Fare</th>\n",
              "      <th>Cabin</th>\n",
              "      <th>Embarked</th>\n",
              "    </tr>\n",
              "  </thead>\n",
              "  <tbody>\n",
              "    <tr>\n",
              "      <th>0</th>\n",
              "      <td>1</td>\n",
              "      <td>0</td>\n",
              "      <td>3</td>\n",
              "      <td>Braund, Mr. Owen Harris</td>\n",
              "      <td>male</td>\n",
              "      <td>22.0</td>\n",
              "      <td>1</td>\n",
              "      <td>0</td>\n",
              "      <td>A/5 21171</td>\n",
              "      <td>7.2500</td>\n",
              "      <td>NaN</td>\n",
              "      <td>S</td>\n",
              "    </tr>\n",
              "    <tr>\n",
              "      <th>1</th>\n",
              "      <td>2</td>\n",
              "      <td>1</td>\n",
              "      <td>1</td>\n",
              "      <td>Cumings, Mrs. John Bradley (Florence Briggs Th...</td>\n",
              "      <td>female</td>\n",
              "      <td>38.0</td>\n",
              "      <td>1</td>\n",
              "      <td>0</td>\n",
              "      <td>PC 17599</td>\n",
              "      <td>71.2833</td>\n",
              "      <td>C85</td>\n",
              "      <td>C</td>\n",
              "    </tr>\n",
              "    <tr>\n",
              "      <th>2</th>\n",
              "      <td>3</td>\n",
              "      <td>1</td>\n",
              "      <td>3</td>\n",
              "      <td>Heikkinen, Miss. Laina</td>\n",
              "      <td>female</td>\n",
              "      <td>26.0</td>\n",
              "      <td>0</td>\n",
              "      <td>0</td>\n",
              "      <td>STON/O2. 3101282</td>\n",
              "      <td>7.9250</td>\n",
              "      <td>NaN</td>\n",
              "      <td>S</td>\n",
              "    </tr>\n",
              "    <tr>\n",
              "      <th>3</th>\n",
              "      <td>4</td>\n",
              "      <td>1</td>\n",
              "      <td>1</td>\n",
              "      <td>Futrelle, Mrs. Jacques Heath (Lily May Peel)</td>\n",
              "      <td>female</td>\n",
              "      <td>35.0</td>\n",
              "      <td>1</td>\n",
              "      <td>0</td>\n",
              "      <td>113803</td>\n",
              "      <td>53.1000</td>\n",
              "      <td>C123</td>\n",
              "      <td>S</td>\n",
              "    </tr>\n",
              "    <tr>\n",
              "      <th>4</th>\n",
              "      <td>5</td>\n",
              "      <td>0</td>\n",
              "      <td>3</td>\n",
              "      <td>Allen, Mr. William Henry</td>\n",
              "      <td>male</td>\n",
              "      <td>35.0</td>\n",
              "      <td>0</td>\n",
              "      <td>0</td>\n",
              "      <td>373450</td>\n",
              "      <td>8.0500</td>\n",
              "      <td>NaN</td>\n",
              "      <td>S</td>\n",
              "    </tr>\n",
              "  </tbody>\n",
              "</table>\n",
              "</div>"
            ],
            "text/plain": [
              "   PassengerId  Survived  Pclass  ...     Fare Cabin  Embarked\n",
              "0            1         0       3  ...   7.2500   NaN         S\n",
              "1            2         1       1  ...  71.2833   C85         C\n",
              "2            3         1       3  ...   7.9250   NaN         S\n",
              "3            4         1       1  ...  53.1000  C123         S\n",
              "4            5         0       3  ...   8.0500   NaN         S\n",
              "\n",
              "[5 rows x 12 columns]"
            ]
          },
          "metadata": {
            "tags": []
          },
          "execution_count": 8
        }
      ]
    },
    {
      "cell_type": "markdown",
      "metadata": {
        "id": "CPWc9t8XEkQ2",
        "colab_type": "text"
      },
      "source": [
        "You use only Pclass, Sex, Age, SibSp (Siblings aboard), Parch\n",
        "(Parents/children aboard), and Fare to predict whether a passenger\n",
        "survived."
      ]
    },
    {
      "cell_type": "code",
      "metadata": {
        "id": "SeyLgqOyEnte",
        "colab_type": "code",
        "colab": {}
      },
      "source": [
        "dataset = titanic[['Pclass', 'Sex', 'Age', 'SibSp','Parch','Fare', 'Survived']]"
      ],
      "execution_count": 0,
      "outputs": []
    },
    {
      "cell_type": "markdown",
      "metadata": {
        "id": "n9VQyT8DE5sV",
        "colab_type": "text"
      },
      "source": [
        "## Dataset Satistics"
      ]
    },
    {
      "cell_type": "code",
      "metadata": {
        "id": "c3HbLulME-wd",
        "colab_type": "code",
        "colab": {
          "base_uri": "https://localhost:8080/",
          "height": 288
        },
        "outputId": "635a61be-47f3-4717-f279-291bee1f78a1"
      },
      "source": [
        "dataset.describe()"
      ],
      "execution_count": 47,
      "outputs": [
        {
          "output_type": "execute_result",
          "data": {
            "text/html": [
              "<div>\n",
              "<style scoped>\n",
              "    .dataframe tbody tr th:only-of-type {\n",
              "        vertical-align: middle;\n",
              "    }\n",
              "\n",
              "    .dataframe tbody tr th {\n",
              "        vertical-align: top;\n",
              "    }\n",
              "\n",
              "    .dataframe thead th {\n",
              "        text-align: right;\n",
              "    }\n",
              "</style>\n",
              "<table border=\"1\" class=\"dataframe\">\n",
              "  <thead>\n",
              "    <tr style=\"text-align: right;\">\n",
              "      <th></th>\n",
              "      <th>Pclass</th>\n",
              "      <th>Age</th>\n",
              "      <th>SibSp</th>\n",
              "      <th>Parch</th>\n",
              "      <th>Fare</th>\n",
              "      <th>Survived</th>\n",
              "    </tr>\n",
              "  </thead>\n",
              "  <tbody>\n",
              "    <tr>\n",
              "      <th>count</th>\n",
              "      <td>891.000000</td>\n",
              "      <td>714.000000</td>\n",
              "      <td>891.000000</td>\n",
              "      <td>891.000000</td>\n",
              "      <td>891.000000</td>\n",
              "      <td>891.000000</td>\n",
              "    </tr>\n",
              "    <tr>\n",
              "      <th>mean</th>\n",
              "      <td>2.308642</td>\n",
              "      <td>29.699118</td>\n",
              "      <td>0.523008</td>\n",
              "      <td>0.381594</td>\n",
              "      <td>32.204208</td>\n",
              "      <td>0.383838</td>\n",
              "    </tr>\n",
              "    <tr>\n",
              "      <th>std</th>\n",
              "      <td>0.836071</td>\n",
              "      <td>14.526497</td>\n",
              "      <td>1.102743</td>\n",
              "      <td>0.806057</td>\n",
              "      <td>49.693429</td>\n",
              "      <td>0.486592</td>\n",
              "    </tr>\n",
              "    <tr>\n",
              "      <th>min</th>\n",
              "      <td>1.000000</td>\n",
              "      <td>0.420000</td>\n",
              "      <td>0.000000</td>\n",
              "      <td>0.000000</td>\n",
              "      <td>0.000000</td>\n",
              "      <td>0.000000</td>\n",
              "    </tr>\n",
              "    <tr>\n",
              "      <th>25%</th>\n",
              "      <td>2.000000</td>\n",
              "      <td>20.125000</td>\n",
              "      <td>0.000000</td>\n",
              "      <td>0.000000</td>\n",
              "      <td>7.910400</td>\n",
              "      <td>0.000000</td>\n",
              "    </tr>\n",
              "    <tr>\n",
              "      <th>50%</th>\n",
              "      <td>3.000000</td>\n",
              "      <td>28.000000</td>\n",
              "      <td>0.000000</td>\n",
              "      <td>0.000000</td>\n",
              "      <td>14.454200</td>\n",
              "      <td>0.000000</td>\n",
              "    </tr>\n",
              "    <tr>\n",
              "      <th>75%</th>\n",
              "      <td>3.000000</td>\n",
              "      <td>38.000000</td>\n",
              "      <td>1.000000</td>\n",
              "      <td>0.000000</td>\n",
              "      <td>31.000000</td>\n",
              "      <td>1.000000</td>\n",
              "    </tr>\n",
              "    <tr>\n",
              "      <th>max</th>\n",
              "      <td>3.000000</td>\n",
              "      <td>80.000000</td>\n",
              "      <td>8.000000</td>\n",
              "      <td>6.000000</td>\n",
              "      <td>512.329200</td>\n",
              "      <td>1.000000</td>\n",
              "    </tr>\n",
              "  </tbody>\n",
              "</table>\n",
              "</div>"
            ],
            "text/plain": [
              "           Pclass         Age       SibSp       Parch        Fare    Survived\n",
              "count  891.000000  714.000000  891.000000  891.000000  891.000000  891.000000\n",
              "mean     2.308642   29.699118    0.523008    0.381594   32.204208    0.383838\n",
              "std      0.836071   14.526497    1.102743    0.806057   49.693429    0.486592\n",
              "min      1.000000    0.420000    0.000000    0.000000    0.000000    0.000000\n",
              "25%      2.000000   20.125000    0.000000    0.000000    7.910400    0.000000\n",
              "50%      3.000000   28.000000    0.000000    0.000000   14.454200    0.000000\n",
              "75%      3.000000   38.000000    1.000000    0.000000   31.000000    1.000000\n",
              "max      3.000000   80.000000    8.000000    6.000000  512.329200    1.000000"
            ]
          },
          "metadata": {
            "tags": []
          },
          "execution_count": 47
        }
      ]
    },
    {
      "cell_type": "markdown",
      "metadata": {
        "id": "GnlrMIyQFIvs",
        "colab_type": "text"
      },
      "source": [
        "## Finding Null Values"
      ]
    },
    {
      "cell_type": "code",
      "metadata": {
        "id": "fn60-nIXFMPv",
        "colab_type": "code",
        "colab": {
          "base_uri": "https://localhost:8080/",
          "height": 54
        },
        "outputId": "c91b9114-a4f9-44bb-f075-a924562b6430"
      },
      "source": [
        "dataset.isnull().sum()[dataset.isnull().sum() > 0]"
      ],
      "execution_count": 48,
      "outputs": [
        {
          "output_type": "execute_result",
          "data": {
            "text/plain": [
              "Age    177\n",
              "dtype: int64"
            ]
          },
          "metadata": {
            "tags": []
          },
          "execution_count": 48
        }
      ]
    },
    {
      "cell_type": "markdown",
      "metadata": {
        "id": "naUGUkUaFWPc",
        "colab_type": "text"
      },
      "source": [
        "## Imputing missing values in Age with median "
      ]
    },
    {
      "cell_type": "code",
      "metadata": {
        "id": "Ni_sICfNMqy7",
        "colab_type": "code",
        "colab": {}
      },
      "source": [
        "median_age = dataset['Age'].median()"
      ],
      "execution_count": 0,
      "outputs": []
    },
    {
      "cell_type": "code",
      "metadata": {
        "id": "11PFonRqFciN",
        "colab_type": "code",
        "colab": {
          "base_uri": "https://localhost:8080/",
          "height": 126
        },
        "outputId": "9213f4a7-a5bc-4943-b572-a32e8a9148ab"
      },
      "source": [
        "dataset['Age'] = dataset['Age'].fillna(dataset['Age'].median())"
      ],
      "execution_count": 50,
      "outputs": [
        {
          "output_type": "stream",
          "text": [
            "/usr/local/lib/python3.6/dist-packages/ipykernel_launcher.py:1: SettingWithCopyWarning: \n",
            "A value is trying to be set on a copy of a slice from a DataFrame.\n",
            "Try using .loc[row_indexer,col_indexer] = value instead\n",
            "\n",
            "See the caveats in the documentation: https://pandas.pydata.org/pandas-docs/stable/user_guide/indexing.html#returning-a-view-versus-a-copy\n",
            "  \"\"\"Entry point for launching an IPython kernel.\n"
          ],
          "name": "stderr"
        }
      ]
    },
    {
      "cell_type": "code",
      "metadata": {
        "id": "pkP6JGAoGH2G",
        "colab_type": "code",
        "colab": {
          "base_uri": "https://localhost:8080/",
          "height": 35
        },
        "outputId": "0dfc52c2-1a49-4f8b-d3db-39b6546530eb"
      },
      "source": [
        "dataset.isnull().sum()[dataset.isnull().sum() > 0]"
      ],
      "execution_count": 51,
      "outputs": [
        {
          "output_type": "execute_result",
          "data": {
            "text/plain": [
              "Series([], dtype: int64)"
            ]
          },
          "metadata": {
            "tags": []
          },
          "execution_count": 51
        }
      ]
    },
    {
      "cell_type": "code",
      "metadata": {
        "id": "YIiJXeUAGN-V",
        "colab_type": "code",
        "colab": {
          "base_uri": "https://localhost:8080/",
          "height": 198
        },
        "outputId": "5cb3199c-0a3a-4fe7-e398-7b3612a3feda"
      },
      "source": [
        "dataset[dataset['Age'] == 28.0].head()"
      ],
      "execution_count": 52,
      "outputs": [
        {
          "output_type": "execute_result",
          "data": {
            "text/html": [
              "<div>\n",
              "<style scoped>\n",
              "    .dataframe tbody tr th:only-of-type {\n",
              "        vertical-align: middle;\n",
              "    }\n",
              "\n",
              "    .dataframe tbody tr th {\n",
              "        vertical-align: top;\n",
              "    }\n",
              "\n",
              "    .dataframe thead th {\n",
              "        text-align: right;\n",
              "    }\n",
              "</style>\n",
              "<table border=\"1\" class=\"dataframe\">\n",
              "  <thead>\n",
              "    <tr style=\"text-align: right;\">\n",
              "      <th></th>\n",
              "      <th>Pclass</th>\n",
              "      <th>Sex</th>\n",
              "      <th>Age</th>\n",
              "      <th>SibSp</th>\n",
              "      <th>Parch</th>\n",
              "      <th>Fare</th>\n",
              "      <th>Survived</th>\n",
              "    </tr>\n",
              "  </thead>\n",
              "  <tbody>\n",
              "    <tr>\n",
              "      <th>5</th>\n",
              "      <td>3</td>\n",
              "      <td>male</td>\n",
              "      <td>28.0</td>\n",
              "      <td>0</td>\n",
              "      <td>0</td>\n",
              "      <td>8.4583</td>\n",
              "      <td>0</td>\n",
              "    </tr>\n",
              "    <tr>\n",
              "      <th>17</th>\n",
              "      <td>2</td>\n",
              "      <td>male</td>\n",
              "      <td>28.0</td>\n",
              "      <td>0</td>\n",
              "      <td>0</td>\n",
              "      <td>13.0000</td>\n",
              "      <td>1</td>\n",
              "    </tr>\n",
              "    <tr>\n",
              "      <th>19</th>\n",
              "      <td>3</td>\n",
              "      <td>female</td>\n",
              "      <td>28.0</td>\n",
              "      <td>0</td>\n",
              "      <td>0</td>\n",
              "      <td>7.2250</td>\n",
              "      <td>1</td>\n",
              "    </tr>\n",
              "    <tr>\n",
              "      <th>23</th>\n",
              "      <td>1</td>\n",
              "      <td>male</td>\n",
              "      <td>28.0</td>\n",
              "      <td>0</td>\n",
              "      <td>0</td>\n",
              "      <td>35.5000</td>\n",
              "      <td>1</td>\n",
              "    </tr>\n",
              "    <tr>\n",
              "      <th>26</th>\n",
              "      <td>3</td>\n",
              "      <td>male</td>\n",
              "      <td>28.0</td>\n",
              "      <td>0</td>\n",
              "      <td>0</td>\n",
              "      <td>7.2250</td>\n",
              "      <td>0</td>\n",
              "    </tr>\n",
              "  </tbody>\n",
              "</table>\n",
              "</div>"
            ],
            "text/plain": [
              "    Pclass     Sex   Age  SibSp  Parch     Fare  Survived\n",
              "5        3    male  28.0      0      0   8.4583         0\n",
              "17       2    male  28.0      0      0  13.0000         1\n",
              "19       3  female  28.0      0      0   7.2250         1\n",
              "23       1    male  28.0      0      0  35.5000         1\n",
              "26       3    male  28.0      0      0   7.2250         0"
            ]
          },
          "metadata": {
            "tags": []
          },
          "execution_count": 52
        }
      ]
    },
    {
      "cell_type": "markdown",
      "metadata": {
        "id": "wyk9hIRtGbAj",
        "colab_type": "text"
      },
      "source": [
        "## Perform EDA"
      ]
    },
    {
      "cell_type": "code",
      "metadata": {
        "id": "q1EzwipOK3O0",
        "colab_type": "code",
        "colab": {
          "base_uri": "https://localhost:8080/",
          "height": 297
        },
        "outputId": "30d20dce-a901-4c2e-bbad-ee4f91046569"
      },
      "source": [
        "sb.countplot(x='Survived',data=dataset)"
      ],
      "execution_count": 53,
      "outputs": [
        {
          "output_type": "execute_result",
          "data": {
            "text/plain": [
              "<matplotlib.axes._subplots.AxesSubplot at 0x7f20014b7ac8>"
            ]
          },
          "metadata": {
            "tags": []
          },
          "execution_count": 53
        },
        {
          "output_type": "display_data",
          "data": {
            "image/png": "[encoded data removed]",
            "text/plain": [
              "<Figure size 432x288 with 1 Axes>"
            ]
          },
          "metadata": {
            "tags": [],
            "needs_background": "light"
          }
        }
      ]
    },
    {
      "cell_type": "code",
      "metadata": {
        "id": "QuewAPIeGdcc",
        "colab_type": "code",
        "colab": {
          "base_uri": "https://localhost:8080/",
          "height": 297
        },
        "outputId": "50d14d3b-baa7-444c-8838-11acfa4a2080"
      },
      "source": [
        "sb.countplot(x='Survived',data=dataset,hue='Sex')"
      ],
      "execution_count": 54,
      "outputs": [
        {
          "output_type": "execute_result",
          "data": {
            "text/plain": [
              "<matplotlib.axes._subplots.AxesSubplot at 0x7f1fffc17ac8>"
            ]
          },
          "metadata": {
            "tags": []
          },
          "execution_count": 54
        },
        {
          "output_type": "display_data",
          "data": {
            "image/png": "[encoded data removed]",
            "text/plain": [
              "<Figure size 432x288 with 1 Axes>"
            ]
          },
          "metadata": {
            "tags": [],
            "needs_background": "light"
          }
        }
      ]
    },
    {
      "cell_type": "markdown",
      "metadata": {
        "id": "wsD4Doi5K7jx",
        "colab_type": "text"
      },
      "source": [
        "## LabelEncoding Categorical Values"
      ]
    },
    {
      "cell_type": "code",
      "metadata": {
        "id": "byfWD9MnK_co",
        "colab_type": "code",
        "colab": {}
      },
      "source": [
        "age_ohe = pd.get_dummies(dataset['Sex'])\n",
        "dataset = pd.concat([dataset,age_ohe],axis=1)"
      ],
      "execution_count": 0,
      "outputs": []
    },
    {
      "cell_type": "code",
      "metadata": {
        "id": "jIF7p6ylRR3S",
        "colab_type": "code",
        "colab": {
          "base_uri": "https://localhost:8080/",
          "height": 198
        },
        "outputId": "dfa91f82-0a80-4112-9b44-fca1350a1cd1"
      },
      "source": [
        "dataset.head()"
      ],
      "execution_count": 57,
      "outputs": [
        {
          "output_type": "execute_result",
          "data": {
            "text/html": [
              "<div>\n",
              "<style scoped>\n",
              "    .dataframe tbody tr th:only-of-type {\n",
              "        vertical-align: middle;\n",
              "    }\n",
              "\n",
              "    .dataframe tbody tr th {\n",
              "        vertical-align: top;\n",
              "    }\n",
              "\n",
              "    .dataframe thead th {\n",
              "        text-align: right;\n",
              "    }\n",
              "</style>\n",
              "<table border=\"1\" class=\"dataframe\">\n",
              "  <thead>\n",
              "    <tr style=\"text-align: right;\">\n",
              "      <th></th>\n",
              "      <th>Pclass</th>\n",
              "      <th>Sex</th>\n",
              "      <th>Age</th>\n",
              "      <th>SibSp</th>\n",
              "      <th>Parch</th>\n",
              "      <th>Fare</th>\n",
              "      <th>Survived</th>\n",
              "      <th>female</th>\n",
              "      <th>male</th>\n",
              "    </tr>\n",
              "  </thead>\n",
              "  <tbody>\n",
              "    <tr>\n",
              "      <th>0</th>\n",
              "      <td>3</td>\n",
              "      <td>male</td>\n",
              "      <td>22.0</td>\n",
              "      <td>1</td>\n",
              "      <td>0</td>\n",
              "      <td>7.2500</td>\n",
              "      <td>0</td>\n",
              "      <td>0</td>\n",
              "      <td>1</td>\n",
              "    </tr>\n",
              "    <tr>\n",
              "      <th>1</th>\n",
              "      <td>1</td>\n",
              "      <td>female</td>\n",
              "      <td>38.0</td>\n",
              "      <td>1</td>\n",
              "      <td>0</td>\n",
              "      <td>71.2833</td>\n",
              "      <td>1</td>\n",
              "      <td>1</td>\n",
              "      <td>0</td>\n",
              "    </tr>\n",
              "    <tr>\n",
              "      <th>2</th>\n",
              "      <td>3</td>\n",
              "      <td>female</td>\n",
              "      <td>26.0</td>\n",
              "      <td>0</td>\n",
              "      <td>0</td>\n",
              "      <td>7.9250</td>\n",
              "      <td>1</td>\n",
              "      <td>1</td>\n",
              "      <td>0</td>\n",
              "    </tr>\n",
              "    <tr>\n",
              "      <th>3</th>\n",
              "      <td>1</td>\n",
              "      <td>female</td>\n",
              "      <td>35.0</td>\n",
              "      <td>1</td>\n",
              "      <td>0</td>\n",
              "      <td>53.1000</td>\n",
              "      <td>1</td>\n",
              "      <td>1</td>\n",
              "      <td>0</td>\n",
              "    </tr>\n",
              "    <tr>\n",
              "      <th>4</th>\n",
              "      <td>3</td>\n",
              "      <td>male</td>\n",
              "      <td>35.0</td>\n",
              "      <td>0</td>\n",
              "      <td>0</td>\n",
              "      <td>8.0500</td>\n",
              "      <td>0</td>\n",
              "      <td>0</td>\n",
              "      <td>1</td>\n",
              "    </tr>\n",
              "  </tbody>\n",
              "</table>\n",
              "</div>"
            ],
            "text/plain": [
              "   Pclass     Sex   Age  SibSp  Parch     Fare  Survived  female  male\n",
              "0       3    male  22.0      1      0   7.2500         0       0     1\n",
              "1       1  female  38.0      1      0  71.2833         1       1     0\n",
              "2       3  female  26.0      0      0   7.9250         1       1     0\n",
              "3       1  female  35.0      1      0  53.1000         1       1     0\n",
              "4       3    male  35.0      0      0   8.0500         0       0     1"
            ]
          },
          "metadata": {
            "tags": []
          },
          "execution_count": 57
        }
      ]
    },
    {
      "cell_type": "code",
      "metadata": {
        "id": "VKMO1sLKRimb",
        "colab_type": "code",
        "colab": {
          "base_uri": "https://localhost:8080/",
          "height": 198
        },
        "outputId": "0b1c01a5-9ff8-4758-f0ff-410afc9ffb17"
      },
      "source": [
        "dataset.drop('Sex',inplace=True,axis=1)\n",
        "dataset.head()"
      ],
      "execution_count": 58,
      "outputs": [
        {
          "output_type": "execute_result",
          "data": {
            "text/html": [
              "<div>\n",
              "<style scoped>\n",
              "    .dataframe tbody tr th:only-of-type {\n",
              "        vertical-align: middle;\n",
              "    }\n",
              "\n",
              "    .dataframe tbody tr th {\n",
              "        vertical-align: top;\n",
              "    }\n",
              "\n",
              "    .dataframe thead th {\n",
              "        text-align: right;\n",
              "    }\n",
              "</style>\n",
              "<table border=\"1\" class=\"dataframe\">\n",
              "  <thead>\n",
              "    <tr style=\"text-align: right;\">\n",
              "      <th></th>\n",
              "      <th>Pclass</th>\n",
              "      <th>Age</th>\n",
              "      <th>SibSp</th>\n",
              "      <th>Parch</th>\n",
              "      <th>Fare</th>\n",
              "      <th>Survived</th>\n",
              "      <th>female</th>\n",
              "      <th>male</th>\n",
              "    </tr>\n",
              "  </thead>\n",
              "  <tbody>\n",
              "    <tr>\n",
              "      <th>0</th>\n",
              "      <td>3</td>\n",
              "      <td>22.0</td>\n",
              "      <td>1</td>\n",
              "      <td>0</td>\n",
              "      <td>7.2500</td>\n",
              "      <td>0</td>\n",
              "      <td>0</td>\n",
              "      <td>1</td>\n",
              "    </tr>\n",
              "    <tr>\n",
              "      <th>1</th>\n",
              "      <td>1</td>\n",
              "      <td>38.0</td>\n",
              "      <td>1</td>\n",
              "      <td>0</td>\n",
              "      <td>71.2833</td>\n",
              "      <td>1</td>\n",
              "      <td>1</td>\n",
              "      <td>0</td>\n",
              "    </tr>\n",
              "    <tr>\n",
              "      <th>2</th>\n",
              "      <td>3</td>\n",
              "      <td>26.0</td>\n",
              "      <td>0</td>\n",
              "      <td>0</td>\n",
              "      <td>7.9250</td>\n",
              "      <td>1</td>\n",
              "      <td>1</td>\n",
              "      <td>0</td>\n",
              "    </tr>\n",
              "    <tr>\n",
              "      <th>3</th>\n",
              "      <td>1</td>\n",
              "      <td>35.0</td>\n",
              "      <td>1</td>\n",
              "      <td>0</td>\n",
              "      <td>53.1000</td>\n",
              "      <td>1</td>\n",
              "      <td>1</td>\n",
              "      <td>0</td>\n",
              "    </tr>\n",
              "    <tr>\n",
              "      <th>4</th>\n",
              "      <td>3</td>\n",
              "      <td>35.0</td>\n",
              "      <td>0</td>\n",
              "      <td>0</td>\n",
              "      <td>8.0500</td>\n",
              "      <td>0</td>\n",
              "      <td>0</td>\n",
              "      <td>1</td>\n",
              "    </tr>\n",
              "  </tbody>\n",
              "</table>\n",
              "</div>"
            ],
            "text/plain": [
              "   Pclass   Age  SibSp  Parch     Fare  Survived  female  male\n",
              "0       3  22.0      1      0   7.2500         0       0     1\n",
              "1       1  38.0      1      0  71.2833         1       1     0\n",
              "2       3  26.0      0      0   7.9250         1       1     0\n",
              "3       1  35.0      1      0  53.1000         1       1     0\n",
              "4       3  35.0      0      0   8.0500         0       0     1"
            ]
          },
          "metadata": {
            "tags": []
          },
          "execution_count": 58
        }
      ]
    },
    {
      "cell_type": "code",
      "metadata": {
        "id": "H3x9lZkbTYFD",
        "colab_type": "code",
        "colab": {}
      },
      "source": [
        "X = dataset.drop('Survived',axis=1)\n",
        "Y = dataset['Survived']"
      ],
      "execution_count": 0,
      "outputs": []
    },
    {
      "cell_type": "markdown",
      "metadata": {
        "id": "gVLS4eehSHHT",
        "colab_type": "text"
      },
      "source": [
        "## Prepare Training and Test Dataset"
      ]
    },
    {
      "cell_type": "code",
      "metadata": {
        "id": "QbaxcK4ESN9c",
        "colab_type": "code",
        "colab": {}
      },
      "source": [
        "X_train,X_test,y_train,y_test = train_test_split(X,Y,test_size=0.15,random_state=1)"
      ],
      "execution_count": 0,
      "outputs": []
    },
    {
      "cell_type": "code",
      "metadata": {
        "id": "QEVLOG3iXjTc",
        "colab_type": "code",
        "colab": {
          "base_uri": "https://localhost:8080/",
          "height": 35
        },
        "outputId": "e4c81d6d-393c-4e0b-d834-e3dc4b91ca54"
      },
      "source": [
        "print(X_train.shape,X_test.shape)"
      ],
      "execution_count": 74,
      "outputs": [
        {
          "output_type": "stream",
          "text": [
            "(757, 7) (134, 7)\n"
          ],
          "name": "stdout"
        }
      ]
    },
    {
      "cell_type": "code",
      "metadata": {
        "id": "x20yV0gol5BU",
        "colab_type": "code",
        "colab": {
          "base_uri": "https://localhost:8080/",
          "height": 35
        },
        "outputId": "ebeb979d-a3f7-4964-c571-18cb3a4ad894"
      },
      "source": [
        "print(y_train.shape,y_test.shape)"
      ],
      "execution_count": 75,
      "outputs": [
        {
          "output_type": "stream",
          "text": [
            "(757,) (134,)\n"
          ],
          "name": "stdout"
        }
      ]
    },
    {
      "cell_type": "markdown",
      "metadata": {
        "id": "bmMd5Db_kWIj",
        "colab_type": "text"
      },
      "source": [
        "## Normalize data"
      ]
    },
    {
      "cell_type": "code",
      "metadata": {
        "id": "5zt8Wi0bkYgS",
        "colab_type": "code",
        "colab": {}
      },
      "source": [
        "# Create an scaler object\n",
        "sc = StandardScaler()"
      ],
      "execution_count": 0,
      "outputs": []
    },
    {
      "cell_type": "code",
      "metadata": {
        "id": "hLjldkRtkj0-",
        "colab_type": "code",
        "colab": {}
      },
      "source": [
        "# Create a logistic regression object with an L2 penalty\n",
        "decisiontree = tree.DecisionTreeClassifier()"
      ],
      "execution_count": 0,
      "outputs": []
    },
    {
      "cell_type": "code",
      "metadata": {
        "id": "lM_E0TthkqLp",
        "colab_type": "code",
        "colab": {}
      },
      "source": [
        "from sklearn.pipeline import Pipeline\n",
        "# Create a pipeline of three steps. First, standardize the data.\n",
        "# Second,  train a Decision Tree Classifier on the data.\n",
        "pipe = Pipeline(steps=[('sc', sc),('decisiontree', decisiontree)])"
      ],
      "execution_count": 0,
      "outputs": []
    },
    {
      "cell_type": "code",
      "metadata": {
        "id": "G7qyXgZMjyvy",
        "colab_type": "code",
        "colab": {}
      },
      "source": [
        "# Create lists of parameter for Decision Tree Classifier\n",
        "criterion = ['gini', 'entropy']\n",
        "max_depth = [4,6,8,12]"
      ],
      "execution_count": 0,
      "outputs": []
    },
    {
      "cell_type": "code",
      "metadata": {
        "id": "f6obVaNok_P1",
        "colab_type": "code",
        "colab": {}
      },
      "source": [
        "# Create a dictionary of all the parameter options \n",
        "# Access the parameters of steps of a pipeline by using '__’\n",
        "parameters = dict(decisiontree__criterion=criterion,\n",
        "                  decisiontree__max_depth=max_depth)"
      ],
      "execution_count": 0,
      "outputs": []
    },
    {
      "cell_type": "markdown",
      "metadata": {
        "id": "SY_GMRXvlOPh",
        "colab_type": "text"
      },
      "source": [
        "## Conduct Parameter Optmization With Pipeline"
      ]
    },
    {
      "cell_type": "code",
      "metadata": {
        "id": "s3s83o33lK6a",
        "colab_type": "code",
        "colab": {
          "base_uri": "https://localhost:8080/",
          "height": 1000
        },
        "outputId": "aa5ee768-ab7a-4648-b608-d58d52c9e560"
      },
      "source": [
        "# Create a grid search object\n",
        "clf = GridSearchCV(pipe, parameters,cv=5,verbose=2)\n",
        "# Fit the grid search\n",
        "clf.fit(X_train.values, y_train)"
      ],
      "execution_count": 76,
      "outputs": [
        {
          "output_type": "stream",
          "text": [
            "Fitting 5 folds for each of 8 candidates, totalling 40 fits\n",
            "[CV] decisiontree__criterion=gini, decisiontree__max_depth=4 .........\n",
            "[CV]  decisiontree__criterion=gini, decisiontree__max_depth=4, total=   0.0s\n",
            "[CV] decisiontree__criterion=gini, decisiontree__max_depth=4 .........\n",
            "[CV]  decisiontree__criterion=gini, decisiontree__max_depth=4, total=   0.0s\n",
            "[CV] decisiontree__criterion=gini, decisiontree__max_depth=4 .........\n",
            "[CV]  decisiontree__criterion=gini, decisiontree__max_depth=4, total=   0.0s\n",
            "[CV] decisiontree__criterion=gini, decisiontree__max_depth=4 .........\n",
            "[CV]  decisiontree__criterion=gini, decisiontree__max_depth=4, total=   0.0s\n",
            "[CV] decisiontree__criterion=gini, decisiontree__max_depth=4 .........\n",
            "[CV]  decisiontree__criterion=gini, decisiontree__max_depth=4, total=   0.0s\n",
            "[CV] decisiontree__criterion=gini, decisiontree__max_depth=6 .........\n",
            "[CV]  decisiontree__criterion=gini, decisiontree__max_depth=6, total=   0.0s\n",
            "[CV] decisiontree__criterion=gini, decisiontree__max_depth=6 .........\n",
            "[CV]  decisiontree__criterion=gini, decisiontree__max_depth=6, total=   0.0s\n",
            "[CV] decisiontree__criterion=gini, decisiontree__max_depth=6 .........\n",
            "[CV]  decisiontree__criterion=gini, decisiontree__max_depth=6, total=   0.0s\n",
            "[CV] decisiontree__criterion=gini, decisiontree__max_depth=6 .........\n",
            "[CV]  decisiontree__criterion=gini, decisiontree__max_depth=6, total=   0.0s\n",
            "[CV] decisiontree__criterion=gini, decisiontree__max_depth=6 .........\n",
            "[CV]  decisiontree__criterion=gini, decisiontree__max_depth=6, total=   0.0s\n",
            "[CV] decisiontree__criterion=gini, decisiontree__max_depth=8 .........\n",
            "[CV]  decisiontree__criterion=gini, decisiontree__max_depth=8, total=   0.0s\n",
            "[CV] decisiontree__criterion=gini, decisiontree__max_depth=8 .........\n",
            "[CV]  decisiontree__criterion=gini, decisiontree__max_depth=8, total=   0.0s\n",
            "[CV] decisiontree__criterion=gini, decisiontree__max_depth=8 .........\n",
            "[CV]  decisiontree__criterion=gini, decisiontree__max_depth=8, total=   0.0s\n",
            "[CV] decisiontree__criterion=gini, decisiontree__max_depth=8 .........\n",
            "[CV]  decisiontree__criterion=gini, decisiontree__max_depth=8, total=   0.0s\n",
            "[CV] decisiontree__criterion=gini, decisiontree__max_depth=8 .........\n",
            "[CV]  decisiontree__criterion=gini, decisiontree__max_depth=8, total=   0.0s\n",
            "[CV] decisiontree__criterion=gini, decisiontree__max_depth=12 ........\n",
            "[CV]  decisiontree__criterion=gini, decisiontree__max_depth=12, total=   0.0s\n",
            "[CV] decisiontree__criterion=gini, decisiontree__max_depth=12 ........\n",
            "[CV]  decisiontree__criterion=gini, decisiontree__max_depth=12, total=   0.0s\n",
            "[CV] decisiontree__criterion=gini, decisiontree__max_depth=12 ........\n",
            "[CV]  decisiontree__criterion=gini, decisiontree__max_depth=12, total=   0.0s\n",
            "[CV] decisiontree__criterion=gini, decisiontree__max_depth=12 ........\n",
            "[CV]  decisiontree__criterion=gini, decisiontree__max_depth=12, total=   0.0s\n",
            "[CV] decisiontree__criterion=gini, decisiontree__max_depth=12 ........\n",
            "[CV]  decisiontree__criterion=gini, decisiontree__max_depth=12, total=   0.0s\n",
            "[CV] decisiontree__criterion=entropy, decisiontree__max_depth=4 ......\n",
            "[CV]  decisiontree__criterion=entropy, decisiontree__max_depth=4, total=   0.0s\n",
            "[CV] decisiontree__criterion=entropy, decisiontree__max_depth=4 ......\n",
            "[CV]  decisiontree__criterion=entropy, decisiontree__max_depth=4, total=   0.0s\n",
            "[CV] decisiontree__criterion=entropy, decisiontree__max_depth=4 ......\n",
            "[CV]  decisiontree__criterion=entropy, decisiontree__max_depth=4, total=   0.0s\n",
            "[CV] decisiontree__criterion=entropy, decisiontree__max_depth=4 ......\n",
            "[CV]  decisiontree__criterion=entropy, decisiontree__max_depth=4, total=   0.0s\n",
            "[CV] decisiontree__criterion=entropy, decisiontree__max_depth=4 ......\n",
            "[CV]  decisiontree__criterion=entropy, decisiontree__max_depth=4, total=   0.0s\n",
            "[CV] decisiontree__criterion=entropy, decisiontree__max_depth=6 ......\n",
            "[CV]  decisiontree__criterion=entropy, decisiontree__max_depth=6, total=   0.0s\n",
            "[CV] decisiontree__criterion=entropy, decisiontree__max_depth=6 ......\n",
            "[CV]  decisiontree__criterion=entropy, decisiontree__max_depth=6, total=   0.0s\n",
            "[CV] decisiontree__criterion=entropy, decisiontree__max_depth=6 ......\n",
            "[CV]  decisiontree__criterion=entropy, decisiontree__max_depth=6, total=   0.0s\n",
            "[CV] decisiontree__criterion=entropy, decisiontree__max_depth=6 ......\n",
            "[CV]  decisiontree__criterion=entropy, decisiontree__max_depth=6, total=   0.0s\n",
            "[CV] decisiontree__criterion=entropy, decisiontree__max_depth=6 ......\n",
            "[CV]  decisiontree__criterion=entropy, decisiontree__max_depth=6, total=   0.0s\n",
            "[CV] decisiontree__criterion=entropy, decisiontree__max_depth=8 ......\n",
            "[CV]  decisiontree__criterion=entropy, decisiontree__max_depth=8, total=   0.0s\n",
            "[CV] decisiontree__criterion=entropy, decisiontree__max_depth=8 ......\n",
            "[CV]  decisiontree__criterion=entropy, decisiontree__max_depth=8, total=   0.0s\n",
            "[CV] decisiontree__criterion=entropy, decisiontree__max_depth=8 ......\n",
            "[CV]  decisiontree__criterion=entropy, decisiontree__max_depth=8, total=   0.0s\n",
            "[CV] decisiontree__criterion=entropy, decisiontree__max_depth=8 ......\n",
            "[CV]  decisiontree__criterion=entropy, decisiontree__max_depth=8, total=   0.0s\n",
            "[CV] decisiontree__criterion=entropy, decisiontree__max_depth=8 ......\n",
            "[CV]  decisiontree__criterion=entropy, decisiontree__max_depth=8, total=   0.0s\n",
            "[CV] decisiontree__criterion=entropy, decisiontree__max_depth=12 .....\n",
            "[CV]  decisiontree__criterion=entropy, decisiontree__max_depth=12, total=   0.0s\n",
            "[CV] decisiontree__criterion=entropy, decisiontree__max_depth=12 .....\n"
          ],
          "name": "stdout"
        },
        {
          "output_type": "stream",
          "text": [
            "[Parallel(n_jobs=1)]: Using backend SequentialBackend with 1 concurrent workers.\n",
            "[Parallel(n_jobs=1)]: Done   1 out of   1 | elapsed:    0.0s remaining:    0.0s\n"
          ],
          "name": "stderr"
        },
        {
          "output_type": "stream",
          "text": [
            "[CV]  decisiontree__criterion=entropy, decisiontree__max_depth=12, total=   0.0s\n",
            "[CV] decisiontree__criterion=entropy, decisiontree__max_depth=12 .....\n",
            "[CV]  decisiontree__criterion=entropy, decisiontree__max_depth=12, total=   0.0s\n",
            "[CV] decisiontree__criterion=entropy, decisiontree__max_depth=12 .....\n",
            "[CV]  decisiontree__criterion=entropy, decisiontree__max_depth=12, total=   0.0s\n",
            "[CV] decisiontree__criterion=entropy, decisiontree__max_depth=12 .....\n",
            "[CV]  decisiontree__criterion=entropy, decisiontree__max_depth=12, total=   0.0s\n"
          ],
          "name": "stdout"
        },
        {
          "output_type": "stream",
          "text": [
            "[Parallel(n_jobs=1)]: Done  40 out of  40 | elapsed:    0.2s finished\n"
          ],
          "name": "stderr"
        },
        {
          "output_type": "execute_result",
          "data": {
            "text/plain": [
              "GridSearchCV(cv=5, error_score=nan,\n",
              "             estimator=Pipeline(memory=None,\n",
              "                                steps=[('sc',\n",
              "                                        StandardScaler(copy=True,\n",
              "                                                       with_mean=True,\n",
              "                                                       with_std=True)),\n",
              "                                       ('decisiontree',\n",
              "                                        DecisionTreeClassifier(ccp_alpha=0.0,\n",
              "                                                               class_weight=None,\n",
              "                                                               criterion='gini',\n",
              "                                                               max_depth=None,\n",
              "                                                               max_features=None,\n",
              "                                                               max_leaf_nodes=None,\n",
              "                                                               min_impurity_decrease=0.0,\n",
              "                                                               min_impurity_split=None,\n",
              "                                                               min_samples_leaf=1,\n",
              "                                                               min_samples_split=2,\n",
              "                                                               min_weight_fraction_leaf=0.0,\n",
              "                                                               presort='deprecated',\n",
              "                                                               random_state=None,\n",
              "                                                               splitter='best'))],\n",
              "                                verbose=False),\n",
              "             iid='deprecated', n_jobs=None,\n",
              "             param_grid={'decisiontree__criterion': ['gini', 'entropy'],\n",
              "                         'decisiontree__max_depth': [4, 6, 8, 12]},\n",
              "             pre_dispatch='2*n_jobs', refit=True, return_train_score=False,\n",
              "             scoring=None, verbose=2)"
            ]
          },
          "metadata": {
            "tags": []
          },
          "execution_count": 76
        }
      ]
    },
    {
      "cell_type": "code",
      "metadata": {
        "id": "m90IcnkZmRiB",
        "colab_type": "code",
        "colab": {
          "base_uri": "https://localhost:8080/",
          "height": 181
        },
        "outputId": "ba5fca2e-5b91-4735-d13e-d6591dc61527"
      },
      "source": [
        " # View The Best Parameters\n",
        "print('Best Criterion:', clf.best_estimator_.get_params()['decisiontree__criterion'])\n",
        "print('Best max_depth:', clf.best_estimator_.get_params()['decisiontree__max_depth'])\n",
        "print(); print(clf.best_estimator_.get_params()['decisiontree'])"
      ],
      "execution_count": 77,
      "outputs": [
        {
          "output_type": "stream",
          "text": [
            "Best Criterion: gini\n",
            "Best max_depth: 4\n",
            "\n",
            "DecisionTreeClassifier(ccp_alpha=0.0, class_weight=None, criterion='gini',\n",
            "                       max_depth=4, max_features=None, max_leaf_nodes=None,\n",
            "                       min_impurity_decrease=0.0, min_impurity_split=None,\n",
            "                       min_samples_leaf=1, min_samples_split=2,\n",
            "                       min_weight_fraction_leaf=0.0, presort='deprecated',\n",
            "                       random_state=None, splitter='best')\n"
          ],
          "name": "stdout"
        }
      ]
    },
    {
      "cell_type": "code",
      "metadata": {
        "id": "cxgm1MsptSRr",
        "colab_type": "code",
        "colab": {}
      },
      "source": [
        "y_pred = clf.predict(X_test)"
      ],
      "execution_count": 0,
      "outputs": []
    },
    {
      "cell_type": "markdown",
      "metadata": {
        "id": "RwPSWwXmtzzk",
        "colab_type": "text"
      },
      "source": [
        "## Accuracy Score"
      ]
    },
    {
      "cell_type": "code",
      "metadata": {
        "id": "xAQzcdcat3oK",
        "colab_type": "code",
        "colab": {
          "base_uri": "https://localhost:8080/",
          "height": 35
        },
        "outputId": "a71da252-4b45-42b6-c3f3-cec085486471"
      },
      "source": [
        "print(f'Accuracy Score : {accuracy_score(y_test,y_pred)}')"
      ],
      "execution_count": 90,
      "outputs": [
        {
          "output_type": "stream",
          "text": [
            "Accuracy Score : 0.7835820895522388\n"
          ],
          "name": "stdout"
        }
      ]
    },
    {
      "cell_type": "code",
      "metadata": {
        "id": "o5mtZvbqtjOb",
        "colab_type": "code",
        "colab": {
          "base_uri": "https://localhost:8080/",
          "height": 297
        },
        "outputId": "04f82df2-4be9-4e0a-97eb-da42a8d0ff48"
      },
      "source": [
        "plot_confusion_matrix(clf,X_test,y_test,values_format='.2g')"
      ],
      "execution_count": 91,
      "outputs": [
        {
          "output_type": "execute_result",
          "data": {
            "text/plain": [
              "<sklearn.metrics._plot.confusion_matrix.ConfusionMatrixDisplay at 0x7f1ffea022b0>"
            ]
          },
          "metadata": {
            "tags": []
          },
          "execution_count": 91
        },
        {
          "output_type": "display_data",
          "data": {
            "image/png": "[encoded data removed]",
            "text/plain": [
              "<Figure size 432x288 with 2 Axes>"
            ]
          },
          "metadata": {
            "tags": [],
            "needs_background": "light"
          }
        }
      ]
    },
    {
      "cell_type": "code",
      "metadata": {
        "id": "mnUjeNkQyReY",
        "colab_type": "code",
        "colab": {}
      },
      "source": [
        "y_pred_proba = clf.predict_proba(X_test)"
      ],
      "execution_count": 0,
      "outputs": []
    },
    {
      "cell_type": "code",
      "metadata": {
        "id": "DEdpbS66whp8",
        "colab_type": "code",
        "colab": {
          "base_uri": "https://localhost:8080/",
          "height": 295
        },
        "outputId": "644a9650-cfed-4c3e-dd14-86e84f28efc5"
      },
      "source": [
        "from sklearn.metrics import roc_auc_score,roc_curve\n",
        "# Compute False postive rate, and True positive rate\n",
        "fpr, tpr, thresholds = roc_curve(y_test, y_pred_proba[:,1])\n",
        "# Calculate Area under the curve to display on the plot\n",
        "auc = roc_auc_score(y_test,y_pred)\n",
        "# Now, plot the computed values\n",
        "plt.plot(fpr, tpr, label='%s ROC (auc = %0.2f)' % ('DecisiontreeClassifier', auc))\n",
        "# Custom settings for the plot \n",
        "plt.plot([0, 1], [0, 1],'r--')\n",
        "plt.xlim([0.0, 1.0])\n",
        "plt.ylim([0.0, 1.05])\n",
        "plt.xlabel('1-Specificity(False Positive Rate)')\n",
        "plt.ylabel('Sensitivity(True Positive Rate)')\n",
        "plt.title('Receiver Operating Characteristic')\n",
        "plt.legend()\n",
        "plt.show() "
      ],
      "execution_count": 93,
      "outputs": [
        {
          "output_type": "display_data",
          "data": {
            "image/png": "[encoded data removed]",
            "text/plain": [
              "<Figure size 432x288 with 1 Axes>"
            ]
          },
          "metadata": {
            "tags": [],
            "needs_background": "light"
          }
        }
      ]
    },
    {
      "cell_type": "markdown",
      "metadata": {
        "id": "P2OjmqNWuSWb",
        "colab_type": "text"
      },
      "source": [
        "## Cross Validation"
      ]
    },
    {
      "cell_type": "code",
      "metadata": {
        "id": "jyWqTe4QuVVV",
        "colab_type": "code",
        "colab": {
          "base_uri": "https://localhost:8080/",
          "height": 126
        },
        "outputId": "232b1eda-b61b-40a7-ef53-6b2a3832bc8d"
      },
      "source": [
        "# Use Training Cross Validation To Evaluate Model \n",
        "from sklearn.model_selection import cross_val_score\n",
        "CV_Result = cross_val_score(clf, X_train, y_train, cv=4, n_jobs=-1)\n",
        "print(); print(CV_Result)\n",
        "print(); print(CV_Result.mean())\n",
        "print(); print(CV_Result.std())"
      ],
      "execution_count": 85,
      "outputs": [
        {
          "output_type": "stream",
          "text": [
            "\n",
            "[0.8        0.77248677 0.86772487 0.8042328 ]\n",
            "\n",
            "0.811111111111111\n",
            "\n",
            "0.03488454123148556\n"
          ],
          "name": "stdout"
        }
      ]
    },
    {
      "cell_type": "code",
      "metadata": {
        "id": "41YgGlo0vCrh",
        "colab_type": "code",
        "colab": {
          "base_uri": "https://localhost:8080/",
          "height": 126
        },
        "outputId": "fe336b59-33d7-453c-b256-f3f5ad62aea1"
      },
      "source": [
        "# Use Test Cross Validation To Evaluate Model \n",
        "from sklearn.model_selection import cross_val_score\n",
        "CV_Result = cross_val_score(clf, X_test, y_test, cv=4, n_jobs=-1)\n",
        "print(); print(CV_Result)\n",
        "print(); print(CV_Result.mean())\n",
        "print(); print(CV_Result.std())"
      ],
      "execution_count": 86,
      "outputs": [
        {
          "output_type": "stream",
          "text": [
            "\n",
            "[0.67647059 0.70588235 0.72727273 0.75757576]\n",
            "\n",
            "0.7168003565062389\n",
            "\n",
            "0.02965635215466377\n"
          ],
          "name": "stdout"
        }
      ]
    }
  ]
}