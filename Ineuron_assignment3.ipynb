{
  "nbformat": 4,
  "nbformat_minor": 0,
  "metadata": {
    "colab": {
      "name": "Ineuron_assignment3.ipynb",
      "provenance": [],
      "collapsed_sections": [],
      "include_colab_link": true
    },
    "kernelspec": {
      "name": "python3",
      "display_name": "Python 3"
    }
  },
  "cells": [
    {
      "cell_type": "markdown",
      "metadata": {
        "id": "view-in-github",
        "colab_type": "text"
      },
      "source": [
        "<a href=\"https://colab.research.google.com/github/plaban1981/INEURON/blob/master/Ineuron_assignment3.ipynb\" target=\"_parent\"><img src=\"https://colab.research.google.com/assets/colab-badge.svg\" alt=\"Open In Colab\"/></a>"
      ]
    },
    {
      "cell_type": "markdown",
      "metadata": {
        "id": "xXqmeTQDOD1U",
        "colab_type": "text"
      },
      "source": [
        "##Task 1:\n",
        "- 1. Write a function to compute 5/0 and use try/except to catch the exceptions."
      ]
    },
    {
      "cell_type": "code",
      "metadata": {
        "id": "prQDbqS_N_Nh",
        "colab_type": "code",
        "colab": {
          "base_uri": "https://localhost:8080/",
          "height": 70
        },
        "outputId": "542b7f10-0180-4777-9e5f-b8e2b3d94877"
      },
      "source": [
        "def divide(a,b):\n",
        "  return a/b\n",
        "try:\n",
        "  numerator = int(input('Enter the value of the numerator'))\n",
        "  denominator = int(input('Enter the value of the denominator'))\n",
        "  result = divide(numerator,denominator)\n",
        "  print(f'division of {numerator} / {denominator} = {result}')\n",
        "except (Exception,ZeroDivisionError) as e:\n",
        "  print(f\" {e} error - Please eneter a non zero denominator\")"
      ],
      "execution_count": 11,
      "outputs": [
        {
          "output_type": "stream",
          "text": [
            "Enter the value of the numerator5\n",
            "Enter the value of the denominator0\n",
            " division by zero error - Please eneter a non zero denominator\n"
          ],
          "name": "stdout"
        }
      ]
    },
    {
      "cell_type": "markdown",
      "metadata": {
        "id": "Gdf-0zPVRGxJ",
        "colab_type": "text"
      },
      "source": [
        "## 2.Implement a Python program to generate all sentences where subject is in [\"Americans\",\"Indians\"] and verb is in [\"Play\", \"watch\"] and the object is in [\"Baseball\",\"cricket\"].\n",
        "\n",
        "####Hint: Subject,Verb and Object should be declared in the program as shown below.\n",
        "subjects=[\"Americans \",\"Indians\"]\n",
        "verbs=[\"play\",\"watch\"]\n",
        "objects=[\"Baseball\",\"Cricket\"]\n",
        "\n",
        "\n",
        "#### Output should come as below:\n",
        "Americans play Baseball.\n",
        "\n",
        "Americans play Cricket.\n",
        "\n",
        "Americans watch Baseball.\n",
        "\n",
        "Americans watch Cricket.\n",
        "\n",
        "Indians play Baseball.\n",
        "\n",
        "Indians play Cricket.\n",
        "\n",
        "Indians watch Baseball.\n",
        "\n",
        "Indians watch Cricket."
      ]
    },
    {
      "cell_type": "code",
      "metadata": {
        "id": "Kg-xmuVARVqb",
        "colab_type": "code",
        "colab": {
          "base_uri": "https://localhost:8080/",
          "height": 158
        },
        "outputId": "393fb13b-8602-4a5e-bacc-0aa15a5d3944"
      },
      "source": [
        "subjects=[\"Americans \",\"Indians\"] \n",
        "verbs=[\"play\",\"watch\"] \n",
        "objects=[\"Baseball\",\"Cricket\"]\n",
        "\n",
        "for subject in subjects:\n",
        "  for verb in verbs:\n",
        "    for obj in objects:\n",
        "      print( subject + \" \" + verb + \" \" + obj)"
      ],
      "execution_count": 1,
      "outputs": [
        {
          "output_type": "stream",
          "text": [
            "Americans  play Baseball\n",
            "Americans  play Cricket\n",
            "Americans  watch Baseball\n",
            "Americans  watch Cricket\n",
            "Indians play Baseball\n",
            "Indians play Cricket\n",
            "Indians watch Baseball\n",
            "Indians watch Cricket\n"
          ],
          "name": "stdout"
        }
      ]
    },
    {
      "cell_type": "markdown",
      "metadata": {
        "id": "Dnnd4RhOUtvV",
        "colab_type": "text"
      },
      "source": [
        "##Task 2:\n",
        "#### 1.Write a function so that the columns of the output matrix are powers of the input vector.\n",
        "\n",
        "The order of the powers is determined by the increasing boolean argument. Specifically, when\n",
        "increasing is False, the i-th output column is the input vector raised element-wise to the power\n",
        "of N - i - 1.\n",
        "\n",
        "#### HINT: Such a matrix with a geometric progression in each row is named for AlexandreTheophile Vandermonde"
      ]
    },
    {
      "cell_type": "code",
      "metadata": {
        "id": "8S7WAhiJU2Iq",
        "colab_type": "code",
        "colab": {}
      },
      "source": [
        "def atv(list_element,nthpower):   \n",
        "  X = []\n",
        "  for num in list_element:\n",
        "    for i in range(1,nthpower+1):\n",
        "      X.append(num ** i)\n",
        "  return np.array(X).reshape(len(list_element),n)\n"
      ],
      "execution_count": 0,
      "outputs": []
    },
    {
      "cell_type": "code",
      "metadata": {
        "id": "tqLowtOTWpVs",
        "colab_type": "code",
        "colab": {
          "base_uri": "https://localhost:8080/",
          "height": 105
        },
        "outputId": "d1cd7284-518e-4d21-a006-00a87b165afe"
      },
      "source": [
        "import numpy as np\n",
        "n=4\n",
        "list_element = [1,2,3,4,5]\n",
        "elements = len(list_element)\n",
        "result = np.array(atv(list_element,n))\n",
        "print(result)"
      ],
      "execution_count": 29,
      "outputs": [
        {
          "output_type": "stream",
          "text": [
            "[[  1   1   1   1]\n",
            " [  2   4   8  16]\n",
            " [  3   9  27  81]\n",
            " [  4  16  64 256]\n",
            " [  5  25 125 625]]\n"
          ],
          "name": "stdout"
        }
      ]
    }
  ]
}