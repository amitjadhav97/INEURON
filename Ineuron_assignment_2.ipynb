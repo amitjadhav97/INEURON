{
  "nbformat": 4,
  "nbformat_minor": 0,
  "metadata": {
    "colab": {
      "name": "Ineuron_assignment_2.ipynb",
      "provenance": [],
      "include_colab_link": true
    },
    "kernelspec": {
      "name": "python3",
      "display_name": "Python 3"
    }
  },
  "cells": [
    {
      "cell_type": "markdown",
      "metadata": {
        "id": "view-in-github",
        "colab_type": "text"
      },
      "source": [
        "<a href=\"https://colab.research.google.com/github/plaban1981/INEURON/blob/master/Ineuron_assignment_2.ipynb\" target=\"_parent\"><img src=\"https://colab.research.google.com/assets/colab-badge.svg\" alt=\"Open In Colab\"/></a>"
      ]
    },
    {
      "cell_type": "markdown",
      "metadata": {
        "id": "B5o7fE8IZcEt",
        "colab_type": "text"
      },
      "source": [
        "##Task 1:\n",
        "##1.1\n",
        "\n",
        "Write a Python Program to implement your own myreduce() function which works exactly like\n",
        "Python's built-in function reduce()"
      ]
    },
    {
      "cell_type": "code",
      "metadata": {
        "id": "fviNbrtWZUs7",
        "colab_type": "code",
        "colab": {
          "base_uri": "https://localhost:8080/",
          "height": 34
        },
        "outputId": "d8b5deed-f12f-4941-b477-200f4e34d754"
      },
      "source": [
        "def myreduce(x,list1):\n",
        "  for num in list1:\n",
        "    x *=num\n",
        "  return x\n",
        "myreduce(1,[1,2,3,4])"
      ],
      "execution_count": 3,
      "outputs": [
        {
          "output_type": "execute_result",
          "data": {
            "text/plain": [
              "24"
            ]
          },
          "metadata": {
            "tags": []
          },
          "execution_count": 3
        }
      ]
    },
    {
      "cell_type": "markdown",
      "metadata": {
        "id": "prPqdjxYj5gZ",
        "colab_type": "text"
      },
      "source": [
        "## 1.2\n",
        "Write a Python program to implement your own myfilter() function which works exactly like\n",
        "Python's built-in function filter()\n"
      ]
    },
    {
      "cell_type": "code",
      "metadata": {
        "id": "xhQ4YFyzj9_S",
        "colab_type": "code",
        "colab": {
          "base_uri": "https://localhost:8080/",
          "height": 34
        },
        "outputId": "ca41b872-4c1d-4812-b35a-3bc469788ce7"
      },
      "source": [
        "def myfilter(start,end):\n",
        "  result = []\n",
        "  for i in range(start,end):\n",
        "    if i > 0 :\n",
        "      result.append(i)\n",
        "  return result\n",
        "\n",
        "myfilter(-5,5)\n"
      ],
      "execution_count": 7,
      "outputs": [
        {
          "output_type": "execute_result",
          "data": {
            "text/plain": [
              "[1, 2, 3, 4]"
            ]
          },
          "metadata": {
            "tags": []
          },
          "execution_count": 7
        }
      ]
    },
    {
      "cell_type": "markdown",
      "metadata": {
        "id": "jrW5retdlQPZ",
        "colab_type": "text"
      },
      "source": [
        "##2.\n",
        "Implement List comprehensions to produce the following lists.\n",
        "\n",
        "Write List comprehensions to produce the following Lists\n",
        "['A', 'C', 'A', 'D', 'G', 'I', ’L’, ‘ D’]\n",
        "\n",
        "['x', 'xx', 'xxx', 'xxxx', 'y', 'yy', 'yyy', 'yyyy', 'z', 'zz', 'zzz', 'zzzz']\n",
        "\n",
        "['x', 'y', 'z', 'xx', 'yy', 'zz', 'xx', 'yy', 'zz', 'xxxx', 'yyyy', 'zzzz']\n",
        "\n",
        "[[2], [3], [4], [3], [4], [5], [4], [5], [6]]\n",
        "\n",
        "[[2, 3, 4, 5], [3, 4, 5, 6], [4, 5, 6, 7], [5, 6, 7, 8]]\n",
        "\n",
        "[(1, 1), (2, 1), (3, 1), (1, 2), (2, 2), (3, 2), (1, 3), (2, 3), (3, 3)]"
      ]
    },
    {
      "cell_type": "code",
      "metadata": {
        "id": "llBNoB_JlV6r",
        "colab_type": "code",
        "colab": {
          "base_uri": "https://localhost:8080/",
          "height": 119
        },
        "outputId": "0b78a8a8-3ea1-4c50-ce62-ac4e898bae44"
      },
      "source": [
        "#\n",
        "text ='ACADGILD'\n",
        "result = [x for x in text]\n",
        "print(result)\n",
        "#\n",
        "text = 'xyz'\n",
        "result1 = [i * (j+1) for j in range(len(text)) for i in text]\n",
        "print(result1)\n",
        "#\n",
        "result2 = [j * (i+1) for j in text for i in range(len(text))]\n",
        "print(result2)\n",
        "#\n",
        "text = '234'\n",
        "result3 = [[int(i) +j] for j in range(len(text)) for i in text]\n",
        "print(result3)\n",
        "#\n",
        "list1 = [2,3,4,5]\n",
        "result4 = [[i + j for j in range(len(list1))] for i in list1]\n",
        "print(result4)\n",
        "#\n",
        "list2 = [1,2,3]\n",
        "result5 = [(j,i) for j in list2 for i in list1]\n",
        "print(result5)\n"
      ],
      "execution_count": 28,
      "outputs": [
        {
          "output_type": "stream",
          "text": [
            "['A', 'C', 'A', 'D', 'G', 'I', 'L', 'D']\n",
            "['x', 'y', 'z', 'xx', 'yy', 'zz', 'xxx', 'yyy', 'zzz']\n",
            "['x', 'xx', 'xxx', 'y', 'yy', 'yyy', 'z', 'zz', 'zzz']\n",
            "[[2], [3], [4], [3], [4], [5], [4], [5], [6]]\n",
            "[[2, 3, 4, 5], [3, 4, 5, 6], [4, 5, 6, 7], [5, 6, 7, 8]]\n",
            "[(1, 2), (1, 3), (1, 4), (1, 5), (2, 2), (2, 3), (2, 4), (2, 5), (3, 2), (3, 3), (3, 4), (3, 5)]\n"
          ],
          "name": "stdout"
        }
      ]
    },
    {
      "cell_type": "markdown",
      "metadata": {
        "id": "n4zcKtr46W2r",
        "colab_type": "text"
      },
      "source": [
        "##3.\n",
        "Implement a function longestWord() that takes a list of words and returns the longest one."
      ]
    },
    {
      "cell_type": "code",
      "metadata": {
        "id": "TXl5QT2e6Y_J",
        "colab_type": "code",
        "colab": {}
      },
      "source": [
        "word_list =[ 'egg','elephant','giraffee','beautiful','weourtysxfdgh']\n",
        "def longest(list1):\n",
        "  length = [len(x) for x in word_list]\n",
        "  return word_list[length.index(max(length))]\n"
      ],
      "execution_count": 0,
      "outputs": []
    },
    {
      "cell_type": "code",
      "metadata": {
        "id": "2UORjrnl7tjB",
        "colab_type": "code",
        "colab": {
          "base_uri": "https://localhost:8080/",
          "height": 34
        },
        "outputId": "23a61004-c91a-47a4-93bc-d401b7aa300e"
      },
      "source": [
        "print(f'The longest word in the list is {longest(word_list)}')"
      ],
      "execution_count": 36,
      "outputs": [
        {
          "output_type": "stream",
          "text": [
            "The longest word in the list is weourtysxfdgh\n"
          ],
          "name": "stdout"
        }
      ]
    },
    {
      "cell_type": "markdown",
      "metadata": {
        "id": "gu5wKcTs9Kc7",
        "colab_type": "text"
      },
      "source": [
        "##Task 2:\n",
        "\n",
        "##1.1\n",
        "\n",
        "Write a Python Program(with class concepts) to find the area of the triangle using the below\n",
        "formula.\n",
        "area = (s*(s-a)*(s-b)*(s-c)) ** 0.5\n",
        "\n",
        "Function to take the length of the sides of triangle from user should be defined in the parent\n",
        "\n",
        "class and function to calculate the area should be defined in subclass.\n"
      ]
    },
    {
      "cell_type": "code",
      "metadata": {
        "id": "JK2PYRVs9R9w",
        "colab_type": "code",
        "colab": {}
      },
      "source": [
        "class trainagle:\n",
        "  def __init__(self,a,b,c):\n",
        "    self.a = a\n",
        "    self.b = b\n",
        "    self.c = c\n",
        "\n",
        "\n",
        "  def area(self,a,b,c):\n",
        "    s= (a + b + c) /2.0\n",
        "    print(s)\n",
        "    result = (s * (s-a) * (s-b) * (s-c)) * 0.5\n",
        "    return result"
      ],
      "execution_count": 0,
      "outputs": []
    },
    {
      "cell_type": "code",
      "metadata": {
        "id": "GYXqUFLj_4wi",
        "colab_type": "code",
        "colab": {
          "base_uri": "https://localhost:8080/",
          "height": 51
        },
        "outputId": "90db2f9f-3b64-4e3c-b35a-7b9f80f606c9"
      },
      "source": [
        "area_traingale = trainagle(9,6,8)\n",
        "print(f' area of the traingle {area_traingale.area(9,6,8)}')"
      ],
      "execution_count": 53,
      "outputs": [
        {
          "output_type": "stream",
          "text": [
            "11.5\n",
            " area of the traingle 276.71875\n"
          ],
          "name": "stdout"
        }
      ]
    },
    {
      "cell_type": "markdown",
      "metadata": {
        "id": "DPKOmoCFBPDe",
        "colab_type": "text"
      },
      "source": [
        "## 1.2\n",
        "Write a function filter_long_words() that takes a list of words and an integer n and returns the list\n",
        "of words that are longer than n.\n"
      ]
    },
    {
      "cell_type": "code",
      "metadata": {
        "id": "CYhHdrYFBQ6r",
        "colab_type": "code",
        "colab": {
          "base_uri": "https://localhost:8080/",
          "height": 34
        },
        "outputId": "4f83676e-0b27-4113-8fd4-8a1dd1e89a92"
      },
      "source": [
        "def filter_long_words(list_words,n):\n",
        "  result = [x for x in list_words if len(x) > n]\n",
        "  return result\n",
        "word_list =[ 'egg','elephant','giraffee','beautiful','weourtysxfdgh']\n",
        "print(f'result : {filter_long_words(word_list,8)}')"
      ],
      "execution_count": 55,
      "outputs": [
        {
          "output_type": "stream",
          "text": [
            "result : ['beautiful', 'weourtysxfdgh']\n"
          ],
          "name": "stdout"
        }
      ]
    },
    {
      "cell_type": "markdown",
      "metadata": {
        "id": "ZJPiBHYKCOWU",
        "colab_type": "text"
      },
      "source": [
        "## 2.1\n",
        "Write a Python program using function concept that maps list of words into a list of integers\n",
        "representing the lengths of the corresponding words.\n",
        "\n",
        "Hint: If a list [ ab,cde,erty] is passed on to the python function output should come as [2,3,4]\n",
        "Here 2,3 and 4 are the lengths of the words in the list."
      ]
    },
    {
      "cell_type": "code",
      "metadata": {
        "id": "r1o66NJ9CRsC",
        "colab_type": "code",
        "colab": {
          "base_uri": "https://localhost:8080/",
          "height": 34
        },
        "outputId": "84e8c545-9c31-44f3-9867-9a8eaeb2e11a"
      },
      "source": [
        "def map_word_len(list_words):\n",
        "  length = [len(x) for x in list_words]\n",
        "  return length\n",
        "print(map_word_len(['ab','cde','erty']))"
      ],
      "execution_count": 56,
      "outputs": [
        {
          "output_type": "stream",
          "text": [
            "[2, 3, 4]\n"
          ],
          "name": "stdout"
        }
      ]
    },
    {
      "cell_type": "markdown",
      "metadata": {
        "id": "f2KcIAxQD6Fy",
        "colab_type": "text"
      },
      "source": [
        "## 2.2\n",
        "Write a Python function which takes a character (i.e. a string of length 1) and returns True if it is\n",
        "a vowel, False otherwise.\n"
      ]
    },
    {
      "cell_type": "code",
      "metadata": {
        "id": "eE8_JYhOD9FU",
        "colab_type": "code",
        "colab": {
          "base_uri": "https://localhost:8080/",
          "height": 34
        },
        "outputId": "85215e7b-3ec0-4a4d-d2e1-32ab8b9d1e8e"
      },
      "source": [
        "def check_vowel(character):\n",
        "  if character.lower() in ['a','e','i','o','u']:\n",
        "    return True\n",
        "  else:\n",
        "    return False\n",
        "print(check_vowel('a'))"
      ],
      "execution_count": 58,
      "outputs": [
        {
          "output_type": "stream",
          "text": [
            "True\n"
          ],
          "name": "stdout"
        }
      ]
    },
    {
      "cell_type": "code",
      "metadata": {
        "id": "3wvFh3R7JdfC",
        "colab_type": "code",
        "colab": {
          "base_uri": "https://localhost:8080/",
          "height": 34
        },
        "outputId": "38deb090-a3e4-4cc7-d861-b2d29abd54a1"
      },
      "source": [
        "print(check_vowel('b'))"
      ],
      "execution_count": 59,
      "outputs": [
        {
          "output_type": "stream",
          "text": [
            "False\n"
          ],
          "name": "stdout"
        }
      ]
    }
  ]
}