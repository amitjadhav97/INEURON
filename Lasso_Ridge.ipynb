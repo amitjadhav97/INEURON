{
  "nbformat": 4,
  "nbformat_minor": 0,
  "metadata": {
    "colab": {
      "name": "Lasso_Ridge.ipynb",
      "provenance": [],
      "authorship_tag": "ABX9TyOKSQ+rtEZGSXBfvDZp0FkA",
      "include_colab_link": true
    },
    "kernelspec": {
      "name": "python3",
      "display_name": "Python 3"
    }
  },
  "cells": [
    {
      "cell_type": "markdown",
      "metadata": {
        "id": "view-in-github",
        "colab_type": "text"
      },
      "source": [
        "<a href=\"https://colab.research.google.com/github/plaban1981/INEURON/blob/Supervised-Models/Lasso_Ridge.ipynb\" target=\"_parent\"><img src=\"https://colab.research.google.com/assets/colab-badge.svg\" alt=\"Open In Colab\"/></a>"
      ]
    },
    {
      "cell_type": "markdown",
      "metadata": {
        "id": "5pUdO2xwp_5U",
        "colab_type": "text"
      },
      "source": [
        "## How to Perform Lasso and Ridge Regression in Python\n",
        "\n",
        "A quick tutorial on how to use lasso and ridge regression to improve your linear model."
      ]
    },
    {
      "cell_type": "markdown",
      "metadata": {
        "id": "Qx8L83Pmq1HB",
        "colab_type": "text"
      },
      "source": [
        "https://towardsdatascience.com/how-to-perform-lasso-and-ridge-regression-in-python-3b3b75541ad8\n",
        "\n",
        "LASSO - least absolute shrinkage and selection operator"
      ]
    },
    {
      "cell_type": "markdown",
      "metadata": {
        "id": "BLnsXl9AJTMJ",
        "colab_type": "text"
      },
      "source": [
        "#### Next Reading https://towardsdatascience.com/catboost-vs-light-gbm-vs-xgboost-5f93620723db"
      ]
    },
    {
      "cell_type": "code",
      "metadata": {
        "id": "H9RXPO9WiAtb",
        "colab_type": "code",
        "colab": {
          "base_uri": "https://localhost:8080/",
          "height": 204
        },
        "outputId": "f7e465a4-c565-4686-c06b-81da6dfe229f"
      },
      "source": [
        "!wget 'https://github.com/marcopeix/ISL-linear-regression/blob/master/data/Advertising.csv'\n"
      ],
      "execution_count": 1,
      "outputs": [
        {
          "output_type": "stream",
          "text": [
            "--2020-04-03 06:09:56--  https://github.com/marcopeix/ISL-linear-regression/blob/master/data/Advertising.csv\n",
            "Resolving github.com (github.com)... 140.82.113.3\n",
            "Connecting to github.com (github.com)|140.82.113.3|:443... connected.\n",
            "HTTP request sent, awaiting response... 200 OK\n",
            "Length: unspecified [text/html]\n",
            "Saving to: ‘Advertising.csv’\n",
            "\n",
            "Advertising.csv         [  <=>               ] 121.30K   219KB/s    in 0.6s    \n",
            "\n",
            "2020-04-03 06:10:03 (219 KB/s) - ‘Advertising.csv’ saved [124213]\n",
            "\n"
          ],
          "name": "stdout"
        }
      ]
    },
    {
      "cell_type": "code",
      "metadata": {
        "id": "TNHs2Kyjw0S4",
        "colab_type": "code",
        "colab": {
          "resources": {
            "http://localhost:8080/nbextensions/google.colab/files.js": {
              "data": "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",
              "ok": true,
              "headers": [
                [
                  "content-type",
                  "application/javascript"
                ]
              ],
              "status": 200,
              "status_text": ""
            }
          },
          "base_uri": "https://localhost:8080/",
          "height": 111
        },
        "outputId": "e255da25-a935-4119-daf0-b2ce99a8000d"
      },
      "source": [
        "from google.colab import files\n",
        "files.upload()"
      ],
      "execution_count": 4,
      "outputs": [
        {
          "output_type": "display_data",
          "data": {
            "text/html": [
              "\n",
              "     <input type=\"file\" id=\"files-28612a45-5826-4fef-99ec-eb3bc2f2cb03\" name=\"files[]\" multiple disabled />\n",
              "     <output id=\"result-28612a45-5826-4fef-99ec-eb3bc2f2cb03\">\n",
              "      Upload widget is only available when the cell has been executed in the\n",
              "      current browser session. Please rerun this cell to enable.\n",
              "      </output>\n",
              "      <script src=\"/nbextensions/google.colab/files.js\"></script> "
            ],
            "text/plain": [
              "<IPython.core.display.HTML object>"
            ]
          },
          "metadata": {
            "tags": []
          }
        },
        {
          "output_type": "stream",
          "text": [
            "Saving Advertising.csv to Advertising.csv\n"
          ],
          "name": "stdout"
        },
        {
          "output_type": "execute_result",
          "data": {
            "text/plain": [
              "{'Advertising.csv': b',TV,radio,newspaper,sales\\r\\n1,230.1,37.8,69.2,22.1\\r\\n2,44.5,39.3,45.1,10.4\\r\\n3,17.2,45.9,69.3,9.3\\r\\n4,151.5,41.3,58.5,18.5\\r\\n5,180.8,10.8,58.4,12.9\\r\\n6,8.7,48.9,75,7.2\\r\\n7,57.5,32.8,23.5,11.8\\r\\n8,120.2,19.6,11.6,13.2\\r\\n9,8.6,2.1,1,4.8\\r\\n10,199.8,2.6,21.2,10.6\\r\\n11,66.1,5.8,24.2,8.6\\r\\n12,214.7,24,4,17.4\\r\\n13,23.8,35.1,65.9,9.2\\r\\n14,97.5,7.6,7.2,9.7\\r\\n15,204.1,32.9,46,19\\r\\n16,195.4,47.7,52.9,22.4\\r\\n17,67.8,36.6,114,12.5\\r\\n18,281.4,39.6,55.8,24.4\\r\\n19,69.2,20.5,18.3,11.3\\r\\n20,147.3,23.9,19.1,14.6\\r\\n21,218.4,27.7,53.4,18\\r\\n22,237.4,5.1,23.5,12.5\\r\\n23,13.2,15.9,49.6,5.6\\r\\n24,228.3,16.9,26.2,15.5\\r\\n25,62.3,12.6,18.3,9.7\\r\\n26,262.9,3.5,19.5,12\\r\\n27,142.9,29.3,12.6,15\\r\\n28,240.1,16.7,22.9,15.9\\r\\n29,248.8,27.1,22.9,18.9\\r\\n30,70.6,16,40.8,10.5\\r\\n31,292.9,28.3,43.2,21.4\\r\\n32,112.9,17.4,38.6,11.9\\r\\n33,97.2,1.5,30,9.6\\r\\n34,265.6,20,0.3,17.4\\r\\n35,95.7,1.4,7.4,9.5\\r\\n36,290.7,4.1,8.5,12.8\\r\\n37,266.9,43.8,5,25.4\\r\\n38,74.7,49.4,45.7,14.7\\r\\n39,43.1,26.7,35.1,10.1\\r\\n40,228,37.7,32,21.5\\r\\n41,202.5,22.3,31.6,16.6\\r\\n42,177,33.4,38.7,17.1\\r\\n43,293.6,27.7,1.8,20.7\\r\\n44,206.9,8.4,26.4,12.9\\r\\n45,25.1,25.7,43.3,8.5\\r\\n46,175.1,22.5,31.5,14.9\\r\\n47,89.7,9.9,35.7,10.6\\r\\n48,239.9,41.5,18.5,23.2\\r\\n49,227.2,15.8,49.9,14.8\\r\\n50,66.9,11.7,36.8,9.7\\r\\n51,199.8,3.1,34.6,11.4\\r\\n52,100.4,9.6,3.6,10.7\\r\\n53,216.4,41.7,39.6,22.6\\r\\n54,182.6,46.2,58.7,21.2\\r\\n55,262.7,28.8,15.9,20.2\\r\\n56,198.9,49.4,60,23.7\\r\\n57,7.3,28.1,41.4,5.5\\r\\n58,136.2,19.2,16.6,13.2\\r\\n59,210.8,49.6,37.7,23.8\\r\\n60,210.7,29.5,9.3,18.4\\r\\n61,53.5,2,21.4,8.1\\r\\n62,261.3,42.7,54.7,24.2\\r\\n63,239.3,15.5,27.3,15.7\\r\\n64,102.7,29.6,8.4,14\\r\\n65,131.1,42.8,28.9,18\\r\\n66,69,9.3,0.9,9.3\\r\\n67,31.5,24.6,2.2,9.5\\r\\n68,139.3,14.5,10.2,13.4\\r\\n69,237.4,27.5,11,18.9\\r\\n70,216.8,43.9,27.2,22.3\\r\\n71,199.1,30.6,38.7,18.3\\r\\n72,109.8,14.3,31.7,12.4\\r\\n73,26.8,33,19.3,8.8\\r\\n74,129.4,5.7,31.3,11\\r\\n75,213.4,24.6,13.1,17\\r\\n76,16.9,43.7,89.4,8.7\\r\\n77,27.5,1.6,20.7,6.9\\r\\n78,120.5,28.5,14.2,14.2\\r\\n79,5.4,29.9,9.4,5.3\\r\\n80,116,7.7,23.1,11\\r\\n81,76.4,26.7,22.3,11.8\\r\\n82,239.8,4.1,36.9,12.3\\r\\n83,75.3,20.3,32.5,11.3\\r\\n84,68.4,44.5,35.6,13.6\\r\\n85,213.5,43,33.8,21.7\\r\\n86,193.2,18.4,65.7,15.2\\r\\n87,76.3,27.5,16,12\\r\\n88,110.7,40.6,63.2,16\\r\\n89,88.3,25.5,73.4,12.9\\r\\n90,109.8,47.8,51.4,16.7\\r\\n91,134.3,4.9,9.3,11.2\\r\\n92,28.6,1.5,33,7.3\\r\\n93,217.7,33.5,59,19.4\\r\\n94,250.9,36.5,72.3,22.2\\r\\n95,107.4,14,10.9,11.5\\r\\n96,163.3,31.6,52.9,16.9\\r\\n97,197.6,3.5,5.9,11.7\\r\\n98,184.9,21,22,15.5\\r\\n99,289.7,42.3,51.2,25.4\\r\\n100,135.2,41.7,45.9,17.2\\r\\n101,222.4,4.3,49.8,11.7\\r\\n102,296.4,36.3,100.9,23.8\\r\\n103,280.2,10.1,21.4,14.8\\r\\n104,187.9,17.2,17.9,14.7\\r\\n105,238.2,34.3,5.3,20.7\\r\\n106,137.9,46.4,59,19.2\\r\\n107,25,11,29.7,7.2\\r\\n108,90.4,0.3,23.2,8.7\\r\\n109,13.1,0.4,25.6,5.3\\r\\n110,255.4,26.9,5.5,19.8\\r\\n111,225.8,8.2,56.5,13.4\\r\\n112,241.7,38,23.2,21.8\\r\\n113,175.7,15.4,2.4,14.1\\r\\n114,209.6,20.6,10.7,15.9\\r\\n115,78.2,46.8,34.5,14.6\\r\\n116,75.1,35,52.7,12.6\\r\\n117,139.2,14.3,25.6,12.2\\r\\n118,76.4,0.8,14.8,9.4\\r\\n119,125.7,36.9,79.2,15.9\\r\\n120,19.4,16,22.3,6.6\\r\\n121,141.3,26.8,46.2,15.5\\r\\n122,18.8,21.7,50.4,7\\r\\n123,224,2.4,15.6,11.6\\r\\n124,123.1,34.6,12.4,15.2\\r\\n125,229.5,32.3,74.2,19.7\\r\\n126,87.2,11.8,25.9,10.6\\r\\n127,7.8,38.9,50.6,6.6\\r\\n128,80.2,0,9.2,8.8\\r\\n129,220.3,49,3.2,24.7\\r\\n130,59.6,12,43.1,9.7\\r\\n131,0.7,39.6,8.7,1.6\\r\\n132,265.2,2.9,43,12.7\\r\\n133,8.4,27.2,2.1,5.7\\r\\n134,219.8,33.5,45.1,19.6\\r\\n135,36.9,38.6,65.6,10.8\\r\\n136,48.3,47,8.5,11.6\\r\\n137,25.6,39,9.3,9.5\\r\\n138,273.7,28.9,59.7,20.8\\r\\n139,43,25.9,20.5,9.6\\r\\n140,184.9,43.9,1.7,20.7\\r\\n141,73.4,17,12.9,10.9\\r\\n142,193.7,35.4,75.6,19.2\\r\\n143,220.5,33.2,37.9,20.1\\r\\n144,104.6,5.7,34.4,10.4\\r\\n145,96.2,14.8,38.9,11.4\\r\\n146,140.3,1.9,9,10.3\\r\\n147,240.1,7.3,8.7,13.2\\r\\n148,243.2,49,44.3,25.4\\r\\n149,38,40.3,11.9,10.9\\r\\n150,44.7,25.8,20.6,10.1\\r\\n151,280.7,13.9,37,16.1\\r\\n152,121,8.4,48.7,11.6\\r\\n153,197.6,23.3,14.2,16.6\\r\\n154,171.3,39.7,37.7,19\\r\\n155,187.8,21.1,9.5,15.6\\r\\n156,4.1,11.6,5.7,3.2\\r\\n157,93.9,43.5,50.5,15.3\\r\\n158,149.8,1.3,24.3,10.1\\r\\n159,11.7,36.9,45.2,7.3\\r\\n160,131.7,18.4,34.6,12.9\\r\\n161,172.5,18.1,30.7,14.4\\r\\n162,85.7,35.8,49.3,13.3\\r\\n163,188.4,18.1,25.6,14.9\\r\\n164,163.5,36.8,7.4,18\\r\\n165,117.2,14.7,5.4,11.9\\r\\n166,234.5,3.4,84.8,11.9\\r\\n167,17.9,37.6,21.6,8\\r\\n168,206.8,5.2,19.4,12.2\\r\\n169,215.4,23.6,57.6,17.1\\r\\n170,284.3,10.6,6.4,15\\r\\n171,50,11.6,18.4,8.4\\r\\n172,164.5,20.9,47.4,14.5\\r\\n173,19.6,20.1,17,7.6\\r\\n174,168.4,7.1,12.8,11.7\\r\\n175,222.4,3.4,13.1,11.5\\r\\n176,276.9,48.9,41.8,27\\r\\n177,248.4,30.2,20.3,20.2\\r\\n178,170.2,7.8,35.2,11.7\\r\\n179,276.7,2.3,23.7,11.8\\r\\n180,165.6,10,17.6,12.6\\r\\n181,156.6,2.6,8.3,10.5\\r\\n182,218.5,5.4,27.4,12.2\\r\\n183,56.2,5.7,29.7,8.7\\r\\n184,287.6,43,71.8,26.2\\r\\n185,253.8,21.3,30,17.6\\r\\n186,205,45.1,19.6,22.6\\r\\n187,139.5,2.1,26.6,10.3\\r\\n188,191.1,28.7,18.2,17.3\\r\\n189,286,13.9,3.7,15.9\\r\\n190,18.7,12.1,23.4,6.7\\r\\n191,39.5,41.1,5.8,10.8\\r\\n192,75.5,10.8,6,9.9\\r\\n193,17.2,4.1,31.6,5.9\\r\\n194,166.8,42,3.6,19.6\\r\\n195,149.7,35.6,6,17.3\\r\\n196,38.2,3.7,13.8,7.6\\r\\n197,94.2,4.9,8.1,9.7\\r\\n198,177,9.3,6.4,12.8\\r\\n199,283.6,42,66.2,25.5\\r\\n200,232.1,8.6,8.7,13.4\\r\\n'}"
            ]
          },
          "metadata": {
            "tags": []
          },
          "execution_count": 4
        }
      ]
    },
    {
      "cell_type": "code",
      "metadata": {
        "id": "kKJnstRbwAZj",
        "colab_type": "code",
        "colab": {
          "base_uri": "https://localhost:8080/",
          "height": 204
        },
        "outputId": "4b16c34e-ab33-4a45-dd7d-6b53ffa9b101"
      },
      "source": [
        "import pandas as pd\n",
        "import numpy as np\n",
        "import matplotlib.pyplot as plt\n",
        "\n",
        "df = pd.read_csv('Advertising.csv')\n",
        "df.head()"
      ],
      "execution_count": 5,
      "outputs": [
        {
          "output_type": "execute_result",
          "data": {
            "text/html": [
              "<div>\n",
              "<style scoped>\n",
              "    .dataframe tbody tr th:only-of-type {\n",
              "        vertical-align: middle;\n",
              "    }\n",
              "\n",
              "    .dataframe tbody tr th {\n",
              "        vertical-align: top;\n",
              "    }\n",
              "\n",
              "    .dataframe thead th {\n",
              "        text-align: right;\n",
              "    }\n",
              "</style>\n",
              "<table border=\"1\" class=\"dataframe\">\n",
              "  <thead>\n",
              "    <tr style=\"text-align: right;\">\n",
              "      <th></th>\n",
              "      <th>Unnamed: 0</th>\n",
              "      <th>TV</th>\n",
              "      <th>radio</th>\n",
              "      <th>newspaper</th>\n",
              "      <th>sales</th>\n",
              "    </tr>\n",
              "  </thead>\n",
              "  <tbody>\n",
              "    <tr>\n",
              "      <th>0</th>\n",
              "      <td>1</td>\n",
              "      <td>230.1</td>\n",
              "      <td>37.8</td>\n",
              "      <td>69.2</td>\n",
              "      <td>22.1</td>\n",
              "    </tr>\n",
              "    <tr>\n",
              "      <th>1</th>\n",
              "      <td>2</td>\n",
              "      <td>44.5</td>\n",
              "      <td>39.3</td>\n",
              "      <td>45.1</td>\n",
              "      <td>10.4</td>\n",
              "    </tr>\n",
              "    <tr>\n",
              "      <th>2</th>\n",
              "      <td>3</td>\n",
              "      <td>17.2</td>\n",
              "      <td>45.9</td>\n",
              "      <td>69.3</td>\n",
              "      <td>9.3</td>\n",
              "    </tr>\n",
              "    <tr>\n",
              "      <th>3</th>\n",
              "      <td>4</td>\n",
              "      <td>151.5</td>\n",
              "      <td>41.3</td>\n",
              "      <td>58.5</td>\n",
              "      <td>18.5</td>\n",
              "    </tr>\n",
              "    <tr>\n",
              "      <th>4</th>\n",
              "      <td>5</td>\n",
              "      <td>180.8</td>\n",
              "      <td>10.8</td>\n",
              "      <td>58.4</td>\n",
              "      <td>12.9</td>\n",
              "    </tr>\n",
              "  </tbody>\n",
              "</table>\n",
              "</div>"
            ],
            "text/plain": [
              "   Unnamed: 0     TV  radio  newspaper  sales\n",
              "0           1  230.1   37.8       69.2   22.1\n",
              "1           2   44.5   39.3       45.1   10.4\n",
              "2           3   17.2   45.9       69.3    9.3\n",
              "3           4  151.5   41.3       58.5   18.5\n",
              "4           5  180.8   10.8       58.4   12.9"
            ]
          },
          "metadata": {
            "tags": []
          },
          "execution_count": 5
        }
      ]
    },
    {
      "cell_type": "markdown",
      "metadata": {
        "id": "xtl_jxZyrYpo",
        "colab_type": "text"
      },
      "source": [
        "## function to visualize data"
      ]
    },
    {
      "cell_type": "code",
      "metadata": {
        "id": "on0GaWaNr1ld",
        "colab_type": "code",
        "colab": {}
      },
      "source": [
        "def scatter_plot(data,feature,target):\n",
        "  plt.figure(figsize=(11,8))\n",
        "  plt.scatter(data[feature],data[target],c='black')\n",
        "  plt.xlabel(f'money spent on {feature} ads')\n",
        "  plt.ylabel(f'Sales in $')\n",
        "  plt.show()\n"
      ],
      "execution_count": 0,
      "outputs": []
    },
    {
      "cell_type": "code",
      "metadata": {
        "id": "3X9W2kNQugLE",
        "colab_type": "code",
        "colab": {
          "base_uri": "https://localhost:8080/",
          "height": 497
        },
        "outputId": "5b6a2049-7ef6-45a7-80ba-83db0e153470"
      },
      "source": [
        "scatter_plot(df,'TV','sales')"
      ],
      "execution_count": 9,
      "outputs": [
        {
          "output_type": "display_data",
          "data": {
            "image/png": "[encoded data removed]",
            "text/plain": [
              "<Figure size 792x576 with 1 Axes>"
            ]
          },
          "metadata": {
            "tags": []
          }
        }
      ]
    },
    {
      "cell_type": "code",
      "metadata": {
        "id": "xWT0-XwzuspZ",
        "colab_type": "code",
        "colab": {
          "base_uri": "https://localhost:8080/",
          "height": 497
        },
        "outputId": "d4cb8d33-5a67-4175-bbea-8a7ba35b252c"
      },
      "source": [
        "scatter_plot(df,'radio','sales')"
      ],
      "execution_count": 10,
      "outputs": [
        {
          "output_type": "display_data",
          "data": {
            "image/png": "[encoded data removed]",
            "text/plain": [
              "<Figure size 792x576 with 1 Axes>"
            ]
          },
          "metadata": {
            "tags": []
          }
        }
      ]
    },
    {
      "cell_type": "code",
      "metadata": {
        "id": "WyTrurIny6AJ",
        "colab_type": "code",
        "colab": {
          "base_uri": "https://localhost:8080/",
          "height": 497
        },
        "outputId": "ebaafee3-05e2-482a-bfb8-a6b4dc247d23"
      },
      "source": [
        "scatter_plot(df,'newspaper','sales')"
      ],
      "execution_count": 11,
      "outputs": [
        {
          "output_type": "display_data",
          "data": {
            "image/png": "[encoded data removed]",
            "text/plain": [
              "<Figure size 792x576 with 1 Axes>"
            ]
          },
          "metadata": {
            "tags": []
          }
        }
      ]
    },
    {
      "cell_type": "markdown",
      "metadata": {
        "id": "eQkYRYwAzEax",
        "colab_type": "text"
      },
      "source": [
        "## Modelling\n",
        "**Multiple linear regression — least squares fitting**"
      ]
    },
    {
      "cell_type": "code",
      "metadata": {
        "id": "pFh-OWA3zIRp",
        "colab_type": "code",
        "colab": {
          "base_uri": "https://localhost:8080/",
          "height": 34
        },
        "outputId": "66d27251-ee64-427a-fc39-22b3888e5811"
      },
      "source": [
        "from sklearn.model_selection import cross_val_score\n",
        "from sklearn.linear_model import LinearRegression\n",
        "\n",
        "X = df.drop('sales',axis=1)\n",
        "Y = df['sales']\n",
        "\n",
        "linreg = LinearRegression()\n",
        "mse = cross_val_score(linreg,X,Y,scoring='neg_mean_squared_error',cv=5)\n",
        "mean_mse = np.mean(mse)\n",
        "print(mean_mse)"
      ],
      "execution_count": 13,
      "outputs": [
        {
          "output_type": "stream",
          "text": [
            "-3.1481607356471937\n"
          ],
          "name": "stdout"
        }
      ]
    },
    {
      "cell_type": "markdown",
      "metadata": {
        "id": "-RUWwgy43GBt",
        "colab_type": "text"
      },
      "source": [
        "The cross_val_score will return an array of MSE for each cross-validation steps"
      ]
    },
    {
      "cell_type": "code",
      "metadata": {
        "id": "qMxjYg9n3HXE",
        "colab_type": "code",
        "colab": {
          "base_uri": "https://localhost:8080/",
          "height": 34
        },
        "outputId": "85fe35d8-4ac5-4826-d53d-6ff25a5399d1"
      },
      "source": [
        "print(mse)"
      ],
      "execution_count": 14,
      "outputs": [
        {
          "output_type": "stream",
          "text": [
            "[-3.42598966 -2.46682997 -1.58875568 -5.48178112 -2.77744724]\n"
          ],
          "name": "stdout"
        }
      ]
    },
    {
      "cell_type": "markdown",
      "metadata": {
        "id": "R2eTmQoh3SSh",
        "colab_type": "text"
      },
      "source": [
        "**Ridge regression** L2 Regularization\n",
        "\n",
        "For ridge regression, we introduce **GridSearchCV**. \n",
        "\n",
        "This will allow us to automatically perform 5-fold cross-validation with a range of different regularization parameters in order to find the optimal value of **alpha**."
      ]
    },
    {
      "cell_type": "code",
      "metadata": {
        "id": "3TaA3NtT3ako",
        "colab_type": "code",
        "colab": {
          "base_uri": "https://localhost:8080/",
          "height": 153
        },
        "outputId": "676f9801-d2da-420b-eb74-300873a30fd5"
      },
      "source": [
        "from sklearn.model_selection import GridSearchCV\n",
        "from sklearn.linear_model import Ridge\n",
        "rg = Ridge()\n",
        "params = {'alpha':[0.001,0.01,0.1,1,5,10,20,30,40]}\n",
        "rg_grid = GridSearchCV(rg,params,scoring='neg_mean_squared_error',cv=5)\n",
        "rg_grid.fit(X,Y)"
      ],
      "execution_count": 17,
      "outputs": [
        {
          "output_type": "execute_result",
          "data": {
            "text/plain": [
              "GridSearchCV(cv=5, error_score=nan,\n",
              "             estimator=Ridge(alpha=1.0, copy_X=True, fit_intercept=True,\n",
              "                             max_iter=None, normalize=False, random_state=None,\n",
              "                             solver='auto', tol=0.001),\n",
              "             iid='deprecated', n_jobs=None,\n",
              "             param_grid={'alpha': [0.001, 0.01, 0.1, 1, 5, 10, 20, 30, 40]},\n",
              "             pre_dispatch='2*n_jobs', refit=True, return_train_score=False,\n",
              "             scoring='neg_mean_squared_error', verbose=0)"
            ]
          },
          "metadata": {
            "tags": []
          },
          "execution_count": 17
        }
      ]
    },
    {
      "cell_type": "code",
      "metadata": {
        "id": "NiQDb52j6s9e",
        "colab_type": "code",
        "colab": {
          "base_uri": "https://localhost:8080/",
          "height": 51
        },
        "outputId": "23670ad8-e6fc-48d8-ae79-c4d37534945e"
      },
      "source": [
        "print(rg_grid.best_params_)\n",
        "print(rg_grid.best_score_)"
      ],
      "execution_count": 18,
      "outputs": [
        {
          "output_type": "stream",
          "text": [
            "{'alpha': 40}\n",
            "-3.1476776627947087\n"
          ],
          "name": "stdout"
        }
      ]
    },
    {
      "cell_type": "markdown",
      "metadata": {
        "id": "oDAJuSk77HIb",
        "colab_type": "text"
      },
      "source": [
        "**Lasso** L1 Regularization"
      ]
    },
    {
      "cell_type": "code",
      "metadata": {
        "id": "ZzWinnWV7I98",
        "colab_type": "code",
        "colab": {
          "base_uri": "https://localhost:8080/",
          "height": 170
        },
        "outputId": "f4242dbd-3fe3-48e8-ef59-6e48e6356fc8"
      },
      "source": [
        "from sklearn.model_selection import GridSearchCV\n",
        "from sklearn.linear_model import Lasso\n",
        "ls= Lasso()\n",
        "params = {'alpha':[0.001,0.01,0.1,1,5,10,20,30,40]}\n",
        "ls_grid = GridSearchCV(ls,params,scoring='neg_mean_squared_error',cv=5)\n",
        "ls_grid.fit(X,Y)"
      ],
      "execution_count": 20,
      "outputs": [
        {
          "output_type": "execute_result",
          "data": {
            "text/plain": [
              "GridSearchCV(cv=5, error_score=nan,\n",
              "             estimator=Lasso(alpha=1.0, copy_X=True, fit_intercept=True,\n",
              "                             max_iter=1000, normalize=False, positive=False,\n",
              "                             precompute=False, random_state=None,\n",
              "                             selection='cyclic', tol=0.0001, warm_start=False),\n",
              "             iid='deprecated', n_jobs=None,\n",
              "             param_grid={'alpha': [0.001, 0.01, 0.1, 1, 5, 10, 20, 30, 40]},\n",
              "             pre_dispatch='2*n_jobs', refit=True, return_train_score=False,\n",
              "             scoring='neg_mean_squared_error', verbose=0)"
            ]
          },
          "metadata": {
            "tags": []
          },
          "execution_count": 20
        }
      ]
    },
    {
      "cell_type": "code",
      "metadata": {
        "id": "FYnbGuE17TSr",
        "colab_type": "code",
        "colab": {
          "base_uri": "https://localhost:8080/",
          "height": 51
        },
        "outputId": "a3da4f5d-10fe-4751-91e7-017b43867c6d"
      },
      "source": [
        "print(ls_grid.best_params_)\n",
        "print(ls_grid.best_score_)"
      ],
      "execution_count": 21,
      "outputs": [
        {
          "output_type": "stream",
          "text": [
            "{'alpha': 1}\n",
            "-3.102305805957408\n"
          ],
          "name": "stdout"
        }
      ]
    },
    {
      "cell_type": "markdown",
      "metadata": {
        "id": "FUrXmYOb8ADs",
        "colab_type": "text"
      },
      "source": [
        "In this case, the optimal value for alpha is 1, and the negative MSE is -3.0414, which is the best score of all three models!"
      ]
    },
    {
      "cell_type": "markdown",
      "metadata": {
        "id": "_GwWuhCa8EW5",
        "colab_type": "text"
      },
      "source": [
        "**We have seen in this case that lasso is the best fitting method, with a regularization value of 1**"
      ]
    },
    {
      "cell_type": "code",
      "metadata": {
        "id": "whoHVMPE8Avh",
        "colab_type": "code",
        "colab": {}
      },
      "source": [
        ""
      ],
      "execution_count": 0,
      "outputs": []
    }
  ]
}