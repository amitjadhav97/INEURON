{
  "nbformat": 4,
  "nbformat_minor": 0,
  "metadata": {
    "kernelspec": {
      "display_name": "Python 3",
      "language": "python",
      "name": "python3"
    },
    "language_info": {
      "codemirror_mode": {
        "name": "ipython",
        "version": 3
      },
      "file_extension": ".py",
      "mimetype": "text/x-python",
      "name": "python",
      "nbconvert_exporter": "python",
      "pygments_lexer": "ipython3",
      "version": "3.7.1"
    },
    "colab": {
      "name": "Pandas file read and write operation.ipynb",
      "provenance": [],
      "collapsed_sections": [
        "giQKCCHm0b63",
        "d5LU22gX0b7f",
        "GKRwtbsV0b7m"
      ],
      "toc_visible": true,
      "include_colab_link": true
    }
  },
  "cells": [
    {
      "cell_type": "markdown",
      "metadata": {
        "id": "view-in-github",
        "colab_type": "text"
      },
      "source": [
        "<a href=\"https://colab.research.google.com/github/plaban1981/INEURON/blob/master/Pandas_file_read_and_write_operation.ipynb\" target=\"_parent\"><img src=\"https://colab.research.google.com/assets/colab-badge.svg\" alt=\"Open In Colab\"/></a>"
      ]
    },
    {
      "cell_type": "markdown",
      "metadata": {
        "id": "8W5Txc9v0b3y",
        "colab_type": "text"
      },
      "source": [
        "# Pandas"
      ]
    },
    {
      "cell_type": "markdown",
      "metadata": {
        "id": "79U22K9g0b35",
        "colab_type": "text"
      },
      "source": [
        "# file Read Write operation"
      ]
    },
    {
      "cell_type": "code",
      "metadata": {
        "id": "09tBGv5U0b37",
        "colab_type": "code",
        "colab": {}
      },
      "source": [
        "import numpy as np\n",
        "import pandas as pd\n",
        "#np.set_printoptions(precision=4)"
      ],
      "execution_count": 0,
      "outputs": []
    },
    {
      "cell_type": "code",
      "metadata": {
        "id": "meOcbLbn0b4A",
        "colab_type": "code",
        "colab": {
          "base_uri": "https://localhost:8080/",
          "height": 142
        },
        "outputId": "52fd39b7-5a47-4d67-a950-5e1f9aefa7e2"
      },
      "source": [
        "import pandas as pd\n",
        "\n",
        "draft1 = pd.read_csv('ex1.csv')    # Supply the file name (path)\n",
        "\n",
        "draft1.head(4)      "
      ],
      "execution_count": 2,
      "outputs": [
        {
          "output_type": "execute_result",
          "data": {
            "text/html": [
              "<div>\n",
              "<style scoped>\n",
              "    .dataframe tbody tr th:only-of-type {\n",
              "        vertical-align: middle;\n",
              "    }\n",
              "\n",
              "    .dataframe tbody tr th {\n",
              "        vertical-align: top;\n",
              "    }\n",
              "\n",
              "    .dataframe thead th {\n",
              "        text-align: right;\n",
              "    }\n",
              "</style>\n",
              "<table border=\"1\" class=\"dataframe\">\n",
              "  <thead>\n",
              "    <tr style=\"text-align: right;\">\n",
              "      <th></th>\n",
              "      <th>a</th>\n",
              "      <th>b</th>\n",
              "      <th>c</th>\n",
              "      <th>d</th>\n",
              "      <th>message</th>\n",
              "    </tr>\n",
              "  </thead>\n",
              "  <tbody>\n",
              "    <tr>\n",
              "      <th>0</th>\n",
              "      <td>1</td>\n",
              "      <td>2</td>\n",
              "      <td>3</td>\n",
              "      <td>4</td>\n",
              "      <td>hello</td>\n",
              "    </tr>\n",
              "    <tr>\n",
              "      <th>1</th>\n",
              "      <td>5</td>\n",
              "      <td>6</td>\n",
              "      <td>7</td>\n",
              "      <td>8</td>\n",
              "      <td>world</td>\n",
              "    </tr>\n",
              "    <tr>\n",
              "      <th>2</th>\n",
              "      <td>9</td>\n",
              "      <td>10</td>\n",
              "      <td>11</td>\n",
              "      <td>12</td>\n",
              "      <td>foo</td>\n",
              "    </tr>\n",
              "  </tbody>\n",
              "</table>\n",
              "</div>"
            ],
            "text/plain": [
              "   a   b   c   d message\n",
              "0  1   2   3   4   hello\n",
              "1  5   6   7   8   world\n",
              "2  9  10  11  12     foo"
            ]
          },
          "metadata": {
            "tags": []
          },
          "execution_count": 2
        }
      ]
    },
    {
      "cell_type": "markdown",
      "metadata": {
        "id": "GRE_kjvK1WT2",
        "colab_type": "text"
      },
      "source": [
        "## Reading a tab separated file using pandas read_table"
      ]
    },
    {
      "cell_type": "code",
      "metadata": {
        "id": "_EmaPlxM0b4U",
        "colab_type": "code",
        "colab": {
          "base_uri": "https://localhost:8080/",
          "height": 111
        },
        "outputId": "5176e62a-f55c-436d-a991-201a6ac63c38"
      },
      "source": [
        "draft2 = pd.read_table('test.tsv')  # Read a tsv into a DataFrame\n",
        "\n",
        "draft2.head()  "
      ],
      "execution_count": 3,
      "outputs": [
        {
          "output_type": "execute_result",
          "data": {
            "text/html": [
              "<div>\n",
              "<style scoped>\n",
              "    .dataframe tbody tr th:only-of-type {\n",
              "        vertical-align: middle;\n",
              "    }\n",
              "\n",
              "    .dataframe tbody tr th {\n",
              "        vertical-align: top;\n",
              "    }\n",
              "\n",
              "    .dataframe thead th {\n",
              "        text-align: right;\n",
              "    }\n",
              "</style>\n",
              "<table border=\"1\" class=\"dataframe\">\n",
              "  <thead>\n",
              "    <tr style=\"text-align: right;\">\n",
              "      <th></th>\n",
              "      <th>test</th>\n",
              "      <th>test</th>\n",
              "      <th>test.1</th>\n",
              "      <th>test.2</th>\n",
              "      <th>test.3</th>\n",
              "    </tr>\n",
              "  </thead>\n",
              "  <tbody>\n",
              "    <tr>\n",
              "      <th>sudh</th>\n",
              "      <td>sudh</td>\n",
              "      <td>sudh</td>\n",
              "      <td>sudh</td>\n",
              "      <td>sudh</td>\n",
              "      <td>sudh</td>\n",
              "    </tr>\n",
              "    <tr>\n",
              "      <th>kumar</th>\n",
              "      <td>kumar</td>\n",
              "      <td>kumar</td>\n",
              "      <td>kumar</td>\n",
              "      <td>kumar</td>\n",
              "      <td>kumar</td>\n",
              "    </tr>\n",
              "  </tbody>\n",
              "</table>\n",
              "</div>"
            ],
            "text/plain": [
              "        test   test test.1 test.2 test.3\n",
              "sudh    sudh   sudh   sudh   sudh   sudh\n",
              "kumar  kumar  kumar  kumar  kumar  kumar"
            ]
          },
          "metadata": {
            "tags": []
          },
          "execution_count": 3
        }
      ]
    },
    {
      "cell_type": "code",
      "metadata": {
        "id": "9oZXVBPc1mkR",
        "colab_type": "code",
        "colab": {
          "base_uri": "https://localhost:8080/",
          "height": 111
        },
        "outputId": "a4debb1f-8112-4497-fe62-e9b9527e3d4f"
      },
      "source": [
        "draft3 = pd.read_csv('test.tsv',sep='\\t')\n",
        "draft3.head()"
      ],
      "execution_count": 4,
      "outputs": [
        {
          "output_type": "execute_result",
          "data": {
            "text/html": [
              "<div>\n",
              "<style scoped>\n",
              "    .dataframe tbody tr th:only-of-type {\n",
              "        vertical-align: middle;\n",
              "    }\n",
              "\n",
              "    .dataframe tbody tr th {\n",
              "        vertical-align: top;\n",
              "    }\n",
              "\n",
              "    .dataframe thead th {\n",
              "        text-align: right;\n",
              "    }\n",
              "</style>\n",
              "<table border=\"1\" class=\"dataframe\">\n",
              "  <thead>\n",
              "    <tr style=\"text-align: right;\">\n",
              "      <th></th>\n",
              "      <th>test</th>\n",
              "      <th>test</th>\n",
              "      <th>test.1</th>\n",
              "      <th>test.2</th>\n",
              "      <th>test.3</th>\n",
              "    </tr>\n",
              "  </thead>\n",
              "  <tbody>\n",
              "    <tr>\n",
              "      <th>sudh</th>\n",
              "      <td>sudh</td>\n",
              "      <td>sudh</td>\n",
              "      <td>sudh</td>\n",
              "      <td>sudh</td>\n",
              "      <td>sudh</td>\n",
              "    </tr>\n",
              "    <tr>\n",
              "      <th>kumar</th>\n",
              "      <td>kumar</td>\n",
              "      <td>kumar</td>\n",
              "      <td>kumar</td>\n",
              "      <td>kumar</td>\n",
              "      <td>kumar</td>\n",
              "    </tr>\n",
              "  </tbody>\n",
              "</table>\n",
              "</div>"
            ],
            "text/plain": [
              "        test   test test.1 test.2 test.3\n",
              "sudh    sudh   sudh   sudh   sudh   sudh\n",
              "kumar  kumar  kumar  kumar  kumar  kumar"
            ]
          },
          "metadata": {
            "tags": []
          },
          "execution_count": 4
        }
      ]
    },
    {
      "cell_type": "code",
      "metadata": {
        "id": "cvkgD1N50b4Z",
        "colab_type": "code",
        "colab": {
          "base_uri": "https://localhost:8080/",
          "height": 142
        },
        "outputId": "a14e6c7f-79e3-495c-aae3-7b77a058caab"
      },
      "source": [
        "df = pd.read_csv('ex1.csv')\n",
        "df"
      ],
      "execution_count": 5,
      "outputs": [
        {
          "output_type": "execute_result",
          "data": {
            "text/html": [
              "<div>\n",
              "<style scoped>\n",
              "    .dataframe tbody tr th:only-of-type {\n",
              "        vertical-align: middle;\n",
              "    }\n",
              "\n",
              "    .dataframe tbody tr th {\n",
              "        vertical-align: top;\n",
              "    }\n",
              "\n",
              "    .dataframe thead th {\n",
              "        text-align: right;\n",
              "    }\n",
              "</style>\n",
              "<table border=\"1\" class=\"dataframe\">\n",
              "  <thead>\n",
              "    <tr style=\"text-align: right;\">\n",
              "      <th></th>\n",
              "      <th>a</th>\n",
              "      <th>b</th>\n",
              "      <th>c</th>\n",
              "      <th>d</th>\n",
              "      <th>message</th>\n",
              "    </tr>\n",
              "  </thead>\n",
              "  <tbody>\n",
              "    <tr>\n",
              "      <th>0</th>\n",
              "      <td>1</td>\n",
              "      <td>2</td>\n",
              "      <td>3</td>\n",
              "      <td>4</td>\n",
              "      <td>hello</td>\n",
              "    </tr>\n",
              "    <tr>\n",
              "      <th>1</th>\n",
              "      <td>5</td>\n",
              "      <td>6</td>\n",
              "      <td>7</td>\n",
              "      <td>8</td>\n",
              "      <td>world</td>\n",
              "    </tr>\n",
              "    <tr>\n",
              "      <th>2</th>\n",
              "      <td>9</td>\n",
              "      <td>10</td>\n",
              "      <td>11</td>\n",
              "      <td>12</td>\n",
              "      <td>foo</td>\n",
              "    </tr>\n",
              "  </tbody>\n",
              "</table>\n",
              "</div>"
            ],
            "text/plain": [
              "   a   b   c   d message\n",
              "0  1   2   3   4   hello\n",
              "1  5   6   7   8   world\n",
              "2  9  10  11  12     foo"
            ]
          },
          "metadata": {
            "tags": []
          },
          "execution_count": 5
        }
      ]
    },
    {
      "cell_type": "code",
      "metadata": {
        "id": "71Ebynk50b4c",
        "colab_type": "code",
        "colab": {
          "base_uri": "https://localhost:8080/",
          "height": 142
        },
        "outputId": "47b5328a-802b-4ced-a940-b7913630ba6e"
      },
      "source": [
        "pd.read_table('ex1.csv', sep=',')"
      ],
      "execution_count": 6,
      "outputs": [
        {
          "output_type": "execute_result",
          "data": {
            "text/html": [
              "<div>\n",
              "<style scoped>\n",
              "    .dataframe tbody tr th:only-of-type {\n",
              "        vertical-align: middle;\n",
              "    }\n",
              "\n",
              "    .dataframe tbody tr th {\n",
              "        vertical-align: top;\n",
              "    }\n",
              "\n",
              "    .dataframe thead th {\n",
              "        text-align: right;\n",
              "    }\n",
              "</style>\n",
              "<table border=\"1\" class=\"dataframe\">\n",
              "  <thead>\n",
              "    <tr style=\"text-align: right;\">\n",
              "      <th></th>\n",
              "      <th>a</th>\n",
              "      <th>b</th>\n",
              "      <th>c</th>\n",
              "      <th>d</th>\n",
              "      <th>message</th>\n",
              "    </tr>\n",
              "  </thead>\n",
              "  <tbody>\n",
              "    <tr>\n",
              "      <th>0</th>\n",
              "      <td>1</td>\n",
              "      <td>2</td>\n",
              "      <td>3</td>\n",
              "      <td>4</td>\n",
              "      <td>hello</td>\n",
              "    </tr>\n",
              "    <tr>\n",
              "      <th>1</th>\n",
              "      <td>5</td>\n",
              "      <td>6</td>\n",
              "      <td>7</td>\n",
              "      <td>8</td>\n",
              "      <td>world</td>\n",
              "    </tr>\n",
              "    <tr>\n",
              "      <th>2</th>\n",
              "      <td>9</td>\n",
              "      <td>10</td>\n",
              "      <td>11</td>\n",
              "      <td>12</td>\n",
              "      <td>foo</td>\n",
              "    </tr>\n",
              "  </tbody>\n",
              "</table>\n",
              "</div>"
            ],
            "text/plain": [
              "   a   b   c   d message\n",
              "0  1   2   3   4   hello\n",
              "1  5   6   7   8   world\n",
              "2  9  10  11  12     foo"
            ]
          },
          "metadata": {
            "tags": []
          },
          "execution_count": 6
        }
      ]
    },
    {
      "cell_type": "markdown",
      "metadata": {
        "id": "PnpZSyJt12hi",
        "colab_type": "text"
      },
      "source": [
        "## Pandas read_csv to skip header"
      ]
    },
    {
      "cell_type": "code",
      "metadata": {
        "id": "cdTUh81Z0b4f",
        "colab_type": "code",
        "colab": {
          "base_uri": "https://localhost:8080/",
          "height": 142
        },
        "outputId": "72f18968-17dd-4845-f37e-5b85de319eec"
      },
      "source": [
        "pd.read_csv('ex2.csv', header=None)\n"
      ],
      "execution_count": 7,
      "outputs": [
        {
          "output_type": "execute_result",
          "data": {
            "text/html": [
              "<div>\n",
              "<style scoped>\n",
              "    .dataframe tbody tr th:only-of-type {\n",
              "        vertical-align: middle;\n",
              "    }\n",
              "\n",
              "    .dataframe tbody tr th {\n",
              "        vertical-align: top;\n",
              "    }\n",
              "\n",
              "    .dataframe thead th {\n",
              "        text-align: right;\n",
              "    }\n",
              "</style>\n",
              "<table border=\"1\" class=\"dataframe\">\n",
              "  <thead>\n",
              "    <tr style=\"text-align: right;\">\n",
              "      <th></th>\n",
              "      <th>0</th>\n",
              "      <th>1</th>\n",
              "      <th>2</th>\n",
              "      <th>3</th>\n",
              "      <th>4</th>\n",
              "    </tr>\n",
              "  </thead>\n",
              "  <tbody>\n",
              "    <tr>\n",
              "      <th>0</th>\n",
              "      <td>1</td>\n",
              "      <td>2</td>\n",
              "      <td>3</td>\n",
              "      <td>4</td>\n",
              "      <td>hello</td>\n",
              "    </tr>\n",
              "    <tr>\n",
              "      <th>1</th>\n",
              "      <td>5</td>\n",
              "      <td>6</td>\n",
              "      <td>7</td>\n",
              "      <td>8</td>\n",
              "      <td>world</td>\n",
              "    </tr>\n",
              "    <tr>\n",
              "      <th>2</th>\n",
              "      <td>9</td>\n",
              "      <td>10</td>\n",
              "      <td>11</td>\n",
              "      <td>12</td>\n",
              "      <td>foo</td>\n",
              "    </tr>\n",
              "  </tbody>\n",
              "</table>\n",
              "</div>"
            ],
            "text/plain": [
              "   0   1   2   3      4\n",
              "0  1   2   3   4  hello\n",
              "1  5   6   7   8  world\n",
              "2  9  10  11  12    foo"
            ]
          },
          "metadata": {
            "tags": []
          },
          "execution_count": 7
        }
      ]
    },
    {
      "cell_type": "markdown",
      "metadata": {
        "id": "Q2BjQ-TX2Dz2",
        "colab_type": "text"
      },
      "source": [
        "## Adding Column Names"
      ]
    },
    {
      "cell_type": "code",
      "metadata": {
        "id": "axrt2m0k0b4j",
        "colab_type": "code",
        "colab": {
          "base_uri": "https://localhost:8080/",
          "height": 34
        },
        "outputId": "cae83f92-f6da-42f0-81bc-8dc0842e2683"
      },
      "source": [
        "df =pd.read_csv('ex2.csv', names=['asdfdsfs','fsdf', 'b', 'c', 'sudh', 'message'])\n",
        "type(df)"
      ],
      "execution_count": 8,
      "outputs": [
        {
          "output_type": "execute_result",
          "data": {
            "text/plain": [
              "pandas.core.frame.DataFrame"
            ]
          },
          "metadata": {
            "tags": []
          },
          "execution_count": 8
        }
      ]
    },
    {
      "cell_type": "markdown",
      "metadata": {
        "id": "5kXPK8Fz2nuY",
        "colab_type": "text"
      },
      "source": [
        "## Using Unix commands to read the content of a file"
      ]
    },
    {
      "cell_type": "code",
      "metadata": {
        "id": "DTnLQGNY0b4m",
        "colab_type": "code",
        "colab": {
          "base_uri": "https://localhost:8080/",
          "height": 170
        },
        "outputId": "41d45e53-556d-4486-da33-2e1077c910c8"
      },
      "source": [
        "!cat csv_mindex.csv"
      ],
      "execution_count": 9,
      "outputs": [
        {
          "output_type": "stream",
          "text": [
            "key1,key2,value1,value2\n",
            "one,a,1,2\n",
            "one,b,3,4\n",
            "one,c,5,6\n",
            "one,d,7,8\n",
            "two,a,9,10\n",
            "two,b,11,12\n",
            "two,c,13,14\n",
            "two,d,15,16\n"
          ],
          "name": "stdout"
        }
      ]
    },
    {
      "cell_type": "markdown",
      "metadata": {
        "id": "L1ZqQ2RE5B4p",
        "colab_type": "text"
      },
      "source": [
        "## Create Multi-Index"
      ]
    },
    {
      "cell_type": "code",
      "metadata": {
        "id": "1MbgxQER0b4q",
        "colab_type": "code",
        "colab": {
          "base_uri": "https://localhost:8080/",
          "height": 328
        },
        "outputId": "53afb5b1-e371-414a-bf66-1af2f037ef95"
      },
      "source": [
        "parsed = pd.read_csv('csv_mindex.csv',index_col=['key1', 'key2'])\n",
        "parsed"
      ],
      "execution_count": 10,
      "outputs": [
        {
          "output_type": "execute_result",
          "data": {
            "text/html": [
              "<div>\n",
              "<style scoped>\n",
              "    .dataframe tbody tr th:only-of-type {\n",
              "        vertical-align: middle;\n",
              "    }\n",
              "\n",
              "    .dataframe tbody tr th {\n",
              "        vertical-align: top;\n",
              "    }\n",
              "\n",
              "    .dataframe thead th {\n",
              "        text-align: right;\n",
              "    }\n",
              "</style>\n",
              "<table border=\"1\" class=\"dataframe\">\n",
              "  <thead>\n",
              "    <tr style=\"text-align: right;\">\n",
              "      <th></th>\n",
              "      <th></th>\n",
              "      <th>value1</th>\n",
              "      <th>value2</th>\n",
              "    </tr>\n",
              "    <tr>\n",
              "      <th>key1</th>\n",
              "      <th>key2</th>\n",
              "      <th></th>\n",
              "      <th></th>\n",
              "    </tr>\n",
              "  </thead>\n",
              "  <tbody>\n",
              "    <tr>\n",
              "      <th rowspan=\"4\" valign=\"top\">one</th>\n",
              "      <th>a</th>\n",
              "      <td>1</td>\n",
              "      <td>2</td>\n",
              "    </tr>\n",
              "    <tr>\n",
              "      <th>b</th>\n",
              "      <td>3</td>\n",
              "      <td>4</td>\n",
              "    </tr>\n",
              "    <tr>\n",
              "      <th>c</th>\n",
              "      <td>5</td>\n",
              "      <td>6</td>\n",
              "    </tr>\n",
              "    <tr>\n",
              "      <th>d</th>\n",
              "      <td>7</td>\n",
              "      <td>8</td>\n",
              "    </tr>\n",
              "    <tr>\n",
              "      <th rowspan=\"4\" valign=\"top\">two</th>\n",
              "      <th>a</th>\n",
              "      <td>9</td>\n",
              "      <td>10</td>\n",
              "    </tr>\n",
              "    <tr>\n",
              "      <th>b</th>\n",
              "      <td>11</td>\n",
              "      <td>12</td>\n",
              "    </tr>\n",
              "    <tr>\n",
              "      <th>c</th>\n",
              "      <td>13</td>\n",
              "      <td>14</td>\n",
              "    </tr>\n",
              "    <tr>\n",
              "      <th>d</th>\n",
              "      <td>15</td>\n",
              "      <td>16</td>\n",
              "    </tr>\n",
              "  </tbody>\n",
              "</table>\n",
              "</div>"
            ],
            "text/plain": [
              "           value1  value2\n",
              "key1 key2                \n",
              "one  a          1       2\n",
              "     b          3       4\n",
              "     c          5       6\n",
              "     d          7       8\n",
              "two  a          9      10\n",
              "     b         11      12\n",
              "     c         13      14\n",
              "     d         15      16"
            ]
          },
          "metadata": {
            "tags": []
          },
          "execution_count": 10
        }
      ]
    },
    {
      "cell_type": "code",
      "metadata": {
        "id": "0k7eMpgK0b4u",
        "colab_type": "code",
        "colab": {
          "base_uri": "https://localhost:8080/",
          "height": 261
        },
        "outputId": "657b9fdc-abd5-4a3a-a641-c509e63f184b"
      },
      "source": [
        "!cat ex4.csv\n",
        "pd.read_csv('ex4.csv', skiprows=[0, 2, 3])"
      ],
      "execution_count": 11,
      "outputs": [
        {
          "output_type": "stream",
          "text": [
            "# hey!\n",
            "a,b,c,d,message\n",
            "# just wanted to make things more difficult for you\n",
            "# who reads CSV files with computers, anyway?\n",
            "1,2,3,4,hello\n",
            "5,6,7,8,world\n",
            "9,10,11,12,foo"
          ],
          "name": "stdout"
        },
        {
          "output_type": "execute_result",
          "data": {
            "text/html": [
              "<div>\n",
              "<style scoped>\n",
              "    .dataframe tbody tr th:only-of-type {\n",
              "        vertical-align: middle;\n",
              "    }\n",
              "\n",
              "    .dataframe tbody tr th {\n",
              "        vertical-align: top;\n",
              "    }\n",
              "\n",
              "    .dataframe thead th {\n",
              "        text-align: right;\n",
              "    }\n",
              "</style>\n",
              "<table border=\"1\" class=\"dataframe\">\n",
              "  <thead>\n",
              "    <tr style=\"text-align: right;\">\n",
              "      <th></th>\n",
              "      <th>a</th>\n",
              "      <th>b</th>\n",
              "      <th>c</th>\n",
              "      <th>d</th>\n",
              "      <th>message</th>\n",
              "    </tr>\n",
              "  </thead>\n",
              "  <tbody>\n",
              "    <tr>\n",
              "      <th>0</th>\n",
              "      <td>1</td>\n",
              "      <td>2</td>\n",
              "      <td>3</td>\n",
              "      <td>4</td>\n",
              "      <td>hello</td>\n",
              "    </tr>\n",
              "    <tr>\n",
              "      <th>1</th>\n",
              "      <td>5</td>\n",
              "      <td>6</td>\n",
              "      <td>7</td>\n",
              "      <td>8</td>\n",
              "      <td>world</td>\n",
              "    </tr>\n",
              "    <tr>\n",
              "      <th>2</th>\n",
              "      <td>9</td>\n",
              "      <td>10</td>\n",
              "      <td>11</td>\n",
              "      <td>12</td>\n",
              "      <td>foo</td>\n",
              "    </tr>\n",
              "  </tbody>\n",
              "</table>\n",
              "</div>"
            ],
            "text/plain": [
              "   a   b   c   d message\n",
              "0  1   2   3   4   hello\n",
              "1  5   6   7   8   world\n",
              "2  9  10  11  12     foo"
            ]
          },
          "metadata": {
            "tags": []
          },
          "execution_count": 11
        }
      ]
    },
    {
      "cell_type": "markdown",
      "metadata": {
        "id": "zgx9x8ne8y4m",
        "colab_type": "text"
      },
      "source": [
        "## Check Null Values"
      ]
    },
    {
      "cell_type": "code",
      "metadata": {
        "id": "TsfVirFX0b4x",
        "colab_type": "code",
        "colab": {
          "base_uri": "https://localhost:8080/",
          "height": 210
        },
        "outputId": "974a9262-03bb-44c6-9175-798d6e9c70fb"
      },
      "source": [
        "!cat ex5.csv\n",
        "result = pd.read_csv('ex5.csv')\n",
        "result\n",
        "pd.isnull(result)"
      ],
      "execution_count": 12,
      "outputs": [
        {
          "output_type": "stream",
          "text": [
            "something,a,b,c,d,message\n",
            "one,1,2,3,4,NA\n",
            "two,5,6,,8,world\n",
            "three,9,10,11,12,foo"
          ],
          "name": "stdout"
        },
        {
          "output_type": "execute_result",
          "data": {
            "text/html": [
              "<div>\n",
              "<style scoped>\n",
              "    .dataframe tbody tr th:only-of-type {\n",
              "        vertical-align: middle;\n",
              "    }\n",
              "\n",
              "    .dataframe tbody tr th {\n",
              "        vertical-align: top;\n",
              "    }\n",
              "\n",
              "    .dataframe thead th {\n",
              "        text-align: right;\n",
              "    }\n",
              "</style>\n",
              "<table border=\"1\" class=\"dataframe\">\n",
              "  <thead>\n",
              "    <tr style=\"text-align: right;\">\n",
              "      <th></th>\n",
              "      <th>something</th>\n",
              "      <th>a</th>\n",
              "      <th>b</th>\n",
              "      <th>c</th>\n",
              "      <th>d</th>\n",
              "      <th>message</th>\n",
              "    </tr>\n",
              "  </thead>\n",
              "  <tbody>\n",
              "    <tr>\n",
              "      <th>0</th>\n",
              "      <td>False</td>\n",
              "      <td>False</td>\n",
              "      <td>False</td>\n",
              "      <td>False</td>\n",
              "      <td>False</td>\n",
              "      <td>True</td>\n",
              "    </tr>\n",
              "    <tr>\n",
              "      <th>1</th>\n",
              "      <td>False</td>\n",
              "      <td>False</td>\n",
              "      <td>False</td>\n",
              "      <td>True</td>\n",
              "      <td>False</td>\n",
              "      <td>False</td>\n",
              "    </tr>\n",
              "    <tr>\n",
              "      <th>2</th>\n",
              "      <td>False</td>\n",
              "      <td>False</td>\n",
              "      <td>False</td>\n",
              "      <td>False</td>\n",
              "      <td>False</td>\n",
              "      <td>False</td>\n",
              "    </tr>\n",
              "  </tbody>\n",
              "</table>\n",
              "</div>"
            ],
            "text/plain": [
              "   something      a      b      c      d  message\n",
              "0      False  False  False  False  False     True\n",
              "1      False  False  False   True  False    False\n",
              "2      False  False  False  False  False    False"
            ]
          },
          "metadata": {
            "tags": []
          },
          "execution_count": 12
        }
      ]
    },
    {
      "cell_type": "markdown",
      "metadata": {
        "id": "vvgeTNSs9NzH",
        "colab_type": "text"
      },
      "source": [
        "## retrieve total number of NULL values if any per each column"
      ]
    },
    {
      "cell_type": "code",
      "metadata": {
        "id": "55bLdzYj84OL",
        "colab_type": "code",
        "colab": {
          "base_uri": "https://localhost:8080/",
          "height": 68
        },
        "outputId": "d34f74cc-f88a-4983-cec5-3598a0e68c93"
      },
      "source": [
        "result.isnull().sum()[result.isnull().sum() > 0]"
      ],
      "execution_count": 13,
      "outputs": [
        {
          "output_type": "execute_result",
          "data": {
            "text/plain": [
              "c          1\n",
              "message    1\n",
              "dtype: int64"
            ]
          },
          "metadata": {
            "tags": []
          },
          "execution_count": 13
        }
      ]
    },
    {
      "cell_type": "code",
      "metadata": {
        "id": "Q_VmXRYq0b41",
        "colab_type": "code",
        "colab": {
          "base_uri": "https://localhost:8080/",
          "height": 142
        },
        "outputId": "99f8400f-6e72-48d1-d6c0-d387f5101a3d"
      },
      "source": [
        "result = pd.read_csv('ex5.csv', na_values=['NULL'])\n",
        "result"
      ],
      "execution_count": 14,
      "outputs": [
        {
          "output_type": "execute_result",
          "data": {
            "text/html": [
              "<div>\n",
              "<style scoped>\n",
              "    .dataframe tbody tr th:only-of-type {\n",
              "        vertical-align: middle;\n",
              "    }\n",
              "\n",
              "    .dataframe tbody tr th {\n",
              "        vertical-align: top;\n",
              "    }\n",
              "\n",
              "    .dataframe thead th {\n",
              "        text-align: right;\n",
              "    }\n",
              "</style>\n",
              "<table border=\"1\" class=\"dataframe\">\n",
              "  <thead>\n",
              "    <tr style=\"text-align: right;\">\n",
              "      <th></th>\n",
              "      <th>something</th>\n",
              "      <th>a</th>\n",
              "      <th>b</th>\n",
              "      <th>c</th>\n",
              "      <th>d</th>\n",
              "      <th>message</th>\n",
              "    </tr>\n",
              "  </thead>\n",
              "  <tbody>\n",
              "    <tr>\n",
              "      <th>0</th>\n",
              "      <td>one</td>\n",
              "      <td>1</td>\n",
              "      <td>2</td>\n",
              "      <td>3.0</td>\n",
              "      <td>4</td>\n",
              "      <td>NaN</td>\n",
              "    </tr>\n",
              "    <tr>\n",
              "      <th>1</th>\n",
              "      <td>two</td>\n",
              "      <td>5</td>\n",
              "      <td>6</td>\n",
              "      <td>NaN</td>\n",
              "      <td>8</td>\n",
              "      <td>world</td>\n",
              "    </tr>\n",
              "    <tr>\n",
              "      <th>2</th>\n",
              "      <td>three</td>\n",
              "      <td>9</td>\n",
              "      <td>10</td>\n",
              "      <td>11.0</td>\n",
              "      <td>12</td>\n",
              "      <td>foo</td>\n",
              "    </tr>\n",
              "  </tbody>\n",
              "</table>\n",
              "</div>"
            ],
            "text/plain": [
              "  something  a   b     c   d message\n",
              "0       one  1   2   3.0   4     NaN\n",
              "1       two  5   6   NaN   8   world\n",
              "2     three  9  10  11.0  12     foo"
            ]
          },
          "metadata": {
            "tags": []
          },
          "execution_count": 14
        }
      ]
    },
    {
      "cell_type": "markdown",
      "metadata": {
        "id": "VEsXsSmh-SpT",
        "colab_type": "text"
      },
      "source": [
        "## Reading the contents from Sheet Name for a xlx file"
      ]
    },
    {
      "cell_type": "code",
      "metadata": {
        "id": "1IUXD4hV0b45",
        "colab_type": "code",
        "colab": {},
        "outputId": "b8e4bb72-e1b2-445c-d7b3-fe04e89d269f"
      },
      "source": [
        "draft3 = pd.read_excel('/Users/sudhanshukumar/Downloads/Transactions_Zenapt.xlsx',sheetname = 'Expense') # Name of sheet to read from\n",
        "\n",
        "draft3.head(6)    "
      ],
      "execution_count": 0,
      "outputs": [
        {
          "output_type": "execute_result",
          "data": {
            "text/html": [
              "<div>\n",
              "<style scoped>\n",
              "    .dataframe tbody tr th:only-of-type {\n",
              "        vertical-align: middle;\n",
              "    }\n",
              "\n",
              "    .dataframe tbody tr th {\n",
              "        vertical-align: top;\n",
              "    }\n",
              "\n",
              "    .dataframe thead th {\n",
              "        text-align: right;\n",
              "    }\n",
              "</style>\n",
              "<table border=\"1\" class=\"dataframe\">\n",
              "  <thead>\n",
              "    <tr style=\"text-align: right;\">\n",
              "      <th></th>\n",
              "      <th>Date</th>\n",
              "      <th>Description</th>\n",
              "      <th>Category</th>\n",
              "      <th>Cost</th>\n",
              "      <th>Invoice/Agreement present</th>\n",
              "      <th>GST number present\n",
              "in the invoice/ TDS Deducted</th>\n",
              "      <th>Payment details</th>\n",
              "    </tr>\n",
              "  </thead>\n",
              "  <tbody>\n",
              "    <tr>\n",
              "      <th>0</th>\n",
              "      <td>MM-DD-YYYY</td>\n",
              "      <td>Recipt Name</td>\n",
              "      <td>-</td>\n",
              "      <td>INR</td>\n",
              "      <td>Yes or No</td>\n",
              "      <td>Yes or No</td>\n",
              "      <td>Directors Account(Name),Others Account(Name of...</td>\n",
              "    </tr>\n",
              "    <tr>\n",
              "      <th>1</th>\n",
              "      <td>2017-02-11 00:00:00</td>\n",
              "      <td>Domain Zenapt.In</td>\n",
              "      <td>General</td>\n",
              "      <td>904</td>\n",
              "      <td>Yes</td>\n",
              "      <td>No</td>\n",
              "      <td>Others Account(Jugal Kishore Agarwal)</td>\n",
              "    </tr>\n",
              "    <tr>\n",
              "      <th>2</th>\n",
              "      <td>2018-02-11 00:00:00</td>\n",
              "      <td>Franchisee License Fee</td>\n",
              "      <td>General</td>\n",
              "      <td>118000</td>\n",
              "      <td>Yes</td>\n",
              "      <td>No</td>\n",
              "      <td>Others Account(Dibyanshu Kumar)</td>\n",
              "    </tr>\n",
              "    <tr>\n",
              "      <th>3</th>\n",
              "      <td>2018-02-01 00:00:00</td>\n",
              "      <td>Company Registration</td>\n",
              "      <td>General</td>\n",
              "      <td>26000</td>\n",
              "      <td>Yes</td>\n",
              "      <td>No</td>\n",
              "      <td>Others Account(Priyambada Baliase)</td>\n",
              "    </tr>\n",
              "    <tr>\n",
              "      <th>4</th>\n",
              "      <td>2018-03-01 00:00:00</td>\n",
              "      <td>Carpenter material</td>\n",
              "      <td>Furniture</td>\n",
              "      <td>44200</td>\n",
              "      <td>Partly</td>\n",
              "      <td>No</td>\n",
              "      <td>Others Account(Jugal Kishore Agarwal)</td>\n",
              "    </tr>\n",
              "    <tr>\n",
              "      <th>5</th>\n",
              "      <td>2018-02-17 00:00:00</td>\n",
              "      <td>Reddy Deposit</td>\n",
              "      <td>Rent</td>\n",
              "      <td>175000</td>\n",
              "      <td>Yes</td>\n",
              "      <td>No</td>\n",
              "      <td>Directors Account(Jugal Kishore Agarwal)</td>\n",
              "    </tr>\n",
              "  </tbody>\n",
              "</table>\n",
              "</div>"
            ],
            "text/plain": [
              "                  Date             Description   Category    Cost  \\\n",
              "0           MM-DD-YYYY             Recipt Name          -     INR   \n",
              "1  2017-02-11 00:00:00        Domain Zenapt.In    General     904   \n",
              "2  2018-02-11 00:00:00  Franchisee License Fee    General  118000   \n",
              "3  2018-02-01 00:00:00    Company Registration    General   26000   \n",
              "4  2018-03-01 00:00:00     Carpenter material   Furniture   44200   \n",
              "5  2018-02-17 00:00:00           Reddy Deposit       Rent  175000   \n",
              "\n",
              "  Invoice/Agreement present GST number present\\nin the invoice/ TDS Deducted  \\\n",
              "0                 Yes or No                                        Yes or No   \n",
              "1                       Yes                                               No   \n",
              "2                       Yes                                               No   \n",
              "3                       Yes                                               No   \n",
              "4                    Partly                                               No   \n",
              "5                       Yes                                               No   \n",
              "\n",
              "                                     Payment details  \n",
              "0  Directors Account(Name),Others Account(Name of...  \n",
              "1              Others Account(Jugal Kishore Agarwal)  \n",
              "2                    Others Account(Dibyanshu Kumar)  \n",
              "3                 Others Account(Priyambada Baliase)  \n",
              "4              Others Account(Jugal Kishore Agarwal)  \n",
              "5           Directors Account(Jugal Kishore Agarwal)  "
            ]
          },
          "metadata": {
            "tags": []
          },
          "execution_count": 87
        }
      ]
    },
    {
      "cell_type": "markdown",
      "metadata": {
        "id": "pjHydJ_l-j-H",
        "colab_type": "text"
      },
      "source": [
        "## Read Data from an URL"
      ]
    },
    {
      "cell_type": "code",
      "metadata": {
        "id": "QEqsVIqz0b48",
        "colab_type": "code",
        "colab": {
          "base_uri": "https://localhost:8080/",
          "height": 476
        },
        "outputId": "b484ea00-62a3-4765-b32b-9a4257fc57fd"
      },
      "source": [
        "url = \"http://www.basketball-reference.com/leagues/NBA_2015_totals.html\"\n",
        "\n",
        "BB_data = pd.read_html(url)         # Read data from the specified url\n",
        "\n",
        "BB_data[0].ix[:, 0:20].head(5)      # Check 5 rows (10 columns only)"
      ],
      "execution_count": 15,
      "outputs": [
        {
          "output_type": "stream",
          "text": [
            "/usr/local/lib/python3.6/dist-packages/ipykernel_launcher.py:5: FutureWarning: \n",
            ".ix is deprecated. Please use\n",
            ".loc for label based indexing or\n",
            ".iloc for positional indexing\n",
            "\n",
            "See the documentation here:\n",
            "http://pandas.pydata.org/pandas-docs/stable/user_guide/indexing.html#ix-indexer-is-deprecated\n",
            "  \"\"\"\n",
            "/usr/local/lib/python3.6/dist-packages/pandas/core/indexing.py:822: FutureWarning: \n",
            ".ix is deprecated. Please use\n",
            ".loc for label based indexing or\n",
            ".iloc for positional indexing\n",
            "\n",
            "See the documentation here:\n",
            "http://pandas.pydata.org/pandas-docs/stable/user_guide/indexing.html#ix-indexer-is-deprecated\n",
            "  retval = getattr(retval, self.name)._getitem_axis(key, axis=i)\n"
          ],
          "name": "stderr"
        },
        {
          "output_type": "execute_result",
          "data": {
            "text/html": [
              "<div>\n",
              "<style scoped>\n",
              "    .dataframe tbody tr th:only-of-type {\n",
              "        vertical-align: middle;\n",
              "    }\n",
              "\n",
              "    .dataframe tbody tr th {\n",
              "        vertical-align: top;\n",
              "    }\n",
              "\n",
              "    .dataframe thead th {\n",
              "        text-align: right;\n",
              "    }\n",
              "</style>\n",
              "<table border=\"1\" class=\"dataframe\">\n",
              "  <thead>\n",
              "    <tr style=\"text-align: right;\">\n",
              "      <th></th>\n",
              "      <th>Rk</th>\n",
              "      <th>Player</th>\n",
              "      <th>Pos</th>\n",
              "      <th>Age</th>\n",
              "      <th>Tm</th>\n",
              "      <th>G</th>\n",
              "      <th>GS</th>\n",
              "      <th>MP</th>\n",
              "      <th>FG</th>\n",
              "      <th>FGA</th>\n",
              "      <th>FG%</th>\n",
              "      <th>3P</th>\n",
              "      <th>3PA</th>\n",
              "      <th>3P%</th>\n",
              "      <th>2P</th>\n",
              "      <th>2PA</th>\n",
              "      <th>2P%</th>\n",
              "      <th>eFG%</th>\n",
              "      <th>FT</th>\n",
              "      <th>FTA</th>\n",
              "    </tr>\n",
              "  </thead>\n",
              "  <tbody>\n",
              "    <tr>\n",
              "      <th>0</th>\n",
              "      <td>1</td>\n",
              "      <td>Quincy Acy</td>\n",
              "      <td>PF</td>\n",
              "      <td>24</td>\n",
              "      <td>NYK</td>\n",
              "      <td>68</td>\n",
              "      <td>22</td>\n",
              "      <td>1287</td>\n",
              "      <td>152</td>\n",
              "      <td>331</td>\n",
              "      <td>.459</td>\n",
              "      <td>18</td>\n",
              "      <td>60</td>\n",
              "      <td>.300</td>\n",
              "      <td>134</td>\n",
              "      <td>271</td>\n",
              "      <td>.494</td>\n",
              "      <td>.486</td>\n",
              "      <td>76</td>\n",
              "      <td>97</td>\n",
              "    </tr>\n",
              "    <tr>\n",
              "      <th>1</th>\n",
              "      <td>2</td>\n",
              "      <td>Jordan Adams</td>\n",
              "      <td>SG</td>\n",
              "      <td>20</td>\n",
              "      <td>MEM</td>\n",
              "      <td>30</td>\n",
              "      <td>0</td>\n",
              "      <td>248</td>\n",
              "      <td>35</td>\n",
              "      <td>86</td>\n",
              "      <td>.407</td>\n",
              "      <td>10</td>\n",
              "      <td>25</td>\n",
              "      <td>.400</td>\n",
              "      <td>25</td>\n",
              "      <td>61</td>\n",
              "      <td>.410</td>\n",
              "      <td>.465</td>\n",
              "      <td>14</td>\n",
              "      <td>23</td>\n",
              "    </tr>\n",
              "    <tr>\n",
              "      <th>2</th>\n",
              "      <td>3</td>\n",
              "      <td>Steven Adams</td>\n",
              "      <td>C</td>\n",
              "      <td>21</td>\n",
              "      <td>OKC</td>\n",
              "      <td>70</td>\n",
              "      <td>67</td>\n",
              "      <td>1771</td>\n",
              "      <td>217</td>\n",
              "      <td>399</td>\n",
              "      <td>.544</td>\n",
              "      <td>0</td>\n",
              "      <td>2</td>\n",
              "      <td>.000</td>\n",
              "      <td>217</td>\n",
              "      <td>397</td>\n",
              "      <td>.547</td>\n",
              "      <td>.544</td>\n",
              "      <td>103</td>\n",
              "      <td>205</td>\n",
              "    </tr>\n",
              "    <tr>\n",
              "      <th>3</th>\n",
              "      <td>4</td>\n",
              "      <td>Jeff Adrien</td>\n",
              "      <td>PF</td>\n",
              "      <td>28</td>\n",
              "      <td>MIN</td>\n",
              "      <td>17</td>\n",
              "      <td>0</td>\n",
              "      <td>215</td>\n",
              "      <td>19</td>\n",
              "      <td>44</td>\n",
              "      <td>.432</td>\n",
              "      <td>0</td>\n",
              "      <td>0</td>\n",
              "      <td>NaN</td>\n",
              "      <td>19</td>\n",
              "      <td>44</td>\n",
              "      <td>.432</td>\n",
              "      <td>.432</td>\n",
              "      <td>22</td>\n",
              "      <td>38</td>\n",
              "    </tr>\n",
              "    <tr>\n",
              "      <th>4</th>\n",
              "      <td>5</td>\n",
              "      <td>Arron Afflalo</td>\n",
              "      <td>SG</td>\n",
              "      <td>29</td>\n",
              "      <td>TOT</td>\n",
              "      <td>78</td>\n",
              "      <td>72</td>\n",
              "      <td>2502</td>\n",
              "      <td>375</td>\n",
              "      <td>884</td>\n",
              "      <td>.424</td>\n",
              "      <td>118</td>\n",
              "      <td>333</td>\n",
              "      <td>.354</td>\n",
              "      <td>257</td>\n",
              "      <td>551</td>\n",
              "      <td>.466</td>\n",
              "      <td>.491</td>\n",
              "      <td>167</td>\n",
              "      <td>198</td>\n",
              "    </tr>\n",
              "  </tbody>\n",
              "</table>\n",
              "</div>"
            ],
            "text/plain": [
              "  Rk         Player Pos Age   Tm   G  GS  ...   3P%   2P  2PA   2P%  eFG%   FT  FTA\n",
              "0  1     Quincy Acy  PF  24  NYK  68  22  ...  .300  134  271  .494  .486   76   97\n",
              "1  2   Jordan Adams  SG  20  MEM  30   0  ...  .400   25   61  .410  .465   14   23\n",
              "2  3   Steven Adams   C  21  OKC  70  67  ...  .000  217  397  .547  .544  103  205\n",
              "3  4    Jeff Adrien  PF  28  MIN  17   0  ...   NaN   19   44  .432  .432   22   38\n",
              "4  5  Arron Afflalo  SG  29  TOT  78  72  ...  .354  257  551  .466  .491  167  198\n",
              "\n",
              "[5 rows x 20 columns]"
            ]
          },
          "metadata": {
            "tags": []
          },
          "execution_count": 15
        }
      ]
    },
    {
      "cell_type": "code",
      "metadata": {
        "id": "NBSrexAu0b4_",
        "colab_type": "code",
        "colab": {}
      },
      "source": [
        "titanic_train = pd.read_csv(\"https://gist.githubusercontent.com/michhar/2dfd2de0d4f8727f873422c5d959fff5/raw/ff414a1bcfcba32481e4d4e8db578e55872a2ca1/titanic.csv\",\n",
        "                           sep='\\t')  "
      ],
      "execution_count": 0,
      "outputs": []
    },
    {
      "cell_type": "code",
      "metadata": {
        "id": "i3CtVqme0b5C",
        "colab_type": "code",
        "colab": {
          "base_uri": "https://localhost:8080/",
          "height": 546
        },
        "outputId": "fda1be63-c7c9-4332-e2d1-2173795c47e8"
      },
      "source": [
        "titanic_train.head(10)"
      ],
      "execution_count": 17,
      "outputs": [
        {
          "output_type": "execute_result",
          "data": {
            "text/html": [
              "<div>\n",
              "<style scoped>\n",
              "    .dataframe tbody tr th:only-of-type {\n",
              "        vertical-align: middle;\n",
              "    }\n",
              "\n",
              "    .dataframe tbody tr th {\n",
              "        vertical-align: top;\n",
              "    }\n",
              "\n",
              "    .dataframe thead th {\n",
              "        text-align: right;\n",
              "    }\n",
              "</style>\n",
              "<table border=\"1\" class=\"dataframe\">\n",
              "  <thead>\n",
              "    <tr style=\"text-align: right;\">\n",
              "      <th></th>\n",
              "      <th>PassengerId</th>\n",
              "      <th>Survived</th>\n",
              "      <th>Pclass</th>\n",
              "      <th>Name</th>\n",
              "      <th>Sex</th>\n",
              "      <th>Age</th>\n",
              "      <th>SibSp</th>\n",
              "      <th>Parch</th>\n",
              "      <th>Ticket</th>\n",
              "      <th>Fare</th>\n",
              "      <th>Cabin</th>\n",
              "      <th>Embarked</th>\n",
              "    </tr>\n",
              "  </thead>\n",
              "  <tbody>\n",
              "    <tr>\n",
              "      <th>0</th>\n",
              "      <td>1</td>\n",
              "      <td>0</td>\n",
              "      <td>3</td>\n",
              "      <td>Braund, Mr. Owen Harris</td>\n",
              "      <td>male</td>\n",
              "      <td>22.0</td>\n",
              "      <td>1</td>\n",
              "      <td>0</td>\n",
              "      <td>A/5 21171</td>\n",
              "      <td>7.2500</td>\n",
              "      <td>NaN</td>\n",
              "      <td>S</td>\n",
              "    </tr>\n",
              "    <tr>\n",
              "      <th>1</th>\n",
              "      <td>2</td>\n",
              "      <td>1</td>\n",
              "      <td>1</td>\n",
              "      <td>Cumings, Mrs. John Bradley (Florence Briggs Th...</td>\n",
              "      <td>female</td>\n",
              "      <td>38.0</td>\n",
              "      <td>1</td>\n",
              "      <td>0</td>\n",
              "      <td>PC 17599</td>\n",
              "      <td>71.2833</td>\n",
              "      <td>C85</td>\n",
              "      <td>C</td>\n",
              "    </tr>\n",
              "    <tr>\n",
              "      <th>2</th>\n",
              "      <td>3</td>\n",
              "      <td>1</td>\n",
              "      <td>3</td>\n",
              "      <td>Heikkinen, Miss. Laina</td>\n",
              "      <td>female</td>\n",
              "      <td>26.0</td>\n",
              "      <td>0</td>\n",
              "      <td>0</td>\n",
              "      <td>STON/O2. 3101282</td>\n",
              "      <td>7.9250</td>\n",
              "      <td>NaN</td>\n",
              "      <td>S</td>\n",
              "    </tr>\n",
              "    <tr>\n",
              "      <th>3</th>\n",
              "      <td>4</td>\n",
              "      <td>1</td>\n",
              "      <td>1</td>\n",
              "      <td>Futrelle, Mrs. Jacques Heath (Lily May Peel)</td>\n",
              "      <td>female</td>\n",
              "      <td>35.0</td>\n",
              "      <td>1</td>\n",
              "      <td>0</td>\n",
              "      <td>113803</td>\n",
              "      <td>53.1000</td>\n",
              "      <td>C123</td>\n",
              "      <td>S</td>\n",
              "    </tr>\n",
              "    <tr>\n",
              "      <th>4</th>\n",
              "      <td>5</td>\n",
              "      <td>0</td>\n",
              "      <td>3</td>\n",
              "      <td>Allen, Mr. William Henry</td>\n",
              "      <td>male</td>\n",
              "      <td>35.0</td>\n",
              "      <td>0</td>\n",
              "      <td>0</td>\n",
              "      <td>373450</td>\n",
              "      <td>8.0500</td>\n",
              "      <td>NaN</td>\n",
              "      <td>S</td>\n",
              "    </tr>\n",
              "    <tr>\n",
              "      <th>5</th>\n",
              "      <td>6</td>\n",
              "      <td>0</td>\n",
              "      <td>3</td>\n",
              "      <td>Moran, Mr. James</td>\n",
              "      <td>male</td>\n",
              "      <td>NaN</td>\n",
              "      <td>0</td>\n",
              "      <td>0</td>\n",
              "      <td>330877</td>\n",
              "      <td>8.4583</td>\n",
              "      <td>NaN</td>\n",
              "      <td>Q</td>\n",
              "    </tr>\n",
              "    <tr>\n",
              "      <th>6</th>\n",
              "      <td>7</td>\n",
              "      <td>0</td>\n",
              "      <td>1</td>\n",
              "      <td>McCarthy, Mr. Timothy J</td>\n",
              "      <td>male</td>\n",
              "      <td>54.0</td>\n",
              "      <td>0</td>\n",
              "      <td>0</td>\n",
              "      <td>17463</td>\n",
              "      <td>51.8625</td>\n",
              "      <td>E46</td>\n",
              "      <td>S</td>\n",
              "    </tr>\n",
              "    <tr>\n",
              "      <th>7</th>\n",
              "      <td>8</td>\n",
              "      <td>0</td>\n",
              "      <td>3</td>\n",
              "      <td>Palsson, Master. Gosta Leonard</td>\n",
              "      <td>male</td>\n",
              "      <td>2.0</td>\n",
              "      <td>3</td>\n",
              "      <td>1</td>\n",
              "      <td>349909</td>\n",
              "      <td>21.0750</td>\n",
              "      <td>NaN</td>\n",
              "      <td>S</td>\n",
              "    </tr>\n",
              "    <tr>\n",
              "      <th>8</th>\n",
              "      <td>9</td>\n",
              "      <td>1</td>\n",
              "      <td>3</td>\n",
              "      <td>Johnson, Mrs. Oscar W (Elisabeth Vilhelmina Berg)</td>\n",
              "      <td>female</td>\n",
              "      <td>27.0</td>\n",
              "      <td>0</td>\n",
              "      <td>2</td>\n",
              "      <td>347742</td>\n",
              "      <td>11.1333</td>\n",
              "      <td>NaN</td>\n",
              "      <td>S</td>\n",
              "    </tr>\n",
              "    <tr>\n",
              "      <th>9</th>\n",
              "      <td>10</td>\n",
              "      <td>1</td>\n",
              "      <td>2</td>\n",
              "      <td>Nasser, Mrs. Nicholas (Adele Achem)</td>\n",
              "      <td>female</td>\n",
              "      <td>14.0</td>\n",
              "      <td>1</td>\n",
              "      <td>0</td>\n",
              "      <td>237736</td>\n",
              "      <td>30.0708</td>\n",
              "      <td>NaN</td>\n",
              "      <td>C</td>\n",
              "    </tr>\n",
              "  </tbody>\n",
              "</table>\n",
              "</div>"
            ],
            "text/plain": [
              "   PassengerId  Survived  Pclass  ...     Fare Cabin  Embarked\n",
              "0            1         0       3  ...   7.2500   NaN         S\n",
              "1            2         1       1  ...  71.2833   C85         C\n",
              "2            3         1       3  ...   7.9250   NaN         S\n",
              "3            4         1       1  ...  53.1000  C123         S\n",
              "4            5         0       3  ...   8.0500   NaN         S\n",
              "5            6         0       3  ...   8.4583   NaN         Q\n",
              "6            7         0       1  ...  51.8625   E46         S\n",
              "7            8         0       3  ...  21.0750   NaN         S\n",
              "8            9         1       3  ...  11.1333   NaN         S\n",
              "9           10         1       2  ...  30.0708   NaN         C\n",
              "\n",
              "[10 rows x 12 columns]"
            ]
          },
          "metadata": {
            "tags": []
          },
          "execution_count": 17
        }
      ]
    },
    {
      "cell_type": "code",
      "metadata": {
        "id": "bNAD_cG80b5F",
        "colab_type": "code",
        "colab": {
          "base_uri": "https://localhost:8080/",
          "height": 204
        },
        "outputId": "74c65e1b-4531-4bc1-8c7a-6a083e0f1e4f"
      },
      "source": [
        "titanic_train[[\"Name\",\"Pclass\"]].head()"
      ],
      "execution_count": 18,
      "outputs": [
        {
          "output_type": "execute_result",
          "data": {
            "text/html": [
              "<div>\n",
              "<style scoped>\n",
              "    .dataframe tbody tr th:only-of-type {\n",
              "        vertical-align: middle;\n",
              "    }\n",
              "\n",
              "    .dataframe tbody tr th {\n",
              "        vertical-align: top;\n",
              "    }\n",
              "\n",
              "    .dataframe thead th {\n",
              "        text-align: right;\n",
              "    }\n",
              "</style>\n",
              "<table border=\"1\" class=\"dataframe\">\n",
              "  <thead>\n",
              "    <tr style=\"text-align: right;\">\n",
              "      <th></th>\n",
              "      <th>Name</th>\n",
              "      <th>Pclass</th>\n",
              "    </tr>\n",
              "  </thead>\n",
              "  <tbody>\n",
              "    <tr>\n",
              "      <th>0</th>\n",
              "      <td>Braund, Mr. Owen Harris</td>\n",
              "      <td>3</td>\n",
              "    </tr>\n",
              "    <tr>\n",
              "      <th>1</th>\n",
              "      <td>Cumings, Mrs. John Bradley (Florence Briggs Th...</td>\n",
              "      <td>1</td>\n",
              "    </tr>\n",
              "    <tr>\n",
              "      <th>2</th>\n",
              "      <td>Heikkinen, Miss. Laina</td>\n",
              "      <td>3</td>\n",
              "    </tr>\n",
              "    <tr>\n",
              "      <th>3</th>\n",
              "      <td>Futrelle, Mrs. Jacques Heath (Lily May Peel)</td>\n",
              "      <td>1</td>\n",
              "    </tr>\n",
              "    <tr>\n",
              "      <th>4</th>\n",
              "      <td>Allen, Mr. William Henry</td>\n",
              "      <td>3</td>\n",
              "    </tr>\n",
              "  </tbody>\n",
              "</table>\n",
              "</div>"
            ],
            "text/plain": [
              "                                                Name  Pclass\n",
              "0                            Braund, Mr. Owen Harris       3\n",
              "1  Cumings, Mrs. John Bradley (Florence Briggs Th...       1\n",
              "2                             Heikkinen, Miss. Laina       3\n",
              "3       Futrelle, Mrs. Jacques Heath (Lily May Peel)       1\n",
              "4                           Allen, Mr. William Henry       3"
            ]
          },
          "metadata": {
            "tags": []
          },
          "execution_count": 18
        }
      ]
    },
    {
      "cell_type": "code",
      "metadata": {
        "id": "hGvzimBE0b5K",
        "colab_type": "code",
        "colab": {
          "base_uri": "https://localhost:8080/",
          "height": 238
        },
        "outputId": "ec4c934e-b84e-4ed4-a3d9-91a56d3ad82a"
      },
      "source": [
        "titanic_train.dtypes"
      ],
      "execution_count": 19,
      "outputs": [
        {
          "output_type": "execute_result",
          "data": {
            "text/plain": [
              "PassengerId      int64\n",
              "Survived         int64\n",
              "Pclass           int64\n",
              "Name            object\n",
              "Sex             object\n",
              "Age            float64\n",
              "SibSp            int64\n",
              "Parch            int64\n",
              "Ticket          object\n",
              "Fare           float64\n",
              "Cabin           object\n",
              "Embarked        object\n",
              "dtype: object"
            ]
          },
          "metadata": {
            "tags": []
          },
          "execution_count": 19
        }
      ]
    },
    {
      "cell_type": "code",
      "metadata": {
        "id": "guIO8uyE0b5N",
        "colab_type": "code",
        "colab": {}
      },
      "source": [
        "pd.options.display.max_rows = 10"
      ],
      "execution_count": 0,
      "outputs": []
    },
    {
      "cell_type": "code",
      "metadata": {
        "id": "s07hMyMz0b5Q",
        "colab_type": "code",
        "colab": {
          "base_uri": "https://localhost:8080/",
          "height": 204
        },
        "outputId": "cba2ea87-fc0e-4a15-cfbb-f999046c486f"
      },
      "source": [
        "result = pd.read_csv('ex6.csv')\n",
        "result.head()"
      ],
      "execution_count": 21,
      "outputs": [
        {
          "output_type": "execute_result",
          "data": {
            "text/html": [
              "<div>\n",
              "<style scoped>\n",
              "    .dataframe tbody tr th:only-of-type {\n",
              "        vertical-align: middle;\n",
              "    }\n",
              "\n",
              "    .dataframe tbody tr th {\n",
              "        vertical-align: top;\n",
              "    }\n",
              "\n",
              "    .dataframe thead th {\n",
              "        text-align: right;\n",
              "    }\n",
              "</style>\n",
              "<table border=\"1\" class=\"dataframe\">\n",
              "  <thead>\n",
              "    <tr style=\"text-align: right;\">\n",
              "      <th></th>\n",
              "      <th>one</th>\n",
              "      <th>two</th>\n",
              "      <th>three</th>\n",
              "      <th>four</th>\n",
              "      <th>key</th>\n",
              "    </tr>\n",
              "  </thead>\n",
              "  <tbody>\n",
              "    <tr>\n",
              "      <th>0</th>\n",
              "      <td>0.467976</td>\n",
              "      <td>-0.038649</td>\n",
              "      <td>-0.295344</td>\n",
              "      <td>-1.824726</td>\n",
              "      <td>L</td>\n",
              "    </tr>\n",
              "    <tr>\n",
              "      <th>1</th>\n",
              "      <td>-0.358893</td>\n",
              "      <td>1.404453</td>\n",
              "      <td>0.704965</td>\n",
              "      <td>-0.200638</td>\n",
              "      <td>B</td>\n",
              "    </tr>\n",
              "    <tr>\n",
              "      <th>2</th>\n",
              "      <td>-0.501840</td>\n",
              "      <td>0.659254</td>\n",
              "      <td>-0.421691</td>\n",
              "      <td>-0.057688</td>\n",
              "      <td>G</td>\n",
              "    </tr>\n",
              "    <tr>\n",
              "      <th>3</th>\n",
              "      <td>0.204886</td>\n",
              "      <td>1.074134</td>\n",
              "      <td>1.388361</td>\n",
              "      <td>-0.982404</td>\n",
              "      <td>R</td>\n",
              "    </tr>\n",
              "    <tr>\n",
              "      <th>4</th>\n",
              "      <td>0.354628</td>\n",
              "      <td>-0.133116</td>\n",
              "      <td>0.283763</td>\n",
              "      <td>-0.837063</td>\n",
              "      <td>Q</td>\n",
              "    </tr>\n",
              "  </tbody>\n",
              "</table>\n",
              "</div>"
            ],
            "text/plain": [
              "        one       two     three      four key\n",
              "0  0.467976 -0.038649 -0.295344 -1.824726   L\n",
              "1 -0.358893  1.404453  0.704965 -0.200638   B\n",
              "2 -0.501840  0.659254 -0.421691 -0.057688   G\n",
              "3  0.204886  1.074134  1.388361 -0.982404   R\n",
              "4  0.354628 -0.133116  0.283763 -0.837063   Q"
            ]
          },
          "metadata": {
            "tags": []
          },
          "execution_count": 21
        }
      ]
    },
    {
      "cell_type": "code",
      "metadata": {
        "id": "Uf5ZA1cR0b5Y",
        "colab_type": "code",
        "colab": {
          "base_uri": "https://localhost:8080/",
          "height": 204
        },
        "outputId": "6a94d956-39cb-4144-bc7e-c5ce22e24c81"
      },
      "source": [
        "pd.read_csv('ex6.csv', nrows=5)"
      ],
      "execution_count": 22,
      "outputs": [
        {
          "output_type": "execute_result",
          "data": {
            "text/html": [
              "<div>\n",
              "<style scoped>\n",
              "    .dataframe tbody tr th:only-of-type {\n",
              "        vertical-align: middle;\n",
              "    }\n",
              "\n",
              "    .dataframe tbody tr th {\n",
              "        vertical-align: top;\n",
              "    }\n",
              "\n",
              "    .dataframe thead th {\n",
              "        text-align: right;\n",
              "    }\n",
              "</style>\n",
              "<table border=\"1\" class=\"dataframe\">\n",
              "  <thead>\n",
              "    <tr style=\"text-align: right;\">\n",
              "      <th></th>\n",
              "      <th>one</th>\n",
              "      <th>two</th>\n",
              "      <th>three</th>\n",
              "      <th>four</th>\n",
              "      <th>key</th>\n",
              "    </tr>\n",
              "  </thead>\n",
              "  <tbody>\n",
              "    <tr>\n",
              "      <th>0</th>\n",
              "      <td>0.467976</td>\n",
              "      <td>-0.038649</td>\n",
              "      <td>-0.295344</td>\n",
              "      <td>-1.824726</td>\n",
              "      <td>L</td>\n",
              "    </tr>\n",
              "    <tr>\n",
              "      <th>1</th>\n",
              "      <td>-0.358893</td>\n",
              "      <td>1.404453</td>\n",
              "      <td>0.704965</td>\n",
              "      <td>-0.200638</td>\n",
              "      <td>B</td>\n",
              "    </tr>\n",
              "    <tr>\n",
              "      <th>2</th>\n",
              "      <td>-0.501840</td>\n",
              "      <td>0.659254</td>\n",
              "      <td>-0.421691</td>\n",
              "      <td>-0.057688</td>\n",
              "      <td>G</td>\n",
              "    </tr>\n",
              "    <tr>\n",
              "      <th>3</th>\n",
              "      <td>0.204886</td>\n",
              "      <td>1.074134</td>\n",
              "      <td>1.388361</td>\n",
              "      <td>-0.982404</td>\n",
              "      <td>R</td>\n",
              "    </tr>\n",
              "    <tr>\n",
              "      <th>4</th>\n",
              "      <td>0.354628</td>\n",
              "      <td>-0.133116</td>\n",
              "      <td>0.283763</td>\n",
              "      <td>-0.837063</td>\n",
              "      <td>Q</td>\n",
              "    </tr>\n",
              "  </tbody>\n",
              "</table>\n",
              "</div>"
            ],
            "text/plain": [
              "        one       two     three      four key\n",
              "0  0.467976 -0.038649 -0.295344 -1.824726   L\n",
              "1 -0.358893  1.404453  0.704965 -0.200638   B\n",
              "2 -0.501840  0.659254 -0.421691 -0.057688   G\n",
              "3  0.204886  1.074134  1.388361 -0.982404   R\n",
              "4  0.354628 -0.133116  0.283763 -0.837063   Q"
            ]
          },
          "metadata": {
            "tags": []
          },
          "execution_count": 22
        }
      ]
    },
    {
      "cell_type": "markdown",
      "metadata": {
        "id": "XzYKzVTkATfw",
        "colab_type": "text"
      },
      "source": [
        "##Reading Large files with limiting number of rows read using chunksize"
      ]
    },
    {
      "cell_type": "code",
      "metadata": {
        "id": "Mv5G_ctq0b5e",
        "colab_type": "code",
        "colab": {
          "base_uri": "https://localhost:8080/",
          "height": 34
        },
        "outputId": "3f3844b4-74ea-4f34-c296-d4bde0a49c09"
      },
      "source": [
        "chunk = pd.read_csv('ex6.csv', chunksize=10000)\n",
        "type(chunk)"
      ],
      "execution_count": 23,
      "outputs": [
        {
          "output_type": "execute_result",
          "data": {
            "text/plain": [
              "pandas.io.parsers.TextFileReader"
            ]
          },
          "metadata": {
            "tags": []
          },
          "execution_count": 23
        }
      ]
    },
    {
      "cell_type": "code",
      "metadata": {
        "id": "gaRKf35FB04H",
        "colab_type": "code",
        "colab": {
          "base_uri": "https://localhost:8080/",
          "height": 204
        },
        "outputId": "535aac2c-038b-4da4-fa77-735d1882876b"
      },
      "source": [
        "chunk.get_chunk(5)"
      ],
      "execution_count": 24,
      "outputs": [
        {
          "output_type": "execute_result",
          "data": {
            "text/html": [
              "<div>\n",
              "<style scoped>\n",
              "    .dataframe tbody tr th:only-of-type {\n",
              "        vertical-align: middle;\n",
              "    }\n",
              "\n",
              "    .dataframe tbody tr th {\n",
              "        vertical-align: top;\n",
              "    }\n",
              "\n",
              "    .dataframe thead th {\n",
              "        text-align: right;\n",
              "    }\n",
              "</style>\n",
              "<table border=\"1\" class=\"dataframe\">\n",
              "  <thead>\n",
              "    <tr style=\"text-align: right;\">\n",
              "      <th></th>\n",
              "      <th>one</th>\n",
              "      <th>two</th>\n",
              "      <th>three</th>\n",
              "      <th>four</th>\n",
              "      <th>key</th>\n",
              "    </tr>\n",
              "  </thead>\n",
              "  <tbody>\n",
              "    <tr>\n",
              "      <th>0</th>\n",
              "      <td>0.467976</td>\n",
              "      <td>-0.038649</td>\n",
              "      <td>-0.295344</td>\n",
              "      <td>-1.824726</td>\n",
              "      <td>L</td>\n",
              "    </tr>\n",
              "    <tr>\n",
              "      <th>1</th>\n",
              "      <td>-0.358893</td>\n",
              "      <td>1.404453</td>\n",
              "      <td>0.704965</td>\n",
              "      <td>-0.200638</td>\n",
              "      <td>B</td>\n",
              "    </tr>\n",
              "    <tr>\n",
              "      <th>2</th>\n",
              "      <td>-0.501840</td>\n",
              "      <td>0.659254</td>\n",
              "      <td>-0.421691</td>\n",
              "      <td>-0.057688</td>\n",
              "      <td>G</td>\n",
              "    </tr>\n",
              "    <tr>\n",
              "      <th>3</th>\n",
              "      <td>0.204886</td>\n",
              "      <td>1.074134</td>\n",
              "      <td>1.388361</td>\n",
              "      <td>-0.982404</td>\n",
              "      <td>R</td>\n",
              "    </tr>\n",
              "    <tr>\n",
              "      <th>4</th>\n",
              "      <td>0.354628</td>\n",
              "      <td>-0.133116</td>\n",
              "      <td>0.283763</td>\n",
              "      <td>-0.837063</td>\n",
              "      <td>Q</td>\n",
              "    </tr>\n",
              "  </tbody>\n",
              "</table>\n",
              "</div>"
            ],
            "text/plain": [
              "        one       two     three      four key\n",
              "0  0.467976 -0.038649 -0.295344 -1.824726   L\n",
              "1 -0.358893  1.404453  0.704965 -0.200638   B\n",
              "2 -0.501840  0.659254 -0.421691 -0.057688   G\n",
              "3  0.204886  1.074134  1.388361 -0.982404   R\n",
              "4  0.354628 -0.133116  0.283763 -0.837063   Q"
            ]
          },
          "metadata": {
            "tags": []
          },
          "execution_count": 24
        }
      ]
    },
    {
      "cell_type": "code",
      "metadata": {
        "id": "AzpRkrUZCPPQ",
        "colab_type": "code",
        "colab": {
          "base_uri": "https://localhost:8080/",
          "height": 255
        },
        "outputId": "de63cc72-2914-4067-be78-3ed47b83133b"
      },
      "source": [
        "for items in chunk:\n",
        "  print(items)"
      ],
      "execution_count": 25,
      "outputs": [
        {
          "output_type": "stream",
          "text": [
            "           one       two     three      four key\n",
            "5     1.817480  0.742273  0.419395 -2.251035   Q\n",
            "6    -0.776764  0.935518 -0.332872 -1.875641   U\n",
            "7    -0.913135  1.530624 -0.572657  0.477252   K\n",
            "8     0.358480 -0.497572 -0.367016  0.507702   S\n",
            "9    -1.740877 -1.160417 -1.637830  2.172201   G\n",
            "...        ...       ...       ...       ...  ..\n",
            "9995  2.311896 -0.417070 -1.409599 -0.515821   L\n",
            "9996 -0.479893 -0.650419  0.745152 -0.646038   E\n",
            "9997  0.523331  0.787112  0.486066  1.093156   K\n",
            "9998 -0.362559  0.598894 -1.843201  0.887292   G\n",
            "9999 -0.096376 -1.012999 -0.657431 -0.573315   0\n",
            "\n",
            "[9995 rows x 5 columns]\n"
          ],
          "name": "stdout"
        }
      ]
    },
    {
      "cell_type": "code",
      "metadata": {
        "id": "k3JzM6A1AgEs",
        "colab_type": "code",
        "colab": {
          "base_uri": "https://localhost:8080/",
          "height": 204
        },
        "outputId": "b03ef3e9-c6b6-44c7-d39b-8e0888b7644f"
      },
      "source": [
        "chunk1 = pd.read_csv('ex6.csv')\n",
        "chunk1.head()"
      ],
      "execution_count": 26,
      "outputs": [
        {
          "output_type": "execute_result",
          "data": {
            "text/html": [
              "<div>\n",
              "<style scoped>\n",
              "    .dataframe tbody tr th:only-of-type {\n",
              "        vertical-align: middle;\n",
              "    }\n",
              "\n",
              "    .dataframe tbody tr th {\n",
              "        vertical-align: top;\n",
              "    }\n",
              "\n",
              "    .dataframe thead th {\n",
              "        text-align: right;\n",
              "    }\n",
              "</style>\n",
              "<table border=\"1\" class=\"dataframe\">\n",
              "  <thead>\n",
              "    <tr style=\"text-align: right;\">\n",
              "      <th></th>\n",
              "      <th>one</th>\n",
              "      <th>two</th>\n",
              "      <th>three</th>\n",
              "      <th>four</th>\n",
              "      <th>key</th>\n",
              "    </tr>\n",
              "  </thead>\n",
              "  <tbody>\n",
              "    <tr>\n",
              "      <th>0</th>\n",
              "      <td>0.467976</td>\n",
              "      <td>-0.038649</td>\n",
              "      <td>-0.295344</td>\n",
              "      <td>-1.824726</td>\n",
              "      <td>L</td>\n",
              "    </tr>\n",
              "    <tr>\n",
              "      <th>1</th>\n",
              "      <td>-0.358893</td>\n",
              "      <td>1.404453</td>\n",
              "      <td>0.704965</td>\n",
              "      <td>-0.200638</td>\n",
              "      <td>B</td>\n",
              "    </tr>\n",
              "    <tr>\n",
              "      <th>2</th>\n",
              "      <td>-0.501840</td>\n",
              "      <td>0.659254</td>\n",
              "      <td>-0.421691</td>\n",
              "      <td>-0.057688</td>\n",
              "      <td>G</td>\n",
              "    </tr>\n",
              "    <tr>\n",
              "      <th>3</th>\n",
              "      <td>0.204886</td>\n",
              "      <td>1.074134</td>\n",
              "      <td>1.388361</td>\n",
              "      <td>-0.982404</td>\n",
              "      <td>R</td>\n",
              "    </tr>\n",
              "    <tr>\n",
              "      <th>4</th>\n",
              "      <td>0.354628</td>\n",
              "      <td>-0.133116</td>\n",
              "      <td>0.283763</td>\n",
              "      <td>-0.837063</td>\n",
              "      <td>Q</td>\n",
              "    </tr>\n",
              "  </tbody>\n",
              "</table>\n",
              "</div>"
            ],
            "text/plain": [
              "        one       two     three      four key\n",
              "0  0.467976 -0.038649 -0.295344 -1.824726   L\n",
              "1 -0.358893  1.404453  0.704965 -0.200638   B\n",
              "2 -0.501840  0.659254 -0.421691 -0.057688   G\n",
              "3  0.204886  1.074134  1.388361 -0.982404   R\n",
              "4  0.354628 -0.133116  0.283763 -0.837063   Q"
            ]
          },
          "metadata": {
            "tags": []
          },
          "execution_count": 26
        }
      ]
    },
    {
      "cell_type": "code",
      "metadata": {
        "id": "j8qmHBSMBAzH",
        "colab_type": "code",
        "colab": {
          "base_uri": "https://localhost:8080/",
          "height": 34
        },
        "outputId": "99cfe5da-b0d5-4298-e49d-0e7e288c53d1"
      },
      "source": [
        "chunk1.shape"
      ],
      "execution_count": 27,
      "outputs": [
        {
          "output_type": "execute_result",
          "data": {
            "text/plain": [
              "(10000, 5)"
            ]
          },
          "metadata": {
            "tags": []
          },
          "execution_count": 27
        }
      ]
    },
    {
      "cell_type": "markdown",
      "metadata": {
        "id": "oXCq5rR60b5j",
        "colab_type": "text"
      },
      "source": [
        "## Writing Data to Text Format"
      ]
    },
    {
      "cell_type": "code",
      "metadata": {
        "id": "15U2UEfM0b5k",
        "colab_type": "code",
        "colab": {
          "base_uri": "https://localhost:8080/",
          "height": 142
        },
        "outputId": "f2acf4b7-4b44-46fb-cd00-04302d3c26b7"
      },
      "source": [
        "data = pd.read_csv('ex5.csv')\n",
        "data"
      ],
      "execution_count": 28,
      "outputs": [
        {
          "output_type": "execute_result",
          "data": {
            "text/html": [
              "<div>\n",
              "<style scoped>\n",
              "    .dataframe tbody tr th:only-of-type {\n",
              "        vertical-align: middle;\n",
              "    }\n",
              "\n",
              "    .dataframe tbody tr th {\n",
              "        vertical-align: top;\n",
              "    }\n",
              "\n",
              "    .dataframe thead th {\n",
              "        text-align: right;\n",
              "    }\n",
              "</style>\n",
              "<table border=\"1\" class=\"dataframe\">\n",
              "  <thead>\n",
              "    <tr style=\"text-align: right;\">\n",
              "      <th></th>\n",
              "      <th>something</th>\n",
              "      <th>a</th>\n",
              "      <th>b</th>\n",
              "      <th>c</th>\n",
              "      <th>d</th>\n",
              "      <th>message</th>\n",
              "    </tr>\n",
              "  </thead>\n",
              "  <tbody>\n",
              "    <tr>\n",
              "      <th>0</th>\n",
              "      <td>one</td>\n",
              "      <td>1</td>\n",
              "      <td>2</td>\n",
              "      <td>3.0</td>\n",
              "      <td>4</td>\n",
              "      <td>NaN</td>\n",
              "    </tr>\n",
              "    <tr>\n",
              "      <th>1</th>\n",
              "      <td>two</td>\n",
              "      <td>5</td>\n",
              "      <td>6</td>\n",
              "      <td>NaN</td>\n",
              "      <td>8</td>\n",
              "      <td>world</td>\n",
              "    </tr>\n",
              "    <tr>\n",
              "      <th>2</th>\n",
              "      <td>three</td>\n",
              "      <td>9</td>\n",
              "      <td>10</td>\n",
              "      <td>11.0</td>\n",
              "      <td>12</td>\n",
              "      <td>foo</td>\n",
              "    </tr>\n",
              "  </tbody>\n",
              "</table>\n",
              "</div>"
            ],
            "text/plain": [
              "  something  a   b     c   d message\n",
              "0       one  1   2   3.0   4     NaN\n",
              "1       two  5   6   NaN   8   world\n",
              "2     three  9  10  11.0  12     foo"
            ]
          },
          "metadata": {
            "tags": []
          },
          "execution_count": 28
        }
      ]
    },
    {
      "cell_type": "code",
      "metadata": {
        "id": "0M6jx3Fp0b5n",
        "colab_type": "code",
        "colab": {},
        "outputId": "08ced223-3ae4-44c2-8294-fe97fbdc61b5"
      },
      "source": [
        "data.to_csv('/Users/sudhanshukumar/Downloads/out.csv')\n",
        "!cat /Users/sudhanshukumar/Downloads/out.csv"
      ],
      "execution_count": 0,
      "outputs": [
        {
          "output_type": "stream",
          "text": [
            ",something,a,b,c,d,message\r\n",
            "0,one,1,2,3.0,4,\r\n",
            "1,two,5,6,,8,world\r\n",
            "2,three,9,10,11.0,12,foo\r\n"
          ],
          "name": "stdout"
        }
      ]
    },
    {
      "cell_type": "code",
      "metadata": {
        "id": "x0NA0ldY0b5r",
        "colab_type": "code",
        "colab": {}
      },
      "source": [
        "import sys\n",
        "data.to_csv('/Users/sudhanshukumar/Downloads/out1.csv', sep='@')"
      ],
      "execution_count": 0,
      "outputs": []
    },
    {
      "cell_type": "code",
      "metadata": {
        "id": "ZFzF3_vJ0b5t",
        "colab_type": "code",
        "colab": {},
        "outputId": "ad1b4dd6-c882-4e71-e1eb-f5c9ceee3a6e"
      },
      "source": [
        "data.to_csv(sys.stdout, na_rep='NULL')"
      ],
      "execution_count": 0,
      "outputs": [
        {
          "output_type": "stream",
          "text": [
            ",something,a,b,c,d,message\n",
            "0,one,1,2,3.0,4,NULL\n",
            "1,two,5,6,NULL,8,world\n",
            "2,three,9,10,11.0,12,foo\n"
          ],
          "name": "stdout"
        }
      ]
    },
    {
      "cell_type": "code",
      "metadata": {
        "id": "J9qihHTl0b5w",
        "colab_type": "code",
        "colab": {}
      },
      "source": [
        "data.to_csv('/Users/sudhanshukumar/Downloads/out2.csv', index=False, header=False)"
      ],
      "execution_count": 0,
      "outputs": []
    },
    {
      "cell_type": "code",
      "metadata": {
        "id": "g2lMEWSD0b5z",
        "colab_type": "code",
        "colab": {}
      },
      "source": [
        "data.to_csv('/Users/sudhanshukumar/Downloads/out3.csv', index=False, columns=['a', 'b', 'c'])"
      ],
      "execution_count": 0,
      "outputs": []
    },
    {
      "cell_type": "code",
      "metadata": {
        "id": "-jX_ykwa0b51",
        "colab_type": "code",
        "colab": {
          "base_uri": "https://localhost:8080/",
          "height": 241
        },
        "outputId": "c5bcbb88-7e4b-4d26-f63a-a4500e5c4fbe"
      },
      "source": [
        "dates = pd.date_range('1/1/2000', periods=7)\n",
        "print(dates)\n",
        "ts = pd.Series(np.arange(7), index=dates)\n",
        "ts.to_csv('tseries_new.csv')\n",
        "!cat tseries_new.csv"
      ],
      "execution_count": 29,
      "outputs": [
        {
          "output_type": "stream",
          "text": [
            "DatetimeIndex(['2000-01-01', '2000-01-02', '2000-01-03', '2000-01-04',\n",
            "               '2000-01-05', '2000-01-06', '2000-01-07'],\n",
            "              dtype='datetime64[ns]', freq='D')\n"
          ],
          "name": "stdout"
        },
        {
          "output_type": "stream",
          "text": [
            "/usr/local/lib/python3.6/dist-packages/ipykernel_launcher.py:4: FutureWarning: The signature of `Series.to_csv` was aligned to that of `DataFrame.to_csv`, and argument 'header' will change its default value from False to True: please pass an explicit value to suppress this warning.\n",
            "  after removing the cwd from sys.path.\n"
          ],
          "name": "stderr"
        },
        {
          "output_type": "stream",
          "text": [
            "2000-01-01,0\n",
            "2000-01-02,1\n",
            "2000-01-03,2\n",
            "2000-01-04,3\n",
            "2000-01-05,4\n",
            "2000-01-06,5\n",
            "2000-01-07,6\n"
          ],
          "name": "stdout"
        }
      ]
    },
    {
      "cell_type": "markdown",
      "metadata": {
        "id": "amzSFArJ0b56",
        "colab_type": "text"
      },
      "source": [
        "Working with Delimited Formats"
      ]
    },
    {
      "cell_type": "code",
      "metadata": {
        "id": "p-A0KoNG0b58",
        "colab_type": "code",
        "colab": {
          "base_uri": "https://localhost:8080/",
          "height": 34
        },
        "outputId": "d4aa51a0-ea94-4f57-d51c-b843cd156ae9"
      },
      "source": [
        "import csv\n",
        "f = open('ex7.csv')\n",
        "\n",
        "reader = csv.reader(f)\n",
        "reader\n"
      ],
      "execution_count": 32,
      "outputs": [
        {
          "output_type": "execute_result",
          "data": {
            "text/plain": [
              "<_csv.reader at 0x7fa81c6beba8>"
            ]
          },
          "metadata": {
            "tags": []
          },
          "execution_count": 32
        }
      ]
    },
    {
      "cell_type": "code",
      "metadata": {
        "id": "g0-AemSz0b5_",
        "colab_type": "code",
        "colab": {
          "base_uri": "https://localhost:8080/",
          "height": 68
        },
        "outputId": "77d5a8a9-f297-40e2-addd-1c305c485cc1"
      },
      "source": [
        "for line in reader:\n",
        "    print(line)"
      ],
      "execution_count": 33,
      "outputs": [
        {
          "output_type": "stream",
          "text": [
            "['a', 'b', 'c']\n",
            "['1', '2', '3']\n",
            "['1', '2', '3']\n"
          ],
          "name": "stdout"
        }
      ]
    },
    {
      "cell_type": "code",
      "metadata": {
        "id": "gflKavS33-Nn",
        "colab_type": "code",
        "colab": {}
      },
      "source": [
        "f.close()"
      ],
      "execution_count": 0,
      "outputs": []
    },
    {
      "cell_type": "markdown",
      "metadata": {
        "id": "GqpoKJQs4kj9",
        "colab_type": "text"
      },
      "source": [
        "##Open files using With Clause"
      ]
    },
    {
      "cell_type": "code",
      "metadata": {
        "id": "iiXuSlzg0b6B",
        "colab_type": "code",
        "colab": {}
      },
      "source": [
        "with open('ex7.csv') as f:\n",
        "    lines = list(csv.reader(f))"
      ],
      "execution_count": 0,
      "outputs": []
    },
    {
      "cell_type": "code",
      "metadata": {
        "id": "B0s5HfHm0b6E",
        "colab_type": "code",
        "colab": {
          "base_uri": "https://localhost:8080/",
          "height": 51
        },
        "outputId": "9bf97b24-4292-469d-cad4-508fc9e7c8a3"
      },
      "source": [
        "header, values = lines[0], lines[1:]\n",
        "\n",
        "print(header)\n",
        "print(values)"
      ],
      "execution_count": 38,
      "outputs": [
        {
          "output_type": "stream",
          "text": [
            "['a', 'b', 'c']\n",
            "[['1', '2', '3'], ['1', '2', '3']]\n"
          ],
          "name": "stdout"
        }
      ]
    },
    {
      "cell_type": "code",
      "metadata": {
        "id": "T4C5KeCi6BLM",
        "colab_type": "code",
        "colab": {
          "base_uri": "https://localhost:8080/",
          "height": 68
        },
        "outputId": "d74c94f2-44c5-429c-fca8-b423f9d1bc01"
      },
      "source": [
        "for v in zip(*values):\n",
        "  print(v)"
      ],
      "execution_count": 40,
      "outputs": [
        {
          "output_type": "stream",
          "text": [
            "('1', '1')\n",
            "('2', '2')\n",
            "('3', '3')\n"
          ],
          "name": "stdout"
        }
      ]
    },
    {
      "cell_type": "code",
      "metadata": {
        "id": "uIauup3w0b6I",
        "colab_type": "code",
        "colab": {
          "base_uri": "https://localhost:8080/",
          "height": 34
        },
        "outputId": "8d592e68-fa4a-411f-ee9b-eaaee7ae2301"
      },
      "source": [
        "data_dict = {h: v for h, v in zip(header, zip(*values))}\n",
        "data_dict"
      ],
      "execution_count": 41,
      "outputs": [
        {
          "output_type": "execute_result",
          "data": {
            "text/plain": [
              "{'a': ('1', '1'), 'b': ('2', '2'), 'c': ('3', '3')}"
            ]
          },
          "metadata": {
            "tags": []
          },
          "execution_count": 41
        }
      ]
    },
    {
      "cell_type": "markdown",
      "metadata": {
        "id": "OEkQmYdL0b6P",
        "colab_type": "text"
      },
      "source": [
        "## JSON Data"
      ]
    },
    {
      "cell_type": "code",
      "metadata": {
        "id": "YKL21DCo0b6Q",
        "colab_type": "code",
        "colab": {}
      },
      "source": [
        "obj = \"\"\"\n",
        "{\"name\": \"Wes\",\n",
        " \"places_lived\": [\"United States\", \"Spain\", \"Germany\"],\n",
        " \"pet\": null,\n",
        " \"siblings\": [{\"name\": \"Scott\", \"age\": 30, \"pets\": [\"Zeus\", \"Zuko\"]},\n",
        "              {\"name\": \"Katie\", \"age\": 38,\n",
        "               \"pets\": [\"Sixes\", \"Stache\", \"Cisco\"]}]\n",
        "}\n",
        "\"\"\""
      ],
      "execution_count": 0,
      "outputs": []
    },
    {
      "cell_type": "code",
      "metadata": {
        "id": "xPbP4m6j0b6T",
        "colab_type": "code",
        "colab": {
          "base_uri": "https://localhost:8080/",
          "height": 102
        },
        "outputId": "b9afcbeb-dba2-4eec-ea35-9575325a143e"
      },
      "source": [
        "import json\n",
        "result = json.loads(obj)\n",
        "result"
      ],
      "execution_count": 44,
      "outputs": [
        {
          "output_type": "execute_result",
          "data": {
            "text/plain": [
              "{'name': 'Wes',\n",
              " 'pet': None,\n",
              " 'places_lived': ['United States', 'Spain', 'Germany'],\n",
              " 'siblings': [{'age': 30, 'name': 'Scott', 'pets': ['Zeus', 'Zuko']},\n",
              "  {'age': 38, 'name': 'Katie', 'pets': ['Sixes', 'Stache', 'Cisco']}]}"
            ]
          },
          "metadata": {
            "tags": []
          },
          "execution_count": 44
        }
      ]
    },
    {
      "cell_type": "code",
      "metadata": {
        "id": "Pt8f1Lfe0b6X",
        "colab_type": "code",
        "colab": {}
      },
      "source": [
        "asjson = json.dumps(result)"
      ],
      "execution_count": 0,
      "outputs": []
    },
    {
      "cell_type": "code",
      "metadata": {
        "id": "P9je4iWf7iAX",
        "colab_type": "code",
        "colab": {
          "base_uri": "https://localhost:8080/",
          "height": 54
        },
        "outputId": "cdd1ee3a-bc09-420f-c04c-3bff08046040"
      },
      "source": [
        "asjson"
      ],
      "execution_count": 46,
      "outputs": [
        {
          "output_type": "execute_result",
          "data": {
            "text/plain": [
              "'{\"name\": \"Wes\", \"places_lived\": [\"United States\", \"Spain\", \"Germany\"], \"pet\": null, \"siblings\": [{\"name\": \"Scott\", \"age\": 30, \"pets\": [\"Zeus\", \"Zuko\"]}, {\"name\": \"Katie\", \"age\": 38, \"pets\": [\"Sixes\", \"Stache\", \"Cisco\"]}]}'"
            ]
          },
          "metadata": {
            "tags": []
          },
          "execution_count": 46
        }
      ]
    },
    {
      "cell_type": "code",
      "metadata": {
        "id": "m1U_09Wd0b6b",
        "colab_type": "code",
        "colab": {
          "base_uri": "https://localhost:8080/",
          "height": 111
        },
        "outputId": "63a6d99b-ff72-4175-a900-110e6b1b97c5"
      },
      "source": [
        "siblings = pd.DataFrame(result['siblings'], columns=['name', 'age','pets'])\n",
        "siblings"
      ],
      "execution_count": 47,
      "outputs": [
        {
          "output_type": "execute_result",
          "data": {
            "text/html": [
              "<div>\n",
              "<style scoped>\n",
              "    .dataframe tbody tr th:only-of-type {\n",
              "        vertical-align: middle;\n",
              "    }\n",
              "\n",
              "    .dataframe tbody tr th {\n",
              "        vertical-align: top;\n",
              "    }\n",
              "\n",
              "    .dataframe thead th {\n",
              "        text-align: right;\n",
              "    }\n",
              "</style>\n",
              "<table border=\"1\" class=\"dataframe\">\n",
              "  <thead>\n",
              "    <tr style=\"text-align: right;\">\n",
              "      <th></th>\n",
              "      <th>name</th>\n",
              "      <th>age</th>\n",
              "      <th>pets</th>\n",
              "    </tr>\n",
              "  </thead>\n",
              "  <tbody>\n",
              "    <tr>\n",
              "      <th>0</th>\n",
              "      <td>Scott</td>\n",
              "      <td>30</td>\n",
              "      <td>[Zeus, Zuko]</td>\n",
              "    </tr>\n",
              "    <tr>\n",
              "      <th>1</th>\n",
              "      <td>Katie</td>\n",
              "      <td>38</td>\n",
              "      <td>[Sixes, Stache, Cisco]</td>\n",
              "    </tr>\n",
              "  </tbody>\n",
              "</table>\n",
              "</div>"
            ],
            "text/plain": [
              "    name  age                    pets\n",
              "0  Scott   30            [Zeus, Zuko]\n",
              "1  Katie   38  [Sixes, Stache, Cisco]"
            ]
          },
          "metadata": {
            "tags": []
          },
          "execution_count": 47
        }
      ]
    },
    {
      "cell_type": "code",
      "metadata": {
        "id": "VRIxFm2h0b6f",
        "colab_type": "code",
        "colab": {
          "base_uri": "https://localhost:8080/",
          "height": 68
        },
        "outputId": "c90e3c5a-9ebd-42d0-b30c-9c921c5bf24c"
      },
      "source": [
        "!cat example.json"
      ],
      "execution_count": 48,
      "outputs": [
        {
          "output_type": "stream",
          "text": [
            "[{\"a\": 1, \"b\": 2, \"c\": 3},\n",
            " {\"a\": 4, \"b\": 5, \"c\": 6},\n",
            " {\"a\": 7, \"b\": 8, \"c\": 9}]\n"
          ],
          "name": "stdout"
        }
      ]
    },
    {
      "cell_type": "code",
      "metadata": {
        "id": "lMGHtZ4n0b6h",
        "colab_type": "code",
        "colab": {},
        "outputId": "c1897624-9876-4f94-da23-accf047e3b44"
      },
      "source": [
        "data = pd.read_json('example.json')\n",
        "data"
      ],
      "execution_count": 0,
      "outputs": [
        {
          "output_type": "execute_result",
          "data": {
            "text/html": [
              "<div>\n",
              "<style scoped>\n",
              "    .dataframe tbody tr th:only-of-type {\n",
              "        vertical-align: middle;\n",
              "    }\n",
              "\n",
              "    .dataframe tbody tr th {\n",
              "        vertical-align: top;\n",
              "    }\n",
              "\n",
              "    .dataframe thead th {\n",
              "        text-align: right;\n",
              "    }\n",
              "</style>\n",
              "<table border=\"1\" class=\"dataframe\">\n",
              "  <thead>\n",
              "    <tr style=\"text-align: right;\">\n",
              "      <th></th>\n",
              "      <th>a</th>\n",
              "      <th>b</th>\n",
              "      <th>c</th>\n",
              "    </tr>\n",
              "  </thead>\n",
              "  <tbody>\n",
              "    <tr>\n",
              "      <th>0</th>\n",
              "      <td>1</td>\n",
              "      <td>2</td>\n",
              "      <td>3</td>\n",
              "    </tr>\n",
              "    <tr>\n",
              "      <th>1</th>\n",
              "      <td>4</td>\n",
              "      <td>5</td>\n",
              "      <td>6</td>\n",
              "    </tr>\n",
              "    <tr>\n",
              "      <th>2</th>\n",
              "      <td>7</td>\n",
              "      <td>8</td>\n",
              "      <td>9</td>\n",
              "    </tr>\n",
              "  </tbody>\n",
              "</table>\n",
              "</div>"
            ],
            "text/plain": [
              "   a  b  c\n",
              "0  1  2  3\n",
              "1  4  5  6\n",
              "2  7  8  9"
            ]
          },
          "metadata": {
            "tags": []
          },
          "execution_count": 40
        }
      ]
    },
    {
      "cell_type": "code",
      "metadata": {
        "id": "l19A7Ubx0b6l",
        "colab_type": "code",
        "colab": {
          "base_uri": "https://localhost:8080/",
          "height": 71
        },
        "outputId": "3ad7893c-a02a-4c85-d35f-30f7708d5b23"
      },
      "source": [
        "print(data.to_json())\n",
        "print(data.to_json(orient='records'))"
      ],
      "execution_count": 49,
      "outputs": [
        {
          "output_type": "stream",
          "text": [
            "{\"something\":{\"0\":\"one\",\"1\":\"two\",\"2\":\"three\"},\"a\":{\"0\":1,\"1\":5,\"2\":9},\"b\":{\"0\":2,\"1\":6,\"2\":10},\"c\":{\"0\":3.0,\"1\":null,\"2\":11.0},\"d\":{\"0\":4,\"1\":8,\"2\":12},\"message\":{\"0\":null,\"1\":\"world\",\"2\":\"foo\"}}\n",
            "[{\"something\":\"one\",\"a\":1,\"b\":2,\"c\":3.0,\"d\":4,\"message\":null},{\"something\":\"two\",\"a\":5,\"b\":6,\"c\":null,\"d\":8,\"message\":\"world\"},{\"something\":\"three\",\"a\":9,\"b\":10,\"c\":11.0,\"d\":12,\"message\":\"foo\"}]\n"
          ],
          "name": "stdout"
        }
      ]
    },
    {
      "cell_type": "markdown",
      "metadata": {
        "id": "t5nErr_Y0b6o",
        "colab_type": "text"
      },
      "source": [
        "XML and HTML: Web Scraping"
      ]
    },
    {
      "cell_type": "code",
      "metadata": {
        "id": "S6dHSNYk0b6p",
        "colab_type": "code",
        "colab": {
          "base_uri": "https://localhost:8080/",
          "height": 289
        },
        "outputId": "53b74437-5ebf-433a-ac60-52c72c362ab1"
      },
      "source": [
        "tables = pd.read_html('fdic_failed_bank_list.html')\n",
        "len(tables)\n",
        "failures = tables[0]\n",
        "failures.head()"
      ],
      "execution_count": 50,
      "outputs": [
        {
          "output_type": "execute_result",
          "data": {
            "text/html": [
              "<div>\n",
              "<style scoped>\n",
              "    .dataframe tbody tr th:only-of-type {\n",
              "        vertical-align: middle;\n",
              "    }\n",
              "\n",
              "    .dataframe tbody tr th {\n",
              "        vertical-align: top;\n",
              "    }\n",
              "\n",
              "    .dataframe thead th {\n",
              "        text-align: right;\n",
              "    }\n",
              "</style>\n",
              "<table border=\"1\" class=\"dataframe\">\n",
              "  <thead>\n",
              "    <tr style=\"text-align: right;\">\n",
              "      <th></th>\n",
              "      <th>Bank Name</th>\n",
              "      <th>City</th>\n",
              "      <th>ST</th>\n",
              "      <th>CERT</th>\n",
              "      <th>Acquiring Institution</th>\n",
              "      <th>Closing Date</th>\n",
              "      <th>Updated Date</th>\n",
              "    </tr>\n",
              "  </thead>\n",
              "  <tbody>\n",
              "    <tr>\n",
              "      <th>0</th>\n",
              "      <td>Allied Bank</td>\n",
              "      <td>Mulberry</td>\n",
              "      <td>AR</td>\n",
              "      <td>91</td>\n",
              "      <td>Today's Bank</td>\n",
              "      <td>September 23, 2016</td>\n",
              "      <td>November 17, 2016</td>\n",
              "    </tr>\n",
              "    <tr>\n",
              "      <th>1</th>\n",
              "      <td>The Woodbury Banking Company</td>\n",
              "      <td>Woodbury</td>\n",
              "      <td>GA</td>\n",
              "      <td>11297</td>\n",
              "      <td>United Bank</td>\n",
              "      <td>August 19, 2016</td>\n",
              "      <td>November 17, 2016</td>\n",
              "    </tr>\n",
              "    <tr>\n",
              "      <th>2</th>\n",
              "      <td>First CornerStone Bank</td>\n",
              "      <td>King of Prussia</td>\n",
              "      <td>PA</td>\n",
              "      <td>35312</td>\n",
              "      <td>First-Citizens Bank &amp; Trust Company</td>\n",
              "      <td>May 6, 2016</td>\n",
              "      <td>September 6, 2016</td>\n",
              "    </tr>\n",
              "    <tr>\n",
              "      <th>3</th>\n",
              "      <td>Trust Company Bank</td>\n",
              "      <td>Memphis</td>\n",
              "      <td>TN</td>\n",
              "      <td>9956</td>\n",
              "      <td>The Bank of Fayette County</td>\n",
              "      <td>April 29, 2016</td>\n",
              "      <td>September 6, 2016</td>\n",
              "    </tr>\n",
              "    <tr>\n",
              "      <th>4</th>\n",
              "      <td>North Milwaukee State Bank</td>\n",
              "      <td>Milwaukee</td>\n",
              "      <td>WI</td>\n",
              "      <td>20364</td>\n",
              "      <td>First-Citizens Bank &amp; Trust Company</td>\n",
              "      <td>March 11, 2016</td>\n",
              "      <td>June 16, 2016</td>\n",
              "    </tr>\n",
              "  </tbody>\n",
              "</table>\n",
              "</div>"
            ],
            "text/plain": [
              "                      Bank Name  ...       Updated Date\n",
              "0                   Allied Bank  ...  November 17, 2016\n",
              "1  The Woodbury Banking Company  ...  November 17, 2016\n",
              "2        First CornerStone Bank  ...  September 6, 2016\n",
              "3            Trust Company Bank  ...  September 6, 2016\n",
              "4    North Milwaukee State Bank  ...      June 16, 2016\n",
              "\n",
              "[5 rows x 7 columns]"
            ]
          },
          "metadata": {
            "tags": []
          },
          "execution_count": 50
        }
      ]
    },
    {
      "cell_type": "code",
      "metadata": {
        "id": "km2g9FklCaHT",
        "colab_type": "code",
        "colab": {
          "base_uri": "https://localhost:8080/",
          "height": 255
        },
        "outputId": "190c9c01-b075-4cf1-c9af-eb7df75c9681"
      },
      "source": [
        "tables"
      ],
      "execution_count": 51,
      "outputs": [
        {
          "output_type": "execute_result",
          "data": {
            "text/plain": [
              "[                             Bank Name  ...       Updated Date\n",
              " 0                          Allied Bank  ...  November 17, 2016\n",
              " 1         The Woodbury Banking Company  ...  November 17, 2016\n",
              " 2               First CornerStone Bank  ...  September 6, 2016\n",
              " 3                   Trust Company Bank  ...  September 6, 2016\n",
              " 4           North Milwaukee State Bank  ...      June 16, 2016\n",
              " ..                                 ...  ...                ...\n",
              " 542                 Superior Bank, FSB  ...    August 19, 2014\n",
              " 543                Malta National Bank  ...  November 18, 2002\n",
              " 544    First Alliance Bank & Trust Co.  ...  February 18, 2003\n",
              " 545  National State Bank of Metropolis  ...     March 17, 2005\n",
              " 546                   Bank of Honolulu  ...     March 17, 2005\n",
              " \n",
              " [547 rows x 7 columns]]"
            ]
          },
          "metadata": {
            "tags": []
          },
          "execution_count": 51
        }
      ]
    },
    {
      "cell_type": "code",
      "metadata": {
        "id": "eyEh6mvj0b6v",
        "colab_type": "code",
        "colab": {
          "base_uri": "https://localhost:8080/",
          "height": 221
        },
        "outputId": "15664a0e-d0c6-4aeb-f1bd-7bf048f60cce"
      },
      "source": [
        "close_timestamps = pd.to_datetime(failures['Closing Date'])\n",
        "close_timestamps.dt.year.value_counts()\n",
        "#close_timestamps"
      ],
      "execution_count": 52,
      "outputs": [
        {
          "output_type": "execute_result",
          "data": {
            "text/plain": [
              "2010    157\n",
              "2009    140\n",
              "2011     92\n",
              "2012     51\n",
              "2008     25\n",
              "       ... \n",
              "2004      4\n",
              "2001      4\n",
              "2007      3\n",
              "2003      3\n",
              "2000      2\n",
              "Name: Closing Date, Length: 15, dtype: int64"
            ]
          },
          "metadata": {
            "tags": []
          },
          "execution_count": 52
        }
      ]
    },
    {
      "cell_type": "markdown",
      "metadata": {
        "id": "giQKCCHm0b63",
        "colab_type": "text"
      },
      "source": [
        "# Binary Data Formats"
      ]
    },
    {
      "cell_type": "code",
      "metadata": {
        "id": "OuxbOAtS0b65",
        "colab_type": "code",
        "colab": {}
      },
      "source": [
        "frame = pd.read_csv('ex1.csv')\n",
        "frame\n",
        "frame.to_pickle('frame_pickle')#convert to binary compressed format(pickle)"
      ],
      "execution_count": 0,
      "outputs": []
    },
    {
      "cell_type": "code",
      "metadata": {
        "id": "OzdnO7VA0b7A",
        "colab_type": "code",
        "colab": {
          "base_uri": "https://localhost:8080/",
          "height": 142
        },
        "outputId": "330c9358-4188-4cbd-a7c5-77e0b784be40"
      },
      "source": [
        "pd.read_pickle('frame_pickle')"
      ],
      "execution_count": 54,
      "outputs": [
        {
          "output_type": "execute_result",
          "data": {
            "text/html": [
              "<div>\n",
              "<style scoped>\n",
              "    .dataframe tbody tr th:only-of-type {\n",
              "        vertical-align: middle;\n",
              "    }\n",
              "\n",
              "    .dataframe tbody tr th {\n",
              "        vertical-align: top;\n",
              "    }\n",
              "\n",
              "    .dataframe thead th {\n",
              "        text-align: right;\n",
              "    }\n",
              "</style>\n",
              "<table border=\"1\" class=\"dataframe\">\n",
              "  <thead>\n",
              "    <tr style=\"text-align: right;\">\n",
              "      <th></th>\n",
              "      <th>a</th>\n",
              "      <th>b</th>\n",
              "      <th>c</th>\n",
              "      <th>d</th>\n",
              "      <th>message</th>\n",
              "    </tr>\n",
              "  </thead>\n",
              "  <tbody>\n",
              "    <tr>\n",
              "      <th>0</th>\n",
              "      <td>1</td>\n",
              "      <td>2</td>\n",
              "      <td>3</td>\n",
              "      <td>4</td>\n",
              "      <td>hello</td>\n",
              "    </tr>\n",
              "    <tr>\n",
              "      <th>1</th>\n",
              "      <td>5</td>\n",
              "      <td>6</td>\n",
              "      <td>7</td>\n",
              "      <td>8</td>\n",
              "      <td>world</td>\n",
              "    </tr>\n",
              "    <tr>\n",
              "      <th>2</th>\n",
              "      <td>9</td>\n",
              "      <td>10</td>\n",
              "      <td>11</td>\n",
              "      <td>12</td>\n",
              "      <td>foo</td>\n",
              "    </tr>\n",
              "  </tbody>\n",
              "</table>\n",
              "</div>"
            ],
            "text/plain": [
              "   a   b   c   d message\n",
              "0  1   2   3   4   hello\n",
              "1  5   6   7   8   world\n",
              "2  9  10  11  12     foo"
            ]
          },
          "metadata": {
            "tags": []
          },
          "execution_count": 54
        }
      ]
    },
    {
      "cell_type": "code",
      "metadata": {
        "id": "T4vDtF7C0b7D",
        "colab_type": "code",
        "colab": {
          "base_uri": "https://localhost:8080/",
          "height": 34
        },
        "outputId": "e9fb41e8-2c42-483e-bfbc-7ca0e81e58d3"
      },
      "source": [
        "!rm /frame_pickle"
      ],
      "execution_count": 55,
      "outputs": [
        {
          "output_type": "stream",
          "text": [
            "rm: cannot remove '/frame_pickle': No such file or directory\n"
          ],
          "name": "stdout"
        }
      ]
    },
    {
      "cell_type": "markdown",
      "metadata": {
        "id": "nUIk2QDH0b7N",
        "colab_type": "text"
      },
      "source": [
        "Using HDF5 Format"
      ]
    },
    {
      "cell_type": "code",
      "metadata": {
        "id": "VcdOsEID0b7O",
        "colab_type": "code",
        "colab": {
          "base_uri": "https://localhost:8080/",
          "height": 289
        },
        "outputId": "f27ed8dc-650e-4b91-a857-13ac6e3efc07"
      },
      "source": [
        "frame = pd.DataFrame({'a': np.random.randn(100)})\n",
        "print(frame)\n",
        "store = pd.HDFStore('mydata.h5')\n",
        "store['obj1'] = frame\n",
        "store['obj1_col'] = frame['a']\n",
        "store\n"
      ],
      "execution_count": 56,
      "outputs": [
        {
          "output_type": "stream",
          "text": [
            "           a\n",
            "0  -0.624230\n",
            "1  -0.218139\n",
            "2   1.907147\n",
            "3  -0.581335\n",
            "4  -0.979069\n",
            "..       ...\n",
            "95 -0.677889\n",
            "96  0.475427\n",
            "97  2.319800\n",
            "98  0.108319\n",
            "99 -0.376269\n",
            "\n",
            "[100 rows x 1 columns]\n"
          ],
          "name": "stdout"
        },
        {
          "output_type": "execute_result",
          "data": {
            "text/plain": [
              "<class 'pandas.io.pytables.HDFStore'>\n",
              "File path: mydata.h5"
            ]
          },
          "metadata": {
            "tags": []
          },
          "execution_count": 56
        }
      ]
    },
    {
      "cell_type": "code",
      "metadata": {
        "id": "o2u4xgCC0b7T",
        "colab_type": "code",
        "colab": {},
        "outputId": "4e91e76b-e347-4342-8d47-da5356b96e67"
      },
      "source": [
        "store['obj1']"
      ],
      "execution_count": 0,
      "outputs": [
        {
          "output_type": "execute_result",
          "data": {
            "text/html": [
              "<div>\n",
              "<style scoped>\n",
              "    .dataframe tbody tr th:only-of-type {\n",
              "        vertical-align: middle;\n",
              "    }\n",
              "\n",
              "    .dataframe tbody tr th {\n",
              "        vertical-align: top;\n",
              "    }\n",
              "\n",
              "    .dataframe thead th {\n",
              "        text-align: right;\n",
              "    }\n",
              "</style>\n",
              "<table border=\"1\" class=\"dataframe\">\n",
              "  <thead>\n",
              "    <tr style=\"text-align: right;\">\n",
              "      <th></th>\n",
              "      <th>a</th>\n",
              "    </tr>\n",
              "  </thead>\n",
              "  <tbody>\n",
              "    <tr>\n",
              "      <th>0</th>\n",
              "      <td>1.212260</td>\n",
              "    </tr>\n",
              "    <tr>\n",
              "      <th>1</th>\n",
              "      <td>1.438855</td>\n",
              "    </tr>\n",
              "    <tr>\n",
              "      <th>2</th>\n",
              "      <td>-0.426525</td>\n",
              "    </tr>\n",
              "    <tr>\n",
              "      <th>3</th>\n",
              "      <td>2.774679</td>\n",
              "    </tr>\n",
              "    <tr>\n",
              "      <th>4</th>\n",
              "      <td>1.090206</td>\n",
              "    </tr>\n",
              "    <tr>\n",
              "      <th>...</th>\n",
              "      <td>...</td>\n",
              "    </tr>\n",
              "    <tr>\n",
              "      <th>95</th>\n",
              "      <td>2.261248</td>\n",
              "    </tr>\n",
              "    <tr>\n",
              "      <th>96</th>\n",
              "      <td>-1.936576</td>\n",
              "    </tr>\n",
              "    <tr>\n",
              "      <th>97</th>\n",
              "      <td>0.327743</td>\n",
              "    </tr>\n",
              "    <tr>\n",
              "      <th>98</th>\n",
              "      <td>-0.567130</td>\n",
              "    </tr>\n",
              "    <tr>\n",
              "      <th>99</th>\n",
              "      <td>-1.563750</td>\n",
              "    </tr>\n",
              "  </tbody>\n",
              "</table>\n",
              "<p>100 rows × 1 columns</p>\n",
              "</div>"
            ],
            "text/plain": [
              "           a\n",
              "0   1.212260\n",
              "1   1.438855\n",
              "2  -0.426525\n",
              "3   2.774679\n",
              "4   1.090206\n",
              "..       ...\n",
              "95  2.261248\n",
              "96 -1.936576\n",
              "97  0.327743\n",
              "98 -0.567130\n",
              "99 -1.563750\n",
              "\n",
              "[100 rows x 1 columns]"
            ]
          },
          "metadata": {
            "tags": []
          },
          "execution_count": 143
        }
      ]
    },
    {
      "cell_type": "code",
      "metadata": {
        "id": "dBpi38HM0b7X",
        "colab_type": "code",
        "colab": {}
      },
      "source": [
        "store.put('obj2', frame, format='table')\n",
        "store.select('obj2', where=['index >= 10 and index <= 15'])\n",
        "store.close()"
      ],
      "execution_count": 0,
      "outputs": []
    },
    {
      "cell_type": "code",
      "metadata": {
        "id": "1uaP2z140b7a",
        "colab_type": "code",
        "colab": {
          "base_uri": "https://localhost:8080/",
          "height": 204
        },
        "outputId": "d5212325-430c-4e83-f8f6-305ef77cabe0"
      },
      "source": [
        "frame.to_hdf('mydata.h5', 'obj3', format='table')\n",
        "pd.read_hdf('mydata.h5', 'obj3', where=['index < 5'])"
      ],
      "execution_count": 58,
      "outputs": [
        {
          "output_type": "execute_result",
          "data": {
            "text/html": [
              "<div>\n",
              "<style scoped>\n",
              "    .dataframe tbody tr th:only-of-type {\n",
              "        vertical-align: middle;\n",
              "    }\n",
              "\n",
              "    .dataframe tbody tr th {\n",
              "        vertical-align: top;\n",
              "    }\n",
              "\n",
              "    .dataframe thead th {\n",
              "        text-align: right;\n",
              "    }\n",
              "</style>\n",
              "<table border=\"1\" class=\"dataframe\">\n",
              "  <thead>\n",
              "    <tr style=\"text-align: right;\">\n",
              "      <th></th>\n",
              "      <th>a</th>\n",
              "    </tr>\n",
              "  </thead>\n",
              "  <tbody>\n",
              "    <tr>\n",
              "      <th>0</th>\n",
              "      <td>-0.624230</td>\n",
              "    </tr>\n",
              "    <tr>\n",
              "      <th>1</th>\n",
              "      <td>-0.218139</td>\n",
              "    </tr>\n",
              "    <tr>\n",
              "      <th>2</th>\n",
              "      <td>1.907147</td>\n",
              "    </tr>\n",
              "    <tr>\n",
              "      <th>3</th>\n",
              "      <td>-0.581335</td>\n",
              "    </tr>\n",
              "    <tr>\n",
              "      <th>4</th>\n",
              "      <td>-0.979069</td>\n",
              "    </tr>\n",
              "  </tbody>\n",
              "</table>\n",
              "</div>"
            ],
            "text/plain": [
              "          a\n",
              "0 -0.624230\n",
              "1 -0.218139\n",
              "2  1.907147\n",
              "3 -0.581335\n",
              "4 -0.979069"
            ]
          },
          "metadata": {
            "tags": []
          },
          "execution_count": 58
        }
      ]
    },
    {
      "cell_type": "markdown",
      "metadata": {
        "id": "d5LU22gX0b7f",
        "colab_type": "text"
      },
      "source": [
        "# Web APIs"
      ]
    },
    {
      "cell_type": "code",
      "metadata": {
        "id": "VyMqT3zW0b7f",
        "colab_type": "code",
        "colab": {
          "base_uri": "https://localhost:8080/",
          "height": 34
        },
        "outputId": "0c02a6e5-51ec-49e7-cab1-97610d1d3c11"
      },
      "source": [
        "import requests\n",
        "url = 'https://api.github.com/repos/pandas-dev/pandas/issues'\n",
        "resp = requests.get(url)\n",
        "resp"
      ],
      "execution_count": 60,
      "outputs": [
        {
          "output_type": "execute_result",
          "data": {
            "text/plain": [
              "<Response [200]>"
            ]
          },
          "metadata": {
            "tags": []
          },
          "execution_count": 60
        }
      ]
    },
    {
      "cell_type": "code",
      "metadata": {
        "id": "RWGKtkg10b7i",
        "colab_type": "code",
        "colab": {
          "base_uri": "https://localhost:8080/",
          "height": 323
        },
        "outputId": "efafbd5f-a065-46ee-a475-7eebaf6b26ec"
      },
      "source": [
        "data = resp.json()\n",
        "data[2]['user']"
      ],
      "execution_count": 61,
      "outputs": [
        {
          "output_type": "execute_result",
          "data": {
            "text/plain": [
              "{'avatar_url': 'https://avatars0.githubusercontent.com/u/13399445?v=4',\n",
              " 'events_url': 'https://api.github.com/users/gsganden/events{/privacy}',\n",
              " 'followers_url': 'https://api.github.com/users/gsganden/followers',\n",
              " 'following_url': 'https://api.github.com/users/gsganden/following{/other_user}',\n",
              " 'gists_url': 'https://api.github.com/users/gsganden/gists{/gist_id}',\n",
              " 'gravatar_id': '',\n",
              " 'html_url': 'https://github.com/gsganden',\n",
              " 'id': 13399445,\n",
              " 'login': 'gsganden',\n",
              " 'node_id': 'MDQ6VXNlcjEzMzk5NDQ1',\n",
              " 'organizations_url': 'https://api.github.com/users/gsganden/orgs',\n",
              " 'received_events_url': 'https://api.github.com/users/gsganden/received_events',\n",
              " 'repos_url': 'https://api.github.com/users/gsganden/repos',\n",
              " 'site_admin': False,\n",
              " 'starred_url': 'https://api.github.com/users/gsganden/starred{/owner}{/repo}',\n",
              " 'subscriptions_url': 'https://api.github.com/users/gsganden/subscriptions',\n",
              " 'type': 'User',\n",
              " 'url': 'https://api.github.com/users/gsganden'}"
            ]
          },
          "metadata": {
            "tags": []
          },
          "execution_count": 61
        }
      ]
    },
    {
      "cell_type": "code",
      "metadata": {
        "id": "GtYfqw7tK8gl",
        "colab_type": "code",
        "colab": {
          "base_uri": "https://localhost:8080/",
          "height": 1000
        },
        "outputId": "43efb852-20ab-44a4-da49-19156f89c229"
      },
      "source": [
        "data"
      ],
      "execution_count": 68,
      "outputs": [
        {
          "output_type": "execute_result",
          "data": {
            "text/plain": [
              "[{'assignee': None,\n",
              "  'assignees': [],\n",
              "  'author_association': 'CONTRIBUTOR',\n",
              "  'body': 'If we construct MI with `nan`, and check the `levels`, output does not contain `nan`,\\r\\n```python\\r\\n>>> tuples = [[\"A\", \"B\"], [\"A\", np.nan], [\"B\", \"A\"]]\\r\\n>>> mi = pd.MultiIndex.from_tuples(tuples, names=list(\"ab\"))\\r\\n>>> mi.levels\\r\\nFrozenList([[\\'A\\', \\'B\\'], [\\'A\\', \\'B\\']])\\r\\n```\\r\\n\\r\\nHowever, if the `nan` is gotten by operations, the `nan` is included, e.g.\\r\\n```python\\r\\n>>> l = [[\"a\", np.NaN, 12, 12], [None, \"a\", 12.3, 33.], [\"b\", np.nan, 12.3, 123], [\"a\", \"a\", 1, 1]]\\r\\n>>> df = pd.DataFrame(l, columns=[\"a\", \"b\", \"c\", \"d\"])\\r\\n>>> grouped = df.groupby(by=[\"a\", \"b\"], dropna=False).sum()\\r\\n>>> grouped.index.levels\\r\\nFrozenList([[\\'a\\', \\'b\\', nan], [\\'a\\', nan]])\\r\\n```\\r\\n\\r\\nThis is quite inconsistent though, is it an intended behaviour?',\n",
              "  'closed_at': None,\n",
              "  'comments': 0,\n",
              "  'comments_url': 'https://api.github.com/repos/pandas-dev/pandas/issues/30750/comments',\n",
              "  'created_at': '2020-01-06T18:30:30Z',\n",
              "  'events_url': 'https://api.github.com/repos/pandas-dev/pandas/issues/30750/events',\n",
              "  'html_url': 'https://github.com/pandas-dev/pandas/issues/30750',\n",
              "  'id': 545871615,\n",
              "  'labels': [],\n",
              "  'labels_url': 'https://api.github.com/repos/pandas-dev/pandas/issues/30750/labels{/name}',\n",
              "  'locked': False,\n",
              "  'milestone': None,\n",
              "  'node_id': 'MDU6SXNzdWU1NDU4NzE2MTU=',\n",
              "  'number': 30750,\n",
              "  'repository_url': 'https://api.github.com/repos/pandas-dev/pandas',\n",
              "  'state': 'open',\n",
              "  'title': 'NA is not included in MultiIndex.levels if we construct MI with nan',\n",
              "  'updated_at': '2020-01-06T18:33:18Z',\n",
              "  'url': 'https://api.github.com/repos/pandas-dev/pandas/issues/30750',\n",
              "  'user': {'avatar_url': 'https://avatars0.githubusercontent.com/u/9269816?v=4',\n",
              "   'events_url': 'https://api.github.com/users/charlesdong1991/events{/privacy}',\n",
              "   'followers_url': 'https://api.github.com/users/charlesdong1991/followers',\n",
              "   'following_url': 'https://api.github.com/users/charlesdong1991/following{/other_user}',\n",
              "   'gists_url': 'https://api.github.com/users/charlesdong1991/gists{/gist_id}',\n",
              "   'gravatar_id': '',\n",
              "   'html_url': 'https://github.com/charlesdong1991',\n",
              "   'id': 9269816,\n",
              "   'login': 'charlesdong1991',\n",
              "   'node_id': 'MDQ6VXNlcjkyNjk4MTY=',\n",
              "   'organizations_url': 'https://api.github.com/users/charlesdong1991/orgs',\n",
              "   'received_events_url': 'https://api.github.com/users/charlesdong1991/received_events',\n",
              "   'repos_url': 'https://api.github.com/users/charlesdong1991/repos',\n",
              "   'site_admin': False,\n",
              "   'starred_url': 'https://api.github.com/users/charlesdong1991/starred{/owner}{/repo}',\n",
              "   'subscriptions_url': 'https://api.github.com/users/charlesdong1991/subscriptions',\n",
              "   'type': 'User',\n",
              "   'url': 'https://api.github.com/users/charlesdong1991'}},\n",
              " {'assignee': None,\n",
              "  'assignees': [],\n",
              "  'author_association': 'CONTRIBUTOR',\n",
              "  'body': 'Fixes PR08 errors. When I ran the script, a lot of them seem to be false positives, these are the ones I\\'m pretty sure should be fixed:\\r\\n```\\r\\npandas.infer_freq: Parameter \"index\" description should start with a capital letter\\r\\npandas.MultiIndex.get_loc_level: Parameter \"drop_level\" description should start with a capital letter\\r\\n```\\r\\nRelated to #27977 cc @datapythonista\\r\\n\\r\\n- [ ] closes #xxxx\\r\\n- [ ] tests added / passed\\r\\n- [x] passes `black pandas`\\r\\n- [x] passes `git diff upstream/master -u -- \"*.py\" | flake8 --diff`\\r\\n- [ ] whatsnew entry\\r\\n',\n",
              "  'closed_at': None,\n",
              "  'comments': 0,\n",
              "  'comments_url': 'https://api.github.com/repos/pandas-dev/pandas/issues/30749/comments',\n",
              "  'created_at': '2020-01-06T18:22:38Z',\n",
              "  'events_url': 'https://api.github.com/repos/pandas-dev/pandas/issues/30749/events',\n",
              "  'html_url': 'https://github.com/pandas-dev/pandas/pull/30749',\n",
              "  'id': 545868404,\n",
              "  'labels': [],\n",
              "  'labels_url': 'https://api.github.com/repos/pandas-dev/pandas/issues/30749/labels{/name}',\n",
              "  'locked': False,\n",
              "  'milestone': None,\n",
              "  'node_id': 'MDExOlB1bGxSZXF1ZXN0MzU5NjU1NDM4',\n",
              "  'number': 30749,\n",
              "  'pull_request': {'diff_url': 'https://github.com/pandas-dev/pandas/pull/30749.diff',\n",
              "   'html_url': 'https://github.com/pandas-dev/pandas/pull/30749',\n",
              "   'patch_url': 'https://github.com/pandas-dev/pandas/pull/30749.patch',\n",
              "   'url': 'https://api.github.com/repos/pandas-dev/pandas/pulls/30749'},\n",
              "  'repository_url': 'https://api.github.com/repos/pandas-dev/pandas',\n",
              "  'state': 'open',\n",
              "  'title': 'Fix PR08 errors',\n",
              "  'updated_at': '2020-01-06T18:22:38Z',\n",
              "  'url': 'https://api.github.com/repos/pandas-dev/pandas/issues/30749',\n",
              "  'user': {'avatar_url': 'https://avatars0.githubusercontent.com/u/10180442?v=4',\n",
              "   'events_url': 'https://api.github.com/users/galuhsahid/events{/privacy}',\n",
              "   'followers_url': 'https://api.github.com/users/galuhsahid/followers',\n",
              "   'following_url': 'https://api.github.com/users/galuhsahid/following{/other_user}',\n",
              "   'gists_url': 'https://api.github.com/users/galuhsahid/gists{/gist_id}',\n",
              "   'gravatar_id': '',\n",
              "   'html_url': 'https://github.com/galuhsahid',\n",
              "   'id': 10180442,\n",
              "   'login': 'galuhsahid',\n",
              "   'node_id': 'MDQ6VXNlcjEwMTgwNDQy',\n",
              "   'organizations_url': 'https://api.github.com/users/galuhsahid/orgs',\n",
              "   'received_events_url': 'https://api.github.com/users/galuhsahid/received_events',\n",
              "   'repos_url': 'https://api.github.com/users/galuhsahid/repos',\n",
              "   'site_admin': False,\n",
              "   'starred_url': 'https://api.github.com/users/galuhsahid/starred{/owner}{/repo}',\n",
              "   'subscriptions_url': 'https://api.github.com/users/galuhsahid/subscriptions',\n",
              "   'type': 'User',\n",
              "   'url': 'https://api.github.com/users/galuhsahid'}},\n",
              " {'assignee': None,\n",
              "  'assignees': [],\n",
              "  'author_association': 'NONE',\n",
              "  'body': '#### Code Sample, a copy-pastable example if possible\\r\\n\\r\\n```python\\r\\nimport pandas as pd\\r\\n\\r\\ndf = pd.DataFrame({\"A\": [[1, 2], [3, 4]], \"B\": [\"x\", \"y\"]}, index=[0, 0])\\r\\ndf.explode(\"A\")\\r\\n```\\r\\n\\r\\nOutput:\\r\\n\\r\\n```\\r\\n   A  B\\r\\n0  1  x\\r\\n0  2  x\\r\\n0  3  x\\r\\n0  4  x\\r\\n0  1  y\\r\\n0  2  y\\r\\n0  3  y\\r\\n0  4  y\\r\\n```\\r\\n\\r\\n#### Problem description\\r\\n\\r\\nWe are getting rows with e.g. `A=3` and `B=x`, which never appears in the original data. The `.explode()` method appears to be effectively combining rows with the same index value before splitting them, which is surprising at least to me.\\r\\n\\r\\n#### Expected Output\\r\\n\\r\\n```\\r\\n   A  B\\r\\n0  1  x\\r\\n0  2  x\\r\\n0  3  y\\r\\n0  4  y\\r\\n```\\r\\n\\r\\n#### Output of ``pd.show_versions()``\\r\\n\\r\\n<details>\\r\\n\\r\\nINSTALLED VERSIONS\\r\\n------------------\\r\\ncommit           : None\\r\\npython           : 3.6.9.final.0\\r\\npython-bits      : 64\\r\\nOS               : Linux\\r\\nOS-release       : 4.14.77-70.82.amzn1.x86_64\\r\\nmachine          : x86_64\\r\\nprocessor        : x86_64\\r\\nbyteorder        : little\\r\\nLC_ALL           : C.UTF-8\\r\\nLANG             : None\\r\\nLOCALE           : en_US.UTF-8\\r\\n\\r\\npandas           : 0.25.3\\r\\nnumpy            : 1.17.2\\r\\npytz             : 2019.2\\r\\ndateutil         : 2.8.0\\r\\npip              : 19.3.1\\r\\nsetuptools       : 41.2.0\\r\\nCython           : 0.28.4\\r\\npytest           : 5.2.0\\r\\nhypothesis       : 4.38.1\\r\\nsphinx           : 2.2.0\\r\\nblosc            : None\\r\\nfeather          : None\\r\\nxlsxwriter       : None\\r\\nlxml.etree       : None\\r\\nhtml5lib         : None\\r\\npymysql          : None\\r\\npsycopg2         : 2.7.7 (dt dec pq3 ext lo64)\\r\\njinja2           : 2.10.1\\r\\nIPython          : 7.8.0\\r\\npandas_datareader: None\\r\\nbs4              : 4.8.0\\r\\nbottleneck       : 1.3.1\\r\\nfastparquet      : None\\r\\ngcsfs            : None\\r\\nlxml.etree       : None\\r\\nmatplotlib       : 3.1.1\\r\\nnumexpr          : 2.7.0\\r\\nodfpy            : None\\r\\nopenpyxl         : None\\r\\npandas_gbq       : None\\r\\npyarrow          : 0.15.1\\r\\npytables         : None\\r\\ns3fs             : 0.4.0\\r\\nscipy            : 1.3.1\\r\\nsqlalchemy       : 1.3.10\\r\\ntables           : None\\r\\nxarray           : None\\r\\nxlrd             : None\\r\\nxlwt             : None\\r\\nxlsxwriter       : None\\r\\n\\r\\n\\r\\n</details>\\r\\n',\n",
              "  'closed_at': None,\n",
              "  'comments': 0,\n",
              "  'comments_url': 'https://api.github.com/repos/pandas-dev/pandas/issues/30748/comments',\n",
              "  'created_at': '2020-01-06T18:13:38Z',\n",
              "  'events_url': 'https://api.github.com/repos/pandas-dev/pandas/issues/30748/events',\n",
              "  'html_url': 'https://github.com/pandas-dev/pandas/issues/30748',\n",
              "  'id': 545864558,\n",
              "  'labels': [],\n",
              "  'labels_url': 'https://api.github.com/repos/pandas-dev/pandas/issues/30748/labels{/name}',\n",
              "  'locked': False,\n",
              "  'milestone': None,\n",
              "  'node_id': 'MDU6SXNzdWU1NDU4NjQ1NTg=',\n",
              "  'number': 30748,\n",
              "  'repository_url': 'https://api.github.com/repos/pandas-dev/pandas',\n",
              "  'state': 'open',\n",
              "  'title': '`pandas.DataFrame.explode()` combines rows with repeated index values',\n",
              "  'updated_at': '2020-01-06T18:13:38Z',\n",
              "  'url': 'https://api.github.com/repos/pandas-dev/pandas/issues/30748',\n",
              "  'user': {'avatar_url': 'https://avatars0.githubusercontent.com/u/13399445?v=4',\n",
              "   'events_url': 'https://api.github.com/users/gsganden/events{/privacy}',\n",
              "   'followers_url': 'https://api.github.com/users/gsganden/followers',\n",
              "   'following_url': 'https://api.github.com/users/gsganden/following{/other_user}',\n",
              "   'gists_url': 'https://api.github.com/users/gsganden/gists{/gist_id}',\n",
              "   'gravatar_id': '',\n",
              "   'html_url': 'https://github.com/gsganden',\n",
              "   'id': 13399445,\n",
              "   'login': 'gsganden',\n",
              "   'node_id': 'MDQ6VXNlcjEzMzk5NDQ1',\n",
              "   'organizations_url': 'https://api.github.com/users/gsganden/orgs',\n",
              "   'received_events_url': 'https://api.github.com/users/gsganden/received_events',\n",
              "   'repos_url': 'https://api.github.com/users/gsganden/repos',\n",
              "   'site_admin': False,\n",
              "   'starred_url': 'https://api.github.com/users/gsganden/starred{/owner}{/repo}',\n",
              "   'subscriptions_url': 'https://api.github.com/users/gsganden/subscriptions',\n",
              "   'type': 'User',\n",
              "   'url': 'https://api.github.com/users/gsganden'}},\n",
              " {'assignee': None,\n",
              "  'assignees': [],\n",
              "  'author_association': 'CONTRIBUTOR',\n",
              "  'body': 'Convert to an array earlier on.\\r\\nCloses https://github.com/pandas-dev/pandas/issues/30744',\n",
              "  'closed_at': None,\n",
              "  'comments': 4,\n",
              "  'comments_url': 'https://api.github.com/repos/pandas-dev/pandas/issues/30747/comments',\n",
              "  'created_at': '2020-01-06T17:42:48Z',\n",
              "  'events_url': 'https://api.github.com/repos/pandas-dev/pandas/issues/30747/events',\n",
              "  'html_url': 'https://github.com/pandas-dev/pandas/pull/30747',\n",
              "  'id': 545851201,\n",
              "  'labels': [{'color': 'e11d21',\n",
              "    'default': False,\n",
              "    'description': None,\n",
              "    'id': 78527356,\n",
              "    'name': 'Categorical',\n",
              "    'node_id': 'MDU6TGFiZWw3ODUyNzM1Ng==',\n",
              "    'url': 'https://api.github.com/repos/pandas-dev/pandas/labels/Categorical'},\n",
              "   {'color': '0b02e1',\n",
              "    'default': False,\n",
              "    'description': 'Related to indexing on series/frames, not to indexes themselves',\n",
              "    'id': 2822098,\n",
              "    'name': 'Indexing',\n",
              "    'node_id': 'MDU6TGFiZWwyODIyMDk4',\n",
              "    'url': 'https://api.github.com/repos/pandas-dev/pandas/labels/Indexing'},\n",
              "   {'color': 'a10c02',\n",
              "    'default': False,\n",
              "    'description': None,\n",
              "    'id': 8935311,\n",
              "    'name': 'Performance',\n",
              "    'node_id': 'MDU6TGFiZWw4OTM1MzEx',\n",
              "    'url': 'https://api.github.com/repos/pandas-dev/pandas/labels/Performance'}],\n",
              "  'labels_url': 'https://api.github.com/repos/pandas-dev/pandas/issues/30747/labels{/name}',\n",
              "  'locked': False,\n",
              "  'milestone': {'closed_at': None,\n",
              "   'closed_issues': 1947,\n",
              "   'created_at': '2012-09-13T02:13:00Z',\n",
              "   'creator': {'avatar_url': 'https://avatars2.githubusercontent.com/u/329591?v=4',\n",
              "    'events_url': 'https://api.github.com/users/wesm/events{/privacy}',\n",
              "    'followers_url': 'https://api.github.com/users/wesm/followers',\n",
              "    'following_url': 'https://api.github.com/users/wesm/following{/other_user}',\n",
              "    'gists_url': 'https://api.github.com/users/wesm/gists{/gist_id}',\n",
              "    'gravatar_id': '',\n",
              "    'html_url': 'https://github.com/wesm',\n",
              "    'id': 329591,\n",
              "    'login': 'wesm',\n",
              "    'node_id': 'MDQ6VXNlcjMyOTU5MQ==',\n",
              "    'organizations_url': 'https://api.github.com/users/wesm/orgs',\n",
              "    'received_events_url': 'https://api.github.com/users/wesm/received_events',\n",
              "    'repos_url': 'https://api.github.com/users/wesm/repos',\n",
              "    'site_admin': False,\n",
              "    'starred_url': 'https://api.github.com/users/wesm/starred{/owner}{/repo}',\n",
              "    'subscriptions_url': 'https://api.github.com/users/wesm/subscriptions',\n",
              "    'type': 'User',\n",
              "    'url': 'https://api.github.com/users/wesm'},\n",
              "   'description': '',\n",
              "   'due_on': '2020-02-01T08:00:00Z',\n",
              "   'html_url': 'https://github.com/pandas-dev/pandas/milestone/16',\n",
              "   'id': 174211,\n",
              "   'labels_url': 'https://api.github.com/repos/pandas-dev/pandas/milestones/16/labels',\n",
              "   'node_id': 'MDk6TWlsZXN0b25lMTc0MjEx',\n",
              "   'number': 16,\n",
              "   'open_issues': 44,\n",
              "   'state': 'open',\n",
              "   'title': '1.0',\n",
              "   'updated_at': '2020-01-06T18:11:51Z',\n",
              "   'url': 'https://api.github.com/repos/pandas-dev/pandas/milestones/16'},\n",
              "  'node_id': 'MDExOlB1bGxSZXF1ZXN0MzU5NjQxNTM1',\n",
              "  'number': 30747,\n",
              "  'pull_request': {'diff_url': 'https://github.com/pandas-dev/pandas/pull/30747.diff',\n",
              "   'html_url': 'https://github.com/pandas-dev/pandas/pull/30747',\n",
              "   'patch_url': 'https://github.com/pandas-dev/pandas/pull/30747.patch',\n",
              "   'url': 'https://api.github.com/repos/pandas-dev/pandas/pulls/30747'},\n",
              "  'repository_url': 'https://api.github.com/repos/pandas-dev/pandas',\n",
              "  'state': 'open',\n",
              "  'title': 'PERF: Categorical getitem perf',\n",
              "  'updated_at': '2020-01-06T18:11:51Z',\n",
              "  'url': 'https://api.github.com/repos/pandas-dev/pandas/issues/30747',\n",
              "  'user': {'avatar_url': 'https://avatars3.githubusercontent.com/u/1312546?v=4',\n",
              "   'events_url': 'https://api.github.com/users/TomAugspurger/events{/privacy}',\n",
              "   'followers_url': 'https://api.github.com/users/TomAugspurger/followers',\n",
              "   'following_url': 'https://api.github.com/users/TomAugspurger/following{/other_user}',\n",
              "   'gists_url': 'https://api.github.com/users/TomAugspurger/gists{/gist_id}',\n",
              "   'gravatar_id': '',\n",
              "   'html_url': 'https://github.com/TomAugspurger',\n",
              "   'id': 1312546,\n",
              "   'login': 'TomAugspurger',\n",
              "   'node_id': 'MDQ6VXNlcjEzMTI1NDY=',\n",
              "   'organizations_url': 'https://api.github.com/users/TomAugspurger/orgs',\n",
              "   'received_events_url': 'https://api.github.com/users/TomAugspurger/received_events',\n",
              "   'repos_url': 'https://api.github.com/users/TomAugspurger/repos',\n",
              "   'site_admin': False,\n",
              "   'starred_url': 'https://api.github.com/users/TomAugspurger/starred{/owner}{/repo}',\n",
              "   'subscriptions_url': 'https://api.github.com/users/TomAugspurger/subscriptions',\n",
              "   'type': 'User',\n",
              "   'url': 'https://api.github.com/users/TomAugspurger'}},\n",
              " {'assignee': None,\n",
              "  'assignees': [],\n",
              "  'author_association': 'MEMBER',\n",
              "  'body': '- [X] xref #28822\\r\\n- [ ] tests added / passed\\r\\n- [X] passes `black pandas`\\r\\n- [X] passes `git diff upstream/master -u -- \"*.py\" | flake8 --diff`\\r\\n- [ ] whatsnew entry\\r\\n\\r\\nWe moved our script to numpydoc, and it already had some improvements there. The script does like 80% of our validation, so what I\\'m doing here is to call numpydoc validation, and then call our custom validation (things that for different reasons weren\\'t moved to numpydoc).\\r\\n\\r\\nThis is working and ready for review, but I\\'ll still perform some manual tests before it\\'s merged.',\n",
              "  'closed_at': None,\n",
              "  'comments': 0,\n",
              "  'comments_url': 'https://api.github.com/repos/pandas-dev/pandas/issues/30746/comments',\n",
              "  'created_at': '2020-01-06T17:32:37Z',\n",
              "  'events_url': 'https://api.github.com/repos/pandas-dev/pandas/issues/30746/events',\n",
              "  'html_url': 'https://github.com/pandas-dev/pandas/pull/30746',\n",
              "  'id': 545846834,\n",
              "  'labels': [{'color': 'a2bca7',\n",
              "    'default': False,\n",
              "    'description': None,\n",
              "    'id': 48070600,\n",
              "    'name': 'CI',\n",
              "    'node_id': 'MDU6TGFiZWw0ODA3MDYwMA==',\n",
              "    'url': 'https://api.github.com/repos/pandas-dev/pandas/labels/CI'},\n",
              "   {'color': '3465A4',\n",
              "    'default': False,\n",
              "    'description': None,\n",
              "    'id': 134699,\n",
              "    'name': 'Docs',\n",
              "    'node_id': 'MDU6TGFiZWwxMzQ2OTk=',\n",
              "    'url': 'https://api.github.com/repos/pandas-dev/pandas/labels/Docs'}],\n",
              "  'labels_url': 'https://api.github.com/repos/pandas-dev/pandas/issues/30746/labels{/name}',\n",
              "  'locked': False,\n",
              "  'milestone': None,\n",
              "  'node_id': 'MDExOlB1bGxSZXF1ZXN0MzU5NjM4MDAw',\n",
              "  'number': 30746,\n",
              "  'pull_request': {'diff_url': 'https://github.com/pandas-dev/pandas/pull/30746.diff',\n",
              "   'html_url': 'https://github.com/pandas-dev/pandas/pull/30746',\n",
              "   'patch_url': 'https://github.com/pandas-dev/pandas/pull/30746.patch',\n",
              "   'url': 'https://api.github.com/repos/pandas-dev/pandas/pulls/30746'},\n",
              "  'repository_url': 'https://api.github.com/repos/pandas-dev/pandas',\n",
              "  'state': 'open',\n",
              "  'title': 'WIP: Using docstring validator from numpydoc',\n",
              "  'updated_at': '2020-01-06T17:32:37Z',\n",
              "  'url': 'https://api.github.com/repos/pandas-dev/pandas/issues/30746',\n",
              "  'user': {'avatar_url': 'https://avatars2.githubusercontent.com/u/10058240?v=4',\n",
              "   'events_url': 'https://api.github.com/users/datapythonista/events{/privacy}',\n",
              "   'followers_url': 'https://api.github.com/users/datapythonista/followers',\n",
              "   'following_url': 'https://api.github.com/users/datapythonista/following{/other_user}',\n",
              "   'gists_url': 'https://api.github.com/users/datapythonista/gists{/gist_id}',\n",
              "   'gravatar_id': '',\n",
              "   'html_url': 'https://github.com/datapythonista',\n",
              "   'id': 10058240,\n",
              "   'login': 'datapythonista',\n",
              "   'node_id': 'MDQ6VXNlcjEwMDU4MjQw',\n",
              "   'organizations_url': 'https://api.github.com/users/datapythonista/orgs',\n",
              "   'received_events_url': 'https://api.github.com/users/datapythonista/received_events',\n",
              "   'repos_url': 'https://api.github.com/users/datapythonista/repos',\n",
              "   'site_admin': False,\n",
              "   'starred_url': 'https://api.github.com/users/datapythonista/starred{/owner}{/repo}',\n",
              "   'subscriptions_url': 'https://api.github.com/users/datapythonista/subscriptions',\n",
              "   'type': 'User',\n",
              "   'url': 'https://api.github.com/users/datapythonista'}},\n",
              " {'assignee': None,\n",
              "  'assignees': [],\n",
              "  'author_association': 'CONTRIBUTOR',\n",
              "  'body': \"Closes https://github.com/pandas-dev/pandas/issues/30735\\r\\n\\r\\nThis avoids using _DeprecatedModule, which doesn't work for\\r\\ndirect imports from a module. Sorry for the importlib magic, but\\r\\nI think this is the correct way to do things.\\r\\n\\r\\ncc @jorisvandenbossche.\",\n",
              "  'closed_at': None,\n",
              "  'comments': 0,\n",
              "  'comments_url': 'https://api.github.com/repos/pandas-dev/pandas/issues/30745/comments',\n",
              "  'created_at': '2020-01-06T16:50:02Z',\n",
              "  'events_url': 'https://api.github.com/repos/pandas-dev/pandas/issues/30745/events',\n",
              "  'html_url': 'https://github.com/pandas-dev/pandas/pull/30745',\n",
              "  'id': 545827283,\n",
              "  'labels': [],\n",
              "  'labels_url': 'https://api.github.com/repos/pandas-dev/pandas/issues/30745/labels{/name}',\n",
              "  'locked': False,\n",
              "  'milestone': None,\n",
              "  'node_id': 'MDExOlB1bGxSZXF1ZXN0MzU5NjIyNjE3',\n",
              "  'number': 30745,\n",
              "  'pull_request': {'diff_url': 'https://github.com/pandas-dev/pandas/pull/30745.diff',\n",
              "   'html_url': 'https://github.com/pandas-dev/pandas/pull/30745',\n",
              "   'patch_url': 'https://github.com/pandas-dev/pandas/pull/30745.patch',\n",
              "   'url': 'https://api.github.com/repos/pandas-dev/pandas/pulls/30745'},\n",
              "  'repository_url': 'https://api.github.com/repos/pandas-dev/pandas',\n",
              "  'state': 'open',\n",
              "  'title': 'DEPR/REGR: Fix pandas.util.testing deprecation',\n",
              "  'updated_at': '2020-01-06T17:35:52Z',\n",
              "  'url': 'https://api.github.com/repos/pandas-dev/pandas/issues/30745',\n",
              "  'user': {'avatar_url': 'https://avatars3.githubusercontent.com/u/1312546?v=4',\n",
              "   'events_url': 'https://api.github.com/users/TomAugspurger/events{/privacy}',\n",
              "   'followers_url': 'https://api.github.com/users/TomAugspurger/followers',\n",
              "   'following_url': 'https://api.github.com/users/TomAugspurger/following{/other_user}',\n",
              "   'gists_url': 'https://api.github.com/users/TomAugspurger/gists{/gist_id}',\n",
              "   'gravatar_id': '',\n",
              "   'html_url': 'https://github.com/TomAugspurger',\n",
              "   'id': 1312546,\n",
              "   'login': 'TomAugspurger',\n",
              "   'node_id': 'MDQ6VXNlcjEzMTI1NDY=',\n",
              "   'organizations_url': 'https://api.github.com/users/TomAugspurger/orgs',\n",
              "   'received_events_url': 'https://api.github.com/users/TomAugspurger/received_events',\n",
              "   'repos_url': 'https://api.github.com/users/TomAugspurger/repos',\n",
              "   'site_admin': False,\n",
              "   'starred_url': 'https://api.github.com/users/TomAugspurger/starred{/owner}{/repo}',\n",
              "   'subscriptions_url': 'https://api.github.com/users/TomAugspurger/subscriptions',\n",
              "   'type': 'User',\n",
              "   'url': 'https://api.github.com/users/TomAugspurger'}},\n",
              " {'assignee': None,\n",
              "  'assignees': [],\n",
              "  'author_association': 'MEMBER',\n",
              "  'body': 'Recent regression in the `categoricals.CategoricalSlicing.time_getitem_list` benchmark: https://pandas.pydata.org/speed/pandas/#categoricals.CategoricalSlicing.time_getitem_list?commits=6efc2379-b9de33e3\\r\\n\\r\\nReproducible example for this benchmark:\\r\\n\\r\\n```\\r\\nN = 10 ** 6\\r\\ncategories = [\"a\", \"b\", \"c\"]\\r\\nvalues = [0] * N + [1] * N + [2] * N\\r\\ndata = pd.Categorical.from_codes(values, categories=categories)\\r\\n\\r\\nlist_ = list(range(10000))\\r\\n\\r\\n%timeit data[list_]\\r\\n```\\r\\n\\r\\nNow, this slowdown is due to the changes in https://github.com/pandas-dev/pandas/pull/30308. Categorical `__getitem__` now checks if the key is a boolean indexer: https://github.com/pandas-dev/pandas/pull/30308/files#diff-f3b2ea15ba728b55cab4a1acd97d996d\\r\\n\\r\\nSo this slowdown is of course expected, and also only for Categorical itself (eg pd.Series indexing already handles this boolean checking). So in that light, we can certainly ignore this regression. \\r\\nBut, this led me think: maybe the ExtensionArrays are a good place to start not supporting object dtype as boolean indexer? (and so not add support for it now, which also avoids this performance regression)',\n",
              "  'closed_at': None,\n",
              "  'comments': 2,\n",
              "  'comments_url': 'https://api.github.com/repos/pandas-dev/pandas/issues/30744/comments',\n",
              "  'created_at': '2020-01-06T16:28:56Z',\n",
              "  'events_url': 'https://api.github.com/repos/pandas-dev/pandas/issues/30744/events',\n",
              "  'html_url': 'https://github.com/pandas-dev/pandas/issues/30744',\n",
              "  'id': 545817005,\n",
              "  'labels': [{'color': 'a10c02',\n",
              "    'default': False,\n",
              "    'description': None,\n",
              "    'id': 8935311,\n",
              "    'name': 'Performance',\n",
              "    'node_id': 'MDU6TGFiZWw4OTM1MzEx',\n",
              "    'url': 'https://api.github.com/repos/pandas-dev/pandas/labels/Performance'}],\n",
              "  'labels_url': 'https://api.github.com/repos/pandas-dev/pandas/issues/30744/labels{/name}',\n",
              "  'locked': False,\n",
              "  'milestone': {'closed_at': None,\n",
              "   'closed_issues': 1947,\n",
              "   'created_at': '2012-09-13T02:13:00Z',\n",
              "   'creator': {'avatar_url': 'https://avatars2.githubusercontent.com/u/329591?v=4',\n",
              "    'events_url': 'https://api.github.com/users/wesm/events{/privacy}',\n",
              "    'followers_url': 'https://api.github.com/users/wesm/followers',\n",
              "    'following_url': 'https://api.github.com/users/wesm/following{/other_user}',\n",
              "    'gists_url': 'https://api.github.com/users/wesm/gists{/gist_id}',\n",
              "    'gravatar_id': '',\n",
              "    'html_url': 'https://github.com/wesm',\n",
              "    'id': 329591,\n",
              "    'login': 'wesm',\n",
              "    'node_id': 'MDQ6VXNlcjMyOTU5MQ==',\n",
              "    'organizations_url': 'https://api.github.com/users/wesm/orgs',\n",
              "    'received_events_url': 'https://api.github.com/users/wesm/received_events',\n",
              "    'repos_url': 'https://api.github.com/users/wesm/repos',\n",
              "    'site_admin': False,\n",
              "    'starred_url': 'https://api.github.com/users/wesm/starred{/owner}{/repo}',\n",
              "    'subscriptions_url': 'https://api.github.com/users/wesm/subscriptions',\n",
              "    'type': 'User',\n",
              "    'url': 'https://api.github.com/users/wesm'},\n",
              "   'description': '',\n",
              "   'due_on': '2020-02-01T08:00:00Z',\n",
              "   'html_url': 'https://github.com/pandas-dev/pandas/milestone/16',\n",
              "   'id': 174211,\n",
              "   'labels_url': 'https://api.github.com/repos/pandas-dev/pandas/milestones/16/labels',\n",
              "   'node_id': 'MDk6TWlsZXN0b25lMTc0MjEx',\n",
              "   'number': 16,\n",
              "   'open_issues': 44,\n",
              "   'state': 'open',\n",
              "   'title': '1.0',\n",
              "   'updated_at': '2020-01-06T18:11:51Z',\n",
              "   'url': 'https://api.github.com/repos/pandas-dev/pandas/milestones/16'},\n",
              "  'node_id': 'MDU6SXNzdWU1NDU4MTcwMDU=',\n",
              "  'number': 30744,\n",
              "  'repository_url': 'https://api.github.com/repos/pandas-dev/pandas',\n",
              "  'state': 'open',\n",
              "  'title': 'PERF: Categorical indexing performance regression',\n",
              "  'updated_at': '2020-01-06T18:11:26Z',\n",
              "  'url': 'https://api.github.com/repos/pandas-dev/pandas/issues/30744',\n",
              "  'user': {'avatar_url': 'https://avatars2.githubusercontent.com/u/1020496?v=4',\n",
              "   'events_url': 'https://api.github.com/users/jorisvandenbossche/events{/privacy}',\n",
              "   'followers_url': 'https://api.github.com/users/jorisvandenbossche/followers',\n",
              "   'following_url': 'https://api.github.com/users/jorisvandenbossche/following{/other_user}',\n",
              "   'gists_url': 'https://api.github.com/users/jorisvandenbossche/gists{/gist_id}',\n",
              "   'gravatar_id': '',\n",
              "   'html_url': 'https://github.com/jorisvandenbossche',\n",
              "   'id': 1020496,\n",
              "   'login': 'jorisvandenbossche',\n",
              "   'node_id': 'MDQ6VXNlcjEwMjA0OTY=',\n",
              "   'organizations_url': 'https://api.github.com/users/jorisvandenbossche/orgs',\n",
              "   'received_events_url': 'https://api.github.com/users/jorisvandenbossche/received_events',\n",
              "   'repos_url': 'https://api.github.com/users/jorisvandenbossche/repos',\n",
              "   'site_admin': False,\n",
              "   'starred_url': 'https://api.github.com/users/jorisvandenbossche/starred{/owner}{/repo}',\n",
              "   'subscriptions_url': 'https://api.github.com/users/jorisvandenbossche/subscriptions',\n",
              "   'type': 'User',\n",
              "   'url': 'https://api.github.com/users/jorisvandenbossche'}},\n",
              " {'assignee': None,\n",
              "  'assignees': [],\n",
              "  'author_association': 'CONTRIBUTOR',\n",
              "  'body': 'Currently we do not support multi row inserts into sqlite databases\\r\\nwhen `to_sql` is passed `method=\"multi\"` - despite the documentation\\r\\nsuggesting that this is supported.\\r\\n\\r\\nAdding support for this is straightforward - it only needs us\\r\\nto implement a single method on the SQLiteTable class and so\\r\\nthis PR does just that.\\r\\n\\r\\n- [x] closes #29921\\r\\n- [x] tests added / passed\\r\\n- [x] passes `black pandas`\\r\\n- [x] passes `git diff upstream/master -u -- \"*.py\" | flake8 --diff`\\r\\n- [x] whatsnew entry\\r\\n',\n",
              "  'closed_at': None,\n",
              "  'comments': 0,\n",
              "  'comments_url': 'https://api.github.com/repos/pandas-dev/pandas/issues/30743/comments',\n",
              "  'created_at': '2020-01-06T16:17:46Z',\n",
              "  'events_url': 'https://api.github.com/repos/pandas-dev/pandas/issues/30743/events',\n",
              "  'html_url': 'https://github.com/pandas-dev/pandas/pull/30743',\n",
              "  'id': 545811398,\n",
              "  'labels': [],\n",
              "  'labels_url': 'https://api.github.com/repos/pandas-dev/pandas/issues/30743/labels{/name}',\n",
              "  'locked': False,\n",
              "  'milestone': None,\n",
              "  'node_id': 'MDExOlB1bGxSZXF1ZXN0MzU5NjA5OTE0',\n",
              "  'number': 30743,\n",
              "  'pull_request': {'diff_url': 'https://github.com/pandas-dev/pandas/pull/30743.diff',\n",
              "   'html_url': 'https://github.com/pandas-dev/pandas/pull/30743',\n",
              "   'patch_url': 'https://github.com/pandas-dev/pandas/pull/30743.patch',\n",
              "   'url': 'https://api.github.com/repos/pandas-dev/pandas/pulls/30743'},\n",
              "  'repository_url': 'https://api.github.com/repos/pandas-dev/pandas',\n",
              "  'state': 'open',\n",
              "  'title': 'ENH: Support multi row inserts in to_sql when using the sqlite fallback',\n",
              "  'updated_at': '2020-01-06T16:27:43Z',\n",
              "  'url': 'https://api.github.com/repos/pandas-dev/pandas/issues/30743',\n",
              "  'user': {'avatar_url': 'https://avatars2.githubusercontent.com/u/950457?v=4',\n",
              "   'events_url': 'https://api.github.com/users/simongibbons/events{/privacy}',\n",
              "   'followers_url': 'https://api.github.com/users/simongibbons/followers',\n",
              "   'following_url': 'https://api.github.com/users/simongibbons/following{/other_user}',\n",
              "   'gists_url': 'https://api.github.com/users/simongibbons/gists{/gist_id}',\n",
              "   'gravatar_id': '',\n",
              "   'html_url': 'https://github.com/simongibbons',\n",
              "   'id': 950457,\n",
              "   'login': 'simongibbons',\n",
              "   'node_id': 'MDQ6VXNlcjk1MDQ1Nw==',\n",
              "   'organizations_url': 'https://api.github.com/users/simongibbons/orgs',\n",
              "   'received_events_url': 'https://api.github.com/users/simongibbons/received_events',\n",
              "   'repos_url': 'https://api.github.com/users/simongibbons/repos',\n",
              "   'site_admin': False,\n",
              "   'starred_url': 'https://api.github.com/users/simongibbons/starred{/owner}{/repo}',\n",
              "   'subscriptions_url': 'https://api.github.com/users/simongibbons/subscriptions',\n",
              "   'type': 'User',\n",
              "   'url': 'https://api.github.com/users/simongibbons'}},\n",
              " {'assignee': None,\n",
              "  'assignees': [],\n",
              "  'author_association': 'MEMBER',\n",
              "  'body': \"Master:\\r\\n\\r\\n```\\r\\nIn [14]: idx = pd.interval_range(0, 1000, 1000) \\r\\n\\r\\nIn [15]: %timeit getattr(idx, '_ndarray_values', idx)\\r\\n1.29 ms ± 30.6 µs per loop (mean ± std. dev. of 7 runs, 1000 loops each)\\r\\n\\r\\nIn [16]: %timeit idx.closed\\r\\n321 ns ± 2.66 ns per loop (mean ± std. dev. of 7 runs, 1000000 loops each)\\r\\n```\\r\\n\\r\\nwhile on 0.25.3:\\r\\n\\r\\n```\\r\\nIn [13]: idx = pd.interval_range(0, 1000, 1000) \\r\\n\\r\\nIn [14]: %timeit getattr(idx, '_ndarray_values', idx)  \\r\\n90.5 ns ± 2.09 ns per loop (mean ± std. dev. of 7 runs, 10000000 loops each)\\r\\n\\r\\nIn [15]: %timeit idx.closed \\r\\n105 ns ± 1.61 ns per loop (mean ± std. dev. of 7 runs, 10000000 loops each)\\r\\n```\\r\\n\\r\\n(just checked a few attributes, didn't check if it is related to those specific ones or getattr in general)\\r\\n\\r\\nI think this is a cause / one of the causes of several regressions that can currently be seen at https://pandas.pydata.org/speed/pandas/ (eg https://pandas.pydata.org/speed/pandas/#reshape.Cut.time_cut_timedelta?p-bins=1000&commits=6efc2379-b9de33e3)\",\n",
              "  'closed_at': None,\n",
              "  'comments': 3,\n",
              "  'comments_url': 'https://api.github.com/repos/pandas-dev/pandas/issues/30742/comments',\n",
              "  'created_at': '2020-01-06T15:30:03Z',\n",
              "  'events_url': 'https://api.github.com/repos/pandas-dev/pandas/issues/30742/events',\n",
              "  'html_url': 'https://github.com/pandas-dev/pandas/issues/30742',\n",
              "  'id': 545786689,\n",
              "  'labels': [{'color': '009800',\n",
              "    'default': False,\n",
              "    'description': None,\n",
              "    'id': 150096370,\n",
              "    'name': 'Interval',\n",
              "    'node_id': 'MDU6TGFiZWwxNTAwOTYzNzA=',\n",
              "    'url': 'https://api.github.com/repos/pandas-dev/pandas/labels/Interval'},\n",
              "   {'color': 'a10c02',\n",
              "    'default': False,\n",
              "    'description': None,\n",
              "    'id': 8935311,\n",
              "    'name': 'Performance',\n",
              "    'node_id': 'MDU6TGFiZWw4OTM1MzEx',\n",
              "    'url': 'https://api.github.com/repos/pandas-dev/pandas/labels/Performance'}],\n",
              "  'labels_url': 'https://api.github.com/repos/pandas-dev/pandas/issues/30742/labels{/name}',\n",
              "  'locked': False,\n",
              "  'milestone': {'closed_at': None,\n",
              "   'closed_issues': 1947,\n",
              "   'created_at': '2012-09-13T02:13:00Z',\n",
              "   'creator': {'avatar_url': 'https://avatars2.githubusercontent.com/u/329591?v=4',\n",
              "    'events_url': 'https://api.github.com/users/wesm/events{/privacy}',\n",
              "    'followers_url': 'https://api.github.com/users/wesm/followers',\n",
              "    'following_url': 'https://api.github.com/users/wesm/following{/other_user}',\n",
              "    'gists_url': 'https://api.github.com/users/wesm/gists{/gist_id}',\n",
              "    'gravatar_id': '',\n",
              "    'html_url': 'https://github.com/wesm',\n",
              "    'id': 329591,\n",
              "    'login': 'wesm',\n",
              "    'node_id': 'MDQ6VXNlcjMyOTU5MQ==',\n",
              "    'organizations_url': 'https://api.github.com/users/wesm/orgs',\n",
              "    'received_events_url': 'https://api.github.com/users/wesm/received_events',\n",
              "    'repos_url': 'https://api.github.com/users/wesm/repos',\n",
              "    'site_admin': False,\n",
              "    'starred_url': 'https://api.github.com/users/wesm/starred{/owner}{/repo}',\n",
              "    'subscriptions_url': 'https://api.github.com/users/wesm/subscriptions',\n",
              "    'type': 'User',\n",
              "    'url': 'https://api.github.com/users/wesm'},\n",
              "   'description': '',\n",
              "   'due_on': '2020-02-01T08:00:00Z',\n",
              "   'html_url': 'https://github.com/pandas-dev/pandas/milestone/16',\n",
              "   'id': 174211,\n",
              "   'labels_url': 'https://api.github.com/repos/pandas-dev/pandas/milestones/16/labels',\n",
              "   'node_id': 'MDk6TWlsZXN0b25lMTc0MjEx',\n",
              "   'number': 16,\n",
              "   'open_issues': 44,\n",
              "   'state': 'open',\n",
              "   'title': '1.0',\n",
              "   'updated_at': '2020-01-06T18:11:51Z',\n",
              "   'url': 'https://api.github.com/repos/pandas-dev/pandas/milestones/16'},\n",
              "  'node_id': 'MDU6SXNzdWU1NDU3ODY2ODk=',\n",
              "  'number': 30742,\n",
              "  'repository_url': 'https://api.github.com/repos/pandas-dev/pandas',\n",
              "  'state': 'open',\n",
              "  'title': 'PERF: regression in getattr for IntervalIndex',\n",
              "  'updated_at': '2020-01-06T16:11:04Z',\n",
              "  'url': 'https://api.github.com/repos/pandas-dev/pandas/issues/30742',\n",
              "  'user': {'avatar_url': 'https://avatars2.githubusercontent.com/u/1020496?v=4',\n",
              "   'events_url': 'https://api.github.com/users/jorisvandenbossche/events{/privacy}',\n",
              "   'followers_url': 'https://api.github.com/users/jorisvandenbossche/followers',\n",
              "   'following_url': 'https://api.github.com/users/jorisvandenbossche/following{/other_user}',\n",
              "   'gists_url': 'https://api.github.com/users/jorisvandenbossche/gists{/gist_id}',\n",
              "   'gravatar_id': '',\n",
              "   'html_url': 'https://github.com/jorisvandenbossche',\n",
              "   'id': 1020496,\n",
              "   'login': 'jorisvandenbossche',\n",
              "   'node_id': 'MDQ6VXNlcjEwMjA0OTY=',\n",
              "   'organizations_url': 'https://api.github.com/users/jorisvandenbossche/orgs',\n",
              "   'received_events_url': 'https://api.github.com/users/jorisvandenbossche/received_events',\n",
              "   'repos_url': 'https://api.github.com/users/jorisvandenbossche/repos',\n",
              "   'site_admin': False,\n",
              "   'starred_url': 'https://api.github.com/users/jorisvandenbossche/starred{/owner}{/repo}',\n",
              "   'subscriptions_url': 'https://api.github.com/users/jorisvandenbossche/subscriptions',\n",
              "   'type': 'User',\n",
              "   'url': 'https://api.github.com/users/jorisvandenbossche'}},\n",
              " {'assignee': None,\n",
              "  'assignees': [],\n",
              "  'author_association': 'CONTRIBUTOR',\n",
              "  'body': 'Would it make sense to remove `tests` folder from the pandas distribution? It takes roughly 33% of the whole package weight. \\r\\n\\r\\nIt is especially important when using pandas inside the AWS Lambdas, where the deployment package size is limited to 50 MB zipped and 5 MB might really make a difference.\\r\\n\\r\\n```\\r\\n# Uncompressed\\r\\ndu -h -s pandas*\\r\\n 46.5M\\tpandas\\r\\n 30.9M\\tpandas_no_tests\\r\\n\\r\\n# Compressed\\r\\ndu -h -s pandas*\\r\\n 14.7M\\tpandas.zip\\r\\n 10.1M\\tpandas_no_tests.zip\\r\\n```',\n",
              "  'closed_at': None,\n",
              "  'comments': 1,\n",
              "  'comments_url': 'https://api.github.com/repos/pandas-dev/pandas/issues/30741/comments',\n",
              "  'created_at': '2020-01-06T15:25:40Z',\n",
              "  'events_url': 'https://api.github.com/repos/pandas-dev/pandas/issues/30741/events',\n",
              "  'html_url': 'https://github.com/pandas-dev/pandas/issues/30741',\n",
              "  'id': 545784547,\n",
              "  'labels': [],\n",
              "  'labels_url': 'https://api.github.com/repos/pandas-dev/pandas/issues/30741/labels{/name}',\n",
              "  'locked': False,\n",
              "  'milestone': None,\n",
              "  'node_id': 'MDU6SXNzdWU1NDU3ODQ1NDc=',\n",
              "  'number': 30741,\n",
              "  'repository_url': 'https://api.github.com/repos/pandas-dev/pandas',\n",
              "  'state': 'open',\n",
              "  'title': 'Suggestion: remove tests from the distribution',\n",
              "  'updated_at': '2020-01-06T15:45:16Z',\n",
              "  'url': 'https://api.github.com/repos/pandas-dev/pandas/issues/30741',\n",
              "  'user': {'avatar_url': 'https://avatars2.githubusercontent.com/u/1324881?v=4',\n",
              "   'events_url': 'https://api.github.com/users/vfilimonov/events{/privacy}',\n",
              "   'followers_url': 'https://api.github.com/users/vfilimonov/followers',\n",
              "   'following_url': 'https://api.github.com/users/vfilimonov/following{/other_user}',\n",
              "   'gists_url': 'https://api.github.com/users/vfilimonov/gists{/gist_id}',\n",
              "   'gravatar_id': '',\n",
              "   'html_url': 'https://github.com/vfilimonov',\n",
              "   'id': 1324881,\n",
              "   'login': 'vfilimonov',\n",
              "   'node_id': 'MDQ6VXNlcjEzMjQ4ODE=',\n",
              "   'organizations_url': 'https://api.github.com/users/vfilimonov/orgs',\n",
              "   'received_events_url': 'https://api.github.com/users/vfilimonov/received_events',\n",
              "   'repos_url': 'https://api.github.com/users/vfilimonov/repos',\n",
              "   'site_admin': False,\n",
              "   'starred_url': 'https://api.github.com/users/vfilimonov/starred{/owner}{/repo}',\n",
              "   'subscriptions_url': 'https://api.github.com/users/vfilimonov/subscriptions',\n",
              "   'type': 'User',\n",
              "   'url': 'https://api.github.com/users/vfilimonov'}},\n",
              " {'assignee': None,\n",
              "  'assignees': [],\n",
              "  'author_association': 'MEMBER',\n",
              "  'body': '#### Code Sample, a copy-pastable example if possible\\r\\n\\r\\n```python\\r\\n>>> import pandas as pd\\r\\n>>> df = (\\r\\n...     pd.DataFrame(\\r\\n...         {\\r\\n...             \"name\": [\"Alice\", \"Bob\"],\\r\\n...             \"score\": [9.5, 8],\\r\\n...             \"employed\": [False, True],\\r\\n...             \"kids\": [0, 0],\\r\\n...             \"gender\": [\"female\", \"male\"],\\r\\n...         }\\r\\n...     )\\r\\n...     .set_index([\"name\", \"employed\", \"kids\", \"gender\"])\\r\\n...     .unstack([\"gender\"], fill_value=0)\\r\\n... )\\r\\n>>> df.unstack([\"employed\", \"kids\"], fill_value=0)\\r\\n          score\\r\\ngender   female        male\\r\\nemployed  False True  False True\\r\\nkids          0     0     0     0\\r\\nname\\r\\nAlice       9.5   NaN   0.0   NaN\\r\\nBob         NaN   0.0   NaN   8.0\\r\\n```\\r\\n#### Problem description\\r\\n\\r\\nwhen unstacking with a list of levels on a DataFrame that already has a columns MultiIndex, fill_value is ignored.\\r\\n\\r\\n#### Expected Output\\r\\n\\r\\n```python\\r\\n>>> df.unstack(\"employed\", fill_value=0).unstack(\"kids\", fill_value=0)\\r\\n          score\\r\\ngender   female        male\\r\\nemployed  False True  False True\\r\\nkids          0     0     0     0\\r\\nname\\r\\nAlice       9.5   0.0   0.0   0.0\\r\\nBob         0.0   0.0   0.0   8.0\\r\\n>>>\\r\\n```\\r\\n#### Output of ``pd.show_versions()``\\r\\n\\r\\n<details>\\r\\n\\r\\nINSTALLED VERSIONS\\r\\n------------------\\r\\ncommit           : 4206fd42cc5cd20204c0c5f192f7e59f204ad48d\\r\\npython           : 3.7.5.final.0\\r\\npython-bits      : 64\\r\\nOS               : Windows\\r\\nOS-release       : 10\\r\\nmachine          : AMD64\\r\\nprocessor        : Intel64 Family 6 Model 58 Stepping 9, GenuineIntel\\r\\nbyteorder        : little\\r\\nLC_ALL           : None\\r\\nLANG             : en_GB.UTF-8\\r\\nLOCALE           : None.None\\r\\n\\r\\npandas           : 0.26.0.dev0+1622.g4206fd42c\\r\\nnumpy            : 1.17.2\\r\\npytz             : 2019.3\\r\\ndateutil         : 2.8.0\\r\\npip              : 19.3.1\\r\\nsetuptools       : 41.6.0.post20191030\\r\\nCython           : 0.29.13\\r\\npytest           : 5.2.2\\r\\nhypothesis       : 4.36.2\\r\\nsphinx           : 2.2.1\\r\\nblosc            : None\\r\\nfeather          : None\\r\\nxlsxwriter       : 1.2.2\\r\\nlxml.etree       : 4.4.1\\r\\nhtml5lib         : 1.0.1\\r\\npymysql          : None\\r\\npsycopg2         : None\\r\\njinja2           : 2.10.3\\r\\nIPython          : 7.9.0\\r\\npandas_datareader: None\\r\\nbs4              : 4.7.1\\r\\nbottleneck       : 1.2.1\\r\\nfastparquet      : 0.3.2\\r\\ngcsfs            : None\\r\\nlxml.etree       : 4.4.1\\r\\nmatplotlib       : 3.1.1\\r\\nnumexpr          : 2.7.0\\r\\nodfpy            : None\\r\\nopenpyxl         : 3.0.0\\r\\npandas_gbq       : None\\r\\npyarrow          : 0.15.1\\r\\npytables         : None\\r\\npytest           : 5.2.2\\r\\ns3fs             : 0.3.4\\r\\nscipy            : 1.3.1\\r\\nsqlalchemy       : 1.3.10\\r\\ntables           : 3.5.1\\r\\ntabulate         : None\\r\\nxarray           : 0.13.0\\r\\nxlrd             : 1.2.0\\r\\nxlwt             : 1.3.0\\r\\nxlsxwriter       : 1.2.2\\r\\nnumba            : 0.46.0\\r\\n\\r\\n</details>\\r\\n',\n",
              "  'closed_at': None,\n",
              "  'comments': 0,\n",
              "  'comments_url': 'https://api.github.com/repos/pandas-dev/pandas/issues/30740/comments',\n",
              "  'created_at': '2020-01-06T14:59:27Z',\n",
              "  'events_url': 'https://api.github.com/repos/pandas-dev/pandas/issues/30740/events',\n",
              "  'html_url': 'https://github.com/pandas-dev/pandas/issues/30740',\n",
              "  'id': 545770565,\n",
              "  'labels': [{'color': 'e10c02',\n",
              "    'default': False,\n",
              "    'description': None,\n",
              "    'id': 76811,\n",
              "    'name': 'Bug',\n",
              "    'node_id': 'MDU6TGFiZWw3NjgxMQ==',\n",
              "    'url': 'https://api.github.com/repos/pandas-dev/pandas/labels/Bug'},\n",
              "   {'color': 'd7e102',\n",
              "    'default': False,\n",
              "    'description': None,\n",
              "    'id': 2822342,\n",
              "    'name': 'Missing-data',\n",
              "    'node_id': 'MDU6TGFiZWwyODIyMzQy',\n",
              "    'url': 'https://api.github.com/repos/pandas-dev/pandas/labels/Missing-data'},\n",
              "   {'color': '02d7e1',\n",
              "    'default': False,\n",
              "    'description': None,\n",
              "    'id': 13098779,\n",
              "    'name': 'Reshaping',\n",
              "    'node_id': 'MDU6TGFiZWwxMzA5ODc3OQ==',\n",
              "    'url': 'https://api.github.com/repos/pandas-dev/pandas/labels/Reshaping'}],\n",
              "  'labels_url': 'https://api.github.com/repos/pandas-dev/pandas/issues/30740/labels{/name}',\n",
              "  'locked': False,\n",
              "  'milestone': None,\n",
              "  'node_id': 'MDU6SXNzdWU1NDU3NzA1NjU=',\n",
              "  'number': 30740,\n",
              "  'repository_url': 'https://api.github.com/repos/pandas-dev/pandas',\n",
              "  'state': 'open',\n",
              "  'title': 'DataFrame.unstack() with list of levels ignores fill_value',\n",
              "  'updated_at': '2020-01-06T14:59:27Z',\n",
              "  'url': 'https://api.github.com/repos/pandas-dev/pandas/issues/30740',\n",
              "  'user': {'avatar_url': 'https://avatars0.githubusercontent.com/u/13159005?v=4',\n",
              "   'events_url': 'https://api.github.com/users/simonjayhawkins/events{/privacy}',\n",
              "   'followers_url': 'https://api.github.com/users/simonjayhawkins/followers',\n",
              "   'following_url': 'https://api.github.com/users/simonjayhawkins/following{/other_user}',\n",
              "   'gists_url': 'https://api.github.com/users/simonjayhawkins/gists{/gist_id}',\n",
              "   'gravatar_id': '',\n",
              "   'html_url': 'https://github.com/simonjayhawkins',\n",
              "   'id': 13159005,\n",
              "   'login': 'simonjayhawkins',\n",
              "   'node_id': 'MDQ6VXNlcjEzMTU5MDA1',\n",
              "   'organizations_url': 'https://api.github.com/users/simonjayhawkins/orgs',\n",
              "   'received_events_url': 'https://api.github.com/users/simonjayhawkins/received_events',\n",
              "   'repos_url': 'https://api.github.com/users/simonjayhawkins/repos',\n",
              "   'site_admin': False,\n",
              "   'starred_url': 'https://api.github.com/users/simonjayhawkins/starred{/owner}{/repo}',\n",
              "   'subscriptions_url': 'https://api.github.com/users/simonjayhawkins/subscriptions',\n",
              "   'type': 'User',\n",
              "   'url': 'https://api.github.com/users/simonjayhawkins'}},\n",
              " {'assignee': None,\n",
              "  'assignees': [],\n",
              "  'author_association': 'CONTRIBUTOR',\n",
              "  'body': '- [ ] closes #xxxx\\r\\n- [ ] tests added / passed\\r\\n- [x] passes `black pandas`\\r\\n- [x] passes `git diff upstream/master -u -- \"*.py\" | flake8 --diff`\\r\\n- [ ] whatsnew entry\\r\\n',\n",
              "  'closed_at': None,\n",
              "  'comments': 1,\n",
              "  'comments_url': 'https://api.github.com/repos/pandas-dev/pandas/issues/30739/comments',\n",
              "  'created_at': '2020-01-06T14:00:34Z',\n",
              "  'events_url': 'https://api.github.com/repos/pandas-dev/pandas/issues/30739/events',\n",
              "  'html_url': 'https://github.com/pandas-dev/pandas/pull/30739',\n",
              "  'id': 545741666,\n",
              "  'labels': [],\n",
              "  'labels_url': 'https://api.github.com/repos/pandas-dev/pandas/issues/30739/labels{/name}',\n",
              "  'locked': False,\n",
              "  'milestone': None,\n",
              "  'node_id': 'MDExOlB1bGxSZXF1ZXN0MzU5NTU1NDY5',\n",
              "  'number': 30739,\n",
              "  'pull_request': {'diff_url': 'https://github.com/pandas-dev/pandas/pull/30739.diff',\n",
              "   'html_url': 'https://github.com/pandas-dev/pandas/pull/30739',\n",
              "   'patch_url': 'https://github.com/pandas-dev/pandas/pull/30739.patch',\n",
              "   'url': 'https://api.github.com/repos/pandas-dev/pandas/pulls/30739'},\n",
              "  'repository_url': 'https://api.github.com/repos/pandas-dev/pandas',\n",
              "  'state': 'open',\n",
              "  'title': \"DOC: Capitalize the 'p' in 'pandas code style guide'\",\n",
              "  'updated_at': '2020-01-06T16:38:08Z',\n",
              "  'url': 'https://api.github.com/repos/pandas-dev/pandas/issues/30739',\n",
              "  'user': {'avatar_url': 'https://avatars0.githubusercontent.com/u/50263213?v=4',\n",
              "   'events_url': 'https://api.github.com/users/MomIsBestFriend/events{/privacy}',\n",
              "   'followers_url': 'https://api.github.com/users/MomIsBestFriend/followers',\n",
              "   'following_url': 'https://api.github.com/users/MomIsBestFriend/following{/other_user}',\n",
              "   'gists_url': 'https://api.github.com/users/MomIsBestFriend/gists{/gist_id}',\n",
              "   'gravatar_id': '',\n",
              "   'html_url': 'https://github.com/MomIsBestFriend',\n",
              "   'id': 50263213,\n",
              "   'login': 'MomIsBestFriend',\n",
              "   'node_id': 'MDQ6VXNlcjUwMjYzMjEz',\n",
              "   'organizations_url': 'https://api.github.com/users/MomIsBestFriend/orgs',\n",
              "   'received_events_url': 'https://api.github.com/users/MomIsBestFriend/received_events',\n",
              "   'repos_url': 'https://api.github.com/users/MomIsBestFriend/repos',\n",
              "   'site_admin': False,\n",
              "   'starred_url': 'https://api.github.com/users/MomIsBestFriend/starred{/owner}{/repo}',\n",
              "   'subscriptions_url': 'https://api.github.com/users/MomIsBestFriend/subscriptions',\n",
              "   'type': 'User',\n",
              "   'url': 'https://api.github.com/users/MomIsBestFriend'}},\n",
              " {'assignee': None,\n",
              "  'assignees': [],\n",
              "  'author_association': 'MEMBER',\n",
              "  'body': \"Currently, the following does not work (but probably should):\\r\\n\\r\\n```\\r\\nIn [12]: arr1 = pd.array([1, 2, 3]) \\r\\n\\r\\nIn [13]: arr2 = pd.array([0, 2])\\r\\n\\r\\nIn [14]: arr1[arr2]  \\r\\n---------------------------------------------------------------------------\\r\\nIndexError                                Traceback (most recent call last)\\r\\n<ipython-input-14-1646c66d4d26> in <module>\\r\\n----> 1 arr1[arr2]\\r\\n\\r\\n~/scipy/pandas/pandas/core/arrays/integer.py in __getitem__(self, item)\\r\\n    375             item = check_bool_array_indexer(self, item)\\r\\n    376 \\r\\n--> 377         return type(self)(self._data[item], self._mask[item])\\r\\n    378 \\r\\n    379     def _coerce_to_ndarray(self, dtype=None, na_value=lib._no_default):\\r\\n\\r\\nIndexError: only integers, slices (`:`), ellipsis (`...`), numpy.newaxis (`None`) and integer or boolean arrays are valid indices\\r\\n```\\r\\n\\r\\nSo that raises the following questions:\\r\\n\\r\\n- This should probably simply work for the above case? (converting the IntegerArray to a numpy integer array, instead of object array, so numpy's indexing works) We might want to combine this with the boolean array checking?\\r\\n- What if there are missing values? This should probably simply raise an error for now (which is what pandas 0.25 also does), although we could consider propagating an NA value as well, I think.\\r\\n\\r\\nFor Series, this seems to work partly. For `iloc` it works for the case without missing values. For `__getitem__` you get the same error as above. \\r\\n\",\n",
              "  'closed_at': None,\n",
              "  'comments': 0,\n",
              "  'comments_url': 'https://api.github.com/repos/pandas-dev/pandas/issues/30738/comments',\n",
              "  'created_at': '2020-01-06T13:47:43Z',\n",
              "  'events_url': 'https://api.github.com/repos/pandas-dev/pandas/issues/30738/events',\n",
              "  'html_url': 'https://github.com/pandas-dev/pandas/issues/30738',\n",
              "  'id': 545735623,\n",
              "  'labels': [{'color': 'AD7FA8',\n",
              "    'default': False,\n",
              "    'description': None,\n",
              "    'id': 35818298,\n",
              "    'name': 'API Design',\n",
              "    'node_id': 'MDU6TGFiZWwzNTgxODI5OA==',\n",
              "    'url': 'https://api.github.com/repos/pandas-dev/pandas/labels/API%20Design'},\n",
              "   {'color': '6138b5',\n",
              "    'default': False,\n",
              "    'description': 'Extending pandas with custom dtypes or arrays.',\n",
              "    'id': 849023693,\n",
              "    'name': 'ExtensionArray',\n",
              "    'node_id': 'MDU6TGFiZWw4NDkwMjM2OTM=',\n",
              "    'url': 'https://api.github.com/repos/pandas-dev/pandas/labels/ExtensionArray'},\n",
              "   {'color': '0b02e1',\n",
              "    'default': False,\n",
              "    'description': 'Related to indexing on series/frames, not to indexes themselves',\n",
              "    'id': 2822098,\n",
              "    'name': 'Indexing',\n",
              "    'node_id': 'MDU6TGFiZWwyODIyMDk4',\n",
              "    'url': 'https://api.github.com/repos/pandas-dev/pandas/labels/Indexing'},\n",
              "   {'color': 'd7e102',\n",
              "    'default': False,\n",
              "    'description': None,\n",
              "    'id': 2822342,\n",
              "    'name': 'Missing-data',\n",
              "    'node_id': 'MDU6TGFiZWwyODIyMzQy',\n",
              "    'url': 'https://api.github.com/repos/pandas-dev/pandas/labels/Missing-data'}],\n",
              "  'labels_url': 'https://api.github.com/repos/pandas-dev/pandas/issues/30738/labels{/name}',\n",
              "  'locked': False,\n",
              "  'milestone': {'closed_at': None,\n",
              "   'closed_issues': 1947,\n",
              "   'created_at': '2012-09-13T02:13:00Z',\n",
              "   'creator': {'avatar_url': 'https://avatars2.githubusercontent.com/u/329591?v=4',\n",
              "    'events_url': 'https://api.github.com/users/wesm/events{/privacy}',\n",
              "    'followers_url': 'https://api.github.com/users/wesm/followers',\n",
              "    'following_url': 'https://api.github.com/users/wesm/following{/other_user}',\n",
              "    'gists_url': 'https://api.github.com/users/wesm/gists{/gist_id}',\n",
              "    'gravatar_id': '',\n",
              "    'html_url': 'https://github.com/wesm',\n",
              "    'id': 329591,\n",
              "    'login': 'wesm',\n",
              "    'node_id': 'MDQ6VXNlcjMyOTU5MQ==',\n",
              "    'organizations_url': 'https://api.github.com/users/wesm/orgs',\n",
              "    'received_events_url': 'https://api.github.com/users/wesm/received_events',\n",
              "    'repos_url': 'https://api.github.com/users/wesm/repos',\n",
              "    'site_admin': False,\n",
              "    'starred_url': 'https://api.github.com/users/wesm/starred{/owner}{/repo}',\n",
              "    'subscriptions_url': 'https://api.github.com/users/wesm/subscriptions',\n",
              "    'type': 'User',\n",
              "    'url': 'https://api.github.com/users/wesm'},\n",
              "   'description': '',\n",
              "   'due_on': '2020-02-01T08:00:00Z',\n",
              "   'html_url': 'https://github.com/pandas-dev/pandas/milestone/16',\n",
              "   'id': 174211,\n",
              "   'labels_url': 'https://api.github.com/repos/pandas-dev/pandas/milestones/16/labels',\n",
              "   'node_id': 'MDk6TWlsZXN0b25lMTc0MjEx',\n",
              "   'number': 16,\n",
              "   'open_issues': 44,\n",
              "   'state': 'open',\n",
              "   'title': '1.0',\n",
              "   'updated_at': '2020-01-06T18:11:51Z',\n",
              "   'url': 'https://api.github.com/repos/pandas-dev/pandas/milestones/16'},\n",
              "  'node_id': 'MDU6SXNzdWU1NDU3MzU2MjM=',\n",
              "  'number': 30738,\n",
              "  'repository_url': 'https://api.github.com/repos/pandas-dev/pandas',\n",
              "  'state': 'open',\n",
              "  'title': 'API: positional indexing with IntegerArray',\n",
              "  'updated_at': '2020-01-06T13:47:43Z',\n",
              "  'url': 'https://api.github.com/repos/pandas-dev/pandas/issues/30738',\n",
              "  'user': {'avatar_url': 'https://avatars2.githubusercontent.com/u/1020496?v=4',\n",
              "   'events_url': 'https://api.github.com/users/jorisvandenbossche/events{/privacy}',\n",
              "   'followers_url': 'https://api.github.com/users/jorisvandenbossche/followers',\n",
              "   'following_url': 'https://api.github.com/users/jorisvandenbossche/following{/other_user}',\n",
              "   'gists_url': 'https://api.github.com/users/jorisvandenbossche/gists{/gist_id}',\n",
              "   'gravatar_id': '',\n",
              "   'html_url': 'https://github.com/jorisvandenbossche',\n",
              "   'id': 1020496,\n",
              "   'login': 'jorisvandenbossche',\n",
              "   'node_id': 'MDQ6VXNlcjEwMjA0OTY=',\n",
              "   'organizations_url': 'https://api.github.com/users/jorisvandenbossche/orgs',\n",
              "   'received_events_url': 'https://api.github.com/users/jorisvandenbossche/received_events',\n",
              "   'repos_url': 'https://api.github.com/users/jorisvandenbossche/repos',\n",
              "   'site_admin': False,\n",
              "   'starred_url': 'https://api.github.com/users/jorisvandenbossche/starred{/owner}{/repo}',\n",
              "   'subscriptions_url': 'https://api.github.com/users/jorisvandenbossche/subscriptions',\n",
              "   'type': 'User',\n",
              "   'url': 'https://api.github.com/users/jorisvandenbossche'}},\n",
              " {'assignee': None,\n",
              "  'assignees': [],\n",
              "  'author_association': 'CONTRIBUTOR',\n",
              "  'body': '- [x] closes #23922\\r\\n- [ ] tests added / passed\\r\\n- [x] passes `black pandas`\\r\\n- [x] passes `git diff upstream/master -u -- \"*.py\" | flake8 --diff`\\r\\n- [ ] whatsnew entry\\r\\n',\n",
              "  'closed_at': None,\n",
              "  'comments': 0,\n",
              "  'comments_url': 'https://api.github.com/repos/pandas-dev/pandas/issues/30737/comments',\n",
              "  'created_at': '2020-01-06T13:32:31Z',\n",
              "  'events_url': 'https://api.github.com/repos/pandas-dev/pandas/issues/30737/events',\n",
              "  'html_url': 'https://github.com/pandas-dev/pandas/pull/30737',\n",
              "  'id': 545728920,\n",
              "  'labels': [{'color': 'a2bca7',\n",
              "    'default': False,\n",
              "    'description': None,\n",
              "    'id': 48070600,\n",
              "    'name': 'CI',\n",
              "    'node_id': 'MDU6TGFiZWw0ODA3MDYwMA==',\n",
              "    'url': 'https://api.github.com/repos/pandas-dev/pandas/labels/CI'}],\n",
              "  'labels_url': 'https://api.github.com/repos/pandas-dev/pandas/issues/30737/labels{/name}',\n",
              "  'locked': False,\n",
              "  'milestone': None,\n",
              "  'node_id': 'MDExOlB1bGxSZXF1ZXN0MzU5NTQ1MDA5',\n",
              "  'number': 30737,\n",
              "  'pull_request': {'diff_url': 'https://github.com/pandas-dev/pandas/pull/30737.diff',\n",
              "   'html_url': 'https://github.com/pandas-dev/pandas/pull/30737',\n",
              "   'patch_url': 'https://github.com/pandas-dev/pandas/pull/30737.patch',\n",
              "   'url': 'https://api.github.com/repos/pandas-dev/pandas/pulls/30737'},\n",
              "  'repository_url': 'https://api.github.com/repos/pandas-dev/pandas',\n",
              "  'state': 'open',\n",
              "  'title': 'CI: Disallow bare pytest raise',\n",
              "  'updated_at': '2020-01-06T13:57:48Z',\n",
              "  'url': 'https://api.github.com/repos/pandas-dev/pandas/issues/30737',\n",
              "  'user': {'avatar_url': 'https://avatars0.githubusercontent.com/u/50263213?v=4',\n",
              "   'events_url': 'https://api.github.com/users/MomIsBestFriend/events{/privacy}',\n",
              "   'followers_url': 'https://api.github.com/users/MomIsBestFriend/followers',\n",
              "   'following_url': 'https://api.github.com/users/MomIsBestFriend/following{/other_user}',\n",
              "   'gists_url': 'https://api.github.com/users/MomIsBestFriend/gists{/gist_id}',\n",
              "   'gravatar_id': '',\n",
              "   'html_url': 'https://github.com/MomIsBestFriend',\n",
              "   'id': 50263213,\n",
              "   'login': 'MomIsBestFriend',\n",
              "   'node_id': 'MDQ6VXNlcjUwMjYzMjEz',\n",
              "   'organizations_url': 'https://api.github.com/users/MomIsBestFriend/orgs',\n",
              "   'received_events_url': 'https://api.github.com/users/MomIsBestFriend/received_events',\n",
              "   'repos_url': 'https://api.github.com/users/MomIsBestFriend/repos',\n",
              "   'site_admin': False,\n",
              "   'starred_url': 'https://api.github.com/users/MomIsBestFriend/starred{/owner}{/repo}',\n",
              "   'subscriptions_url': 'https://api.github.com/users/MomIsBestFriend/subscriptions',\n",
              "   'type': 'User',\n",
              "   'url': 'https://api.github.com/users/MomIsBestFriend'}},\n",
              " {'assignee': None,\n",
              "  'assignees': [],\n",
              "  'author_association': 'NONE',\n",
              "  'body': \"#### The following is a MWE of the error:\\r\\n\\r\\n```python\\r\\n# Create an index\\r\\nfrom_, to_ = pd.to_datetime(['2016-01-01', '2016-06-01'])\\r\\nindex = pd.date_range(from_, to_, freq='1min')\\r\\nhour = pd.Timedelta('1h')\\r\\n\\r\\n# Disorder the index:\\r\\nindex = pd.to_datetime(np.random.choice(index, len(index), replace=False))\\r\\n\\r\\n# Create a DF using that index\\r\\ndf = pd.DataFrame(np.arange(2*len(index)).reshape(-1, 2), index = index)\\r\\n\\r\\n# Now, select date-range:\\r\\ndf[from_:to_]                      # ----> Fine! (Unordered)\\r\\ndf[df.index[2]:to_]                # ----> Fine! (Unordered)\\r\\ndf[from_:to_ + hour]               # ----> KeyError: Timestamp('2016-06-01 01:00:00')\\r\\ndf[str(from_):str(to_ + hour)]     # ----> Fine  (Unordered)\\r\\ndf.sort_index()[from_:to_ + hour]  # ----> Fine  (Ordered)\\r\\n\\r\\n```\\r\\n#### Problem description\\r\\n\\r\\nThere are quite a few problems with this behavior:\\r\\n1. It's counter-intuitive that the query will succeed when such slight changes cause differences in behavior.\\r\\n1. The error-message on the 3nd case is very uninformative, considering what has to be done to fix this problem (sort/convert to string).\\r\\n1. How come this query works when using items that are already within the index as ranges, but not when using external datetimes?\\r\\n1. How come using the internal datatype `Timestamp` yields worse results compared to using the external type (`str`)?\\r\\n\\r\\n#### \\r\\n\\r\\n<Details>\\r\\n\\r\\nINSTALLED VERSIONS\\r\\n------------------\\r\\ncommit           : None\\r\\npython           : 3.6.8.final.0\\r\\npython-bits      : 64\\r\\nOS               : Linux\\r\\nOS-release       : 5.0.0-37-generic\\r\\nmachine          : x86_64\\r\\nprocessor        : x86_64\\r\\nbyteorder        : little\\r\\nLC_ALL           : None\\r\\nLANG             : en_US.UTF-8\\r\\nLOCALE           : en_US.UTF-8\\r\\n\\r\\npandas           : 0.25.3\\r\\nnumpy            : 1.17.1\\r\\npytz             : 2019.3\\r\\ndateutil         : 2.8.1\\r\\npip              : 19.3.1\\r\\nsetuptools       : 43.0.0\\r\\nCython           : None\\r\\npytest           : 5.3.2\\r\\nhypothesis       : None\\r\\nsphinx           : None\\r\\nblosc            : None\\r\\nfeather          : None\\r\\nxlsxwriter       : None\\r\\nlxml.etree       : None\\r\\nhtml5lib         : None\\r\\npymysql          : None\\r\\npsycopg2         : None\\r\\njinja2           : 2.10.3\\r\\nIPython          : 7.8.0\\r\\npandas_datareader: None\\r\\nbs4              : None\\r\\nbottleneck       : None\\r\\nfastparquet      : None\\r\\ngcsfs            : None\\r\\nlxml.etree       : None\\r\\nmatplotlib       : 3.1.1\\r\\nnumexpr          : 2.7.0\\r\\nodfpy            : None\\r\\nopenpyxl         : None\\r\\npandas_gbq       : None\\r\\npyarrow          : None\\r\\npytables         : None\\r\\ns3fs             : None\\r\\nscipy            : 1.3.1\\r\\nsqlalchemy       : None\\r\\ntables           : 3.6.1\\r\\nxarray           : None\\r\\nxlrd             : 1.2.0\\r\\nxlwt             : None\\r\\nxlsxwriter       : None\\r\\n\\r\\n\\r\\n</Details``>\\r\\n\",\n",
              "  'closed_at': None,\n",
              "  'comments': 0,\n",
              "  'comments_url': 'https://api.github.com/repos/pandas-dev/pandas/issues/30736/comments',\n",
              "  'created_at': '2020-01-06T13:19:52Z',\n",
              "  'events_url': 'https://api.github.com/repos/pandas-dev/pandas/issues/30736/events',\n",
              "  'html_url': 'https://github.com/pandas-dev/pandas/issues/30736',\n",
              "  'id': 545722610,\n",
              "  'labels': [],\n",
              "  'labels_url': 'https://api.github.com/repos/pandas-dev/pandas/issues/30736/labels{/name}',\n",
              "  'locked': False,\n",
              "  'milestone': None,\n",
              "  'node_id': 'MDU6SXNzdWU1NDU3MjI2MTA=',\n",
              "  'number': 30736,\n",
              "  'repository_url': 'https://api.github.com/repos/pandas-dev/pandas',\n",
              "  'state': 'open',\n",
              "  'title': 'Inconsistency/bug when selecting from a data-frame using an unsorted DatetimeIndex',\n",
              "  'updated_at': '2020-01-06T13:21:06Z',\n",
              "  'url': 'https://api.github.com/repos/pandas-dev/pandas/issues/30736',\n",
              "  'user': {'avatar_url': 'https://avatars1.githubusercontent.com/u/4324329?v=4',\n",
              "   'events_url': 'https://api.github.com/users/erezinman/events{/privacy}',\n",
              "   'followers_url': 'https://api.github.com/users/erezinman/followers',\n",
              "   'following_url': 'https://api.github.com/users/erezinman/following{/other_user}',\n",
              "   'gists_url': 'https://api.github.com/users/erezinman/gists{/gist_id}',\n",
              "   'gravatar_id': '',\n",
              "   'html_url': 'https://github.com/erezinman',\n",
              "   'id': 4324329,\n",
              "   'login': 'erezinman',\n",
              "   'node_id': 'MDQ6VXNlcjQzMjQzMjk=',\n",
              "   'organizations_url': 'https://api.github.com/users/erezinman/orgs',\n",
              "   'received_events_url': 'https://api.github.com/users/erezinman/received_events',\n",
              "   'repos_url': 'https://api.github.com/users/erezinman/repos',\n",
              "   'site_admin': False,\n",
              "   'starred_url': 'https://api.github.com/users/erezinman/starred{/owner}{/repo}',\n",
              "   'subscriptions_url': 'https://api.github.com/users/erezinman/subscriptions',\n",
              "   'type': 'User',\n",
              "   'url': 'https://api.github.com/users/erezinman'}},\n",
              " {'assignee': None,\n",
              "  'assignees': [],\n",
              "  'author_association': 'MEMBER',\n",
              "  'body': \"```\\r\\nIn [1]: from pandas.util.testing import assert_frame_equal  \\r\\n---------------------------------------------------------------------------\\r\\nImportError                               Traceback (most recent call last)\\r\\n<ipython-input-1-79d99d902fdd> in <module>\\r\\n----> 1 from pandas.util.testing import assert_frame_equal\\r\\n\\r\\nImportError: cannot import name 'assert_frame_equal' from 'pandas.util.testing' (/home/joris/scipy/pandas/pandas/util/testing/__init__.py)\\r\\n```\\r\\n\\r\\nIt works when accessing from top-level import:\\r\\n\\r\\n```\\r\\nIn [3]: pd.util.testing.assert_frame_equal\\r\\n/home/joris/miniconda3/envs/dev/bin/ipython:1: FutureWarning: pandas._testing.assert_frame_equal is deprecated. Please use pandas.testing.assert_frame_equal instead.\\r\\n  #!/home/joris/miniconda3/envs/dev/bin/python\\r\\nOut[3]: <function pandas._testing.assert_frame_equal(left, right, check_dtype=True, check_index_type='equiv', check_column_type='equiv', check_frame_type=True, check_less_precise=False, check_names=True, by_blocks=False, check_exact=False, check_datetimelike_compat=False, check_categorical=True, check_like=False, obj='DataFrame')>\\r\\n```\",\n",
              "  'closed_at': None,\n",
              "  'comments': 4,\n",
              "  'comments_url': 'https://api.github.com/repos/pandas-dev/pandas/issues/30735/comments',\n",
              "  'created_at': '2020-01-06T13:11:30Z',\n",
              "  'events_url': 'https://api.github.com/repos/pandas-dev/pandas/issues/30735/events',\n",
              "  'html_url': 'https://github.com/pandas-dev/pandas/issues/30735',\n",
              "  'id': 545718733,\n",
              "  'labels': [],\n",
              "  'labels_url': 'https://api.github.com/repos/pandas-dev/pandas/issues/30735/labels{/name}',\n",
              "  'locked': False,\n",
              "  'milestone': {'closed_at': None,\n",
              "   'closed_issues': 1947,\n",
              "   'created_at': '2012-09-13T02:13:00Z',\n",
              "   'creator': {'avatar_url': 'https://avatars2.githubusercontent.com/u/329591?v=4',\n",
              "    'events_url': 'https://api.github.com/users/wesm/events{/privacy}',\n",
              "    'followers_url': 'https://api.github.com/users/wesm/followers',\n",
              "    'following_url': 'https://api.github.com/users/wesm/following{/other_user}',\n",
              "    'gists_url': 'https://api.github.com/users/wesm/gists{/gist_id}',\n",
              "    'gravatar_id': '',\n",
              "    'html_url': 'https://github.com/wesm',\n",
              "    'id': 329591,\n",
              "    'login': 'wesm',\n",
              "    'node_id': 'MDQ6VXNlcjMyOTU5MQ==',\n",
              "    'organizations_url': 'https://api.github.com/users/wesm/orgs',\n",
              "    'received_events_url': 'https://api.github.com/users/wesm/received_events',\n",
              "    'repos_url': 'https://api.github.com/users/wesm/repos',\n",
              "    'site_admin': False,\n",
              "    'starred_url': 'https://api.github.com/users/wesm/starred{/owner}{/repo}',\n",
              "    'subscriptions_url': 'https://api.github.com/users/wesm/subscriptions',\n",
              "    'type': 'User',\n",
              "    'url': 'https://api.github.com/users/wesm'},\n",
              "   'description': '',\n",
              "   'due_on': '2020-02-01T08:00:00Z',\n",
              "   'html_url': 'https://github.com/pandas-dev/pandas/milestone/16',\n",
              "   'id': 174211,\n",
              "   'labels_url': 'https://api.github.com/repos/pandas-dev/pandas/milestones/16/labels',\n",
              "   'node_id': 'MDk6TWlsZXN0b25lMTc0MjEx',\n",
              "   'number': 16,\n",
              "   'open_issues': 44,\n",
              "   'state': 'open',\n",
              "   'title': '1.0',\n",
              "   'updated_at': '2020-01-06T18:11:51Z',\n",
              "   'url': 'https://api.github.com/repos/pandas-dev/pandas/milestones/16'},\n",
              "  'node_id': 'MDU6SXNzdWU1NDU3MTg3MzM=',\n",
              "  'number': 30735,\n",
              "  'repository_url': 'https://api.github.com/repos/pandas-dev/pandas',\n",
              "  'state': 'open',\n",
              "  'title': 'BUG/DEPR: the deprecation of util.testing fails for direct imports',\n",
              "  'updated_at': '2020-01-06T14:12:50Z',\n",
              "  'url': 'https://api.github.com/repos/pandas-dev/pandas/issues/30735',\n",
              "  'user': {'avatar_url': 'https://avatars2.githubusercontent.com/u/1020496?v=4',\n",
              "   'events_url': 'https://api.github.com/users/jorisvandenbossche/events{/privacy}',\n",
              "   'followers_url': 'https://api.github.com/users/jorisvandenbossche/followers',\n",
              "   'following_url': 'https://api.github.com/users/jorisvandenbossche/following{/other_user}',\n",
              "   'gists_url': 'https://api.github.com/users/jorisvandenbossche/gists{/gist_id}',\n",
              "   'gravatar_id': '',\n",
              "   'html_url': 'https://github.com/jorisvandenbossche',\n",
              "   'id': 1020496,\n",
              "   'login': 'jorisvandenbossche',\n",
              "   'node_id': 'MDQ6VXNlcjEwMjA0OTY=',\n",
              "   'organizations_url': 'https://api.github.com/users/jorisvandenbossche/orgs',\n",
              "   'received_events_url': 'https://api.github.com/users/jorisvandenbossche/received_events',\n",
              "   'repos_url': 'https://api.github.com/users/jorisvandenbossche/repos',\n",
              "   'site_admin': False,\n",
              "   'starred_url': 'https://api.github.com/users/jorisvandenbossche/starred{/owner}{/repo}',\n",
              "   'subscriptions_url': 'https://api.github.com/users/jorisvandenbossche/subscriptions',\n",
              "   'type': 'User',\n",
              "   'url': 'https://api.github.com/users/jorisvandenbossche'}},\n",
              " {'assignee': None,\n",
              "  'assignees': [],\n",
              "  'author_association': 'CONTRIBUTOR',\n",
              "  'body': '- [ ] closes #xxxx\\r\\n- [ ] tests added / passed\\r\\n- [x] passes `black pandas`\\r\\n- [x] passes `git diff upstream/master -u -- \"*.py\" | flake8 --diff`\\r\\n- [ ] whatsnew entry\\r\\n',\n",
              "  'closed_at': None,\n",
              "  'comments': 0,\n",
              "  'comments_url': 'https://api.github.com/repos/pandas-dev/pandas/issues/30734/comments',\n",
              "  'created_at': '2020-01-06T13:10:35Z',\n",
              "  'events_url': 'https://api.github.com/repos/pandas-dev/pandas/issues/30734/events',\n",
              "  'html_url': 'https://github.com/pandas-dev/pandas/pull/30734',\n",
              "  'id': 545718349,\n",
              "  'labels': [{'color': 'ea91a4',\n",
              "    'default': False,\n",
              "    'description': '',\n",
              "    'id': 1280988427,\n",
              "    'name': 'Typing',\n",
              "    'node_id': 'MDU6TGFiZWwxMjgwOTg4NDI3',\n",
              "    'url': 'https://api.github.com/repos/pandas-dev/pandas/labels/Typing'}],\n",
              "  'labels_url': 'https://api.github.com/repos/pandas-dev/pandas/issues/30734/labels{/name}',\n",
              "  'locked': False,\n",
              "  'milestone': None,\n",
              "  'node_id': 'MDExOlB1bGxSZXF1ZXN0MzU5NTM2MzM5',\n",
              "  'number': 30734,\n",
              "  'pull_request': {'diff_url': 'https://github.com/pandas-dev/pandas/pull/30734.diff',\n",
              "   'html_url': 'https://github.com/pandas-dev/pandas/pull/30734',\n",
              "   'patch_url': 'https://github.com/pandas-dev/pandas/pull/30734.patch',\n",
              "   'url': 'https://api.github.com/repos/pandas-dev/pandas/pulls/30734'},\n",
              "  'repository_url': 'https://api.github.com/repos/pandas-dev/pandas',\n",
              "  'state': 'open',\n",
              "  'title': 'TYP: _config/config.py && core/{apply,construction}.py',\n",
              "  'updated_at': '2020-01-06T17:19:09Z',\n",
              "  'url': 'https://api.github.com/repos/pandas-dev/pandas/issues/30734',\n",
              "  'user': {'avatar_url': 'https://avatars0.githubusercontent.com/u/50263213?v=4',\n",
              "   'events_url': 'https://api.github.com/users/MomIsBestFriend/events{/privacy}',\n",
              "   'followers_url': 'https://api.github.com/users/MomIsBestFriend/followers',\n",
              "   'following_url': 'https://api.github.com/users/MomIsBestFriend/following{/other_user}',\n",
              "   'gists_url': 'https://api.github.com/users/MomIsBestFriend/gists{/gist_id}',\n",
              "   'gravatar_id': '',\n",
              "   'html_url': 'https://github.com/MomIsBestFriend',\n",
              "   'id': 50263213,\n",
              "   'login': 'MomIsBestFriend',\n",
              "   'node_id': 'MDQ6VXNlcjUwMjYzMjEz',\n",
              "   'organizations_url': 'https://api.github.com/users/MomIsBestFriend/orgs',\n",
              "   'received_events_url': 'https://api.github.com/users/MomIsBestFriend/received_events',\n",
              "   'repos_url': 'https://api.github.com/users/MomIsBestFriend/repos',\n",
              "   'site_admin': False,\n",
              "   'starred_url': 'https://api.github.com/users/MomIsBestFriend/starred{/owner}{/repo}',\n",
              "   'subscriptions_url': 'https://api.github.com/users/MomIsBestFriend/subscriptions',\n",
              "   'type': 'User',\n",
              "   'url': 'https://api.github.com/users/MomIsBestFriend'}},\n",
              " {'assignee': None,\n",
              "  'assignees': [],\n",
              "  'author_association': 'CONTRIBUTOR',\n",
              "  'body': \"I'm not sure if this issue belongs to `pandas` or `s3fs`.\\r\\n\\r\\nWhen writing to non-existing bucket or bucket without proper permissions no exception is raised. E.g. the following code will be executed normally:\\r\\n```python\\r\\ndf = pd.DataFrame({'col1': [1, 2], 'col2': [3, 4]})\\r\\ndf.to_csv('s3://very.weird.and.certainly.nonexistent.bucket/data.csv')  # No exception\\r\\n```\\r\\n\\r\\nIn contrast, when writing to a local file without proper permissions results in an exception as it should be:\\r\\n```python\\r\\ndff.to_csv('/data.csv')  # PermissionError: [Errno 13] Permission denied: '/data.csv'\\r\\n```\\r\\n\\r\\n#### Output of ``pd.show_versions()``\\r\\n\\r\\n<details>\\r\\n\\r\\nINSTALLED VERSIONS\\r\\n------------------\\r\\ncommit           : None\\r\\npython           : 3.7.1.final.0\\r\\npython-bits      : 64\\r\\nOS               : Darwin\\r\\nOS-release       : 18.7.0\\r\\nmachine          : x86_64\\r\\nprocessor        : i386\\r\\nbyteorder        : little\\r\\nLC_ALL           : en_US.UTF-8\\r\\nLANG             : en_US.UTF-8\\r\\nLOCALE           : en_US.UTF-8\\r\\n\\r\\npandas           : 0.25.3\\r\\nnumpy            : 1.17.2\\r\\npytz             : 2019.3\\r\\ndateutil         : 2.8.1\\r\\npip              : 19.3.1\\r\\nsetuptools       : 42.0.1.post20191125\\r\\nCython           : None\\r\\npytest           : 5.3.0\\r\\nhypothesis       : None\\r\\nsphinx           : 2.2.0\\r\\nblosc            : None\\r\\nfeather          : None\\r\\nxlsxwriter       : None\\r\\nlxml.etree       : 4.4.1\\r\\nhtml5lib         : None\\r\\npymysql          : 0.9.3\\r\\npsycopg2         : None\\r\\njinja2           : 2.10.1\\r\\nIPython          : 7.8.0\\r\\npandas_datareader: None\\r\\nbs4              : 4.6.3\\r\\nbottleneck       : None\\r\\nfastparquet      : 0.3.2\\r\\ngcsfs            : None\\r\\nlxml.etree       : 4.4.1\\r\\nmatplotlib       : 3.0.1\\r\\nnumexpr          : 2.7.0\\r\\nodfpy            : None\\r\\nopenpyxl         : None\\r\\npandas_gbq       : None\\r\\npyarrow          : 0.12.1\\r\\npytables         : None\\r\\ns3fs             : 0.4.0\\r\\nscipy            : 1.3.1\\r\\nsqlalchemy       : 1.3.8\\r\\ntables           : 3.4.4\\r\\nxarray           : None\\r\\nxlrd             : 1.1.0\\r\\nxlwt             : None\\r\\nxlsxwriter       : None\\r\\n\\r\\n</details>\\r\\n\",\n",
              "  'closed_at': None,\n",
              "  'comments': 0,\n",
              "  'comments_url': 'https://api.github.com/repos/pandas-dev/pandas/issues/30732/comments',\n",
              "  'created_at': '2020-01-06T12:07:37Z',\n",
              "  'events_url': 'https://api.github.com/repos/pandas-dev/pandas/issues/30732/events',\n",
              "  'html_url': 'https://github.com/pandas-dev/pandas/issues/30732',\n",
              "  'id': 545694356,\n",
              "  'labels': [],\n",
              "  'labels_url': 'https://api.github.com/repos/pandas-dev/pandas/issues/30732/labels{/name}',\n",
              "  'locked': False,\n",
              "  'milestone': None,\n",
              "  'node_id': 'MDU6SXNzdWU1NDU2OTQzNTY=',\n",
              "  'number': 30732,\n",
              "  'repository_url': 'https://api.github.com/repos/pandas-dev/pandas',\n",
              "  'state': 'open',\n",
              "  'title': 'to_csv swallows exception when writing to S3',\n",
              "  'updated_at': '2020-01-06T12:36:47Z',\n",
              "  'url': 'https://api.github.com/repos/pandas-dev/pandas/issues/30732',\n",
              "  'user': {'avatar_url': 'https://avatars2.githubusercontent.com/u/1324881?v=4',\n",
              "   'events_url': 'https://api.github.com/users/vfilimonov/events{/privacy}',\n",
              "   'followers_url': 'https://api.github.com/users/vfilimonov/followers',\n",
              "   'following_url': 'https://api.github.com/users/vfilimonov/following{/other_user}',\n",
              "   'gists_url': 'https://api.github.com/users/vfilimonov/gists{/gist_id}',\n",
              "   'gravatar_id': '',\n",
              "   'html_url': 'https://github.com/vfilimonov',\n",
              "   'id': 1324881,\n",
              "   'login': 'vfilimonov',\n",
              "   'node_id': 'MDQ6VXNlcjEzMjQ4ODE=',\n",
              "   'organizations_url': 'https://api.github.com/users/vfilimonov/orgs',\n",
              "   'received_events_url': 'https://api.github.com/users/vfilimonov/received_events',\n",
              "   'repos_url': 'https://api.github.com/users/vfilimonov/repos',\n",
              "   'site_admin': False,\n",
              "   'starred_url': 'https://api.github.com/users/vfilimonov/starred{/owner}{/repo}',\n",
              "   'subscriptions_url': 'https://api.github.com/users/vfilimonov/subscriptions',\n",
              "   'type': 'User',\n",
              "   'url': 'https://api.github.com/users/vfilimonov'}},\n",
              " {'assignee': None,\n",
              "  'assignees': [],\n",
              "  'author_association': 'NONE',\n",
              "  'body': '#### Code Sample, a copy-pastable example if possible\\r\\n\\r\\n```python\\r\\ndef aggfunc(df):\\r\\n  # operation that rely on df having the grouping column present.\\r\\n  # Goes in again here without the grouping key and if my operation would rely on this, it would fail.\\r\\n  return pd.Series([0.2,0.2], index=[12,13])\\r\\n\\r\\nmydf=pd.DataFrame({\"a\":[datetime.datetime.today(),datetime.datetime.today()],\"b\":[1,2],\"c\":[5,6]})\\r\\n\\r\\nmydf.groupby(\"a\").apply(aggfunc)\\r\\n\\r\\n```\\r\\n#### Problem description\\r\\n\\r\\n[this should explain **why** the current behaviour is a problem and why the expected output is a better solution.]\\r\\n\\r\\n**Note**: We receive a lot of issues on our GitHub tracker, so it is very possible that your issue has been posted before. Please check first before submitting so that we do not have to handle and close duplicates!\\r\\n\\r\\n**Note**: Many problems can be resolved by simply upgrading `pandas` to the latest version. Before submitting, please check if that solution works for you. If possible, you may want to check if `master` addresses this issue, but that is not necessary.\\r\\n\\r\\nFor documentation-related issues, you can check the latest versions of the docs on `master` here:\\r\\n\\r\\nhttps://pandas-docs.github.io/pandas-docs-travis/\\r\\n\\r\\nIf the issue has not been resolved there, go ahead and file it in the issue tracker.\\r\\n\\r\\n#### Expected Output\\r\\n\\r\\n#### Output of ``pd.show_versions()``\\r\\n\\r\\n<details>\\r\\n\\r\\n[paste the output of ``pd.show_versions()`` here below this line]\\r\\n\\r\\n>>> pd.show_versions()\\r\\n```\\r\\nINSTALLED VERSIONS\\r\\n------------------\\r\\ncommit           : None\\r\\npython           : 3.7.5.final.0\\r\\npython-bits      : 64\\r\\nOS               : Darwin\\r\\nOS-release       : 19.2.0\\r\\nmachine          : x86_64\\r\\nprocessor        : i386\\r\\nbyteorder        : little\\r\\nLC_ALL           : None\\r\\nLANG             : en_GB.UTF-8\\r\\nLOCALE           : en_GB.UTF-8\\r\\n\\r\\npandas           : 0.25.1\\r\\nnumpy            : 1.17.4\\r\\npytz             : 2019.3\\r\\ndateutil         : 2.8.1\\r\\npip              : 19.1.1\\r\\nsetuptools       : 42.0.2.post20191201\\r\\nCython           : None\\r\\npytest           : None\\r\\nhypothesis       : None\\r\\nsphinx           : None\\r\\nblosc            : None\\r\\nfeather          : None\\r\\nxlsxwriter       : None\\r\\nlxml.etree       : None\\r\\nhtml5lib         : None\\r\\npymysql          : None\\r\\npsycopg2         : None\\r\\njinja2           : 2.10.3\\r\\nIPython          : None\\r\\npandas_datareader: None\\r\\nbs4              : None\\r\\nbottleneck       : None\\r\\nfastparquet      : None\\r\\ngcsfs            : None\\r\\nlxml.etree       : None\\r\\nmatplotlib       : 3.1.1\\r\\nnumexpr          : 2.6.9\\r\\nodfpy            : None\\r\\nopenpyxl         : None\\r\\npandas_gbq       : None\\r\\npyarrow          : None\\r\\npytables         : None\\r\\ns3fs             : None\\r\\nscipy            : 1.3.2\\r\\nsqlalchemy       : None\\r\\ntables           : None\\r\\nxarray           : None\\r\\nxlrd             : None\\r\\nxlwt             : None\\r\\nxlsxwriter       : None\\r\\n```\\r\\n</details>\\r\\n\\r\\n\\r\\nLooks like groupby.apply crashes when using datetime aggregation and returning non-datetime data.\\r\\n\\r\\nThe problem is here: `pandas.core.groupby.generic._recast_datetimelike_result`\\r\\n`/pandas/core/groupby/generic.py:1857`\\r\\n\\r\\n```\\r\\nobj_cols = [\\r\\n        idx for idx in range(len(result.columns)) if is_object_dtype(result.dtypes[idx])\\r\\n    ]\\r\\n```\\r\\n\\r\\nE.g. My result columns are 12,13 and this is trying to iterate through the 0,1 which is the range.\\r\\n\\r\\nThe code in `/pandas/core/groupby/generic.py:1857` will fail with the above and an exception will be caught here: `pandas/core/groupby/groupby.py:726`. because of gh-20949 it is trying again without the grouping key. It should have worked from the beggining and this exception is not there to catch this kind of error.\\r\\n\\r\\nThe work around for this is to return a Series or DataFrame with the index reset, however this should not be a requirement.\\r\\n\\r\\nThe right way is to not use range in the `_recast_datetimelike_result` function.\\r\\n\\r\\nThank you\\r\\n\\r\\n\\r\\n\\r\\n',\n",
              "  'closed_at': None,\n",
              "  'comments': 1,\n",
              "  'comments_url': 'https://api.github.com/repos/pandas-dev/pandas/issues/30731/comments',\n",
              "  'created_at': '2020-01-06T12:02:25Z',\n",
              "  'events_url': 'https://api.github.com/repos/pandas-dev/pandas/issues/30731/events',\n",
              "  'html_url': 'https://github.com/pandas-dev/pandas/issues/30731',\n",
              "  'id': 545692458,\n",
              "  'labels': [],\n",
              "  'labels_url': 'https://api.github.com/repos/pandas-dev/pandas/issues/30731/labels{/name}',\n",
              "  'locked': False,\n",
              "  'milestone': None,\n",
              "  'node_id': 'MDU6SXNzdWU1NDU2OTI0NTg=',\n",
              "  'number': 30731,\n",
              "  'repository_url': 'https://api.github.com/repos/pandas-dev/pandas',\n",
              "  'state': 'open',\n",
              "  'title': 'KeyError: 0 error on groupby apply',\n",
              "  'updated_at': '2020-01-06T12:07:03Z',\n",
              "  'url': 'https://api.github.com/repos/pandas-dev/pandas/issues/30731',\n",
              "  'user': {'avatar_url': 'https://avatars0.githubusercontent.com/u/1568005?v=4',\n",
              "   'events_url': 'https://api.github.com/users/venatir/events{/privacy}',\n",
              "   'followers_url': 'https://api.github.com/users/venatir/followers',\n",
              "   'following_url': 'https://api.github.com/users/venatir/following{/other_user}',\n",
              "   'gists_url': 'https://api.github.com/users/venatir/gists{/gist_id}',\n",
              "   'gravatar_id': '',\n",
              "   'html_url': 'https://github.com/venatir',\n",
              "   'id': 1568005,\n",
              "   'login': 'venatir',\n",
              "   'node_id': 'MDQ6VXNlcjE1NjgwMDU=',\n",
              "   'organizations_url': 'https://api.github.com/users/venatir/orgs',\n",
              "   'received_events_url': 'https://api.github.com/users/venatir/received_events',\n",
              "   'repos_url': 'https://api.github.com/users/venatir/repos',\n",
              "   'site_admin': False,\n",
              "   'starred_url': 'https://api.github.com/users/venatir/starred{/owner}{/repo}',\n",
              "   'subscriptions_url': 'https://api.github.com/users/venatir/subscriptions',\n",
              "   'type': 'User',\n",
              "   'url': 'https://api.github.com/users/venatir'}},\n",
              " {'assignee': None,\n",
              "  'assignees': [],\n",
              "  'author_association': 'NONE',\n",
              "  'body': 'Until 2019-11-02, https://7933911d6844c6c53a7d-47bd50c35cd79bd838daf386af554a83.ssl.cf2.rackcdn.com/ contains nightly builds of pandas for different platforms. Is there any chance that this will be continued? I am asking because nightly testing is very helpful for some downstream artifacts to discover unintentional breaking chances or regressions before a new pandas version gets released. Building pandas from source on CI takes very long though, up to a duration where it gets kinda unpractical for downstream projects.',\n",
              "  'closed_at': None,\n",
              "  'comments': 7,\n",
              "  'comments_url': 'https://api.github.com/repos/pandas-dev/pandas/issues/30730/comments',\n",
              "  'created_at': '2020-01-06T11:44:08Z',\n",
              "  'events_url': 'https://api.github.com/repos/pandas-dev/pandas/issues/30730/events',\n",
              "  'html_url': 'https://github.com/pandas-dev/pandas/issues/30730',\n",
              "  'id': 545685742,\n",
              "  'labels': [{'color': 'a2bca7',\n",
              "    'default': False,\n",
              "    'description': None,\n",
              "    'id': 48070600,\n",
              "    'name': 'CI',\n",
              "    'node_id': 'MDU6TGFiZWw0ODA3MDYwMA==',\n",
              "    'url': 'https://api.github.com/repos/pandas-dev/pandas/labels/CI'}],\n",
              "  'labels_url': 'https://api.github.com/repos/pandas-dev/pandas/issues/30730/labels{/name}',\n",
              "  'locked': False,\n",
              "  'milestone': {'closed_at': None,\n",
              "   'closed_issues': 1947,\n",
              "   'created_at': '2012-09-13T02:13:00Z',\n",
              "   'creator': {'avatar_url': 'https://avatars2.githubusercontent.com/u/329591?v=4',\n",
              "    'events_url': 'https://api.github.com/users/wesm/events{/privacy}',\n",
              "    'followers_url': 'https://api.github.com/users/wesm/followers',\n",
              "    'following_url': 'https://api.github.com/users/wesm/following{/other_user}',\n",
              "    'gists_url': 'https://api.github.com/users/wesm/gists{/gist_id}',\n",
              "    'gravatar_id': '',\n",
              "    'html_url': 'https://github.com/wesm',\n",
              "    'id': 329591,\n",
              "    'login': 'wesm',\n",
              "    'node_id': 'MDQ6VXNlcjMyOTU5MQ==',\n",
              "    'organizations_url': 'https://api.github.com/users/wesm/orgs',\n",
              "    'received_events_url': 'https://api.github.com/users/wesm/received_events',\n",
              "    'repos_url': 'https://api.github.com/users/wesm/repos',\n",
              "    'site_admin': False,\n",
              "    'starred_url': 'https://api.github.com/users/wesm/starred{/owner}{/repo}',\n",
              "    'subscriptions_url': 'https://api.github.com/users/wesm/subscriptions',\n",
              "    'type': 'User',\n",
              "    'url': 'https://api.github.com/users/wesm'},\n",
              "   'description': '',\n",
              "   'due_on': '2020-02-01T08:00:00Z',\n",
              "   'html_url': 'https://github.com/pandas-dev/pandas/milestone/16',\n",
              "   'id': 174211,\n",
              "   'labels_url': 'https://api.github.com/repos/pandas-dev/pandas/milestones/16/labels',\n",
              "   'node_id': 'MDk6TWlsZXN0b25lMTc0MjEx',\n",
              "   'number': 16,\n",
              "   'open_issues': 44,\n",
              "   'state': 'open',\n",
              "   'title': '1.0',\n",
              "   'updated_at': '2020-01-06T18:11:51Z',\n",
              "   'url': 'https://api.github.com/repos/pandas-dev/pandas/milestones/16'},\n",
              "  'node_id': 'MDU6SXNzdWU1NDU2ODU3NDI=',\n",
              "  'number': 30730,\n",
              "  'repository_url': 'https://api.github.com/repos/pandas-dev/pandas',\n",
              "  'state': 'open',\n",
              "  'title': 'Nightly Builds',\n",
              "  'updated_at': '2020-01-06T16:13:37Z',\n",
              "  'url': 'https://api.github.com/repos/pandas-dev/pandas/issues/30730',\n",
              "  'user': {'avatar_url': 'https://avatars0.githubusercontent.com/u/57095103?v=4',\n",
              "   'events_url': 'https://api.github.com/users/marco-neumann-jdas/events{/privacy}',\n",
              "   'followers_url': 'https://api.github.com/users/marco-neumann-jdas/followers',\n",
              "   'following_url': 'https://api.github.com/users/marco-neumann-jdas/following{/other_user}',\n",
              "   'gists_url': 'https://api.github.com/users/marco-neumann-jdas/gists{/gist_id}',\n",
              "   'gravatar_id': '',\n",
              "   'html_url': 'https://github.com/marco-neumann-jdas',\n",
              "   'id': 57095103,\n",
              "   'login': 'marco-neumann-jdas',\n",
              "   'node_id': 'MDQ6VXNlcjU3MDk1MTAz',\n",
              "   'organizations_url': 'https://api.github.com/users/marco-neumann-jdas/orgs',\n",
              "   'received_events_url': 'https://api.github.com/users/marco-neumann-jdas/received_events',\n",
              "   'repos_url': 'https://api.github.com/users/marco-neumann-jdas/repos',\n",
              "   'site_admin': False,\n",
              "   'starred_url': 'https://api.github.com/users/marco-neumann-jdas/starred{/owner}{/repo}',\n",
              "   'subscriptions_url': 'https://api.github.com/users/marco-neumann-jdas/subscriptions',\n",
              "   'type': 'User',\n",
              "   'url': 'https://api.github.com/users/marco-neumann-jdas'}},\n",
              " {'assignee': None,\n",
              "  'assignees': [],\n",
              "  'author_association': 'NONE',\n",
              "  'body': '#### Code Sample\\r\\n\\r\\n```python\\r\\nimport pandas as pd\\r\\npd.show_versions()\\r\\n\\r\\ntoday = pd.to_datetime(\"today\")\\r\\ndf = pd.DataFrame({\\'date\\': [today]})\\r\\n\\r\\nassert isinstance(today, pd.Timestamp)\\r\\nassert str(df.date.dtype) == \\'datetime64[ns]\\'\\r\\n\\r\\ndelta = df.date - today  # works fine\\r\\nassert str(delta.dtype) == \\'timedelta64[ns]\\'\\r\\n\\r\\ndf.eval(\"date - @today\")  # fails\\r\\n```\\r\\n\\r\\nLive demo: https://repl.it/repls/SelfassuredFrighteningNumber\\r\\n\\r\\n#### Problem description\\r\\n\\r\\nSubtraction works \\'normally\\' but not when used inside DataFrame.eval or .query. AFAIK the two methods should be equivalent. eval fails with:\\r\\n\\r\\n```python\\r\\nTraceback (most recent call last):\\r\\n  File \"main.py\", line 13, in <module>\\r\\n    df.eval(\"date - @today\")  # fails\\r\\n  File \"/home/runner/.local/share/virtualenvs/python3/lib/python3.7/site-packages/pandas/core/frame.py\", line 3315, in eval\\r\\n    return _eval(expr, inplace=inplace, **kwargs)\\r\\n  File \"/home/runner/.local/share/virtualenvs/python3/lib/python3.7/site-packages/pandas/core/computation/eval.py\", line 322, in eval\\r\\n    parsed_expr = Expr(expr, engine=engine, parser=parser, env=env, truediv=truediv)\\r\\n  File \"/home/runner/.local/share/virtualenvs/python3/lib/python3.7/site-packages/pandas/core/computation/expr.py\", line 830, in __init__\\r\\n    self.terms = self.parse()\\r\\n  File \"/home/runner/.local/share/virtualenvs/python3/lib/python3.7/site-packages/pandas/core/computation/expr.py\", line 847, in parse\\r\\n    return self._visitor.visit(self.expr)\\r\\n  File \"/home/runner/.local/share/virtualenvs/python3/lib/python3.7/site-packages/pandas/core/computation/expr.py\", line 441, in visit\\r\\n    return visitor(node, **kwargs)\\r\\n  File \"/home/runner/.local/share/virtualenvs/python3/lib/python3.7/site-packages/pandas/core/computation/expr.py\", line 447, in visit_Module\\r\\n    return self.visit(expr, **kwargs)\\r\\n  File \"/home/runner/.local/share/virtualenvs/python3/lib/python3.7/site-packages/pandas/core/computation/expr.py\", line 441, in visit\\r\\n    return visitor(node, **kwargs)\\r\\n  File \"/home/runner/.local/share/virtualenvs/python3/lib/python3.7/site-packages/pandas/core/computation/expr.py\", line 450, in visit_Expr\\r\\n    return self.visit(node.value, **kwargs)\\r\\n  File \"/home/runner/.local/share/virtualenvs/python3/lib/python3.7/site-packages/pandas/core/computation/expr.py\", line 441, in visit\\r\\n    return visitor(node, **kwargs)\\r\\n  File \"/home/runner/.local/share/virtualenvs/python3/lib/python3.7/site-packages/pandas/core/computation/expr.py\", line 565, in visit_BinOp\\r\\n    return self._maybe_evaluate_binop(op, op_class, left, right)\\r\\n  File \"/home/runner/.local/share/virtualenvs/python3/lib/python3.7/site-packages/pandas/core/computation/expr.py\", line 536, in _maybe_evaluate_binop\\r\\n    \" \\'{lhs}\\' and \\'{rhs}\\'\".format(op=res.op, lhs=lhs.type, rhs=rhs.type)\\r\\nTypeError: unsupported operand type(s) for -: \\'datetime64[ns]\\' and \\'<class \\'pandas._libs.tslibs.timestamps.Timestamp\\'>\\'\\r\\n```\\r\\n\\r\\n#### Output of ``pd.show_versions()``\\r\\n\\r\\n<details>\\r\\n\\r\\n\\r\\nINSTALLED VERSIONS\\r\\n------------------\\r\\ncommit           : None\\r\\npython           : 3.7.4.final.0\\r\\npython-bits      : 64\\r\\nOS               : Linux\\r\\nOS-release       : 4.15.0-1036-gcp\\r\\nmachine          : x86_64\\r\\nprocessor        :\\r\\nbyteorder        : little\\r\\nLC_ALL           : None\\r\\nLANG             : C.UTF-8\\r\\nLOCALE           : en_US.UTF-8\\r\\n\\r\\npandas           : 0.25.3numpy            : 1.18.0\\r\\npytz             : 2019.3\\r\\ndateutil         : 2.8.1pip              : 19.0.3\\r\\nsetuptools       : 40.8.0\\r\\nCython           : Nonepytest           : None\\r\\nhypothesis       : None\\r\\nsphinx           : Noneblosc            : None\\r\\nfeather          : None\\r\\nxlsxwriter       : Nonelxml.etree       : None\\r\\nhtml5lib         : None\\r\\npymysql          : Nonepsycopg2         : None\\r\\njinja2           : None\\r\\nIPython          : Nonepandas_datareader: None\\r\\nbs4              : None\\r\\nbottleneck       : Nonefastparquet      : None\\r\\ngcsfs            : None\\r\\nlxml.etree       : None\\r\\nmatplotlib       : 3.1.1\\r\\nnumexpr          : None\\r\\nodfpy            : None\\r\\nopenpyxl         : None\\r\\npandas_gbq       : None\\r\\npyarrow          : None\\r\\npytables         : None\\r\\ns3fs             : None\\r\\nscipy            : 1.3.1\\r\\nsqlalchemy       : None\\r\\ntables           : None\\r\\nxarray           : None\\r\\nxlrd             : None\\r\\nxlwt             : None\\r\\nxlsxwriter       : None\\r\\n</details>\\r\\n',\n",
              "  'closed_at': None,\n",
              "  'comments': 3,\n",
              "  'comments_url': 'https://api.github.com/repos/pandas-dev/pandas/issues/30729/comments',\n",
              "  'created_at': '2020-01-06T11:37:51Z',\n",
              "  'events_url': 'https://api.github.com/repos/pandas-dev/pandas/issues/30729/events',\n",
              "  'html_url': 'https://github.com/pandas-dev/pandas/issues/30729',\n",
              "  'id': 545683471,\n",
              "  'labels': [],\n",
              "  'labels_url': 'https://api.github.com/repos/pandas-dev/pandas/issues/30729/labels{/name}',\n",
              "  'locked': False,\n",
              "  'milestone': None,\n",
              "  'node_id': 'MDU6SXNzdWU1NDU2ODM0NzE=',\n",
              "  'number': 30729,\n",
              "  'repository_url': 'https://api.github.com/repos/pandas-dev/pandas',\n",
              "  'state': 'open',\n",
              "  'title': 'TypeError when subtracting datetime64 and timestamp but only in eval',\n",
              "  'updated_at': '2020-01-06T12:06:32Z',\n",
              "  'url': 'https://api.github.com/repos/pandas-dev/pandas/issues/30729',\n",
              "  'user': {'avatar_url': 'https://avatars0.githubusercontent.com/u/3627481?v=4',\n",
              "   'events_url': 'https://api.github.com/users/alexmojaki/events{/privacy}',\n",
              "   'followers_url': 'https://api.github.com/users/alexmojaki/followers',\n",
              "   'following_url': 'https://api.github.com/users/alexmojaki/following{/other_user}',\n",
              "   'gists_url': 'https://api.github.com/users/alexmojaki/gists{/gist_id}',\n",
              "   'gravatar_id': '',\n",
              "   'html_url': 'https://github.com/alexmojaki',\n",
              "   'id': 3627481,\n",
              "   'login': 'alexmojaki',\n",
              "   'node_id': 'MDQ6VXNlcjM2Mjc0ODE=',\n",
              "   'organizations_url': 'https://api.github.com/users/alexmojaki/orgs',\n",
              "   'received_events_url': 'https://api.github.com/users/alexmojaki/received_events',\n",
              "   'repos_url': 'https://api.github.com/users/alexmojaki/repos',\n",
              "   'site_admin': False,\n",
              "   'starred_url': 'https://api.github.com/users/alexmojaki/starred{/owner}{/repo}',\n",
              "   'subscriptions_url': 'https://api.github.com/users/alexmojaki/subscriptions',\n",
              "   'type': 'User',\n",
              "   'url': 'https://api.github.com/users/alexmojaki'}},\n",
              " {'assignee': None,\n",
              "  'assignees': [],\n",
              "  'author_association': 'NONE',\n",
              "  'body': '- [X] closes #21892\\r\\n- [ ] tests added / passed\\r\\n- [X] passes `black pandas`\\r\\n- [X] passes `git diff upstream/master -u -- \"*.py\" | flake8 --diff`\\r\\n- [ ] Add support for \"category\" dtype in read_json\\r\\n',\n",
              "  'closed_at': None,\n",
              "  'comments': 1,\n",
              "  'comments_url': 'https://api.github.com/repos/pandas-dev/pandas/issues/30728/comments',\n",
              "  'created_at': '2020-01-06T10:49:08Z',\n",
              "  'events_url': 'https://api.github.com/repos/pandas-dev/pandas/issues/30728/events',\n",
              "  'html_url': 'https://github.com/pandas-dev/pandas/pull/30728',\n",
              "  'id': 545663837,\n",
              "  'labels': [{'color': '207de5',\n",
              "    'default': False,\n",
              "    'description': None,\n",
              "    'id': 49379259,\n",
              "    'name': 'IO JSON',\n",
              "    'node_id': 'MDU6TGFiZWw0OTM3OTI1OQ==',\n",
              "    'url': 'https://api.github.com/repos/pandas-dev/pandas/labels/IO%20JSON'}],\n",
              "  'labels_url': 'https://api.github.com/repos/pandas-dev/pandas/issues/30728/labels{/name}',\n",
              "  'locked': False,\n",
              "  'milestone': None,\n",
              "  'node_id': 'MDExOlB1bGxSZXF1ZXN0MzU5NDkxNTQ1',\n",
              "  'number': 30728,\n",
              "  'pull_request': {'diff_url': 'https://github.com/pandas-dev/pandas/pull/30728.diff',\n",
              "   'html_url': 'https://github.com/pandas-dev/pandas/pull/30728',\n",
              "   'patch_url': 'https://github.com/pandas-dev/pandas/pull/30728.patch',\n",
              "   'url': 'https://api.github.com/repos/pandas-dev/pandas/pulls/30728'},\n",
              "  'repository_url': 'https://api.github.com/repos/pandas-dev/pandas',\n",
              "  'state': 'open',\n",
              "  'title': 'Fix read_json category dtype',\n",
              "  'updated_at': '2020-01-06T13:40:46Z',\n",
              "  'url': 'https://api.github.com/repos/pandas-dev/pandas/issues/30728',\n",
              "  'user': {'avatar_url': 'https://avatars3.githubusercontent.com/u/22898667?v=4',\n",
              "   'events_url': 'https://api.github.com/users/taoufik07/events{/privacy}',\n",
              "   'followers_url': 'https://api.github.com/users/taoufik07/followers',\n",
              "   'following_url': 'https://api.github.com/users/taoufik07/following{/other_user}',\n",
              "   'gists_url': 'https://api.github.com/users/taoufik07/gists{/gist_id}',\n",
              "   'gravatar_id': '',\n",
              "   'html_url': 'https://github.com/taoufik07',\n",
              "   'id': 22898667,\n",
              "   'login': 'taoufik07',\n",
              "   'node_id': 'MDQ6VXNlcjIyODk4NjY3',\n",
              "   'organizations_url': 'https://api.github.com/users/taoufik07/orgs',\n",
              "   'received_events_url': 'https://api.github.com/users/taoufik07/received_events',\n",
              "   'repos_url': 'https://api.github.com/users/taoufik07/repos',\n",
              "   'site_admin': False,\n",
              "   'starred_url': 'https://api.github.com/users/taoufik07/starred{/owner}{/repo}',\n",
              "   'subscriptions_url': 'https://api.github.com/users/taoufik07/subscriptions',\n",
              "   'type': 'User',\n",
              "   'url': 'https://api.github.com/users/taoufik07'}},\n",
              " {'assignee': None,\n",
              "  'assignees': [],\n",
              "  'author_association': 'NONE',\n",
              "  'body': \"The changes associated with #27991 (merged as part of v0.25.1) changed the behavior of `DataFrame._repr_html_()`\\r\\n\\r\\nWe use monkey patching to allow the automatic display (within Jupyter notebooks) of chemical structures stored in DataFrames as part of the RDKit project. Given how useful it is to be able to automatically render specialized data types in DataFrames, I would assume we're not the only ones doing this. For those who are interested, here's an example from the RDKit community demonstrating what this looks like - https://www.blopig.com/blog/2017/02/using-rdkit-to-load-ligand-sdfs-into-pandas-dataframes/\\r\\n\\r\\nPrevious to v0.25.1 we could simply monkey patch `DataFrame.to_html()` since it was called by `DataFrame._repr_html_()`, but now it looks like we need to patch both methods. Doing this kind of patching is always a bit fraught and having to do it twice really seems to be begging for support problems down the road. Note: A single patch to `DataFrameFormatter.to_html()` would also be possible, but it looks like that would make it impossible to for us to disable the specialized rendering on a DataFrame by DataFrame basis.\\r\\n\\r\\nI'm happy to submit a PR with a fix if the maintainers agree that re-unifying these two is desirable.\\r\\n\\r\\nI think this should probably be classified as a Cleanup item, but I didn't want to presume.\\r\\n\",\n",
              "  'closed_at': None,\n",
              "  'comments': 0,\n",
              "  'comments_url': 'https://api.github.com/repos/pandas-dev/pandas/issues/30727/comments',\n",
              "  'created_at': '2020-01-06T09:58:28Z',\n",
              "  'events_url': 'https://api.github.com/repos/pandas-dev/pandas/issues/30727/events',\n",
              "  'html_url': 'https://github.com/pandas-dev/pandas/issues/30727',\n",
              "  'id': 545640192,\n",
              "  'labels': [],\n",
              "  'labels_url': 'https://api.github.com/repos/pandas-dev/pandas/issues/30727/labels{/name}',\n",
              "  'locked': False,\n",
              "  'milestone': None,\n",
              "  'node_id': 'MDU6SXNzdWU1NDU2NDAxOTI=',\n",
              "  'number': 30727,\n",
              "  'repository_url': 'https://api.github.com/repos/pandas-dev/pandas',\n",
              "  'state': 'open',\n",
              "  'title': 'Re-unify execution paths for to_html() and _repr_html_()',\n",
              "  'updated_at': '2020-01-06T09:58:28Z',\n",
              "  'url': 'https://api.github.com/repos/pandas-dev/pandas/issues/30727',\n",
              "  'user': {'avatar_url': 'https://avatars1.githubusercontent.com/u/540511?v=4',\n",
              "   'events_url': 'https://api.github.com/users/greglandrum/events{/privacy}',\n",
              "   'followers_url': 'https://api.github.com/users/greglandrum/followers',\n",
              "   'following_url': 'https://api.github.com/users/greglandrum/following{/other_user}',\n",
              "   'gists_url': 'https://api.github.com/users/greglandrum/gists{/gist_id}',\n",
              "   'gravatar_id': '',\n",
              "   'html_url': 'https://github.com/greglandrum',\n",
              "   'id': 540511,\n",
              "   'login': 'greglandrum',\n",
              "   'node_id': 'MDQ6VXNlcjU0MDUxMQ==',\n",
              "   'organizations_url': 'https://api.github.com/users/greglandrum/orgs',\n",
              "   'received_events_url': 'https://api.github.com/users/greglandrum/received_events',\n",
              "   'repos_url': 'https://api.github.com/users/greglandrum/repos',\n",
              "   'site_admin': False,\n",
              "   'starred_url': 'https://api.github.com/users/greglandrum/starred{/owner}{/repo}',\n",
              "   'subscriptions_url': 'https://api.github.com/users/greglandrum/subscriptions',\n",
              "   'type': 'User',\n",
              "   'url': 'https://api.github.com/users/greglandrum'}},\n",
              " {'assignee': None,\n",
              "  'assignees': [],\n",
              "  'author_association': 'NONE',\n",
              "  'body': \"#### Code Sample\\r\\n\\r\\n```python\\r\\nimport pandas as pd\\r\\nimport numpy as np\\r\\nimport skimage\\r\\nfrom scipy import signal\\r\\n\\r\\nfor orient in [0, 1]:\\r\\n    th = int(input_img.shape[orient] / 100)\\r\\n\\r\\n    peaks, info = signal.find_peaks(1 - bw_img.mean(orient), prominence=.35, width=2)\\r\\n    for pk, w in zip(peaks, info['widths']):\\r\\n        w *= 2\\r\\n        if orient == 0:\\r\\n            sign = bw_img[:, pk]\\r\\n        else:\\r\\n            sign = bw_img[pk, :]\\r\\n        sign = pd.Series(sign).rolling(th).max()\\r\\n\\r\\n```\\r\\n#### Problem description\\r\\nThe above snippet is part of a function called in my main script. Running this results in either a `malloc: Incorrect checksum for freed object 0x7fbf626f1f30: probably modified after being freed.` error or a segmentation fault. \\r\\nThe culprit appears to be the `rolling().max()` line, since commenting out the line fixes the issue, as does replacing `.max()` with `.mean()`.\\r\\n\\r\\nI can't seem to recreate the error running the above snippet alone, and I cannot figure out why. The input (`bw_img`) is just a 2D array (black and white image).\\r\\n\\r\\nIt might be related to this issue https://github.com/pandas-dev/pandas/issues/25893 expect my memory doesn't seem to be leaking. The two variants I keep seeing seem to be a checksum failed after changing deallocated memory, or that an attempted change of deallocated memory is caught.\\r\\n\\r\\npython version: 3.6.5 (also tested on 3.7.0)\\r\\npandas version 0.25.3 (also tested 0.24 and 0.23)\\r\\n\\r\\nBelow the stacktrace:\\r\\n\\r\\n```\\r\\nProcess:               python3.6 [61410]\\r\\nPath:                  /Users/USER/*/python3.6\\r\\nIdentifier:            python3.6\\r\\nVersion:               ???\\r\\nCode Type:             X86-64 (Native)\\r\\nParent Process:        zsh [41537]\\r\\nResponsible:           python3.6 [61410]\\r\\nUser ID:               305159407\\r\\n\\r\\nDate/Time:             2020-01-06 09:43:30.365 +0100\\r\\nOS Version:            Mac OS X 10.14.3 (18D109)\\r\\nReport Version:        12\\r\\nBridge OS Version:     3.0 (14Y674)\\r\\nAnonymous UUID:        842CB73B-82E5-7A43-1D47-0BCD9BFB56A9\\r\\n\\r\\n\\r\\nTime Awake Since Boot: 5500 seconds\\r\\n\\r\\nSystem Integrity Protection: enabled\\r\\n\\r\\nCrashed Thread:        0  Dispatch queue: com.apple.main-thread\\r\\n\\r\\nException Type:        EXC_CRASH (SIGABRT)\\r\\nException Codes:       0x0000000000000000, 0x0000000000000000\\r\\nException Note:        EXC_CORPSE_NOTIFY\\r\\n\\r\\nApplication Specific Information:\\r\\nabort() called\\r\\npython(61410,0x1134fe5c0) malloc: Incorrect checksum for freed object 0x7f8c83801610: probably modified after being freed.\\r\\nCorrupt value: 0x28\\r\\n \\r\\n\\r\\nThread 0 Crashed:: Dispatch queue: com.apple.main-thread\\r\\n0   libsystem_kernel.dylib        \\t0x00007fff5b5fb23e __pthread_kill + 10\\r\\n1   libsystem_pthread.dylib       \\t0x00007fff5b6b1c1c pthread_kill + 285\\r\\n2   libsystem_c.dylib             \\t0x00007fff5b5641c9 abort + 127\\r\\n3   libsystem_malloc.dylib        \\t0x00007fff5b6736e2 malloc_vreport + 545\\r\\n4   libsystem_malloc.dylib        \\t0x00007fff5b68786c malloc_zone_error + 184\\r\\n5   libsystem_malloc.dylib        \\t0x00007fff5b670103 tiny_free_list_remove_ptr + 544\\r\\n6   libsystem_malloc.dylib        \\t0x00007fff5b66daee tiny_free_no_lock + 933\\r\\n7   libsystem_malloc.dylib        \\t0x00007fff5b66d631 free_tiny + 483\\r\\n8   _multiarray_umath.cpython-36m-darwin.so\\t0x0000000109b3357d _buffer_clear_info + 109\\r\\n9   _multiarray_umath.cpython-36m-darwin.so\\t0x0000000109b334ff _dealloc_cached_buffer_info + 79\\r\\n10  _multiarray_umath.cpython-36m-darwin.so\\t0x0000000109ae5152 array_dealloc + 18\\r\\n11  window.cpython-36m-darwin.so  \\t0x000000012c56a8a6 __pyx_fuse_9__pyx_f_6pandas_5_libs_6window__roll_min_max(tagPyArrayObject_fields*, long, long, _object*, _object*, int) + 3206\\r\\n12  window.cpython-36m-darwin.so  \\t0x000000012c569619 __pyx_fuse_9__pyx_pw_6pandas_5_libs_6window_59roll_max(_object*, _object*, _object*) + 425\\r\\n13  algos.cpython-36m-darwin.so   \\t0x000000012aa1a42c __pyx_FusedFunction_call + 812\\r\\n14  python                        \\t0x0000000109410ae5 PyObject_Call + 101\\r\\n15  python                        \\t0x00000001094eea1b _PyEval_EvalFrameDefault + 25787\\r\\n16  python                        \\t0x00000001094f2356 _PyEval_EvalCodeWithName + 2902\\r\\n17  python                        \\t0x00000001094f2aeb fast_function + 411\\r\\n18  python                        \\t0x00000001094f1729 call_function + 553\\r\\n19  python                        \\t0x00000001094ee694 _PyEval_EvalFrameDefault + 24884\\r\\n20  python                        \\t0x00000001094f2356 _PyEval_EvalCodeWithName + 2902\\r\\n21  python                        \\t0x00000001094f2aeb fast_function + 411\\r\\n22  python                        \\t0x00000001094f1729 call_function + 553\\r\\n23  python                        \\t0x00000001094ee608 _PyEval_EvalFrameDefault + 24744\\r\\n24  python                        \\t0x00000001094f2356 _PyEval_EvalCodeWithName + 2902\\r\\n25  python                        \\t0x00000001094f2ede _PyFunction_FastCallDict + 606\\r\\n26  python                        \\t0x0000000109410cba _PyObject_FastCallDict + 202\\r\\n27  python                        \\t0x0000000109410e6c _PyObject_Call_Prepend + 156\\r\\n28  python                        \\t0x0000000109410ae5 PyObject_Call + 101\\r\\n29  python                        \\t0x00000001094eea1b _PyEval_EvalFrameDefault + 25787\\r\\n30  python                        \\t0x00000001094f2356 _PyEval_EvalCodeWithName + 2902\\r\\n31  python                        \\t0x00000001094f2ede _PyFunction_FastCallDict + 606\\r\\n32  python                        \\t0x0000000109410cba _PyObject_FastCallDict + 202\\r\\n33  python                        \\t0x0000000109410e6c _PyObject_Call_Prepend + 156\\r\\n34  python                        \\t0x0000000109410ae5 PyObject_Call + 101\\r\\n35  python                        \\t0x00000001094eea1b _PyEval_EvalFrameDefault + 25787\\r\\n36  python                        \\t0x00000001094f2356 _PyEval_EvalCodeWithName + 2902\\r\\n37  python                        \\t0x00000001094f2aeb fast_function + 411\\r\\n38  python                        \\t0x00000001094f1729 call_function + 553\\r\\n39  python                        \\t0x00000001094ee608 _PyEval_EvalFrameDefault + 24744\\r\\n40  python                        \\t0x00000001094f2356 _PyEval_EvalCodeWithName + 2902\\r\\n41  python                        \\t0x00000001094f2aeb fast_function + 411\\r\\n42  python                        \\t0x00000001094f1729 call_function + 553\\r\\n43  python                        \\t0x00000001094ee694 _PyEval_EvalFrameDefault + 24884\\r\\n44  python                        \\t0x00000001094f2356 _PyEval_EvalCodeWithName + 2902\\r\\n45  python                        \\t0x00000001094f2aeb fast_function + 411\\r\\n46  python                        \\t0x00000001094f1729 call_function + 553\\r\\n47  python                        \\t0x00000001094ee608 _PyEval_EvalFrameDefault + 24744\\r\\n48  python                        \\t0x00000001094f2356 _PyEval_EvalCodeWithName + 2902\\r\\n49  python                        \\t0x00000001094e84d0 PyEval_EvalCode + 48\\r\\n50  python                        \\t0x000000010952156e PyRun_FileExFlags + 174\\r\\n51  python                        \\t0x0000000109520b1a PyRun_SimpleFileExFlags + 266\\r\\n52  python                        \\t0x000000010953d8b6 Py_Main + 3542\\r\\n53  python                        \\t0x0000000109405c78 main + 248\\r\\n54  libdyld.dylib                 \\t0x00007fff5b4bbed9 start + 1\\r\\n\\r\\nThread 1:\\r\\n0   libsystem_kernel.dylib        \\t0x00007fff5b5f87de __psynch_cvwait + 10\\r\\n1   libsystem_pthread.dylib       \\t0x00007fff5b6b2593 _pthread_cond_wait + 724\\r\\n2   python                        \\t0x0000000109539f1f PyThread_acquire_lock_timed + 351\\r\\n3   python                        \\t0x000000010954099f acquire_timed + 111\\r\\n4   python                        \\t0x000000010954071c lock_PyThread_acquire_lock + 44\\r\\n5   python                        \\t0x000000010945fbfb _PyCFunction_FastCallDict + 475\\r\\n6   python                        \\t0x00000001094f175a call_function + 602\\r\\n7   python                        \\t0x00000001094ee608 _PyEval_EvalFrameDefault + 24744\\r\\n8   python                        \\t0x00000001094f2356 _PyEval_EvalCodeWithName + 2902\\r\\n9   python                        \\t0x00000001094f2aeb fast_function + 411\\r\\n10  python                        \\t0x00000001094f1729 call_function + 553\\r\\n11  python                        \\t0x00000001094ee608 _PyEval_EvalFrameDefault + 24744\\r\\n12  python                        \\t0x00000001094f2356 _PyEval_EvalCodeWithName + 2902\\r\\n13  python                        \\t0x00000001094f2aeb fast_function + 411\\r\\n14  python                        \\t0x00000001094f1729 call_function + 553\\r\\n15  python                        \\t0x00000001094ee608 _PyEval_EvalFrameDefault + 24744\\r\\n16  python                        \\t0x00000001094f2b89 fast_function + 569\\r\\n17  python                        \\t0x00000001094f1729 call_function + 553\\r\\n18  python                        \\t0x00000001094ee608 _PyEval_EvalFrameDefault + 24744\\r\\n19  python                        \\t0x00000001094f2b89 fast_function + 569\\r\\n20  python                        \\t0x00000001094f1729 call_function + 553\\r\\n21  python                        \\t0x00000001094ee608 _PyEval_EvalFrameDefault + 24744\\r\\n22  python                        \\t0x00000001094f3069 _PyFunction_FastCallDict + 1001\\r\\n23  python                        \\t0x0000000109410cba _PyObject_FastCallDict + 202\\r\\n24  python                        \\t0x0000000109410e6c _PyObject_Call_Prepend + 156\\r\\n25  python                        \\t0x0000000109410ae5 PyObject_Call + 101\\r\\n26  python                        \\t0x0000000109541216 t_bootstrap + 70\\r\\n27  libsystem_pthread.dylib       \\t0x00007fff5b6af305 _pthread_body + 126\\r\\n28  libsystem_pthread.dylib       \\t0x00007fff5b6b226f _pthread_start + 70\\r\\n29  libsystem_pthread.dylib       \\t0x00007fff5b6ae415 thread_start + 13\\r\\n\\r\\nThread 2:\\r\\n0   libsystem_pthread.dylib       \\t0x00007fff5b6ae3f8 start_wqthread + 0\\r\\n1   ???                           \\t0x0000000054485244 0 + 1414025796\\r\\n\\r\\nThread 3:\\r\\n0   libsystem_pthread.dylib       \\t0x00007fff5b6ae3f8 start_wqthread + 0\\r\\n1   ???                           \\t0x0000000054485244 0 + 1414025796\\r\\n\\r\\nThread 4:\\r\\n0   libsystem_pthread.dylib       \\t0x00007fff5b6ae3f8 start_wqthread + 0\\r\\n1   ???                           \\t0x0000000054485244 0 + 1414025796\\r\\n\\r\\nThread 5:\\r\\n0   libsystem_pthread.dylib       \\t0x00007fff5b6ae3f8 start_wqthread + 0\\r\\n1   ???                           \\t0x0000000054485244 0 + 1414025796\\r\\n\\r\\nThread 6:\\r\\n0   libsystem_pthread.dylib       \\t0x00007fff5b6ae3f8 start_wqthread + 0\\r\\n1   ???                           \\t0x0000000054485244 0 + 1414025796\\r\\n\\r\\nThread 7:\\r\\n0   libsystem_pthread.dylib       \\t0x00007fff5b6ae3f8 start_wqthread + 0\\r\\n1   ???                           \\t0x0000000054485244 0 + 1414025796\\r\\n\\r\\nThread 8:\\r\\n0   libsystem_pthread.dylib       \\t0x00007fff5b6ae3f8 start_wqthread + 0\\r\\n1   ???                           \\t0x0000000054485244 0 + 1414025796\\r\\n\\r\\nThread 0 crashed with X86 Thread State (64-bit):\\r\\n  rax: 0x0000000000000000  rbx: 0x00000001134fe5c0  rcx: 0x00007ffee67f8168  rdx: 0x0000000000000000\\r\\n  rdi: 0x0000000000000307  rsi: 0x0000000000000006  rbp: 0x00007ffee67f81a0  rsp: 0x00007ffee67f8168\\r\\n   r8: 0x0000000000000000   r9: 0x00007ffee67f80c0  r10: 0x0000000000000000  r11: 0x0000000000000206\\r\\n  r12: 0x0000000000000307  r13: 0x0000000111e4d000  r14: 0x0000000000000006  r15: 0x000000000000002d\\r\\n  rip: 0x00007fff5b5fb23e  rfl: 0x0000000000000206  cr2: 0x00007fff8e27a188\\r\\n  \\r\\nLogical CPU:     0\\r\\nError Code:      0x02000148\\r\\nTrap Number:     133\\r\\n\\r\\n\\r\\nVM Region Summary:\\r\\nReadOnly portion of Libraries: Total=708.7M resident=0K(0%) swapped_out_or_unallocated=708.7M(100%)\\r\\nWritable regions: Total=483.8M written=0K(0%) resident=0K(0%) swapped_out=0K(0%) unallocated=483.8M(100%)\\r\\n \\r\\n                                VIRTUAL   REGION \\r\\nREGION TYPE                        SIZE    COUNT (non-coalesced) \\r\\n===========                     =======  ======= \\r\\nActivity Tracing                   256K        2 \\r\\nDispatch continuations            16.0M        2 \\r\\nKernel Alloc Once                    8K        2 \\r\\nMALLOC                           170.5M       33 \\r\\nMALLOC guard page                   16K        5 \\r\\nMALLOC_LARGE (reserved)            256K        3         reserved VM address space (unallocated)\\r\\nSTACK GUARD                         36K       10 \\r\\nStack                             24.6M       10 \\r\\nVM_ALLOCATE                      102.3M      174 \\r\\nVM_ALLOCATE (reserved)           160.0M        4         reserved VM address space (unallocated)\\r\\n__DATA                            42.7M      669 \\r\\n__FONT_DATA                          4K        2 \\r\\n__LINKEDIT                       253.2M      312 \\r\\n__TEXT                           455.5M      557 \\r\\n__UNICODE                          564K        2 \\r\\nshared memory                       12K        4 \\r\\n===========                     =======  ======= \\r\\nTOTAL                              1.2G     1775 \\r\\nTOTAL, minus reserved VM space     1.0G     1775 \\r\\n\\r\\n\\r\\n```\\r\\n\",\n",
              "  'closed_at': None,\n",
              "  'comments': 0,\n",
              "  'comments_url': 'https://api.github.com/repos/pandas-dev/pandas/issues/30726/comments',\n",
              "  'created_at': '2020-01-06T09:43:32Z',\n",
              "  'events_url': 'https://api.github.com/repos/pandas-dev/pandas/issues/30726/events',\n",
              "  'html_url': 'https://github.com/pandas-dev/pandas/issues/30726',\n",
              "  'id': 545633737,\n",
              "  'labels': [],\n",
              "  'labels_url': 'https://api.github.com/repos/pandas-dev/pandas/issues/30726/labels{/name}',\n",
              "  'locked': False,\n",
              "  'milestone': None,\n",
              "  'node_id': 'MDU6SXNzdWU1NDU2MzM3Mzc=',\n",
              "  'number': 30726,\n",
              "  'repository_url': 'https://api.github.com/repos/pandas-dev/pandas',\n",
              "  'state': 'open',\n",
              "  'title': 'Rolling min/max gives malloc error',\n",
              "  'updated_at': '2020-01-06T09:43:32Z',\n",
              "  'url': 'https://api.github.com/repos/pandas-dev/pandas/issues/30726',\n",
              "  'user': {'avatar_url': 'https://avatars0.githubusercontent.com/u/26546344?v=4',\n",
              "   'events_url': 'https://api.github.com/users/Arsilla/events{/privacy}',\n",
              "   'followers_url': 'https://api.github.com/users/Arsilla/followers',\n",
              "   'following_url': 'https://api.github.com/users/Arsilla/following{/other_user}',\n",
              "   'gists_url': 'https://api.github.com/users/Arsilla/gists{/gist_id}',\n",
              "   'gravatar_id': '',\n",
              "   'html_url': 'https://github.com/Arsilla',\n",
              "   'id': 26546344,\n",
              "   'login': 'Arsilla',\n",
              "   'node_id': 'MDQ6VXNlcjI2NTQ2MzQ0',\n",
              "   'organizations_url': 'https://api.github.com/users/Arsilla/orgs',\n",
              "   'received_events_url': 'https://api.github.com/users/Arsilla/received_events',\n",
              "   'repos_url': 'https://api.github.com/users/Arsilla/repos',\n",
              "   'site_admin': False,\n",
              "   'starred_url': 'https://api.github.com/users/Arsilla/starred{/owner}{/repo}',\n",
              "   'subscriptions_url': 'https://api.github.com/users/Arsilla/subscriptions',\n",
              "   'type': 'User',\n",
              "   'url': 'https://api.github.com/users/Arsilla'}},\n",
              " {'assignee': None,\n",
              "  'assignees': [],\n",
              "  'author_association': 'MEMBER',\n",
              "  'body': \"This will take a few passes to do comprehensively, but trying to clean up error handling in the extension module. Right now failure points are allowed, which can lead to segfaults or surprising behaviour when debugging.\\r\\n\\r\\nTrying to push closers towards the CPython error handling conventions:\\r\\n\\r\\nhttps://docs.python.org/3/c-api/exceptions.html\\r\\n\\r\\nSo basically:\\r\\n\\r\\n  - Explicitly check for NULL from most C API functions except integer returning functions (where they return -1 and set PyErr) AND\\r\\n  - Don't set error messages from failing functions, as they should have already set it\",\n",
              "  'closed_at': None,\n",
              "  'comments': 0,\n",
              "  'comments_url': 'https://api.github.com/repos/pandas-dev/pandas/issues/30719/comments',\n",
              "  'created_at': '2020-01-06T00:47:09Z',\n",
              "  'events_url': 'https://api.github.com/repos/pandas-dev/pandas/issues/30719/events',\n",
              "  'html_url': 'https://github.com/pandas-dev/pandas/pull/30719',\n",
              "  'id': 545491519,\n",
              "  'labels': [{'color': 'ffa0ff',\n",
              "    'default': False,\n",
              "    'description': None,\n",
              "    'id': 42670965,\n",
              "    'name': 'Error Reporting',\n",
              "    'node_id': 'MDU6TGFiZWw0MjY3MDk2NQ==',\n",
              "    'url': 'https://api.github.com/repos/pandas-dev/pandas/labels/Error%20Reporting'},\n",
              "   {'color': '207de5',\n",
              "    'default': False,\n",
              "    'description': None,\n",
              "    'id': 49379259,\n",
              "    'name': 'IO JSON',\n",
              "    'node_id': 'MDU6TGFiZWw0OTM3OTI1OQ==',\n",
              "    'url': 'https://api.github.com/repos/pandas-dev/pandas/labels/IO%20JSON'}],\n",
              "  'labels_url': 'https://api.github.com/repos/pandas-dev/pandas/issues/30719/labels{/name}',\n",
              "  'locked': False,\n",
              "  'milestone': None,\n",
              "  'node_id': 'MDExOlB1bGxSZXF1ZXN0MzU5MzU0MjMx',\n",
              "  'number': 30719,\n",
              "  'pull_request': {'diff_url': 'https://github.com/pandas-dev/pandas/pull/30719.diff',\n",
              "   'html_url': 'https://github.com/pandas-dev/pandas/pull/30719',\n",
              "   'patch_url': 'https://github.com/pandas-dev/pandas/pull/30719.patch',\n",
              "   'url': 'https://api.github.com/repos/pandas-dev/pandas/pulls/30719'},\n",
              "  'repository_url': 'https://api.github.com/repos/pandas-dev/pandas',\n",
              "  'state': 'open',\n",
              "  'title': 'Consistent json error',\n",
              "  'updated_at': '2020-01-06T01:52:54Z',\n",
              "  'url': 'https://api.github.com/repos/pandas-dev/pandas/issues/30719',\n",
              "  'user': {'avatar_url': 'https://avatars0.githubusercontent.com/u/609873?v=4',\n",
              "   'events_url': 'https://api.github.com/users/WillAyd/events{/privacy}',\n",
              "   'followers_url': 'https://api.github.com/users/WillAyd/followers',\n",
              "   'following_url': 'https://api.github.com/users/WillAyd/following{/other_user}',\n",
              "   'gists_url': 'https://api.github.com/users/WillAyd/gists{/gist_id}',\n",
              "   'gravatar_id': '',\n",
              "   'html_url': 'https://github.com/WillAyd',\n",
              "   'id': 609873,\n",
              "   'login': 'WillAyd',\n",
              "   'node_id': 'MDQ6VXNlcjYwOTg3Mw==',\n",
              "   'organizations_url': 'https://api.github.com/users/WillAyd/orgs',\n",
              "   'received_events_url': 'https://api.github.com/users/WillAyd/received_events',\n",
              "   'repos_url': 'https://api.github.com/users/WillAyd/repos',\n",
              "   'site_admin': False,\n",
              "   'starred_url': 'https://api.github.com/users/WillAyd/starred{/owner}{/repo}',\n",
              "   'subscriptions_url': 'https://api.github.com/users/WillAyd/subscriptions',\n",
              "   'type': 'User',\n",
              "   'url': 'https://api.github.com/users/WillAyd'}},\n",
              " {'assignee': None,\n",
              "  'assignees': [],\n",
              "  'author_association': 'CONTRIBUTOR',\n",
              "  'body': 'Type up methods with a single return value type.',\n",
              "  'closed_at': None,\n",
              "  'comments': 0,\n",
              "  'comments_url': 'https://api.github.com/repos/pandas-dev/pandas/issues/30718/comments',\n",
              "  'created_at': '2020-01-05T23:29:10Z',\n",
              "  'events_url': 'https://api.github.com/repos/pandas-dev/pandas/issues/30718/events',\n",
              "  'html_url': 'https://github.com/pandas-dev/pandas/pull/30718',\n",
              "  'id': 545482103,\n",
              "  'labels': [{'color': 'ea91a4',\n",
              "    'default': False,\n",
              "    'description': '',\n",
              "    'id': 1280988427,\n",
              "    'name': 'Typing',\n",
              "    'node_id': 'MDU6TGFiZWwxMjgwOTg4NDI3',\n",
              "    'url': 'https://api.github.com/repos/pandas-dev/pandas/labels/Typing'}],\n",
              "  'labels_url': 'https://api.github.com/repos/pandas-dev/pandas/issues/30718/labels{/name}',\n",
              "  'locked': False,\n",
              "  'milestone': None,\n",
              "  'node_id': 'MDExOlB1bGxSZXF1ZXN0MzU5MzQ3NDI4',\n",
              "  'number': 30718,\n",
              "  'pull_request': {'diff_url': 'https://github.com/pandas-dev/pandas/pull/30718.diff',\n",
              "   'html_url': 'https://github.com/pandas-dev/pandas/pull/30718',\n",
              "   'patch_url': 'https://github.com/pandas-dev/pandas/pull/30718.patch',\n",
              "   'url': 'https://api.github.com/repos/pandas-dev/pandas/pulls/30718'},\n",
              "  'repository_url': 'https://api.github.com/repos/pandas-dev/pandas',\n",
              "  'state': 'open',\n",
              "  'title': 'TYP: type up parts of frame.py',\n",
              "  'updated_at': '2020-01-06T17:13:06Z',\n",
              "  'url': 'https://api.github.com/repos/pandas-dev/pandas/issues/30718',\n",
              "  'user': {'avatar_url': 'https://avatars1.githubusercontent.com/u/26364415?v=4',\n",
              "   'events_url': 'https://api.github.com/users/topper-123/events{/privacy}',\n",
              "   'followers_url': 'https://api.github.com/users/topper-123/followers',\n",
              "   'following_url': 'https://api.github.com/users/topper-123/following{/other_user}',\n",
              "   'gists_url': 'https://api.github.com/users/topper-123/gists{/gist_id}',\n",
              "   'gravatar_id': '',\n",
              "   'html_url': 'https://github.com/topper-123',\n",
              "   'id': 26364415,\n",
              "   'login': 'topper-123',\n",
              "   'node_id': 'MDQ6VXNlcjI2MzY0NDE1',\n",
              "   'organizations_url': 'https://api.github.com/users/topper-123/orgs',\n",
              "   'received_events_url': 'https://api.github.com/users/topper-123/received_events',\n",
              "   'repos_url': 'https://api.github.com/users/topper-123/repos',\n",
              "   'site_admin': False,\n",
              "   'starred_url': 'https://api.github.com/users/topper-123/starred{/owner}{/repo}',\n",
              "   'subscriptions_url': 'https://api.github.com/users/topper-123/subscriptions',\n",
              "   'type': 'User',\n",
              "   'url': 'https://api.github.com/users/topper-123'}},\n",
              " {'assignee': None,\n",
              "  'assignees': [],\n",
              "  'author_association': 'MEMBER',\n",
              "  'body': '',\n",
              "  'closed_at': None,\n",
              "  'comments': 4,\n",
              "  'comments_url': 'https://api.github.com/repos/pandas-dev/pandas/issues/30717/comments',\n",
              "  'created_at': '2020-01-05T22:47:12Z',\n",
              "  'events_url': 'https://api.github.com/repos/pandas-dev/pandas/issues/30717/events',\n",
              "  'html_url': 'https://github.com/pandas-dev/pandas/pull/30717',\n",
              "  'id': 545477803,\n",
              "  'labels': [{'color': '207de5',\n",
              "    'default': False,\n",
              "    'description': None,\n",
              "    'id': 211029535,\n",
              "    'name': 'Clean',\n",
              "    'node_id': 'MDU6TGFiZWwyMTEwMjk1MzU=',\n",
              "    'url': 'https://api.github.com/repos/pandas-dev/pandas/labels/Clean'}],\n",
              "  'labels_url': 'https://api.github.com/repos/pandas-dev/pandas/issues/30717/labels{/name}',\n",
              "  'locked': False,\n",
              "  'milestone': {'closed_at': None,\n",
              "   'closed_issues': 1947,\n",
              "   'created_at': '2012-09-13T02:13:00Z',\n",
              "   'creator': {'avatar_url': 'https://avatars2.githubusercontent.com/u/329591?v=4',\n",
              "    'events_url': 'https://api.github.com/users/wesm/events{/privacy}',\n",
              "    'followers_url': 'https://api.github.com/users/wesm/followers',\n",
              "    'following_url': 'https://api.github.com/users/wesm/following{/other_user}',\n",
              "    'gists_url': 'https://api.github.com/users/wesm/gists{/gist_id}',\n",
              "    'gravatar_id': '',\n",
              "    'html_url': 'https://github.com/wesm',\n",
              "    'id': 329591,\n",
              "    'login': 'wesm',\n",
              "    'node_id': 'MDQ6VXNlcjMyOTU5MQ==',\n",
              "    'organizations_url': 'https://api.github.com/users/wesm/orgs',\n",
              "    'received_events_url': 'https://api.github.com/users/wesm/received_events',\n",
              "    'repos_url': 'https://api.github.com/users/wesm/repos',\n",
              "    'site_admin': False,\n",
              "    'starred_url': 'https://api.github.com/users/wesm/starred{/owner}{/repo}',\n",
              "    'subscriptions_url': 'https://api.github.com/users/wesm/subscriptions',\n",
              "    'type': 'User',\n",
              "    'url': 'https://api.github.com/users/wesm'},\n",
              "   'description': '',\n",
              "   'due_on': '2020-02-01T08:00:00Z',\n",
              "   'html_url': 'https://github.com/pandas-dev/pandas/milestone/16',\n",
              "   'id': 174211,\n",
              "   'labels_url': 'https://api.github.com/repos/pandas-dev/pandas/milestones/16/labels',\n",
              "   'node_id': 'MDk6TWlsZXN0b25lMTc0MjEx',\n",
              "   'number': 16,\n",
              "   'open_issues': 44,\n",
              "   'state': 'open',\n",
              "   'title': '1.0',\n",
              "   'updated_at': '2020-01-06T18:11:51Z',\n",
              "   'url': 'https://api.github.com/repos/pandas-dev/pandas/milestones/16'},\n",
              "  'node_id': 'MDExOlB1bGxSZXF1ZXN0MzU5MzQ0MzA2',\n",
              "  'number': 30717,\n",
              "  'pull_request': {'diff_url': 'https://github.com/pandas-dev/pandas/pull/30717.diff',\n",
              "   'html_url': 'https://github.com/pandas-dev/pandas/pull/30717',\n",
              "   'patch_url': 'https://github.com/pandas-dev/pandas/pull/30717.patch',\n",
              "   'url': 'https://api.github.com/repos/pandas-dev/pandas/pulls/30717'},\n",
              "  'repository_url': 'https://api.github.com/repos/pandas-dev/pandas',\n",
              "  'state': 'open',\n",
              "  'title': 'REF: move sharable methods to ExtensionIndex',\n",
              "  'updated_at': '2020-01-06T17:33:37Z',\n",
              "  'url': 'https://api.github.com/repos/pandas-dev/pandas/issues/30717',\n",
              "  'user': {'avatar_url': 'https://avatars1.githubusercontent.com/u/8078968?v=4',\n",
              "   'events_url': 'https://api.github.com/users/jbrockmendel/events{/privacy}',\n",
              "   'followers_url': 'https://api.github.com/users/jbrockmendel/followers',\n",
              "   'following_url': 'https://api.github.com/users/jbrockmendel/following{/other_user}',\n",
              "   'gists_url': 'https://api.github.com/users/jbrockmendel/gists{/gist_id}',\n",
              "   'gravatar_id': '',\n",
              "   'html_url': 'https://github.com/jbrockmendel',\n",
              "   'id': 8078968,\n",
              "   'login': 'jbrockmendel',\n",
              "   'node_id': 'MDQ6VXNlcjgwNzg5Njg=',\n",
              "   'organizations_url': 'https://api.github.com/users/jbrockmendel/orgs',\n",
              "   'received_events_url': 'https://api.github.com/users/jbrockmendel/received_events',\n",
              "   'repos_url': 'https://api.github.com/users/jbrockmendel/repos',\n",
              "   'site_admin': False,\n",
              "   'starred_url': 'https://api.github.com/users/jbrockmendel/starred{/owner}{/repo}',\n",
              "   'subscriptions_url': 'https://api.github.com/users/jbrockmendel/subscriptions',\n",
              "   'type': 'User',\n",
              "   'url': 'https://api.github.com/users/jbrockmendel'}},\n",
              " {'assignee': None,\n",
              "  'assignees': [],\n",
              "  'author_association': 'CONTRIBUTOR',\n",
              "  'body': '- [ ] closes #10720\\r\\n- [ ] tests added / passed\\r\\n- [x] passes `black pandas`\\r\\n- [x] passes `git diff upstream/master -u -- \"*.py\" | flake8 --diff`\\r\\n',\n",
              "  'closed_at': None,\n",
              "  'comments': 0,\n",
              "  'comments_url': 'https://api.github.com/repos/pandas-dev/pandas/issues/30711/comments',\n",
              "  'created_at': '2020-01-05T18:30:22Z',\n",
              "  'events_url': 'https://api.github.com/repos/pandas-dev/pandas/issues/30711/events',\n",
              "  'html_url': 'https://github.com/pandas-dev/pandas/pull/30711',\n",
              "  'id': 545450713,\n",
              "  'labels': [{'color': 'ffa0ff',\n",
              "    'default': False,\n",
              "    'description': None,\n",
              "    'id': 42670965,\n",
              "    'name': 'Error Reporting',\n",
              "    'node_id': 'MDU6TGFiZWw0MjY3MDk2NQ==',\n",
              "    'url': 'https://api.github.com/repos/pandas-dev/pandas/labels/Error%20Reporting'},\n",
              "   {'color': '5319e7',\n",
              "    'default': False,\n",
              "    'description': None,\n",
              "    'id': 49597148,\n",
              "    'name': 'Timedelta',\n",
              "    'node_id': 'MDU6TGFiZWw0OTU5NzE0OA==',\n",
              "    'url': 'https://api.github.com/repos/pandas-dev/pandas/labels/Timedelta'},\n",
              "   {'color': 'AFEEEE',\n",
              "    'default': False,\n",
              "    'description': None,\n",
              "    'id': 211840,\n",
              "    'name': 'Timeseries',\n",
              "    'node_id': 'MDU6TGFiZWwyMTE4NDA=',\n",
              "    'url': 'https://api.github.com/repos/pandas-dev/pandas/labels/Timeseries'}],\n",
              "  'labels_url': 'https://api.github.com/repos/pandas-dev/pandas/issues/30711/labels{/name}',\n",
              "  'locked': False,\n",
              "  'milestone': None,\n",
              "  'node_id': 'MDExOlB1bGxSZXF1ZXN0MzU5MzI1MDMz',\n",
              "  'number': 30711,\n",
              "  'pull_request': {'diff_url': 'https://github.com/pandas-dev/pandas/pull/30711.diff',\n",
              "   'html_url': 'https://github.com/pandas-dev/pandas/pull/30711',\n",
              "   'patch_url': 'https://github.com/pandas-dev/pandas/pull/30711.patch',\n",
              "   'url': 'https://api.github.com/repos/pandas-dev/pandas/pulls/30711'},\n",
              "  'repository_url': 'https://api.github.com/repos/pandas-dev/pandas',\n",
              "  'state': 'open',\n",
              "  'title': 'Datetime error message',\n",
              "  'updated_at': '2020-01-06T00:29:13Z',\n",
              "  'url': 'https://api.github.com/repos/pandas-dev/pandas/issues/30711',\n",
              "  'user': {'avatar_url': 'https://avatars3.githubusercontent.com/u/16845495?v=4',\n",
              "   'events_url': 'https://api.github.com/users/baevpetr/events{/privacy}',\n",
              "   'followers_url': 'https://api.github.com/users/baevpetr/followers',\n",
              "   'following_url': 'https://api.github.com/users/baevpetr/following{/other_user}',\n",
              "   'gists_url': 'https://api.github.com/users/baevpetr/gists{/gist_id}',\n",
              "   'gravatar_id': '',\n",
              "   'html_url': 'https://github.com/baevpetr',\n",
              "   'id': 16845495,\n",
              "   'login': 'baevpetr',\n",
              "   'node_id': 'MDQ6VXNlcjE2ODQ1NDk1',\n",
              "   'organizations_url': 'https://api.github.com/users/baevpetr/orgs',\n",
              "   'received_events_url': 'https://api.github.com/users/baevpetr/received_events',\n",
              "   'repos_url': 'https://api.github.com/users/baevpetr/repos',\n",
              "   'site_admin': False,\n",
              "   'starred_url': 'https://api.github.com/users/baevpetr/starred{/owner}{/repo}',\n",
              "   'subscriptions_url': 'https://api.github.com/users/baevpetr/subscriptions',\n",
              "   'type': 'User',\n",
              "   'url': 'https://api.github.com/users/baevpetr'}},\n",
              " {'assignee': None,\n",
              "  'assignees': [],\n",
              "  'author_association': 'CONTRIBUTOR',\n",
              "  'body': '- [ ] closes #xxxx\\r\\n- [ ] tests added / passed\\r\\n- [x] passes `black pandas`\\r\\n- [x] passes `git diff upstream/master -u -- \"*.py\" | flake8 --diff`\\r\\n- [ ] whatsnew entry\\r\\n\\r\\nTest case for:\\r\\n```python\\r\\nfoo = (\\r\\n            \"bar\"\\r\\n            \" baz\"\\r\\n)\\r\\n```',\n",
              "  'closed_at': None,\n",
              "  'comments': 0,\n",
              "  'comments_url': 'https://api.github.com/repos/pandas-dev/pandas/issues/30708/comments',\n",
              "  'created_at': '2020-01-05T11:36:22Z',\n",
              "  'events_url': 'https://api.github.com/repos/pandas-dev/pandas/issues/30708/events',\n",
              "  'html_url': 'https://github.com/pandas-dev/pandas/pull/30708',\n",
              "  'id': 545405870,\n",
              "  'labels': [{'color': 'a2bca7',\n",
              "    'default': False,\n",
              "    'description': None,\n",
              "    'id': 48070600,\n",
              "    'name': 'CI',\n",
              "    'node_id': 'MDU6TGFiZWw0ODA3MDYwMA==',\n",
              "    'url': 'https://api.github.com/repos/pandas-dev/pandas/labels/CI'},\n",
              "   {'color': 'eb6420',\n",
              "    'default': False,\n",
              "    'description': 'Code style, linting, code_checks',\n",
              "    'id': 106935113,\n",
              "    'name': 'Style',\n",
              "    'node_id': 'MDU6TGFiZWwxMDY5MzUxMTM=',\n",
              "    'url': 'https://api.github.com/repos/pandas-dev/pandas/labels/Style'}],\n",
              "  'labels_url': 'https://api.github.com/repos/pandas-dev/pandas/issues/30708/labels{/name}',\n",
              "  'locked': False,\n",
              "  'milestone': None,\n",
              "  'node_id': 'MDExOlB1bGxSZXF1ZXN0MzU5MjkzMTky',\n",
              "  'number': 30708,\n",
              "  'pull_request': {'diff_url': 'https://github.com/pandas-dev/pandas/pull/30708.diff',\n",
              "   'html_url': 'https://github.com/pandas-dev/pandas/pull/30708',\n",
              "   'patch_url': 'https://github.com/pandas-dev/pandas/pull/30708.patch',\n",
              "   'url': 'https://api.github.com/repos/pandas-dev/pandas/pulls/30708'},\n",
              "  'repository_url': 'https://api.github.com/repos/pandas-dev/pandas',\n",
              "  'state': 'open',\n",
              "  'title': 'CI: Test case for wrong placed space',\n",
              "  'updated_at': '2020-01-06T10:04:14Z',\n",
              "  'url': 'https://api.github.com/repos/pandas-dev/pandas/issues/30708',\n",
              "  'user': {'avatar_url': 'https://avatars0.githubusercontent.com/u/50263213?v=4',\n",
              "   'events_url': 'https://api.github.com/users/MomIsBestFriend/events{/privacy}',\n",
              "   'followers_url': 'https://api.github.com/users/MomIsBestFriend/followers',\n",
              "   'following_url': 'https://api.github.com/users/MomIsBestFriend/following{/other_user}',\n",
              "   'gists_url': 'https://api.github.com/users/MomIsBestFriend/gists{/gist_id}',\n",
              "   'gravatar_id': '',\n",
              "   'html_url': 'https://github.com/MomIsBestFriend',\n",
              "   'id': 50263213,\n",
              "   'login': 'MomIsBestFriend',\n",
              "   'node_id': 'MDQ6VXNlcjUwMjYzMjEz',\n",
              "   'organizations_url': 'https://api.github.com/users/MomIsBestFriend/orgs',\n",
              "   'received_events_url': 'https://api.github.com/users/MomIsBestFriend/received_events',\n",
              "   'repos_url': 'https://api.github.com/users/MomIsBestFriend/repos',\n",
              "   'site_admin': False,\n",
              "   'starred_url': 'https://api.github.com/users/MomIsBestFriend/starred{/owner}{/repo}',\n",
              "   'subscriptions_url': 'https://api.github.com/users/MomIsBestFriend/subscriptions',\n",
              "   'type': 'User',\n",
              "   'url': 'https://api.github.com/users/MomIsBestFriend'}},\n",
              " {'assignee': None,\n",
              "  'assignees': [],\n",
              "  'author_association': 'MEMBER',\n",
              "  'body': '#### Code Sample, a copy-pastable example if possible\\r\\nConsider the following setup on master:\\r\\n```python\\r\\nIn [1]: import pandas as pd; pd.__version__\\r\\nOut[1]: \\'0.26.0.dev0+1576.gdd0d353fb\\'\\r\\n\\r\\nIn [2]: dti = pd.date_range(\"2020\", periods=3) \\r\\n   ...: dti_tz = pd.date_range(\"2020\", periods=3, tz=\"UTC\") \\r\\n   ...: tdi = pd.timedelta_range(\"0 days\", periods=3) \\r\\n   ...: pi = pd.period_range(\"2020Q1\", periods=3, freq=\"Q\")\\r\\n```\\r\\n\\r\\nEquality comparisons with an equivalent `Categorical` are incorrect for `DatetimeIndex`:\\r\\n```python\\r\\nIn [3]: dti == pd.Categorical(dti)\\r\\nOut[3]: array([False, False, False])\\r\\n\\r\\nIn [4]: dti_tz == pd.Categorical(dti_tz)\\r\\nOut[4]: array([False, False, False])\\r\\n```\\r\\n\\r\\nEquality comparisons raise for `PeriodIndex`:\\r\\n```python\\r\\nIn [5]: pi == pd.Categorical(pi)\\r\\n---------------------------------------------------------------------------\\r\\nValueError: Value must be Period, string, integer, or datetime\\r\\n```\\r\\nLooks good for `TimedeltaIndex`:\\r\\n```python\\r\\nIn [6]: tdi == pd.Categorical(tdi)\\r\\nOut[6]: array([ True,  True,  True])\\r\\n```\\r\\n\\r\\nThe incorrect behavior above is generally consistent when replacing the index with its extension array/Series equivalent, `Categorical` with `CategoricalIndex`/`Series[Categorical]`, and `==` with `!=`.\\r\\n\\r\\nThe only exception appears to be that a couple cases work when when you have a  `Categorical`/ `CategoricalIndex` on the RHS and an extension array on the LHS:\\r\\n```python\\r\\nIn [7]: pd.Categorical(dti) == dti.array\\r\\nOut[7]: array([ True,  True,  True])\\r\\n\\r\\nIn [8]: pd.CategoricalIndex(pi) == pi.array\\r\\nOut[8]: array([ True,  True,  True])\\r\\n```\\r\\nThough note that the above does not work for `dti_tz.array`\\r\\n\\r\\n#### Problem description\\r\\n\\r\\nEquality comparisons for datetimelike arrays/indexes are largely incorrect when comparing to equivalent categoricals.  There is some tie in to #19513 but I think this specific component is pretty clear cut.\\r\\n\\r\\n#### Expected Output\\r\\nI\\'d expect all variants of `==` to in the examples above to return `array([ True,  True,  True])`, and all variants of `!=` to return  `array([False, False, False])`.\\r\\n\\r\\ncc @jbrockmendel \\r\\n',\n",
              "  'closed_at': None,\n",
              "  'comments': 3,\n",
              "  'comments_url': 'https://api.github.com/repos/pandas-dev/pandas/issues/30699/comments',\n",
              "  'created_at': '2020-01-04T21:43:39Z',\n",
              "  'events_url': 'https://api.github.com/repos/pandas-dev/pandas/issues/30699/events',\n",
              "  'html_url': 'https://github.com/pandas-dev/pandas/issues/30699',\n",
              "  'id': 545336099,\n",
              "  'labels': [{'color': 'e10c02',\n",
              "    'default': False,\n",
              "    'description': None,\n",
              "    'id': 76811,\n",
              "    'name': 'Bug',\n",
              "    'node_id': 'MDU6TGFiZWw3NjgxMQ==',\n",
              "    'url': 'https://api.github.com/repos/pandas-dev/pandas/labels/Bug'},\n",
              "   {'color': 'e11d21',\n",
              "    'default': False,\n",
              "    'description': None,\n",
              "    'id': 78527356,\n",
              "    'name': 'Categorical',\n",
              "    'node_id': 'MDU6TGFiZWw3ODUyNzM1Ng==',\n",
              "    'url': 'https://api.github.com/repos/pandas-dev/pandas/labels/Categorical'},\n",
              "   {'color': 'eb6420',\n",
              "    'default': False,\n",
              "    'description': None,\n",
              "    'id': 60635328,\n",
              "    'name': 'Period',\n",
              "    'node_id': 'MDU6TGFiZWw2MDYzNTMyOA==',\n",
              "    'url': 'https://api.github.com/repos/pandas-dev/pandas/labels/Period'},\n",
              "   {'color': 'AFEEEE',\n",
              "    'default': False,\n",
              "    'description': None,\n",
              "    'id': 211840,\n",
              "    'name': 'Timeseries',\n",
              "    'node_id': 'MDU6TGFiZWwyMTE4NDA=',\n",
              "    'url': 'https://api.github.com/repos/pandas-dev/pandas/labels/Timeseries'}],\n",
              "  'labels_url': 'https://api.github.com/repos/pandas-dev/pandas/issues/30699/labels{/name}',\n",
              "  'locked': False,\n",
              "  'milestone': {'closed_at': None,\n",
              "   'closed_issues': 519,\n",
              "   'created_at': '2015-01-13T10:53:19Z',\n",
              "   'creator': {'avatar_url': 'https://avatars2.githubusercontent.com/u/953992?v=4',\n",
              "    'events_url': 'https://api.github.com/users/jreback/events{/privacy}',\n",
              "    'followers_url': 'https://api.github.com/users/jreback/followers',\n",
              "    'following_url': 'https://api.github.com/users/jreback/following{/other_user}',\n",
              "    'gists_url': 'https://api.github.com/users/jreback/gists{/gist_id}',\n",
              "    'gravatar_id': '',\n",
              "    'html_url': 'https://github.com/jreback',\n",
              "    'id': 953992,\n",
              "    'login': 'jreback',\n",
              "    'node_id': 'MDQ6VXNlcjk1Mzk5Mg==',\n",
              "    'organizations_url': 'https://api.github.com/users/jreback/orgs',\n",
              "    'received_events_url': 'https://api.github.com/users/jreback/received_events',\n",
              "    'repos_url': 'https://api.github.com/users/jreback/repos',\n",
              "    'site_admin': False,\n",
              "    'starred_url': 'https://api.github.com/users/jreback/starred{/owner}{/repo}',\n",
              "    'subscriptions_url': 'https://api.github.com/users/jreback/subscriptions',\n",
              "    'type': 'User',\n",
              "    'url': 'https://api.github.com/users/jreback'},\n",
              "   'description': 'Changes that would be nice to have in the next release. These issues are not blocking. They will be pushed to the next release if no one has time to fix them.',\n",
              "   'due_on': None,\n",
              "   'html_url': 'https://github.com/pandas-dev/pandas/milestone/32',\n",
              "   'id': 933188,\n",
              "   'labels_url': 'https://api.github.com/repos/pandas-dev/pandas/milestones/32/labels',\n",
              "   'node_id': 'MDk6TWlsZXN0b25lOTMzMTg4',\n",
              "   'number': 32,\n",
              "   'open_issues': 1204,\n",
              "   'state': 'open',\n",
              "   'title': 'Contributions Welcome',\n",
              "   'updated_at': '2020-01-06T13:36:28Z',\n",
              "   'url': 'https://api.github.com/repos/pandas-dev/pandas/milestones/32'},\n",
              "  'node_id': 'MDU6SXNzdWU1NDUzMzYwOTk=',\n",
              "  'number': 30699,\n",
              "  'repository_url': 'https://api.github.com/repos/pandas-dev/pandas',\n",
              "  'state': 'open',\n",
              "  'title': 'BUG: Datetimelike equality comparisons with Categorical',\n",
              "  'updated_at': '2020-01-05T22:18:32Z',\n",
              "  'url': 'https://api.github.com/repos/pandas-dev/pandas/issues/30699',\n",
              "  'user': {'avatar_url': 'https://avatars3.githubusercontent.com/u/5332445?v=4',\n",
              "   'events_url': 'https://api.github.com/users/jschendel/events{/privacy}',\n",
              "   'followers_url': 'https://api.github.com/users/jschendel/followers',\n",
              "   'following_url': 'https://api.github.com/users/jschendel/following{/other_user}',\n",
              "   'gists_url': 'https://api.github.com/users/jschendel/gists{/gist_id}',\n",
              "   'gravatar_id': '',\n",
              "   'html_url': 'https://github.com/jschendel',\n",
              "   'id': 5332445,\n",
              "   'login': 'jschendel',\n",
              "   'node_id': 'MDQ6VXNlcjUzMzI0NDU=',\n",
              "   'organizations_url': 'https://api.github.com/users/jschendel/orgs',\n",
              "   'received_events_url': 'https://api.github.com/users/jschendel/received_events',\n",
              "   'repos_url': 'https://api.github.com/users/jschendel/repos',\n",
              "   'site_admin': False,\n",
              "   'starred_url': 'https://api.github.com/users/jschendel/starred{/owner}{/repo}',\n",
              "   'subscriptions_url': 'https://api.github.com/users/jschendel/subscriptions',\n",
              "   'type': 'User',\n",
              "   'url': 'https://api.github.com/users/jschendel'}}]"
            ]
          },
          "metadata": {
            "tags": []
          },
          "execution_count": 68
        }
      ]
    },
    {
      "cell_type": "code",
      "metadata": {
        "id": "Vm6z0NSn0b7k",
        "colab_type": "code",
        "colab": {
          "base_uri": "https://localhost:8080/",
          "height": 589
        },
        "outputId": "47a00462-183e-4a22-c95c-825bf01d6f46"
      },
      "source": [
        "issues = pd.DataFrame(data, columns=['number', 'title','html_url',\n",
        "                                     'labels', 'state'])\n",
        "issues"
      ],
      "execution_count": 71,
      "outputs": [
        {
          "output_type": "execute_result",
          "data": {
            "text/html": [
              "<div>\n",
              "<style scoped>\n",
              "    .dataframe tbody tr th:only-of-type {\n",
              "        vertical-align: middle;\n",
              "    }\n",
              "\n",
              "    .dataframe tbody tr th {\n",
              "        vertical-align: top;\n",
              "    }\n",
              "\n",
              "    .dataframe thead th {\n",
              "        text-align: right;\n",
              "    }\n",
              "</style>\n",
              "<table border=\"1\" class=\"dataframe\">\n",
              "  <thead>\n",
              "    <tr style=\"text-align: right;\">\n",
              "      <th></th>\n",
              "      <th>number</th>\n",
              "      <th>title</th>\n",
              "      <th>html_url</th>\n",
              "      <th>labels</th>\n",
              "      <th>state</th>\n",
              "    </tr>\n",
              "  </thead>\n",
              "  <tbody>\n",
              "    <tr>\n",
              "      <th>0</th>\n",
              "      <td>30750</td>\n",
              "      <td>NA is not included in MultiIndex.levels if we ...</td>\n",
              "      <td>https://github.com/pandas-dev/pandas/issues/30750</td>\n",
              "      <td>[]</td>\n",
              "      <td>open</td>\n",
              "    </tr>\n",
              "    <tr>\n",
              "      <th>1</th>\n",
              "      <td>30749</td>\n",
              "      <td>Fix PR08 errors</td>\n",
              "      <td>https://github.com/pandas-dev/pandas/pull/30749</td>\n",
              "      <td>[]</td>\n",
              "      <td>open</td>\n",
              "    </tr>\n",
              "    <tr>\n",
              "      <th>2</th>\n",
              "      <td>30748</td>\n",
              "      <td>`pandas.DataFrame.explode()` combines rows wit...</td>\n",
              "      <td>https://github.com/pandas-dev/pandas/issues/30748</td>\n",
              "      <td>[]</td>\n",
              "      <td>open</td>\n",
              "    </tr>\n",
              "    <tr>\n",
              "      <th>3</th>\n",
              "      <td>30747</td>\n",
              "      <td>PERF: Categorical getitem perf</td>\n",
              "      <td>https://github.com/pandas-dev/pandas/pull/30747</td>\n",
              "      <td>[{'id': 78527356, 'node_id': 'MDU6TGFiZWw3ODUy...</td>\n",
              "      <td>open</td>\n",
              "    </tr>\n",
              "    <tr>\n",
              "      <th>4</th>\n",
              "      <td>30746</td>\n",
              "      <td>WIP: Using docstring validator from numpydoc</td>\n",
              "      <td>https://github.com/pandas-dev/pandas/pull/30746</td>\n",
              "      <td>[{'id': 48070600, 'node_id': 'MDU6TGFiZWw0ODA3...</td>\n",
              "      <td>open</td>\n",
              "    </tr>\n",
              "    <tr>\n",
              "      <th>...</th>\n",
              "      <td>...</td>\n",
              "      <td>...</td>\n",
              "      <td>...</td>\n",
              "      <td>...</td>\n",
              "      <td>...</td>\n",
              "    </tr>\n",
              "    <tr>\n",
              "      <th>25</th>\n",
              "      <td>30718</td>\n",
              "      <td>TYP: type up parts of frame.py</td>\n",
              "      <td>https://github.com/pandas-dev/pandas/pull/30718</td>\n",
              "      <td>[{'id': 1280988427, 'node_id': 'MDU6TGFiZWwxMj...</td>\n",
              "      <td>open</td>\n",
              "    </tr>\n",
              "    <tr>\n",
              "      <th>26</th>\n",
              "      <td>30717</td>\n",
              "      <td>REF: move sharable methods to ExtensionIndex</td>\n",
              "      <td>https://github.com/pandas-dev/pandas/pull/30717</td>\n",
              "      <td>[{'id': 211029535, 'node_id': 'MDU6TGFiZWwyMTE...</td>\n",
              "      <td>open</td>\n",
              "    </tr>\n",
              "    <tr>\n",
              "      <th>27</th>\n",
              "      <td>30711</td>\n",
              "      <td>Datetime error message</td>\n",
              "      <td>https://github.com/pandas-dev/pandas/pull/30711</td>\n",
              "      <td>[{'id': 42670965, 'node_id': 'MDU6TGFiZWw0MjY3...</td>\n",
              "      <td>open</td>\n",
              "    </tr>\n",
              "    <tr>\n",
              "      <th>28</th>\n",
              "      <td>30708</td>\n",
              "      <td>CI: Test case for wrong placed space</td>\n",
              "      <td>https://github.com/pandas-dev/pandas/pull/30708</td>\n",
              "      <td>[{'id': 48070600, 'node_id': 'MDU6TGFiZWw0ODA3...</td>\n",
              "      <td>open</td>\n",
              "    </tr>\n",
              "    <tr>\n",
              "      <th>29</th>\n",
              "      <td>30699</td>\n",
              "      <td>BUG: Datetimelike equality comparisons with Ca...</td>\n",
              "      <td>https://github.com/pandas-dev/pandas/issues/30699</td>\n",
              "      <td>[{'id': 76811, 'node_id': 'MDU6TGFiZWw3NjgxMQ=...</td>\n",
              "      <td>open</td>\n",
              "    </tr>\n",
              "  </tbody>\n",
              "</table>\n",
              "<p>30 rows × 5 columns</p>\n",
              "</div>"
            ],
            "text/plain": [
              "    number  ... state\n",
              "0    30750  ...  open\n",
              "1    30749  ...  open\n",
              "2    30748  ...  open\n",
              "3    30747  ...  open\n",
              "4    30746  ...  open\n",
              "..     ...  ...   ...\n",
              "25   30718  ...  open\n",
              "26   30717  ...  open\n",
              "27   30711  ...  open\n",
              "28   30708  ...  open\n",
              "29   30699  ...  open\n",
              "\n",
              "[30 rows x 5 columns]"
            ]
          },
          "metadata": {
            "tags": []
          },
          "execution_count": 71
        }
      ]
    },
    {
      "cell_type": "markdown",
      "metadata": {
        "id": "GKRwtbsV0b7m",
        "colab_type": "text"
      },
      "source": [
        "# Interacting with Databases"
      ]
    },
    {
      "cell_type": "code",
      "metadata": {
        "id": "wCNvJSdV0b7o",
        "colab_type": "code",
        "colab": {}
      },
      "source": [
        "import sqlite3\n",
        "#connecting with the database.\n",
        "db = sqlite3.connect(\"my_database4.db\")\n",
        "# Drop table if it already exist using execute() method.\n",
        "db.execute(\"drop table if exists test\")\n",
        "query = \"\"\"\n",
        "CREATE TABLE test\n",
        "(a VARCHAR(20), b VARCHAR(20),\n",
        " c REAL,        d INTEGER\n",
        ");\"\"\"\n",
        "con = sqlite3.connect('mydata2.sqlite')\n",
        "con.execute(query)\n",
        "con.commit()"
      ],
      "execution_count": 0,
      "outputs": []
    },
    {
      "cell_type": "code",
      "metadata": {
        "id": "J0mZK-HM0b7q",
        "colab_type": "code",
        "colab": {}
      },
      "source": [
        "data = [('Atlanta', 'Georgia', 1.25, 6),\n",
        "        ('Tallahassee', 'Florida', 2.6, 3),\n",
        "        ('Sacramento', 'California', 1.7, 5)]\n",
        "stmt = \"INSERT INTO test VALUES(?, ?, ?, ?)\"\n",
        "con.executemany(stmt, data)\n",
        "con.commit()"
      ],
      "execution_count": 0,
      "outputs": []
    },
    {
      "cell_type": "code",
      "metadata": {
        "id": "xLe3U8NO0b7s",
        "colab_type": "code",
        "colab": {},
        "outputId": "2e031163-1608-45f9-ab5a-187524182aba"
      },
      "source": [
        "cursor = con.execute('select * from test')\n",
        "rows = cursor.fetchall()\n",
        "rows"
      ],
      "execution_count": 0,
      "outputs": [
        {
          "output_type": "execute_result",
          "data": {
            "text/plain": [
              "[('Atlanta', 'Georgia', 1.25, 6),\n",
              " ('Tallahassee', 'Florida', 2.6, 3),\n",
              " ('Sacramento', 'California', 1.7, 5)]"
            ]
          },
          "metadata": {
            "tags": []
          },
          "execution_count": 155
        }
      ]
    },
    {
      "cell_type": "code",
      "metadata": {
        "id": "Sd8faYWm0b7u",
        "colab_type": "code",
        "colab": {},
        "outputId": "4d9bf87e-19a2-4bf7-d770-6266cb877180"
      },
      "source": [
        "cursor.description\n",
        "pd.DataFrame(rows, columns=[x[0] for x in cursor.description])"
      ],
      "execution_count": 0,
      "outputs": [
        {
          "output_type": "execute_result",
          "data": {
            "text/html": [
              "<div>\n",
              "<style scoped>\n",
              "    .dataframe tbody tr th:only-of-type {\n",
              "        vertical-align: middle;\n",
              "    }\n",
              "\n",
              "    .dataframe tbody tr th {\n",
              "        vertical-align: top;\n",
              "    }\n",
              "\n",
              "    .dataframe thead th {\n",
              "        text-align: right;\n",
              "    }\n",
              "</style>\n",
              "<table border=\"1\" class=\"dataframe\">\n",
              "  <thead>\n",
              "    <tr style=\"text-align: right;\">\n",
              "      <th></th>\n",
              "      <th>a</th>\n",
              "      <th>b</th>\n",
              "      <th>c</th>\n",
              "      <th>d</th>\n",
              "    </tr>\n",
              "  </thead>\n",
              "  <tbody>\n",
              "    <tr>\n",
              "      <th>0</th>\n",
              "      <td>Atlanta</td>\n",
              "      <td>Georgia</td>\n",
              "      <td>1.25</td>\n",
              "      <td>6</td>\n",
              "    </tr>\n",
              "    <tr>\n",
              "      <th>1</th>\n",
              "      <td>Tallahassee</td>\n",
              "      <td>Florida</td>\n",
              "      <td>2.60</td>\n",
              "      <td>3</td>\n",
              "    </tr>\n",
              "    <tr>\n",
              "      <th>2</th>\n",
              "      <td>Sacramento</td>\n",
              "      <td>California</td>\n",
              "      <td>1.70</td>\n",
              "      <td>5</td>\n",
              "    </tr>\n",
              "  </tbody>\n",
              "</table>\n",
              "</div>"
            ],
            "text/plain": [
              "             a           b     c  d\n",
              "0      Atlanta     Georgia  1.25  6\n",
              "1  Tallahassee     Florida  2.60  3\n",
              "2   Sacramento  California  1.70  5"
            ]
          },
          "metadata": {
            "tags": []
          },
          "execution_count": 157
        }
      ]
    },
    {
      "cell_type": "code",
      "metadata": {
        "id": "mLF9e2q-0b7x",
        "colab_type": "code",
        "colab": {},
        "outputId": "cebca3c7-a546-4b43-a21c-494ceea2adba"
      },
      "source": [
        "#!/usr/bin/python\n",
        "\n",
        "import sqlite3\n",
        "#connecting with the database.\n",
        "db = sqlite3.connect(\"my_database5.db\")\n",
        "# Drop table if it already exist using execute() method.\n",
        "db.execute(\"drop table if exists grades1\")\n",
        "# Create table as per requirement\n",
        "db.execute(\"create table grades1(id int, name text, score int)\")\n",
        "#inserting values inside the created table\n",
        "db.execute(\"insert into grades1(id, name, score) values(101, 'John',99 )\")\n",
        "db.execute(\"insert into grades1(id, name, score) values(102, 'Gary',90 )\")\n",
        "db.execute(\"insert into grades1(id, name, score) values(103, 'James', 80 )\")\n",
        "db.execute(\"insert into grades1(id, name, score) values(104, 'Cathy', 85 )\")\n",
        "db.execute(\"insert into grades1(id, name, score) values(105, 'Kris',95 )\")"
      ],
      "execution_count": 0,
      "outputs": [
        {
          "output_type": "execute_result",
          "data": {
            "text/plain": [
              "<sqlite3.Cursor at 0x12136c340>"
            ]
          },
          "metadata": {
            "tags": []
          },
          "execution_count": 158
        }
      ]
    },
    {
      "cell_type": "code",
      "metadata": {
        "id": "nYHHg5RQ0b72",
        "colab_type": "code",
        "colab": {}
      },
      "source": [
        "db.commit()"
      ],
      "execution_count": 0,
      "outputs": []
    },
    {
      "cell_type": "code",
      "metadata": {
        "id": "6Ea3_SlN0b77",
        "colab_type": "code",
        "colab": {},
        "outputId": "df5b81c0-4353-4655-e927-2fa137cad751"
      },
      "source": [
        "results = db.execute(\"select * from grades1 order by id\")\n",
        "for row in results:\n",
        "    print((row))\n",
        "print(\"-\" * 60 )"
      ],
      "execution_count": 0,
      "outputs": [
        {
          "output_type": "stream",
          "text": [
            "(101, 'John', 99)\n",
            "(102, 'Gary', 90)\n",
            "(103, 'James', 80)\n",
            "(104, 'Cathy', 85)\n",
            "(105, 'Kris', 95)\n",
            "------------------------------------------------------------\n"
          ],
          "name": "stdout"
        }
      ]
    },
    {
      "cell_type": "code",
      "metadata": {
        "id": "frjdJVlG0b7_",
        "colab_type": "code",
        "colab": {},
        "outputId": "e7817d2f-6c7e-4e94-db85-29d2cbb662f1"
      },
      "source": [
        "results = db.execute(\"select * from grades1 where name = 'Gary' \")\n",
        "for row in results: print(row)\n",
        "print(\"-\"* 60 )"
      ],
      "execution_count": 0,
      "outputs": [
        {
          "output_type": "stream",
          "text": [
            "(102, 'Gary', 90)\n",
            "------------------------------------------------------------\n"
          ],
          "name": "stdout"
        }
      ]
    },
    {
      "cell_type": "code",
      "metadata": {
        "id": "5-OLnb4v0b8D",
        "colab_type": "code",
        "colab": {},
        "outputId": "61e2352a-06e6-4993-c298-4c727b403499"
      },
      "source": [
        "results = db.execute(\"select * from grades1 where score >= 90 \")\n",
        "for row in results:\n",
        "    print(row)\n",
        "print(\"-\" * 60 )"
      ],
      "execution_count": 0,
      "outputs": [
        {
          "output_type": "stream",
          "text": [
            "(101, 'John', 99)\n",
            "(102, 'Gary', 90)\n",
            "(105, 'Kris', 95)\n",
            "------------------------------------------------------------\n"
          ],
          "name": "stdout"
        }
      ]
    },
    {
      "cell_type": "code",
      "metadata": {
        "id": "z-KT1Ww60b8I",
        "colab_type": "code",
        "colab": {},
        "outputId": "e9c1809b-c249-4912-89c6-5ca29e7fb98b"
      },
      "source": [
        "results = db.execute(\"select name, score from grades1 order by score desc \")\n",
        "for row in results:\n",
        "    print(row)\n",
        "print(\"-\" * 60 )"
      ],
      "execution_count": 0,
      "outputs": [
        {
          "output_type": "stream",
          "text": [
            "('John', 99)\n",
            "('Kris', 95)\n",
            "('Gary', 90)\n",
            "('Cathy', 85)\n",
            "('James', 80)\n",
            "------------------------------------------------------------\n"
          ],
          "name": "stdout"
        }
      ]
    },
    {
      "cell_type": "code",
      "metadata": {
        "id": "5qTk59_J0b8Q",
        "colab_type": "code",
        "colab": {},
        "outputId": "43eb2dee-3188-430a-b1d1-b5c0d6a73999"
      },
      "source": [
        "results = db.execute(\"select name, score from grades1 order by score\")\n",
        "for row in results:\n",
        "    print(row)\n",
        "print(\"-\" * 60 )"
      ],
      "execution_count": 0,
      "outputs": [
        {
          "output_type": "stream",
          "text": [
            "('James', 80)\n",
            "('Cathy', 85)\n",
            "('Gary', 90)\n",
            "('Kris', 95)\n",
            "('John', 99)\n",
            "------------------------------------------------------------\n"
          ],
          "name": "stdout"
        }
      ]
    },
    {
      "cell_type": "code",
      "metadata": {
        "id": "6ZFWlgp90b8T",
        "colab_type": "code",
        "colab": {},
        "outputId": "0f918455-25ce-4664-db41-a848e45e64f8"
      },
      "source": [
        "results = db.execute(\"select name, score from grades1 order by score\")\n",
        "for row in results:\n",
        "    print(row)"
      ],
      "execution_count": 0,
      "outputs": [
        {
          "output_type": "stream",
          "text": [
            "('James', 80)\n",
            "('Cathy', 85)\n",
            "('Gary', 90)\n",
            "('Kris', 95)\n",
            "('John', 99)\n"
          ],
          "name": "stdout"
        }
      ]
    },
    {
      "cell_type": "code",
      "metadata": {
        "id": "JMuzGh550b8Y",
        "colab_type": "code",
        "colab": {}
      },
      "source": [
        ""
      ],
      "execution_count": 0,
      "outputs": []
    },
    {
      "cell_type": "code",
      "metadata": {
        "id": "qQqMcKED0b8c",
        "colab_type": "code",
        "colab": {}
      },
      "source": [
        ""
      ],
      "execution_count": 0,
      "outputs": []
    },
    {
      "cell_type": "code",
      "metadata": {
        "id": "typLh9wV0b8f",
        "colab_type": "code",
        "colab": {}
      },
      "source": [
        ""
      ],
      "execution_count": 0,
      "outputs": []
    },
    {
      "cell_type": "code",
      "metadata": {
        "id": "VI7-HN4b0b8m",
        "colab_type": "code",
        "colab": {}
      },
      "source": [
        ""
      ],
      "execution_count": 0,
      "outputs": []
    },
    {
      "cell_type": "code",
      "metadata": {
        "id": "JmYcdB5v0b8o",
        "colab_type": "code",
        "colab": {}
      },
      "source": [
        ""
      ],
      "execution_count": 0,
      "outputs": []
    }
  ]
}