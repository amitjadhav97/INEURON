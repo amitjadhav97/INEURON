{
  "nbformat": 4,
  "nbformat_minor": 0,
  "metadata": {
    "colab": {
      "name": "Python_Subjective_Answer.ipynb",
      "provenance": [],
      "collapsed_sections": [],
      "authorship_tag": "ABX9TyPnvD/NadCbKAv5Sjl57irF",
      "include_colab_link": true
    },
    "kernelspec": {
      "name": "python3",
      "display_name": "Python 3"
    },
    "accelerator": "GPU"
  },
  "cells": [
    {
      "cell_type": "markdown",
      "metadata": {
        "id": "view-in-github",
        "colab_type": "text"
      },
      "source": [
        "<a href=\"https://colab.research.google.com/github/plaban1981/INEURON/blob/master/Python_Subjective_Answer.ipynb\" target=\"_parent\"><img src=\"https://colab.research.google.com/assets/colab-badge.svg\" alt=\"Open In Colab\"/></a>"
      ]
    },
    {
      "cell_type": "markdown",
      "metadata": {
        "id": "oGDLAbkW8IJ9",
        "colab_type": "text"
      },
      "source": [
        "##Q1. Write a Python program to get the string from the given string where all the occurrence of its first char has been changed to '$,' except first char itself?\n",
        "\n",
        "Sample String: 'prospect'\n",
        "Expected Result : 'pros$ect'"
      ]
    },
    {
      "cell_type": "code",
      "metadata": {
        "id": "7CgdKICg8CY4",
        "colab_type": "code",
        "colab": {
          "base_uri": "https://localhost:8080/",
          "height": 51
        },
        "outputId": "1b2a9cce-d3f3-42a7-f41a-6bd0045e2e23"
      },
      "source": [
        "def replace_str(text):\n",
        "  rep_str = text[0]\n",
        "  return text[0]+ text[1:].replace(rep_str,'$')\n",
        "raw_string = input('Enter the string :')\n",
        "replace_str(raw_string)\n",
        "\n"
      ],
      "execution_count": 2,
      "outputs": [
        {
          "output_type": "stream",
          "text": [
            "Enter the string :prospect\n"
          ],
          "name": "stdout"
        },
        {
          "output_type": "execute_result",
          "data": {
            "text/plain": [
              "'pros$ect'"
            ]
          },
          "metadata": {
            "tags": []
          },
          "execution_count": 2
        }
      ]
    },
    {
      "cell_type": "markdown",
      "metadata": {
        "id": "hZvUk12SMlxH",
        "colab_type": "text"
      },
      "source": [
        "## Q2. Write a Python program to get the single string from the two givenstrings, and separated by the space and swap the first two characters of each string?\n",
        "\n",
        "Sample String : 'abc', 'xyz'.\n",
        "\n",
        "Expected Result: 'xyc abz'\n"
      ]
    },
    {
      "cell_type": "code",
      "metadata": {
        "id": "Lc_K1C1JMlJH",
        "colab_type": "code",
        "colab": {
          "base_uri": "https://localhost:8080/",
          "height": 34
        },
        "outputId": "21716117-b336-4d20-f091-b655ff56c001"
      },
      "source": [
        "def swap_str(text1,text2):\n",
        "  new_str1 = text2[:2]+text1[-1]\n",
        "  new_str2 = text1[:2] + text2[-1]\n",
        "  return new_str1 + \" \" + new_str2\n",
        "\n",
        "swap_str('abc', 'xyz')\n"
      ],
      "execution_count": 3,
      "outputs": [
        {
          "output_type": "execute_result",
          "data": {
            "text/plain": [
              "'xyc abz'"
            ]
          },
          "metadata": {
            "tags": []
          },
          "execution_count": 3
        }
      ]
    },
    {
      "cell_type": "markdown",
      "metadata": {
        "id": "R3axpENCORnx",
        "colab_type": "text"
      },
      "source": [
        "## Q3. Write the Python program to add 'ing' at the end of the given string(length of the string should be at least 3). If given string already ends with 'ing,' then add 'ly' instead. If string length of the given string is less than 3, leave it unchanged?\n",
        "\n",
        "\n",
        "Sample string: ' abc '\n",
        "Expected result: ' abcing '\n",
        "\n",
        "Sample string: ' string '\n",
        "Expected result: ' stringly '"
      ]
    },
    {
      "cell_type": "code",
      "metadata": {
        "id": "0Rsh6OZ1VDFx",
        "colab_type": "code",
        "colab": {
          "base_uri": "https://localhost:8080/",
          "height": 68
        },
        "outputId": "25a59baf-4442-4821-ea55-3be87e9bd9e9"
      },
      "source": [
        "def manipulate_string(text):\n",
        "  if len(text) > 2:\n",
        "    if text[-3:] == 'ing':\n",
        "      text = text + 'ly'\n",
        "    else:\n",
        "      text+='ing'\n",
        "  return text\n",
        "print(manipulate_string('ab'))\n",
        "print(manipulate_string('abc'))\n",
        "print(manipulate_string('string'))"
      ],
      "execution_count": 6,
      "outputs": [
        {
          "output_type": "stream",
          "text": [
            "ab\n",
            "abcing\n",
            "stringly\n"
          ],
          "name": "stdout"
        }
      ]
    },
    {
      "cell_type": "markdown",
      "metadata": {
        "id": "sFCgrOHHXzSL",
        "colab_type": "text"
      },
      "source": [
        "####Q4. Write the Python program to find the first appearance of the substring 'not' and 'poor' from the given string, if 'not' follows the 'poor',replace the whole 'not'...' poor' substring with 'good'.Return the resulting string.\n",
        "\n",
        "Sample string: 'The lyrics are not that poor!'\n",
        "'The lyrics are poor!'\n",
        "\n",
        "Expected Result: 'The lyrics are good!'\n",
        "'The lyrics are poor!'"
      ]
    },
    {
      "cell_type": "code",
      "metadata": {
        "id": "xF_n4sr-abcJ",
        "colab_type": "code",
        "colab": {}
      },
      "source": [
        "def not_poor(text):\n",
        "  strno = text.find('not')\n",
        "  strpoor = text.find('poor')\n",
        "\n",
        "  if strpoor > strno and strno > 0 and strpoor > 0:\n",
        "    str1 = text.replace(text[strno:strpoor+4],'good')\n",
        "    return str1\n",
        "  else:\n",
        "    return text.replace('good','poor')"
      ],
      "execution_count": 0,
      "outputs": []
    },
    {
      "cell_type": "code",
      "metadata": {
        "id": "6j1MrZogX5l6",
        "colab_type": "code",
        "colab": {
          "base_uri": "https://localhost:8080/",
          "height": 34
        },
        "outputId": "06532720-b563-42d2-be12-89df88285d03"
      },
      "source": [
        "print(not_poor('The lyrics is not that poor!')) "
      ],
      "execution_count": 14,
      "outputs": [
        {
          "output_type": "stream",
          "text": [
            "The lyrics is good!\n"
          ],
          "name": "stdout"
        }
      ]
    },
    {
      "cell_type": "code",
      "metadata": {
        "id": "WcKA58fHaP_D",
        "colab_type": "code",
        "colab": {
          "base_uri": "https://localhost:8080/",
          "height": 34
        },
        "outputId": "4e9630ec-41c2-4035-e92a-722ae0cfc22f"
      },
      "source": [
        "print(not_poor('The lyrics are good!' ))"
      ],
      "execution_count": 15,
      "outputs": [
        {
          "output_type": "stream",
          "text": [
            "The lyrics are poor!\n"
          ],
          "name": "stdout"
        }
      ]
    },
    {
      "cell_type": "markdown",
      "metadata": {
        "id": "fyRg5p1ocmXe",
        "colab_type": "text"
      },
      "source": [
        "##Q5. Write the Python program to remove the characters which have odd index values of a given string"
      ]
    },
    {
      "cell_type": "code",
      "metadata": {
        "id": "J40wDZhocpUk",
        "colab_type": "code",
        "colab": {
          "base_uri": "https://localhost:8080/",
          "height": 51
        },
        "outputId": "351b2fa6-c599-4e17-fc4c-84b54efb845b"
      },
      "source": [
        "def char_odd_index(text):\n",
        "  result = \"\"\n",
        "  for i in range(1,len(text) +1):\n",
        "    if i % 2 == 0 :\n",
        "      result = result + text[i -1]\n",
        "  return result\n",
        "print(char_odd_index('abcdef'))\n",
        "print(char_odd_index('plaban'))"
      ],
      "execution_count": 20,
      "outputs": [
        {
          "output_type": "stream",
          "text": [
            "bdf\n",
            "lbn\n"
          ],
          "name": "stdout"
        }
      ]
    }
  ]
}