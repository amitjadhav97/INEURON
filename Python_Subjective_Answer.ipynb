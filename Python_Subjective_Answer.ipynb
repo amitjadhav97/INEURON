{
  "nbformat": 4,
  "nbformat_minor": 0,
  "metadata": {
    "colab": {
      "name": "Python_Subjective_Answer.ipynb",
      "provenance": [],
      "collapsed_sections": [],
      "authorship_tag": "ABX9TyOE9/OjuF1Pu6/TFj+t53TJ",
      "include_colab_link": true
    },
    "kernelspec": {
      "name": "python3",
      "display_name": "Python 3"
    },
    "accelerator": "GPU"
  },
  "cells": [
    {
      "cell_type": "markdown",
      "metadata": {
        "id": "view-in-github",
        "colab_type": "text"
      },
      "source": [
        "<a href=\"https://colab.research.google.com/github/plaban1981/INEURON/blob/master/Python_Subjective_Answer.ipynb\" target=\"_parent\"><img src=\"https://colab.research.google.com/assets/colab-badge.svg\" alt=\"Open In Colab\"/></a>"
      ]
    },
    {
      "cell_type": "markdown",
      "metadata": {
        "id": "oGDLAbkW8IJ9",
        "colab_type": "text"
      },
      "source": [
        "##Q1. Write a Python program to get the string from the given string where all the occurrence of its first char has been changed to '$,' except first char itself?\n",
        "\n",
        "Sample String: 'prospect'\n",
        "Expected Result : 'pros$ect'"
      ]
    },
    {
      "cell_type": "code",
      "metadata": {
        "id": "7CgdKICg8CY4",
        "colab_type": "code",
        "outputId": "1b2a9cce-d3f3-42a7-f41a-6bd0045e2e23",
        "colab": {
          "base_uri": "https://localhost:8080/",
          "height": 51
        }
      },
      "source": [
        "def replace_str(text):\n",
        "  rep_str = text[0]\n",
        "  return text[0]+ text[1:].replace(rep_str,'$')\n",
        "raw_string = input('Enter the string :')\n",
        "replace_str(raw_string)\n",
        "\n"
      ],
      "execution_count": 0,
      "outputs": [
        {
          "output_type": "stream",
          "text": [
            "Enter the string :prospect\n"
          ],
          "name": "stdout"
        },
        {
          "output_type": "execute_result",
          "data": {
            "text/plain": [
              "'pros$ect'"
            ]
          },
          "metadata": {
            "tags": []
          },
          "execution_count": 2
        }
      ]
    },
    {
      "cell_type": "markdown",
      "metadata": {
        "id": "hZvUk12SMlxH",
        "colab_type": "text"
      },
      "source": [
        "## Q2. Write a Python program to get the single string from the two givenstrings, and separated by the space and swap the first two characters of each string?\n",
        "\n",
        "Sample String : 'abc', 'xyz'.\n",
        "\n",
        "Expected Result: 'xyc abz'\n"
      ]
    },
    {
      "cell_type": "code",
      "metadata": {
        "id": "Lc_K1C1JMlJH",
        "colab_type": "code",
        "outputId": "21716117-b336-4d20-f091-b655ff56c001",
        "colab": {
          "base_uri": "https://localhost:8080/",
          "height": 34
        }
      },
      "source": [
        "def swap_str(text1,text2):\n",
        "  new_str1 = text2[:2]+text1[-1]\n",
        "  new_str2 = text1[:2] + text2[-1]\n",
        "  return new_str1 + \" \" + new_str2\n",
        "\n",
        "swap_str('abc', 'xyz')\n"
      ],
      "execution_count": 0,
      "outputs": [
        {
          "output_type": "execute_result",
          "data": {
            "text/plain": [
              "'xyc abz'"
            ]
          },
          "metadata": {
            "tags": []
          },
          "execution_count": 3
        }
      ]
    },
    {
      "cell_type": "markdown",
      "metadata": {
        "id": "R3axpENCORnx",
        "colab_type": "text"
      },
      "source": [
        "## Q3. Write the Python program to add 'ing' at the end of the given string(length of the string should be at least 3). If given string already ends with 'ing,' then add 'ly' instead. If string length of the given string is less than 3, leave it unchanged?\n",
        "\n",
        "\n",
        "Sample string: ' abc '\n",
        "Expected result: ' abcing '\n",
        "\n",
        "Sample string: ' string '\n",
        "Expected result: ' stringly '"
      ]
    },
    {
      "cell_type": "code",
      "metadata": {
        "id": "0Rsh6OZ1VDFx",
        "colab_type": "code",
        "outputId": "25a59baf-4442-4821-ea55-3be87e9bd9e9",
        "colab": {
          "base_uri": "https://localhost:8080/",
          "height": 68
        }
      },
      "source": [
        "def manipulate_string(text):\n",
        "  if len(text) > 2:\n",
        "    if text[-3:] == 'ing':\n",
        "      text = text + 'ly'\n",
        "    else:\n",
        "      text+='ing'\n",
        "  return text\n",
        "print(manipulate_string('ab'))\n",
        "print(manipulate_string('abc'))\n",
        "print(manipulate_string('string'))"
      ],
      "execution_count": 0,
      "outputs": [
        {
          "output_type": "stream",
          "text": [
            "ab\n",
            "abcing\n",
            "stringly\n"
          ],
          "name": "stdout"
        }
      ]
    },
    {
      "cell_type": "markdown",
      "metadata": {
        "id": "sFCgrOHHXzSL",
        "colab_type": "text"
      },
      "source": [
        "####Q4. Write the Python program to find the first appearance of the substring 'not' and 'poor' from the given string, if 'not' follows the 'poor',replace the whole 'not'...' poor' substring with 'good'.Return the resulting string.\n",
        "\n",
        "Sample string: 'The lyrics are not that poor!'\n",
        "'The lyrics are poor!'\n",
        "\n",
        "Expected Result: 'The lyrics are good!'\n",
        "'The lyrics are poor!'"
      ]
    },
    {
      "cell_type": "code",
      "metadata": {
        "id": "xF_n4sr-abcJ",
        "colab_type": "code",
        "colab": {}
      },
      "source": [
        "def not_poor(text):\n",
        "  strno = text.find('not')\n",
        "  strpoor = text.find('poor')\n",
        "\n",
        "  if strpoor > strno and strno > 0 and strpoor > 0:\n",
        "    str1 = text.replace(text[strno:strpoor+4],'good')\n",
        "    return str1\n",
        "  else:\n",
        "    return text.replace('good','poor')"
      ],
      "execution_count": 0,
      "outputs": []
    },
    {
      "cell_type": "code",
      "metadata": {
        "id": "6j1MrZogX5l6",
        "colab_type": "code",
        "outputId": "06532720-b563-42d2-be12-89df88285d03",
        "colab": {
          "base_uri": "https://localhost:8080/",
          "height": 34
        }
      },
      "source": [
        "print(not_poor('The lyrics is not that poor!')) "
      ],
      "execution_count": 0,
      "outputs": [
        {
          "output_type": "stream",
          "text": [
            "The lyrics is good!\n"
          ],
          "name": "stdout"
        }
      ]
    },
    {
      "cell_type": "code",
      "metadata": {
        "id": "WcKA58fHaP_D",
        "colab_type": "code",
        "outputId": "4e9630ec-41c2-4035-e92a-722ae0cfc22f",
        "colab": {
          "base_uri": "https://localhost:8080/",
          "height": 34
        }
      },
      "source": [
        "print(not_poor('The lyrics are good!' ))"
      ],
      "execution_count": 0,
      "outputs": [
        {
          "output_type": "stream",
          "text": [
            "The lyrics are poor!\n"
          ],
          "name": "stdout"
        }
      ]
    },
    {
      "cell_type": "markdown",
      "metadata": {
        "id": "fyRg5p1ocmXe",
        "colab_type": "text"
      },
      "source": [
        "##Q5. Write the Python program to remove the characters which have odd index values of a given string"
      ]
    },
    {
      "cell_type": "code",
      "metadata": {
        "id": "J40wDZhocpUk",
        "colab_type": "code",
        "outputId": "351b2fa6-c599-4e17-fc4c-84b54efb845b",
        "colab": {
          "base_uri": "https://localhost:8080/",
          "height": 51
        }
      },
      "source": [
        "def char_odd_index(text):\n",
        "  result = \"\"\n",
        "  for i in range(1,len(text) +1):\n",
        "    if i % 2 == 0 :\n",
        "      result = result + text[i -1]\n",
        "  return result\n",
        "print(char_odd_index('abcdef'))\n",
        "print(char_odd_index('plaban'))"
      ],
      "execution_count": 0,
      "outputs": [
        {
          "output_type": "stream",
          "text": [
            "bdf\n",
            "lbn\n"
          ],
          "name": "stdout"
        }
      ]
    },
    {
      "cell_type": "markdown",
      "metadata": {
        "id": "O2g4V18hWaKv",
        "colab_type": "text"
      },
      "source": [
        "##Q6. Write the Python function to get a string made of 4 copies of the last two characters of the specified string (length must be at least 2).  \n",
        "\n",
        "Sample function  and  result : \n",
        "\n",
        "insert-end ('Python')  -> abababab \n",
        "\n",
        "insert-end('Exercises')  -> jkjkjkjk"
      ]
    },
    {
      "cell_type": "code",
      "metadata": {
        "id": "KaQ-_ZqwWtCa",
        "colab_type": "code",
        "colab": {
          "base_uri": "https://localhost:8080/",
          "height": 85
        },
        "outputId": "4ed226a6-83af-47e0-e68e-3dcac9d2e287"
      },
      "source": [
        "def insert_end(text):\n",
        "  if len(text) >=2:\n",
        "    return text[-2:]*4\n",
        "  else:\n",
        "    result = \"length of the text must be at least 2\"\n",
        "    return result\n",
        "print(insert_end ('Python'))\n",
        "print(insert_end ('Excercises'))\n",
        "print(insert_end ('ab'))\n",
        "print(insert_end ('a'))"
      ],
      "execution_count": 3,
      "outputs": [
        {
          "output_type": "stream",
          "text": [
            "onononon\n",
            "eseseses\n",
            "abababab\n",
            "length of the text must be at least 2\n"
          ],
          "name": "stdout"
        }
      ]
    },
    {
      "cell_type": "markdown",
      "metadata": {
        "id": "3txUNLzWaxOm",
        "colab_type": "text"
      },
      "source": [
        "##Q7. Write the python function to get a string made of its first three characters of a specified string. If the length of the string is less than 3 then return the original string. \n",
        " \n",
        "Sample function and result : \n",
        "\n",
        "first-three('ipy') -> ipy \n",
        "\n",
        "first-three('python') -> pyt"
      ]
    },
    {
      "cell_type": "code",
      "metadata": {
        "id": "oDcoPL-YbiBB",
        "colab_type": "code",
        "colab": {
          "base_uri": "https://localhost:8080/",
          "height": 51
        },
        "outputId": "f8358f73-6556-4bc4-db38-a6bea45e5cbd"
      },
      "source": [
        "def first_three(text):\n",
        "  if len(text) < 3:\n",
        "    return text\n",
        "  else:\n",
        "    return text[:3]\n",
        "print(first_three('ipy'))\n",
        "print(first_three('python'))\n"
      ],
      "execution_count": 4,
      "outputs": [
        {
          "output_type": "stream",
          "text": [
            "ipy\n",
            "pyt\n"
          ],
          "name": "stdout"
        }
      ]
    },
    {
      "cell_type": "markdown",
      "metadata": {
        "id": "EW3XxHLqcmbk",
        "colab_type": "text"
      },
      "source": [
        "##Q8. Write the python program to print the following floating numbers up   to 2 decimal places? "
      ]
    },
    {
      "cell_type": "code",
      "metadata": {
        "id": "R_872s-9c6LH",
        "colab_type": "code",
        "colab": {
          "base_uri": "https://localhost:8080/",
          "height": 68
        },
        "outputId": "26696d2f-5829-4bfd-a308-c1d4a816fc44"
      },
      "source": [
        "def print_float(number):\n",
        "  print(\"\\nOriginal Number: \", number) \n",
        "  print(\"Formatted Number: \"+\"{:.2f}\".format(number))\n",
        "\n",
        "print_float(99.002345)"
      ],
      "execution_count": 5,
      "outputs": [
        {
          "output_type": "stream",
          "text": [
            "\n",
            "Original Number:  99.002345\n",
            "Formatted Number: 99.00\n"
          ],
          "name": "stdout"
        }
      ]
    },
    {
      "cell_type": "markdown",
      "metadata": {
        "id": "PxwiokFVe7tB",
        "colab_type": "text"
      },
      "source": [
        "##Q9. Write the Python program to format a number with a percentage? "
      ]
    },
    {
      "cell_type": "code",
      "metadata": {
        "id": "AeXVzHDMe8of",
        "colab_type": "code",
        "colab": {
          "base_uri": "https://localhost:8080/",
          "height": 68
        },
        "outputId": "499a3003-4f8e-44a5-fbea-18352323f7c3"
      },
      "source": [
        "def print_percentage(number):\n",
        "  print(\"\\nOriginal Number: \", number) \n",
        "  print(\"Formatted Number: \"+\"{:.2%}\".format(number))\n",
        "print_percentage(0.89)"
      ],
      "execution_count": 6,
      "outputs": [
        {
          "output_type": "stream",
          "text": [
            "\n",
            "Original Number:  0.89\n",
            "Formatted Number: 89.00%\n"
          ],
          "name": "stdout"
        }
      ]
    },
    {
      "cell_type": "markdown",
      "metadata": {
        "id": "L-SbyQMAgDrA",
        "colab_type": "text"
      },
      "source": [
        "##Q10. Write the Python program to count occurrences of a substring in a   String?"
      ]
    },
    {
      "cell_type": "code",
      "metadata": {
        "id": "x01F5hnKgEl6",
        "colab_type": "code",
        "colab": {
          "base_uri": "https://localhost:8080/",
          "height": 425
        },
        "outputId": "4bb51948-f2a7-4cf8-9407-490c44b964d2"
      },
      "source": [
        "def Str_Occur(text):\n",
        "  stroccur = {}\n",
        "  for word in text:\n",
        "    if word in stroccur.keys():\n",
        "      stroccur[word] +=1\n",
        "    else:\n",
        "      stroccur[word] = 1\n",
        "  for k,v in stroccur.items():\n",
        "    print(f\"{k} : {v}\")\n",
        "Str_Occur('thequickbrownjumpsoverthelazydog')"
      ],
      "execution_count": 1,
      "outputs": [
        {
          "output_type": "stream",
          "text": [
            "t : 2\n",
            "h : 2\n",
            "e : 3\n",
            "q : 1\n",
            "u : 2\n",
            "i : 1\n",
            "c : 1\n",
            "k : 1\n",
            "b : 1\n",
            "r : 2\n",
            "o : 3\n",
            "w : 1\n",
            "n : 1\n",
            "j : 1\n",
            "m : 1\n",
            "p : 1\n",
            "s : 1\n",
            "v : 1\n",
            "l : 1\n",
            "a : 1\n",
            "z : 1\n",
            "y : 1\n",
            "d : 1\n",
            "g : 1\n"
          ],
          "name": "stdout"
        }
      ]
    },
    {
      "cell_type": "markdown",
      "metadata": {
        "id": "hRWCX8a6vFqd",
        "colab_type": "text"
      },
      "source": [
        "##Q11. Write the Python program to count repeated characters in a string. \n",
        " \n",
        "Sample string: ' thequickbrownjumpsoverthelazydog ' \n",
        "\n",
        "Expected output: \n",
        "o 3 \n",
        "e 3 \n",
        "u 2 \n",
        "h 2 \n",
        "\n"
      ]
    },
    {
      "cell_type": "code",
      "metadata": {
        "id": "w8Y2sRVRvae5",
        "colab_type": "code",
        "colab": {
          "base_uri": "https://localhost:8080/",
          "height": 119
        },
        "outputId": "be61621f-3e5f-42c7-ea27-3eb51a42f4f0"
      },
      "source": [
        "def Str_Occur(text):\n",
        "  stroccur = {}\n",
        "  for word in text:\n",
        "    if word in stroccur.keys():\n",
        "      stroccur[word] +=1\n",
        "    else:\n",
        "      stroccur[word] = 1\n",
        "  for k,v in stroccur.items():\n",
        "    if v > 1:\n",
        "      print(f\"{k}  {v}\")\n",
        "Str_Occur('thequickbrownjumpsoverthelazydog')"
      ],
      "execution_count": 2,
      "outputs": [
        {
          "output_type": "stream",
          "text": [
            "t  2\n",
            "h  2\n",
            "e  3\n",
            "u  2\n",
            "r  2\n",
            "o  3\n"
          ],
          "name": "stdout"
        }
      ]
    },
    {
      "cell_type": "markdown",
      "metadata": {
        "id": "spZLPswMvw_W",
        "colab_type": "text"
      },
      "source": [
        "##Q12. Write the Python program to print the square and cube symbol in   the area of a rectangle and volume of a cylinder?   \n",
        "\n",
        "\n",
        "Sample output- \n",
        "\n",
        "The area of the rectangle is 1256.66cm2 \n",
        "\n",
        "The volume of the cylinder is 1254.725cm3 "
      ]
    },
    {
      "cell_type": "code",
      "metadata": {
        "id": "u7xpnCOBv2Su",
        "colab_type": "code",
        "colab": {
          "base_uri": "https://localhost:8080/",
          "height": 51
        },
        "outputId": "08bbd07f-112c-4753-da63-305f369380a4"
      },
      "source": [
        "area = 1256.66 \n",
        "volume = 1254.725 \n",
        "print(\"The area of the rectangle is {0:.{1}f}cm\\u00b2\".format(area, 3))\n",
        "print(\"The volume of the cylinder is {0:.{1}f}cm\\u00b3\".format(volume,3)) "
      ],
      "execution_count": 3,
      "outputs": [
        {
          "output_type": "stream",
          "text": [
            "The area of the rectangle is 1256.660cm²\n",
            "The volume of the cylinder is 1254.725cm³\n"
          ],
          "name": "stdout"
        }
      ]
    },
    {
      "cell_type": "markdown",
      "metadata": {
        "id": "mhGmg6wBxP-S",
        "colab_type": "text"
      },
      "source": [
        "##Q13. Write the Python program to check if a string contains all letters of   the alphabet? "
      ]
    },
    {
      "cell_type": "code",
      "metadata": {
        "id": "Fc0M1pzbxUFZ",
        "colab_type": "code",
        "colab": {
          "base_uri": "https://localhost:8080/",
          "height": 51
        },
        "outputId": "3eca0f7c-9681-4432-c5b4-14b9c66fe888"
      },
      "source": [
        "text = input('Enter text')\n",
        "print(text.isalpha())"
      ],
      "execution_count": 6,
      "outputs": [
        {
          "output_type": "stream",
          "text": [
            "Enter texteautiful\n",
            "True\n"
          ],
          "name": "stdout"
        }
      ]
    },
    {
      "cell_type": "code",
      "metadata": {
        "id": "G_oj0McmyH54",
        "colab_type": "code",
        "colab": {
          "base_uri": "https://localhost:8080/",
          "height": 51
        },
        "outputId": "8387fd49-9031-4b76-f389-eeffbce40f72"
      },
      "source": [
        "text = input('Enter text')\n",
        "print(text.isalpha())"
      ],
      "execution_count": 7,
      "outputs": [
        {
          "output_type": "stream",
          "text": [
            "Enter text1234\n",
            "False\n"
          ],
          "name": "stdout"
        }
      ]
    },
    {
      "cell_type": "markdown",
      "metadata": {
        "id": "2Kww35ehx7xQ",
        "colab_type": "text"
      },
      "source": [
        "##Q14.  Write the Python program to find the second most repeated word   in a given string? "
      ]
    },
    {
      "cell_type": "code",
      "metadata": {
        "id": "YHPftivL55pZ",
        "colab_type": "code",
        "colab": {
          "base_uri": "https://localhost:8080/",
          "height": 51
        },
        "outputId": "491e9526-633b-4b0c-b59d-8544ea710524"
      },
      "source": [
        "from collections import OrderedDict\n",
        "def Str_Occur(text):\n",
        "  stroccur = {}\n",
        "  for word in text:\n",
        "    if word in stroccur.keys():\n",
        "      stroccur[word] +=1\n",
        "    else:\n",
        "      stroccur[word] = 1\n",
        "  sorted_d = sorted((value, key) for (key,value) in stroccur.items())\n",
        "  print(f\"the second most repeated word in the given string \\\"{text}\\\" : {sorted_d[-2:-1][0][1]}\")\n",
        "  return sorted_d[-2:-1][0][1]\n",
        "Str_Occur('thequickbrownjumpsoverthelazydog')"
      ],
      "execution_count": 31,
      "outputs": [
        {
          "output_type": "stream",
          "text": [
            "the second most repeated word in the given string \"thequickbrownjumpsoverthelazydog\" : e\n"
          ],
          "name": "stdout"
        },
        {
          "output_type": "execute_result",
          "data": {
            "text/plain": [
              "'e'"
            ]
          },
          "metadata": {
            "tags": []
          },
          "execution_count": 31
        }
      ]
    },
    {
      "cell_type": "markdown",
      "metadata": {
        "id": "gwGuoa7A55IX",
        "colab_type": "text"
      },
      "source": [
        "## Q15. Write the Python program to find the minimum window in the given  string, which will contains all the characters of another given   strings?             \n",
        "\n",
        "Example 1 \n",
        "\n",
        "Input : \n",
        "\n",
        "string1 = \" PRWSOERIUSFK \" \n",
        "\n",
        "string2 = \" OSU \" \n",
        "\n",
        "Output: \n",
        "\n",
        "Minimum window is \"OERIUS\" "
      ]
    },
    {
      "cell_type": "code",
      "metadata": {
        "id": "MBCuJq5qGomC",
        "colab_type": "code",
        "colab": {
          "base_uri": "https://localhost:8080/",
          "height": 34
        },
        "outputId": "60dec583-7754-473e-b346-5c4b42247a14"
      },
      "source": [
        "string1 = \"PRWSOERIUSFK\"\n",
        "string2 = \"OSU\"\n",
        "\n",
        "def min_window(string1, string2): \n",
        "  list_order = []\n",
        "  str_search = string1[string1.index(string2[0]):]\n",
        "  for i in range(len(string2)):\n",
        "    #print(i)\n",
        "    #print(str_search.index(string2[i]))\n",
        "    list_order.append(str_search.index(string2[i]))\n",
        "  #print(list_order)\n",
        "  ordered_list = sorted(list_order)\n",
        "  #print(ordered_list)\n",
        "  start = int(ordered_list[0])\n",
        "  end = int(ordered_list[-1])\n",
        "  #print(start,end)\n",
        "  return str_search[start:end + 1]\n",
        "print(min_window(string1, string2))\n",
        "\n"
      ],
      "execution_count": 56,
      "outputs": [
        {
          "output_type": "stream",
          "text": [
            "OERIUS\n"
          ],
          "name": "stdout"
        }
      ]
    },
    {
      "cell_type": "markdown",
      "metadata": {
        "id": "Zlo-iyw2d1zP",
        "colab_type": "text"
      },
      "source": [
        "##Q16. Write the Python program to find smallest window that contains all   characters of the given string? \n",
        " \n",
        "Original Strings:  asdaewsqgtwwsa \n",
        " \n",
        "Smallest window that contains all characters of the said string: \n",
        "\n",
        "Daewsqgt "
      ]
    },
    {
      "cell_type": "code",
      "metadata": {
        "id": "LlhRFRelcFQV",
        "colab_type": "code",
        "colab": {
          "base_uri": "https://localhost:8080/",
          "height": 34
        },
        "outputId": "d649fefd-bbab-4fbe-9733-85cdf57e4244"
      },
      "source": [
        "string1 = \"asdaewsqgtwwsa\"\n",
        "string2 = \"Daewsqgt\"\n",
        "def min_window(string1, string2): \n",
        "  list_order = []\n",
        "  str_search = string1[string1.index(string2[0]):]\n",
        "  for i in range(len(string2)):\n",
        "    #print(i)\n",
        "    #print(str_search.index(string2[i]))\n",
        "    list_order.append(str_search.index(string2[i]))\n",
        "  #print(list_order)\n",
        "  ordered_list = sorted(list_order)\n",
        "  #print(ordered_list)\n",
        "  start = int(ordered_list[0])\n",
        "  end = int(ordered_list[-1])\n",
        "  #print(start,end)\n",
        "  str_search = str_search[0].upper() +str_search[1:end + 1]\n",
        "  return str_search[start:end + 1]\n",
        "#print(min_window(string1, string2))\n",
        "print(min_window(string1.lower(),string2.lower()))"
      ],
      "execution_count": 62,
      "outputs": [
        {
          "output_type": "stream",
          "text": [
            "Daewsqgt\n"
          ],
          "name": "stdout"
        }
      ]
    },
    {
      "cell_type": "markdown",
      "metadata": {
        "id": "1_e89hj2iTbs",
        "colab_type": "text"
      },
      "source": [
        "##Q17.  Write the Python program to count number of substrings from a   given string of lowercase alphabets with exactly k distinct (given)   characters?             \n",
        "Input a string (lowercase alphabets): wolf \n",
        "\n",
        "Input k:  4 \n",
        "\n",
        "Number of substrings with exactly 4 distinct characters: 1 "
      ]
    },
    {
      "cell_type": "code",
      "metadata": {
        "id": "HwOsq5r8irni",
        "colab_type": "code",
        "colab": {
          "base_uri": "https://localhost:8080/",
          "height": 51
        },
        "outputId": "9d3abd65-dfac-4dc0-fda3-16d71cebcafa"
      },
      "source": [
        "def kDistinct(text,k):\n",
        "  set_txt = set(w for w in text)\n",
        "  length = len(set_txt)\n",
        "  print(f\"Number of substrings with exactly 4 distinct characters: {int(length /k)}\")\n",
        "\n",
        "text = input(\"enter a text\")\n",
        "text = text.lower()\n",
        "k = 4\n",
        "kDistinct(text,k)"
      ],
      "execution_count": 64,
      "outputs": [
        {
          "output_type": "stream",
          "text": [
            "enter a textplaban\n",
            "Number of substrings with exactly 4 distinct characters: 1\n"
          ],
          "name": "stdout"
        }
      ]
    },
    {
      "cell_type": "markdown",
      "metadata": {
        "id": "P83JiN3onNQR",
        "colab_type": "text"
      },
      "source": [
        "##Q20. Write the Python program to count the number of strings where the   string length is 2 or more, and  first and last character are same   from a given list of strings. \n",
        "\n",
        "Sample List : ['abc', 'xyz', 'wxw', '1331'] \n",
        "\n",
        "Expected Result: 2 "
      ]
    },
    {
      "cell_type": "code",
      "metadata": {
        "id": "vkPTpy7zn65_",
        "colab_type": "code",
        "colab": {
          "base_uri": "https://localhost:8080/",
          "height": 51
        },
        "outputId": "2d0bfe12-d4ea-4203-a418-36fa8523ab62"
      },
      "source": [
        "def match_words(list_txt):\n",
        "  ctr =0\n",
        "  for items in list_txt:\n",
        "    #print(len(items))\n",
        "    if (len(items) >= 1 ) and (list_txt[0] == list_txt[-1]):\n",
        "      #print(items)\n",
        "      ctr = ctr + 1\n",
        "  return ctr\n",
        "\n",
        "print(match_words(['abc', 'xyz', 'aba', '1221'])) \n",
        "print(match_words(['abc', 'xyz', 'aba', 'abc'])) \n"
      ],
      "execution_count": 72,
      "outputs": [
        {
          "output_type": "stream",
          "text": [
            "0\n",
            "4\n"
          ],
          "name": "stdout"
        }
      ]
    }
  ]
}