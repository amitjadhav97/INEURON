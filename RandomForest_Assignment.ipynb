{
  "nbformat": 4,
  "nbformat_minor": 0,
  "metadata": {
    "colab": {
      "name": "RandomForest_Assignment.ipynb",
      "provenance": [],
      "authorship_tag": "ABX9TyP1UBi5ha8HOhUAbI3KXkqE",
      "include_colab_link": true
    },
    "kernelspec": {
      "name": "python3",
      "display_name": "Python 3"
    }
  },
  "cells": [
    {
      "cell_type": "markdown",
      "metadata": {
        "id": "view-in-github",
        "colab_type": "text"
      },
      "source": [
        "<a href=\"https://colab.research.google.com/github/plaban1981/INEURON/blob/Supervised-Models/RandomForest_Assignment.ipynb\" target=\"_parent\"><img src=\"https://colab.research.google.com/assets/colab-badge.svg\" alt=\"Open In Colab\"/></a>"
      ]
    },
    {
      "cell_type": "markdown",
      "metadata": {
        "id": "0gvv6bewXfi0",
        "colab_type": "text"
      },
      "source": [
        "## Predict Housing Price using RandomForestRegressor"
      ]
    },
    {
      "cell_type": "code",
      "metadata": {
        "id": "G6WZJAxRXUgv",
        "colab_type": "code",
        "colab": {}
      },
      "source": [
        "import numpy as np\n",
        "import pandas as pd\n",
        "import matplotlib.pyplot as plt\n",
        "import seaborn as sns\n",
        "from sklearn.model_selection import train_test_split,GridSearchCV,cross_val_score\n",
        "from sklearn.preprocessing import StandardScaler \n",
        "from sklearn import datasets \n",
        "from sklearn.pipeline import Pipeline\n",
        "\n",
        "from sklearn.ensemble import RandomForestRegressor\n",
        "from sklearn.metrics import mean_squared_error,r2_score,mean_absolute_error\n",
        "\n",
        "%matplotlib inline\n",
        "\n"
      ],
      "execution_count": 0,
      "outputs": []
    },
    {
      "cell_type": "code",
      "metadata": {
        "id": "TxTLLWNOYe_b",
        "colab_type": "code",
        "colab": {}
      },
      "source": [
        "boston = datasets.load_boston()\n",
        "features = pd.DataFrame(boston.data,columns=boston.feature_names)\n",
        "targets = boston.target"
      ],
      "execution_count": 0,
      "outputs": []
    },
    {
      "cell_type": "code",
      "metadata": {
        "id": "AQ_f7ZS_Z0hd",
        "colab_type": "code",
        "colab": {
          "base_uri": "https://localhost:8080/",
          "height": 198
        },
        "outputId": "3f7e6a80-4a1f-4364-d73c-72d6361a0fb6"
      },
      "source": [
        "features.head()"
      ],
      "execution_count": 3,
      "outputs": [
        {
          "output_type": "execute_result",
          "data": {
            "text/html": [
              "<div>\n",
              "<style scoped>\n",
              "    .dataframe tbody tr th:only-of-type {\n",
              "        vertical-align: middle;\n",
              "    }\n",
              "\n",
              "    .dataframe tbody tr th {\n",
              "        vertical-align: top;\n",
              "    }\n",
              "\n",
              "    .dataframe thead th {\n",
              "        text-align: right;\n",
              "    }\n",
              "</style>\n",
              "<table border=\"1\" class=\"dataframe\">\n",
              "  <thead>\n",
              "    <tr style=\"text-align: right;\">\n",
              "      <th></th>\n",
              "      <th>CRIM</th>\n",
              "      <th>ZN</th>\n",
              "      <th>INDUS</th>\n",
              "      <th>CHAS</th>\n",
              "      <th>NOX</th>\n",
              "      <th>RM</th>\n",
              "      <th>AGE</th>\n",
              "      <th>DIS</th>\n",
              "      <th>RAD</th>\n",
              "      <th>TAX</th>\n",
              "      <th>PTRATIO</th>\n",
              "      <th>B</th>\n",
              "      <th>LSTAT</th>\n",
              "    </tr>\n",
              "  </thead>\n",
              "  <tbody>\n",
              "    <tr>\n",
              "      <th>0</th>\n",
              "      <td>0.00632</td>\n",
              "      <td>18.0</td>\n",
              "      <td>2.31</td>\n",
              "      <td>0.0</td>\n",
              "      <td>0.538</td>\n",
              "      <td>6.575</td>\n",
              "      <td>65.2</td>\n",
              "      <td>4.0900</td>\n",
              "      <td>1.0</td>\n",
              "      <td>296.0</td>\n",
              "      <td>15.3</td>\n",
              "      <td>396.90</td>\n",
              "      <td>4.98</td>\n",
              "    </tr>\n",
              "    <tr>\n",
              "      <th>1</th>\n",
              "      <td>0.02731</td>\n",
              "      <td>0.0</td>\n",
              "      <td>7.07</td>\n",
              "      <td>0.0</td>\n",
              "      <td>0.469</td>\n",
              "      <td>6.421</td>\n",
              "      <td>78.9</td>\n",
              "      <td>4.9671</td>\n",
              "      <td>2.0</td>\n",
              "      <td>242.0</td>\n",
              "      <td>17.8</td>\n",
              "      <td>396.90</td>\n",
              "      <td>9.14</td>\n",
              "    </tr>\n",
              "    <tr>\n",
              "      <th>2</th>\n",
              "      <td>0.02729</td>\n",
              "      <td>0.0</td>\n",
              "      <td>7.07</td>\n",
              "      <td>0.0</td>\n",
              "      <td>0.469</td>\n",
              "      <td>7.185</td>\n",
              "      <td>61.1</td>\n",
              "      <td>4.9671</td>\n",
              "      <td>2.0</td>\n",
              "      <td>242.0</td>\n",
              "      <td>17.8</td>\n",
              "      <td>392.83</td>\n",
              "      <td>4.03</td>\n",
              "    </tr>\n",
              "    <tr>\n",
              "      <th>3</th>\n",
              "      <td>0.03237</td>\n",
              "      <td>0.0</td>\n",
              "      <td>2.18</td>\n",
              "      <td>0.0</td>\n",
              "      <td>0.458</td>\n",
              "      <td>6.998</td>\n",
              "      <td>45.8</td>\n",
              "      <td>6.0622</td>\n",
              "      <td>3.0</td>\n",
              "      <td>222.0</td>\n",
              "      <td>18.7</td>\n",
              "      <td>394.63</td>\n",
              "      <td>2.94</td>\n",
              "    </tr>\n",
              "    <tr>\n",
              "      <th>4</th>\n",
              "      <td>0.06905</td>\n",
              "      <td>0.0</td>\n",
              "      <td>2.18</td>\n",
              "      <td>0.0</td>\n",
              "      <td>0.458</td>\n",
              "      <td>7.147</td>\n",
              "      <td>54.2</td>\n",
              "      <td>6.0622</td>\n",
              "      <td>3.0</td>\n",
              "      <td>222.0</td>\n",
              "      <td>18.7</td>\n",
              "      <td>396.90</td>\n",
              "      <td>5.33</td>\n",
              "    </tr>\n",
              "  </tbody>\n",
              "</table>\n",
              "</div>"
            ],
            "text/plain": [
              "      CRIM    ZN  INDUS  CHAS    NOX  ...  RAD    TAX  PTRATIO       B  LSTAT\n",
              "0  0.00632  18.0   2.31   0.0  0.538  ...  1.0  296.0     15.3  396.90   4.98\n",
              "1  0.02731   0.0   7.07   0.0  0.469  ...  2.0  242.0     17.8  396.90   9.14\n",
              "2  0.02729   0.0   7.07   0.0  0.469  ...  2.0  242.0     17.8  392.83   4.03\n",
              "3  0.03237   0.0   2.18   0.0  0.458  ...  3.0  222.0     18.7  394.63   2.94\n",
              "4  0.06905   0.0   2.18   0.0  0.458  ...  3.0  222.0     18.7  396.90   5.33\n",
              "\n",
              "[5 rows x 13 columns]"
            ]
          },
          "metadata": {
            "tags": []
          },
          "execution_count": 3
        }
      ]
    },
    {
      "cell_type": "code",
      "metadata": {
        "id": "1W-OnDBZbYlW",
        "colab_type": "code",
        "colab": {
          "base_uri": "https://localhost:8080/",
          "height": 35
        },
        "outputId": "497710da-d19f-48a8-8791-c506920ef946"
      },
      "source": [
        "features.shape"
      ],
      "execution_count": 8,
      "outputs": [
        {
          "output_type": "execute_result",
          "data": {
            "text/plain": [
              "(506, 13)"
            ]
          },
          "metadata": {
            "tags": []
          },
          "execution_count": 8
        }
      ]
    },
    {
      "cell_type": "code",
      "metadata": {
        "id": "VddPocVcbaOz",
        "colab_type": "code",
        "colab": {
          "base_uri": "https://localhost:8080/",
          "height": 35
        },
        "outputId": "a6a44438-8e55-424e-a482-5d9359a4e47e"
      },
      "source": [
        "targets.shape"
      ],
      "execution_count": 10,
      "outputs": [
        {
          "output_type": "execute_result",
          "data": {
            "text/plain": [
              "(506,)"
            ]
          },
          "metadata": {
            "tags": []
          },
          "execution_count": 10
        }
      ]
    },
    {
      "cell_type": "markdown",
      "metadata": {
        "id": "3ynbdL4BaFAk",
        "colab_type": "text"
      },
      "source": [
        "## Data Statistics"
      ]
    },
    {
      "cell_type": "code",
      "metadata": {
        "id": "xQFVUOWZaQ-D",
        "colab_type": "code",
        "colab": {
          "base_uri": "https://localhost:8080/",
          "height": 308
        },
        "outputId": "8cadf700-ee5e-42a2-f42d-ff334a3429b9"
      },
      "source": [
        "features.describe()"
      ],
      "execution_count": 4,
      "outputs": [
        {
          "output_type": "execute_result",
          "data": {
            "text/html": [
              "<div>\n",
              "<style scoped>\n",
              "    .dataframe tbody tr th:only-of-type {\n",
              "        vertical-align: middle;\n",
              "    }\n",
              "\n",
              "    .dataframe tbody tr th {\n",
              "        vertical-align: top;\n",
              "    }\n",
              "\n",
              "    .dataframe thead th {\n",
              "        text-align: right;\n",
              "    }\n",
              "</style>\n",
              "<table border=\"1\" class=\"dataframe\">\n",
              "  <thead>\n",
              "    <tr style=\"text-align: right;\">\n",
              "      <th></th>\n",
              "      <th>CRIM</th>\n",
              "      <th>ZN</th>\n",
              "      <th>INDUS</th>\n",
              "      <th>CHAS</th>\n",
              "      <th>NOX</th>\n",
              "      <th>RM</th>\n",
              "      <th>AGE</th>\n",
              "      <th>DIS</th>\n",
              "      <th>RAD</th>\n",
              "      <th>TAX</th>\n",
              "      <th>PTRATIO</th>\n",
              "      <th>B</th>\n",
              "      <th>LSTAT</th>\n",
              "    </tr>\n",
              "  </thead>\n",
              "  <tbody>\n",
              "    <tr>\n",
              "      <th>count</th>\n",
              "      <td>506.000000</td>\n",
              "      <td>506.000000</td>\n",
              "      <td>506.000000</td>\n",
              "      <td>506.000000</td>\n",
              "      <td>506.000000</td>\n",
              "      <td>506.000000</td>\n",
              "      <td>506.000000</td>\n",
              "      <td>506.000000</td>\n",
              "      <td>506.000000</td>\n",
              "      <td>506.000000</td>\n",
              "      <td>506.000000</td>\n",
              "      <td>506.000000</td>\n",
              "      <td>506.000000</td>\n",
              "    </tr>\n",
              "    <tr>\n",
              "      <th>mean</th>\n",
              "      <td>3.613524</td>\n",
              "      <td>11.363636</td>\n",
              "      <td>11.136779</td>\n",
              "      <td>0.069170</td>\n",
              "      <td>0.554695</td>\n",
              "      <td>6.284634</td>\n",
              "      <td>68.574901</td>\n",
              "      <td>3.795043</td>\n",
              "      <td>9.549407</td>\n",
              "      <td>408.237154</td>\n",
              "      <td>18.455534</td>\n",
              "      <td>356.674032</td>\n",
              "      <td>12.653063</td>\n",
              "    </tr>\n",
              "    <tr>\n",
              "      <th>std</th>\n",
              "      <td>8.601545</td>\n",
              "      <td>23.322453</td>\n",
              "      <td>6.860353</td>\n",
              "      <td>0.253994</td>\n",
              "      <td>0.115878</td>\n",
              "      <td>0.702617</td>\n",
              "      <td>28.148861</td>\n",
              "      <td>2.105710</td>\n",
              "      <td>8.707259</td>\n",
              "      <td>168.537116</td>\n",
              "      <td>2.164946</td>\n",
              "      <td>91.294864</td>\n",
              "      <td>7.141062</td>\n",
              "    </tr>\n",
              "    <tr>\n",
              "      <th>min</th>\n",
              "      <td>0.006320</td>\n",
              "      <td>0.000000</td>\n",
              "      <td>0.460000</td>\n",
              "      <td>0.000000</td>\n",
              "      <td>0.385000</td>\n",
              "      <td>3.561000</td>\n",
              "      <td>2.900000</td>\n",
              "      <td>1.129600</td>\n",
              "      <td>1.000000</td>\n",
              "      <td>187.000000</td>\n",
              "      <td>12.600000</td>\n",
              "      <td>0.320000</td>\n",
              "      <td>1.730000</td>\n",
              "    </tr>\n",
              "    <tr>\n",
              "      <th>25%</th>\n",
              "      <td>0.082045</td>\n",
              "      <td>0.000000</td>\n",
              "      <td>5.190000</td>\n",
              "      <td>0.000000</td>\n",
              "      <td>0.449000</td>\n",
              "      <td>5.885500</td>\n",
              "      <td>45.025000</td>\n",
              "      <td>2.100175</td>\n",
              "      <td>4.000000</td>\n",
              "      <td>279.000000</td>\n",
              "      <td>17.400000</td>\n",
              "      <td>375.377500</td>\n",
              "      <td>6.950000</td>\n",
              "    </tr>\n",
              "    <tr>\n",
              "      <th>50%</th>\n",
              "      <td>0.256510</td>\n",
              "      <td>0.000000</td>\n",
              "      <td>9.690000</td>\n",
              "      <td>0.000000</td>\n",
              "      <td>0.538000</td>\n",
              "      <td>6.208500</td>\n",
              "      <td>77.500000</td>\n",
              "      <td>3.207450</td>\n",
              "      <td>5.000000</td>\n",
              "      <td>330.000000</td>\n",
              "      <td>19.050000</td>\n",
              "      <td>391.440000</td>\n",
              "      <td>11.360000</td>\n",
              "    </tr>\n",
              "    <tr>\n",
              "      <th>75%</th>\n",
              "      <td>3.677083</td>\n",
              "      <td>12.500000</td>\n",
              "      <td>18.100000</td>\n",
              "      <td>0.000000</td>\n",
              "      <td>0.624000</td>\n",
              "      <td>6.623500</td>\n",
              "      <td>94.075000</td>\n",
              "      <td>5.188425</td>\n",
              "      <td>24.000000</td>\n",
              "      <td>666.000000</td>\n",
              "      <td>20.200000</td>\n",
              "      <td>396.225000</td>\n",
              "      <td>16.955000</td>\n",
              "    </tr>\n",
              "    <tr>\n",
              "      <th>max</th>\n",
              "      <td>88.976200</td>\n",
              "      <td>100.000000</td>\n",
              "      <td>27.740000</td>\n",
              "      <td>1.000000</td>\n",
              "      <td>0.871000</td>\n",
              "      <td>8.780000</td>\n",
              "      <td>100.000000</td>\n",
              "      <td>12.126500</td>\n",
              "      <td>24.000000</td>\n",
              "      <td>711.000000</td>\n",
              "      <td>22.000000</td>\n",
              "      <td>396.900000</td>\n",
              "      <td>37.970000</td>\n",
              "    </tr>\n",
              "  </tbody>\n",
              "</table>\n",
              "</div>"
            ],
            "text/plain": [
              "             CRIM          ZN       INDUS  ...     PTRATIO           B       LSTAT\n",
              "count  506.000000  506.000000  506.000000  ...  506.000000  506.000000  506.000000\n",
              "mean     3.613524   11.363636   11.136779  ...   18.455534  356.674032   12.653063\n",
              "std      8.601545   23.322453    6.860353  ...    2.164946   91.294864    7.141062\n",
              "min      0.006320    0.000000    0.460000  ...   12.600000    0.320000    1.730000\n",
              "25%      0.082045    0.000000    5.190000  ...   17.400000  375.377500    6.950000\n",
              "50%      0.256510    0.000000    9.690000  ...   19.050000  391.440000   11.360000\n",
              "75%      3.677083   12.500000   18.100000  ...   20.200000  396.225000   16.955000\n",
              "max     88.976200  100.000000   27.740000  ...   22.000000  396.900000   37.970000\n",
              "\n",
              "[8 rows x 13 columns]"
            ]
          },
          "metadata": {
            "tags": []
          },
          "execution_count": 4
        }
      ]
    },
    {
      "cell_type": "markdown",
      "metadata": {
        "id": "ABuexqpDa2Jz",
        "colab_type": "text"
      },
      "source": [
        "## Data Visualization"
      ]
    },
    {
      "cell_type": "code",
      "metadata": {
        "id": "wGPoU8dMbxH0",
        "colab_type": "code",
        "colab": {}
      },
      "source": [
        "data = features.copy()\n",
        "data['Price'] = targets"
      ],
      "execution_count": 0,
      "outputs": []
    },
    {
      "cell_type": "code",
      "metadata": {
        "id": "11sebfDDa4D7",
        "colab_type": "code",
        "colab": {
          "base_uri": "https://localhost:8080/",
          "height": 515
        },
        "outputId": "d8374ee5-4f35-4edd-bc10-8bd6ec8a27cc"
      },
      "source": [
        "fig,axes = plt.subplots(1,4,figsize=(11,8))\n",
        "sns.regplot(x = 'LSTAT',y= 'Price',data=data,ax=axes[0])\n",
        "sns.regplot(x = 'RM',y= 'Price',data=data,ax=axes[1])\n",
        "sns.regplot(x = 'TAX',y= 'Price',data=data,ax=axes[2])\n",
        "sns.regplot(x = 'DIS',y= 'Price',data=data,ax=axes[3])"
      ],
      "execution_count": 21,
      "outputs": [
        {
          "output_type": "execute_result",
          "data": {
            "text/plain": [
              "<matplotlib.axes._subplots.AxesSubplot at 0x7f706985d2e8>"
            ]
          },
          "metadata": {
            "tags": []
          },
          "execution_count": 21
        },
        {
          "output_type": "display_data",
          "data": {
            "image/png": "[encoded data removed]",
            "text/plain": [
              "<Figure size 792x576 with 4 Axes>"
            ]
          },
          "metadata": {
            "tags": [],
            "needs_background": "light"
          }
        }
      ]
    },
    {
      "cell_type": "markdown",
      "metadata": {
        "id": "4HngQWE2lTww",
        "colab_type": "text"
      },
      "source": [
        "## Split the sample data into training and test set"
      ]
    },
    {
      "cell_type": "code",
      "metadata": {
        "id": "ZQkc-6PNlYA4",
        "colab_type": "code",
        "colab": {}
      },
      "source": [
        "X_train,X_test,y_train,y_test = train_test_split(features,targets,test_size=0.2,random_state=1)"
      ],
      "execution_count": 0,
      "outputs": []
    },
    {
      "cell_type": "markdown",
      "metadata": {
        "id": "-jtOmuc2jLSU",
        "colab_type": "text"
      },
      "source": [
        "## normalize data"
      ]
    },
    {
      "cell_type": "code",
      "metadata": {
        "id": "Frmk_oTwjP5J",
        "colab_type": "code",
        "colab": {}
      },
      "source": [
        "sc = StandardScaler()"
      ],
      "execution_count": 0,
      "outputs": []
    },
    {
      "cell_type": "markdown",
      "metadata": {
        "id": "5NyxfQIsj05K",
        "colab_type": "text"
      },
      "source": [
        "## Create a model using RandomForestRegressor"
      ]
    },
    {
      "cell_type": "code",
      "metadata": {
        "id": "1m1ngg-Kj4qJ",
        "colab_type": "code",
        "colab": {}
      },
      "source": [
        "rf = RandomForestRegressor()"
      ],
      "execution_count": 0,
      "outputs": []
    },
    {
      "cell_type": "code",
      "metadata": {
        "id": "bXksU84bj-BA",
        "colab_type": "code",
        "colab": {}
      },
      "source": [
        "# Create a pipeline of three steps. First, standardize the data.\n",
        "# Second,  train a Ranom Forest Regressor on the data.\n",
        "pipe = Pipeline(steps=[('sc', sc),('randomforestregressor', rf)])"
      ],
      "execution_count": 0,
      "outputs": []
    },
    {
      "cell_type": "code",
      "metadata": {
        "id": "ZOXlq7h9lHbT",
        "colab_type": "code",
        "colab": {}
      },
      "source": [
        "param_grid = {'randomforestregressor__n_estimators': [100,500, 700, 1000], 'randomforestregressor__max_depth': [None, 1, 2, 3], 'randomforestregressor__min_samples_split': [1, 2, 3]}"
      ],
      "execution_count": 0,
      "outputs": []
    },
    {
      "cell_type": "markdown",
      "metadata": {
        "id": "3POC5wC7mGEX",
        "colab_type": "text"
      },
      "source": [
        "## Conduct Parameter Optmization With Pipeline"
      ]
    },
    {
      "cell_type": "code",
      "metadata": {
        "id": "UR_d6QhUmJTp",
        "colab_type": "code",
        "colab": {}
      },
      "source": [
        "clf = GridSearchCV(pipe,param_grid,cv=5,verbose=2)"
      ],
      "execution_count": 0,
      "outputs": []
    },
    {
      "cell_type": "code",
      "metadata": {
        "id": "YbAvEr2YmctR",
        "colab_type": "code",
        "colab": {
          "base_uri": "https://localhost:8080/",
          "height": 1000
        },
        "outputId": "83cd6852-267a-4410-9a44-d7e4bd47fad9"
      },
      "source": [
        "## Fit the grid search\n",
        "clf.fit(X_train,y_train)"
      ],
      "execution_count": 31,
      "outputs": [
        {
          "output_type": "stream",
          "text": [
            "Fitting 5 folds for each of 48 candidates, totalling 240 fits\n",
            "[CV] randomforestregressor__max_depth=None, randomforestregressor__min_samples_split=1, randomforestregressor__n_estimators=100 \n",
            "[CV]  randomforestregressor__max_depth=None, randomforestregressor__min_samples_split=1, randomforestregressor__n_estimators=100, total=   0.0s\n",
            "[CV] randomforestregressor__max_depth=None, randomforestregressor__min_samples_split=1, randomforestregressor__n_estimators=100 \n",
            "[CV]  randomforestregressor__max_depth=None, randomforestregressor__min_samples_split=1, randomforestregressor__n_estimators=100, total=   0.0s\n",
            "[CV] randomforestregressor__max_depth=None, randomforestregressor__min_samples_split=1, randomforestregressor__n_estimators=100 \n",
            "[CV]  randomforestregressor__max_depth=None, randomforestregressor__min_samples_split=1, randomforestregressor__n_estimators=100, total=   0.0s\n",
            "[CV] randomforestregressor__max_depth=None, randomforestregressor__min_samples_split=1, randomforestregressor__n_estimators=100 \n",
            "[CV]  randomforestregressor__max_depth=None, randomforestregressor__min_samples_split=1, randomforestregressor__n_estimators=100, total=   0.0s\n",
            "[CV] randomforestregressor__max_depth=None, randomforestregressor__min_samples_split=1, randomforestregressor__n_estimators=100 \n",
            "[CV]  randomforestregressor__max_depth=None, randomforestregressor__min_samples_split=1, randomforestregressor__n_estimators=100, total=   0.0s\n",
            "[CV] randomforestregressor__max_depth=None, randomforestregressor__min_samples_split=1, randomforestregressor__n_estimators=500 \n"
          ],
          "name": "stdout"
        },
        {
          "output_type": "stream",
          "text": [
            "[Parallel(n_jobs=1)]: Using backend SequentialBackend with 1 concurrent workers.\n",
            "/usr/local/lib/python3.6/dist-packages/sklearn/model_selection/_validation.py:536: FitFailedWarning: Estimator fit failed. The score on this train-test partition for these parameters will be set to nan. Details: \n",
            "ValueError: min_samples_split must be an integer greater than 1 or a float in (0.0, 1.0]; got the integer 1\n",
            "\n",
            "  FitFailedWarning)\n",
            "[Parallel(n_jobs=1)]: Done   1 out of   1 | elapsed:    0.0s remaining:    0.0s\n",
            "/usr/local/lib/python3.6/dist-packages/sklearn/model_selection/_validation.py:536: FitFailedWarning: Estimator fit failed. The score on this train-test partition for these parameters will be set to nan. Details: \n",
            "ValueError: min_samples_split must be an integer greater than 1 or a float in (0.0, 1.0]; got the integer 1\n",
            "\n",
            "  FitFailedWarning)\n",
            "/usr/local/lib/python3.6/dist-packages/sklearn/model_selection/_validation.py:536: FitFailedWarning: Estimator fit failed. The score on this train-test partition for these parameters will be set to nan. Details: \n",
            "ValueError: min_samples_split must be an integer greater than 1 or a float in (0.0, 1.0]; got the integer 1\n",
            "\n",
            "  FitFailedWarning)\n",
            "/usr/local/lib/python3.6/dist-packages/sklearn/model_selection/_validation.py:536: FitFailedWarning: Estimator fit failed. The score on this train-test partition for these parameters will be set to nan. Details: \n",
            "ValueError: min_samples_split must be an integer greater than 1 or a float in (0.0, 1.0]; got the integer 1\n",
            "\n",
            "  FitFailedWarning)\n",
            "/usr/local/lib/python3.6/dist-packages/sklearn/model_selection/_validation.py:536: FitFailedWarning: Estimator fit failed. The score on this train-test partition for these parameters will be set to nan. Details: \n",
            "ValueError: min_samples_split must be an integer greater than 1 or a float in (0.0, 1.0]; got the integer 1\n",
            "\n",
            "  FitFailedWarning)\n",
            "/usr/local/lib/python3.6/dist-packages/sklearn/model_selection/_validation.py:536: FitFailedWarning: Estimator fit failed. The score on this train-test partition for these parameters will be set to nan. Details: \n",
            "ValueError: min_samples_split must be an integer greater than 1 or a float in (0.0, 1.0]; got the integer 1\n",
            "\n",
            "  FitFailedWarning)\n",
            "/usr/local/lib/python3.6/dist-packages/sklearn/model_selection/_validation.py:536: FitFailedWarning: Estimator fit failed. The score on this train-test partition for these parameters will be set to nan. Details: \n",
            "ValueError: min_samples_split must be an integer greater than 1 or a float in (0.0, 1.0]; got the integer 1\n",
            "\n",
            "  FitFailedWarning)\n"
          ],
          "name": "stderr"
        },
        {
          "output_type": "stream",
          "text": [
            "[CV]  randomforestregressor__max_depth=None, randomforestregressor__min_samples_split=1, randomforestregressor__n_estimators=500, total=   0.2s\n",
            "[CV] randomforestregressor__max_depth=None, randomforestregressor__min_samples_split=1, randomforestregressor__n_estimators=500 \n",
            "[CV]  randomforestregressor__max_depth=None, randomforestregressor__min_samples_split=1, randomforestregressor__n_estimators=500, total=   0.2s\n",
            "[CV] randomforestregressor__max_depth=None, randomforestregressor__min_samples_split=1, randomforestregressor__n_estimators=500 \n"
          ],
          "name": "stdout"
        },
        {
          "output_type": "stream",
          "text": [
            "/usr/local/lib/python3.6/dist-packages/sklearn/model_selection/_validation.py:536: FitFailedWarning: Estimator fit failed. The score on this train-test partition for these parameters will be set to nan. Details: \n",
            "ValueError: min_samples_split must be an integer greater than 1 or a float in (0.0, 1.0]; got the integer 1\n",
            "\n",
            "  FitFailedWarning)\n",
            "/usr/local/lib/python3.6/dist-packages/sklearn/model_selection/_validation.py:536: FitFailedWarning: Estimator fit failed. The score on this train-test partition for these parameters will be set to nan. Details: \n",
            "ValueError: min_samples_split must be an integer greater than 1 or a float in (0.0, 1.0]; got the integer 1\n",
            "\n",
            "  FitFailedWarning)\n"
          ],
          "name": "stderr"
        },
        {
          "output_type": "stream",
          "text": [
            "[CV]  randomforestregressor__max_depth=None, randomforestregressor__min_samples_split=1, randomforestregressor__n_estimators=500, total=   0.2s\n",
            "[CV] randomforestregressor__max_depth=None, randomforestregressor__min_samples_split=1, randomforestregressor__n_estimators=500 \n",
            "[CV]  randomforestregressor__max_depth=None, randomforestregressor__min_samples_split=1, randomforestregressor__n_estimators=500, total=   0.2s\n",
            "[CV] randomforestregressor__max_depth=None, randomforestregressor__min_samples_split=1, randomforestregressor__n_estimators=500 \n"
          ],
          "name": "stdout"
        },
        {
          "output_type": "stream",
          "text": [
            "/usr/local/lib/python3.6/dist-packages/sklearn/model_selection/_validation.py:536: FitFailedWarning: Estimator fit failed. The score on this train-test partition for these parameters will be set to nan. Details: \n",
            "ValueError: min_samples_split must be an integer greater than 1 or a float in (0.0, 1.0]; got the integer 1\n",
            "\n",
            "  FitFailedWarning)\n"
          ],
          "name": "stderr"
        },
        {
          "output_type": "stream",
          "text": [
            "[CV]  randomforestregressor__max_depth=None, randomforestregressor__min_samples_split=1, randomforestregressor__n_estimators=500, total=   0.2s\n",
            "[CV] randomforestregressor__max_depth=None, randomforestregressor__min_samples_split=1, randomforestregressor__n_estimators=700 \n"
          ],
          "name": "stdout"
        },
        {
          "output_type": "stream",
          "text": [
            "/usr/local/lib/python3.6/dist-packages/sklearn/model_selection/_validation.py:536: FitFailedWarning: Estimator fit failed. The score on this train-test partition for these parameters will be set to nan. Details: \n",
            "ValueError: min_samples_split must be an integer greater than 1 or a float in (0.0, 1.0]; got the integer 1\n",
            "\n",
            "  FitFailedWarning)\n"
          ],
          "name": "stderr"
        },
        {
          "output_type": "stream",
          "text": [
            "[CV]  randomforestregressor__max_depth=None, randomforestregressor__min_samples_split=1, randomforestregressor__n_estimators=700, total=   0.2s\n",
            "[CV] randomforestregressor__max_depth=None, randomforestregressor__min_samples_split=1, randomforestregressor__n_estimators=700 \n"
          ],
          "name": "stdout"
        },
        {
          "output_type": "stream",
          "text": [
            "/usr/local/lib/python3.6/dist-packages/sklearn/model_selection/_validation.py:536: FitFailedWarning: Estimator fit failed. The score on this train-test partition for these parameters will be set to nan. Details: \n",
            "ValueError: min_samples_split must be an integer greater than 1 or a float in (0.0, 1.0]; got the integer 1\n",
            "\n",
            "  FitFailedWarning)\n"
          ],
          "name": "stderr"
        },
        {
          "output_type": "stream",
          "text": [
            "[CV]  randomforestregressor__max_depth=None, randomforestregressor__min_samples_split=1, randomforestregressor__n_estimators=700, total=   0.3s\n",
            "[CV] randomforestregressor__max_depth=None, randomforestregressor__min_samples_split=1, randomforestregressor__n_estimators=700 \n"
          ],
          "name": "stdout"
        },
        {
          "output_type": "stream",
          "text": [
            "/usr/local/lib/python3.6/dist-packages/sklearn/model_selection/_validation.py:536: FitFailedWarning: Estimator fit failed. The score on this train-test partition for these parameters will be set to nan. Details: \n",
            "ValueError: min_samples_split must be an integer greater than 1 or a float in (0.0, 1.0]; got the integer 1\n",
            "\n",
            "  FitFailedWarning)\n"
          ],
          "name": "stderr"
        },
        {
          "output_type": "stream",
          "text": [
            "[CV]  randomforestregressor__max_depth=None, randomforestregressor__min_samples_split=1, randomforestregressor__n_estimators=700, total=   0.3s\n",
            "[CV] randomforestregressor__max_depth=None, randomforestregressor__min_samples_split=1, randomforestregressor__n_estimators=700 \n"
          ],
          "name": "stdout"
        },
        {
          "output_type": "stream",
          "text": [
            "/usr/local/lib/python3.6/dist-packages/sklearn/model_selection/_validation.py:536: FitFailedWarning: Estimator fit failed. The score on this train-test partition for these parameters will be set to nan. Details: \n",
            "ValueError: min_samples_split must be an integer greater than 1 or a float in (0.0, 1.0]; got the integer 1\n",
            "\n",
            "  FitFailedWarning)\n"
          ],
          "name": "stderr"
        },
        {
          "output_type": "stream",
          "text": [
            "[CV]  randomforestregressor__max_depth=None, randomforestregressor__min_samples_split=1, randomforestregressor__n_estimators=700, total=   0.3s\n",
            "[CV] randomforestregressor__max_depth=None, randomforestregressor__min_samples_split=1, randomforestregressor__n_estimators=700 \n"
          ],
          "name": "stdout"
        },
        {
          "output_type": "stream",
          "text": [
            "/usr/local/lib/python3.6/dist-packages/sklearn/model_selection/_validation.py:536: FitFailedWarning: Estimator fit failed. The score on this train-test partition for these parameters will be set to nan. Details: \n",
            "ValueError: min_samples_split must be an integer greater than 1 or a float in (0.0, 1.0]; got the integer 1\n",
            "\n",
            "  FitFailedWarning)\n"
          ],
          "name": "stderr"
        },
        {
          "output_type": "stream",
          "text": [
            "[CV]  randomforestregressor__max_depth=None, randomforestregressor__min_samples_split=1, randomforestregressor__n_estimators=700, total=   0.2s\n",
            "[CV] randomforestregressor__max_depth=None, randomforestregressor__min_samples_split=1, randomforestregressor__n_estimators=1000 \n"
          ],
          "name": "stdout"
        },
        {
          "output_type": "stream",
          "text": [
            "/usr/local/lib/python3.6/dist-packages/sklearn/model_selection/_validation.py:536: FitFailedWarning: Estimator fit failed. The score on this train-test partition for these parameters will be set to nan. Details: \n",
            "ValueError: min_samples_split must be an integer greater than 1 or a float in (0.0, 1.0]; got the integer 1\n",
            "\n",
            "  FitFailedWarning)\n"
          ],
          "name": "stderr"
        },
        {
          "output_type": "stream",
          "text": [
            "[CV]  randomforestregressor__max_depth=None, randomforestregressor__min_samples_split=1, randomforestregressor__n_estimators=1000, total=   0.4s\n",
            "[CV] randomforestregressor__max_depth=None, randomforestregressor__min_samples_split=1, randomforestregressor__n_estimators=1000 \n"
          ],
          "name": "stdout"
        },
        {
          "output_type": "stream",
          "text": [
            "/usr/local/lib/python3.6/dist-packages/sklearn/model_selection/_validation.py:536: FitFailedWarning: Estimator fit failed. The score on this train-test partition for these parameters will be set to nan. Details: \n",
            "ValueError: min_samples_split must be an integer greater than 1 or a float in (0.0, 1.0]; got the integer 1\n",
            "\n",
            "  FitFailedWarning)\n"
          ],
          "name": "stderr"
        },
        {
          "output_type": "stream",
          "text": [
            "[CV]  randomforestregressor__max_depth=None, randomforestregressor__min_samples_split=1, randomforestregressor__n_estimators=1000, total=   0.4s\n",
            "[CV] randomforestregressor__max_depth=None, randomforestregressor__min_samples_split=1, randomforestregressor__n_estimators=1000 \n"
          ],
          "name": "stdout"
        },
        {
          "output_type": "stream",
          "text": [
            "/usr/local/lib/python3.6/dist-packages/sklearn/model_selection/_validation.py:536: FitFailedWarning: Estimator fit failed. The score on this train-test partition for these parameters will be set to nan. Details: \n",
            "ValueError: min_samples_split must be an integer greater than 1 or a float in (0.0, 1.0]; got the integer 1\n",
            "\n",
            "  FitFailedWarning)\n"
          ],
          "name": "stderr"
        },
        {
          "output_type": "stream",
          "text": [
            "[CV]  randomforestregressor__max_depth=None, randomforestregressor__min_samples_split=1, randomforestregressor__n_estimators=1000, total=   0.4s\n",
            "[CV] randomforestregressor__max_depth=None, randomforestregressor__min_samples_split=1, randomforestregressor__n_estimators=1000 \n"
          ],
          "name": "stdout"
        },
        {
          "output_type": "stream",
          "text": [
            "/usr/local/lib/python3.6/dist-packages/sklearn/model_selection/_validation.py:536: FitFailedWarning: Estimator fit failed. The score on this train-test partition for these parameters will be set to nan. Details: \n",
            "ValueError: min_samples_split must be an integer greater than 1 or a float in (0.0, 1.0]; got the integer 1\n",
            "\n",
            "  FitFailedWarning)\n"
          ],
          "name": "stderr"
        },
        {
          "output_type": "stream",
          "text": [
            "[CV]  randomforestregressor__max_depth=None, randomforestregressor__min_samples_split=1, randomforestregressor__n_estimators=1000, total=   0.3s\n",
            "[CV] randomforestregressor__max_depth=None, randomforestregressor__min_samples_split=1, randomforestregressor__n_estimators=1000 \n"
          ],
          "name": "stdout"
        },
        {
          "output_type": "stream",
          "text": [
            "/usr/local/lib/python3.6/dist-packages/sklearn/model_selection/_validation.py:536: FitFailedWarning: Estimator fit failed. The score on this train-test partition for these parameters will be set to nan. Details: \n",
            "ValueError: min_samples_split must be an integer greater than 1 or a float in (0.0, 1.0]; got the integer 1\n",
            "\n",
            "  FitFailedWarning)\n"
          ],
          "name": "stderr"
        },
        {
          "output_type": "stream",
          "text": [
            "[CV]  randomforestregressor__max_depth=None, randomforestregressor__min_samples_split=1, randomforestregressor__n_estimators=1000, total=   0.4s\n",
            "[CV] randomforestregressor__max_depth=None, randomforestregressor__min_samples_split=2, randomforestregressor__n_estimators=100 \n",
            "[CV]  randomforestregressor__max_depth=None, randomforestregressor__min_samples_split=2, randomforestregressor__n_estimators=100, total=   0.3s\n",
            "[CV] randomforestregressor__max_depth=None, randomforestregressor__min_samples_split=2, randomforestregressor__n_estimators=100 \n",
            "[CV]  randomforestregressor__max_depth=None, randomforestregressor__min_samples_split=2, randomforestregressor__n_estimators=100, total=   0.3s\n",
            "[CV] randomforestregressor__max_depth=None, randomforestregressor__min_samples_split=2, randomforestregressor__n_estimators=100 \n",
            "[CV]  randomforestregressor__max_depth=None, randomforestregressor__min_samples_split=2, randomforestregressor__n_estimators=100, total=   0.3s\n",
            "[CV] randomforestregressor__max_depth=None, randomforestregressor__min_samples_split=2, randomforestregressor__n_estimators=100 \n",
            "[CV]  randomforestregressor__max_depth=None, randomforestregressor__min_samples_split=2, randomforestregressor__n_estimators=100, total=   0.3s\n",
            "[CV] randomforestregressor__max_depth=None, randomforestregressor__min_samples_split=2, randomforestregressor__n_estimators=100 \n",
            "[CV]  randomforestregressor__max_depth=None, randomforestregressor__min_samples_split=2, randomforestregressor__n_estimators=100, total=   0.3s\n",
            "[CV] randomforestregressor__max_depth=None, randomforestregressor__min_samples_split=2, randomforestregressor__n_estimators=500 \n",
            "[CV]  randomforestregressor__max_depth=None, randomforestregressor__min_samples_split=2, randomforestregressor__n_estimators=500, total=   1.4s\n",
            "[CV] randomforestregressor__max_depth=None, randomforestregressor__min_samples_split=2, randomforestregressor__n_estimators=500 \n",
            "[CV]  randomforestregressor__max_depth=None, randomforestregressor__min_samples_split=2, randomforestregressor__n_estimators=500, total=   1.3s\n",
            "[CV] randomforestregressor__max_depth=None, randomforestregressor__min_samples_split=2, randomforestregressor__n_estimators=500 \n",
            "[CV]  randomforestregressor__max_depth=None, randomforestregressor__min_samples_split=2, randomforestregressor__n_estimators=500, total=   1.4s\n",
            "[CV] randomforestregressor__max_depth=None, randomforestregressor__min_samples_split=2, randomforestregressor__n_estimators=500 \n",
            "[CV]  randomforestregressor__max_depth=None, randomforestregressor__min_samples_split=2, randomforestregressor__n_estimators=500, total=   1.3s\n",
            "[CV] randomforestregressor__max_depth=None, randomforestregressor__min_samples_split=2, randomforestregressor__n_estimators=500 \n",
            "[CV]  randomforestregressor__max_depth=None, randomforestregressor__min_samples_split=2, randomforestregressor__n_estimators=500, total=   1.3s\n",
            "[CV] randomforestregressor__max_depth=None, randomforestregressor__min_samples_split=2, randomforestregressor__n_estimators=700 \n",
            "[CV]  randomforestregressor__max_depth=None, randomforestregressor__min_samples_split=2, randomforestregressor__n_estimators=700, total=   1.9s\n",
            "[CV] randomforestregressor__max_depth=None, randomforestregressor__min_samples_split=2, randomforestregressor__n_estimators=700 \n",
            "[CV]  randomforestregressor__max_depth=None, randomforestregressor__min_samples_split=2, randomforestregressor__n_estimators=700, total=   1.9s\n",
            "[CV] randomforestregressor__max_depth=None, randomforestregressor__min_samples_split=2, randomforestregressor__n_estimators=700 \n",
            "[CV]  randomforestregressor__max_depth=None, randomforestregressor__min_samples_split=2, randomforestregressor__n_estimators=700, total=   1.9s\n",
            "[CV] randomforestregressor__max_depth=None, randomforestregressor__min_samples_split=2, randomforestregressor__n_estimators=700 \n",
            "[CV]  randomforestregressor__max_depth=None, randomforestregressor__min_samples_split=2, randomforestregressor__n_estimators=700, total=   1.9s\n",
            "[CV] randomforestregressor__max_depth=None, randomforestregressor__min_samples_split=2, randomforestregressor__n_estimators=700 \n",
            "[CV]  randomforestregressor__max_depth=None, randomforestregressor__min_samples_split=2, randomforestregressor__n_estimators=700, total=   1.9s\n",
            "[CV] randomforestregressor__max_depth=None, randomforestregressor__min_samples_split=2, randomforestregressor__n_estimators=1000 \n",
            "[CV]  randomforestregressor__max_depth=None, randomforestregressor__min_samples_split=2, randomforestregressor__n_estimators=1000, total=   2.7s\n",
            "[CV] randomforestregressor__max_depth=None, randomforestregressor__min_samples_split=2, randomforestregressor__n_estimators=1000 \n",
            "[CV]  randomforestregressor__max_depth=None, randomforestregressor__min_samples_split=2, randomforestregressor__n_estimators=1000, total=   2.7s\n",
            "[CV] randomforestregressor__max_depth=None, randomforestregressor__min_samples_split=2, randomforestregressor__n_estimators=1000 \n",
            "[CV]  randomforestregressor__max_depth=None, randomforestregressor__min_samples_split=2, randomforestregressor__n_estimators=1000, total=   2.7s\n",
            "[CV] randomforestregressor__max_depth=None, randomforestregressor__min_samples_split=2, randomforestregressor__n_estimators=1000 \n",
            "[CV]  randomforestregressor__max_depth=None, randomforestregressor__min_samples_split=2, randomforestregressor__n_estimators=1000, total=   2.7s\n",
            "[CV] randomforestregressor__max_depth=None, randomforestregressor__min_samples_split=2, randomforestregressor__n_estimators=1000 \n",
            "[CV]  randomforestregressor__max_depth=None, randomforestregressor__min_samples_split=2, randomforestregressor__n_estimators=1000, total=   2.7s\n",
            "[CV] randomforestregressor__max_depth=None, randomforestregressor__min_samples_split=3, randomforestregressor__n_estimators=100 \n",
            "[CV]  randomforestregressor__max_depth=None, randomforestregressor__min_samples_split=3, randomforestregressor__n_estimators=100, total=   0.3s\n",
            "[CV] randomforestregressor__max_depth=None, randomforestregressor__min_samples_split=3, randomforestregressor__n_estimators=100 \n",
            "[CV]  randomforestregressor__max_depth=None, randomforestregressor__min_samples_split=3, randomforestregressor__n_estimators=100, total=   0.3s\n",
            "[CV] randomforestregressor__max_depth=None, randomforestregressor__min_samples_split=3, randomforestregressor__n_estimators=100 \n",
            "[CV]  randomforestregressor__max_depth=None, randomforestregressor__min_samples_split=3, randomforestregressor__n_estimators=100, total=   0.3s\n",
            "[CV] randomforestregressor__max_depth=None, randomforestregressor__min_samples_split=3, randomforestregressor__n_estimators=100 \n",
            "[CV]  randomforestregressor__max_depth=None, randomforestregressor__min_samples_split=3, randomforestregressor__n_estimators=100, total=   0.3s\n",
            "[CV] randomforestregressor__max_depth=None, randomforestregressor__min_samples_split=3, randomforestregressor__n_estimators=100 \n",
            "[CV]  randomforestregressor__max_depth=None, randomforestregressor__min_samples_split=3, randomforestregressor__n_estimators=100, total=   0.3s\n",
            "[CV] randomforestregressor__max_depth=None, randomforestregressor__min_samples_split=3, randomforestregressor__n_estimators=500 \n",
            "[CV]  randomforestregressor__max_depth=None, randomforestregressor__min_samples_split=3, randomforestregressor__n_estimators=500, total=   1.3s\n",
            "[CV] randomforestregressor__max_depth=None, randomforestregressor__min_samples_split=3, randomforestregressor__n_estimators=500 \n",
            "[CV]  randomforestregressor__max_depth=None, randomforestregressor__min_samples_split=3, randomforestregressor__n_estimators=500, total=   1.3s\n",
            "[CV] randomforestregressor__max_depth=None, randomforestregressor__min_samples_split=3, randomforestregressor__n_estimators=500 \n",
            "[CV]  randomforestregressor__max_depth=None, randomforestregressor__min_samples_split=3, randomforestregressor__n_estimators=500, total=   1.3s\n",
            "[CV] randomforestregressor__max_depth=None, randomforestregressor__min_samples_split=3, randomforestregressor__n_estimators=500 \n",
            "[CV]  randomforestregressor__max_depth=None, randomforestregressor__min_samples_split=3, randomforestregressor__n_estimators=500, total=   1.3s\n",
            "[CV] randomforestregressor__max_depth=None, randomforestregressor__min_samples_split=3, randomforestregressor__n_estimators=500 \n",
            "[CV]  randomforestregressor__max_depth=None, randomforestregressor__min_samples_split=3, randomforestregressor__n_estimators=500, total=   1.3s\n",
            "[CV] randomforestregressor__max_depth=None, randomforestregressor__min_samples_split=3, randomforestregressor__n_estimators=700 \n",
            "[CV]  randomforestregressor__max_depth=None, randomforestregressor__min_samples_split=3, randomforestregressor__n_estimators=700, total=   1.8s\n",
            "[CV] randomforestregressor__max_depth=None, randomforestregressor__min_samples_split=3, randomforestregressor__n_estimators=700 \n",
            "[CV]  randomforestregressor__max_depth=None, randomforestregressor__min_samples_split=3, randomforestregressor__n_estimators=700, total=   1.8s\n",
            "[CV] randomforestregressor__max_depth=None, randomforestregressor__min_samples_split=3, randomforestregressor__n_estimators=700 \n",
            "[CV]  randomforestregressor__max_depth=None, randomforestregressor__min_samples_split=3, randomforestregressor__n_estimators=700, total=   1.8s\n",
            "[CV] randomforestregressor__max_depth=None, randomforestregressor__min_samples_split=3, randomforestregressor__n_estimators=700 \n",
            "[CV]  randomforestregressor__max_depth=None, randomforestregressor__min_samples_split=3, randomforestregressor__n_estimators=700, total=   1.8s\n",
            "[CV] randomforestregressor__max_depth=None, randomforestregressor__min_samples_split=3, randomforestregressor__n_estimators=700 \n",
            "[CV]  randomforestregressor__max_depth=None, randomforestregressor__min_samples_split=3, randomforestregressor__n_estimators=700, total=   1.8s\n",
            "[CV] randomforestregressor__max_depth=None, randomforestregressor__min_samples_split=3, randomforestregressor__n_estimators=1000 \n",
            "[CV]  randomforestregressor__max_depth=None, randomforestregressor__min_samples_split=3, randomforestregressor__n_estimators=1000, total=   2.6s\n",
            "[CV] randomforestregressor__max_depth=None, randomforestregressor__min_samples_split=3, randomforestregressor__n_estimators=1000 \n",
            "[CV]  randomforestregressor__max_depth=None, randomforestregressor__min_samples_split=3, randomforestregressor__n_estimators=1000, total=   2.6s\n",
            "[CV] randomforestregressor__max_depth=None, randomforestregressor__min_samples_split=3, randomforestregressor__n_estimators=1000 \n",
            "[CV]  randomforestregressor__max_depth=None, randomforestregressor__min_samples_split=3, randomforestregressor__n_estimators=1000, total=   2.6s\n",
            "[CV] randomforestregressor__max_depth=None, randomforestregressor__min_samples_split=3, randomforestregressor__n_estimators=1000 \n",
            "[CV]  randomforestregressor__max_depth=None, randomforestregressor__min_samples_split=3, randomforestregressor__n_estimators=1000, total=   2.5s\n",
            "[CV] randomforestregressor__max_depth=None, randomforestregressor__min_samples_split=3, randomforestregressor__n_estimators=1000 \n",
            "[CV]  randomforestregressor__max_depth=None, randomforestregressor__min_samples_split=3, randomforestregressor__n_estimators=1000, total=   2.6s\n",
            "[CV] randomforestregressor__max_depth=1, randomforestregressor__min_samples_split=1, randomforestregressor__n_estimators=100 \n",
            "[CV]  randomforestregressor__max_depth=1, randomforestregressor__min_samples_split=1, randomforestregressor__n_estimators=100, total=   0.0s\n",
            "[CV] randomforestregressor__max_depth=1, randomforestregressor__min_samples_split=1, randomforestregressor__n_estimators=100 \n",
            "[CV]  randomforestregressor__max_depth=1, randomforestregressor__min_samples_split=1, randomforestregressor__n_estimators=100, total=   0.0s\n",
            "[CV] randomforestregressor__max_depth=1, randomforestregressor__min_samples_split=1, randomforestregressor__n_estimators=100 \n",
            "[CV]  randomforestregressor__max_depth=1, randomforestregressor__min_samples_split=1, randomforestregressor__n_estimators=100, total=   0.0s\n",
            "[CV] randomforestregressor__max_depth=1, randomforestregressor__min_samples_split=1, randomforestregressor__n_estimators=100 \n",
            "[CV]  randomforestregressor__max_depth=1, randomforestregressor__min_samples_split=1, randomforestregressor__n_estimators=100, total=   0.0s\n",
            "[CV] randomforestregressor__max_depth=1, randomforestregressor__min_samples_split=1, randomforestregressor__n_estimators=100 \n",
            "[CV]  randomforestregressor__max_depth=1, randomforestregressor__min_samples_split=1, randomforestregressor__n_estimators=100, total=   0.0s\n",
            "[CV] randomforestregressor__max_depth=1, randomforestregressor__min_samples_split=1, randomforestregressor__n_estimators=500 \n"
          ],
          "name": "stdout"
        },
        {
          "output_type": "stream",
          "text": [
            "/usr/local/lib/python3.6/dist-packages/sklearn/model_selection/_validation.py:536: FitFailedWarning: Estimator fit failed. The score on this train-test partition for these parameters will be set to nan. Details: \n",
            "ValueError: min_samples_split must be an integer greater than 1 or a float in (0.0, 1.0]; got the integer 1\n",
            "\n",
            "  FitFailedWarning)\n",
            "/usr/local/lib/python3.6/dist-packages/sklearn/model_selection/_validation.py:536: FitFailedWarning: Estimator fit failed. The score on this train-test partition for these parameters will be set to nan. Details: \n",
            "ValueError: min_samples_split must be an integer greater than 1 or a float in (0.0, 1.0]; got the integer 1\n",
            "\n",
            "  FitFailedWarning)\n",
            "/usr/local/lib/python3.6/dist-packages/sklearn/model_selection/_validation.py:536: FitFailedWarning: Estimator fit failed. The score on this train-test partition for these parameters will be set to nan. Details: \n",
            "ValueError: min_samples_split must be an integer greater than 1 or a float in (0.0, 1.0]; got the integer 1\n",
            "\n",
            "  FitFailedWarning)\n",
            "/usr/local/lib/python3.6/dist-packages/sklearn/model_selection/_validation.py:536: FitFailedWarning: Estimator fit failed. The score on this train-test partition for these parameters will be set to nan. Details: \n",
            "ValueError: min_samples_split must be an integer greater than 1 or a float in (0.0, 1.0]; got the integer 1\n",
            "\n",
            "  FitFailedWarning)\n",
            "/usr/local/lib/python3.6/dist-packages/sklearn/model_selection/_validation.py:536: FitFailedWarning: Estimator fit failed. The score on this train-test partition for these parameters will be set to nan. Details: \n",
            "ValueError: min_samples_split must be an integer greater than 1 or a float in (0.0, 1.0]; got the integer 1\n",
            "\n",
            "  FitFailedWarning)\n",
            "/usr/local/lib/python3.6/dist-packages/sklearn/model_selection/_validation.py:536: FitFailedWarning: Estimator fit failed. The score on this train-test partition for these parameters will be set to nan. Details: \n",
            "ValueError: min_samples_split must be an integer greater than 1 or a float in (0.0, 1.0]; got the integer 1\n",
            "\n",
            "  FitFailedWarning)\n",
            "/usr/local/lib/python3.6/dist-packages/sklearn/model_selection/_validation.py:536: FitFailedWarning: Estimator fit failed. The score on this train-test partition for these parameters will be set to nan. Details: \n",
            "ValueError: min_samples_split must be an integer greater than 1 or a float in (0.0, 1.0]; got the integer 1\n",
            "\n",
            "  FitFailedWarning)\n"
          ],
          "name": "stderr"
        },
        {
          "output_type": "stream",
          "text": [
            "[CV]  randomforestregressor__max_depth=1, randomforestregressor__min_samples_split=1, randomforestregressor__n_estimators=500, total=   0.2s\n",
            "[CV] randomforestregressor__max_depth=1, randomforestregressor__min_samples_split=1, randomforestregressor__n_estimators=500 \n",
            "[CV]  randomforestregressor__max_depth=1, randomforestregressor__min_samples_split=1, randomforestregressor__n_estimators=500, total=   0.2s\n",
            "[CV] randomforestregressor__max_depth=1, randomforestregressor__min_samples_split=1, randomforestregressor__n_estimators=500 \n"
          ],
          "name": "stdout"
        },
        {
          "output_type": "stream",
          "text": [
            "/usr/local/lib/python3.6/dist-packages/sklearn/model_selection/_validation.py:536: FitFailedWarning: Estimator fit failed. The score on this train-test partition for these parameters will be set to nan. Details: \n",
            "ValueError: min_samples_split must be an integer greater than 1 or a float in (0.0, 1.0]; got the integer 1\n",
            "\n",
            "  FitFailedWarning)\n",
            "/usr/local/lib/python3.6/dist-packages/sklearn/model_selection/_validation.py:536: FitFailedWarning: Estimator fit failed. The score on this train-test partition for these parameters will be set to nan. Details: \n",
            "ValueError: min_samples_split must be an integer greater than 1 or a float in (0.0, 1.0]; got the integer 1\n",
            "\n",
            "  FitFailedWarning)\n"
          ],
          "name": "stderr"
        },
        {
          "output_type": "stream",
          "text": [
            "[CV]  randomforestregressor__max_depth=1, randomforestregressor__min_samples_split=1, randomforestregressor__n_estimators=500, total=   0.2s\n",
            "[CV] randomforestregressor__max_depth=1, randomforestregressor__min_samples_split=1, randomforestregressor__n_estimators=500 \n",
            "[CV]  randomforestregressor__max_depth=1, randomforestregressor__min_samples_split=1, randomforestregressor__n_estimators=500, total=   0.2s\n",
            "[CV] randomforestregressor__max_depth=1, randomforestregressor__min_samples_split=1, randomforestregressor__n_estimators=500 \n"
          ],
          "name": "stdout"
        },
        {
          "output_type": "stream",
          "text": [
            "/usr/local/lib/python3.6/dist-packages/sklearn/model_selection/_validation.py:536: FitFailedWarning: Estimator fit failed. The score on this train-test partition for these parameters will be set to nan. Details: \n",
            "ValueError: min_samples_split must be an integer greater than 1 or a float in (0.0, 1.0]; got the integer 1\n",
            "\n",
            "  FitFailedWarning)\n"
          ],
          "name": "stderr"
        },
        {
          "output_type": "stream",
          "text": [
            "[CV]  randomforestregressor__max_depth=1, randomforestregressor__min_samples_split=1, randomforestregressor__n_estimators=500, total=   0.2s\n",
            "[CV] randomforestregressor__max_depth=1, randomforestregressor__min_samples_split=1, randomforestregressor__n_estimators=700 \n"
          ],
          "name": "stdout"
        },
        {
          "output_type": "stream",
          "text": [
            "/usr/local/lib/python3.6/dist-packages/sklearn/model_selection/_validation.py:536: FitFailedWarning: Estimator fit failed. The score on this train-test partition for these parameters will be set to nan. Details: \n",
            "ValueError: min_samples_split must be an integer greater than 1 or a float in (0.0, 1.0]; got the integer 1\n",
            "\n",
            "  FitFailedWarning)\n"
          ],
          "name": "stderr"
        },
        {
          "output_type": "stream",
          "text": [
            "[CV]  randomforestregressor__max_depth=1, randomforestregressor__min_samples_split=1, randomforestregressor__n_estimators=700, total=   0.3s\n",
            "[CV] randomforestregressor__max_depth=1, randomforestregressor__min_samples_split=1, randomforestregressor__n_estimators=700 \n"
          ],
          "name": "stdout"
        },
        {
          "output_type": "stream",
          "text": [
            "/usr/local/lib/python3.6/dist-packages/sklearn/model_selection/_validation.py:536: FitFailedWarning: Estimator fit failed. The score on this train-test partition for these parameters will be set to nan. Details: \n",
            "ValueError: min_samples_split must be an integer greater than 1 or a float in (0.0, 1.0]; got the integer 1\n",
            "\n",
            "  FitFailedWarning)\n"
          ],
          "name": "stderr"
        },
        {
          "output_type": "stream",
          "text": [
            "[CV]  randomforestregressor__max_depth=1, randomforestregressor__min_samples_split=1, randomforestregressor__n_estimators=700, total=   0.2s\n",
            "[CV] randomforestregressor__max_depth=1, randomforestregressor__min_samples_split=1, randomforestregressor__n_estimators=700 \n"
          ],
          "name": "stdout"
        },
        {
          "output_type": "stream",
          "text": [
            "/usr/local/lib/python3.6/dist-packages/sklearn/model_selection/_validation.py:536: FitFailedWarning: Estimator fit failed. The score on this train-test partition for these parameters will be set to nan. Details: \n",
            "ValueError: min_samples_split must be an integer greater than 1 or a float in (0.0, 1.0]; got the integer 1\n",
            "\n",
            "  FitFailedWarning)\n"
          ],
          "name": "stderr"
        },
        {
          "output_type": "stream",
          "text": [
            "[CV]  randomforestregressor__max_depth=1, randomforestregressor__min_samples_split=1, randomforestregressor__n_estimators=700, total=   0.3s\n",
            "[CV] randomforestregressor__max_depth=1, randomforestregressor__min_samples_split=1, randomforestregressor__n_estimators=700 \n"
          ],
          "name": "stdout"
        },
        {
          "output_type": "stream",
          "text": [
            "/usr/local/lib/python3.6/dist-packages/sklearn/model_selection/_validation.py:536: FitFailedWarning: Estimator fit failed. The score on this train-test partition for these parameters will be set to nan. Details: \n",
            "ValueError: min_samples_split must be an integer greater than 1 or a float in (0.0, 1.0]; got the integer 1\n",
            "\n",
            "  FitFailedWarning)\n"
          ],
          "name": "stderr"
        },
        {
          "output_type": "stream",
          "text": [
            "[CV]  randomforestregressor__max_depth=1, randomforestregressor__min_samples_split=1, randomforestregressor__n_estimators=700, total=   0.3s\n",
            "[CV] randomforestregressor__max_depth=1, randomforestregressor__min_samples_split=1, randomforestregressor__n_estimators=700 \n"
          ],
          "name": "stdout"
        },
        {
          "output_type": "stream",
          "text": [
            "/usr/local/lib/python3.6/dist-packages/sklearn/model_selection/_validation.py:536: FitFailedWarning: Estimator fit failed. The score on this train-test partition for these parameters will be set to nan. Details: \n",
            "ValueError: min_samples_split must be an integer greater than 1 or a float in (0.0, 1.0]; got the integer 1\n",
            "\n",
            "  FitFailedWarning)\n"
          ],
          "name": "stderr"
        },
        {
          "output_type": "stream",
          "text": [
            "[CV]  randomforestregressor__max_depth=1, randomforestregressor__min_samples_split=1, randomforestregressor__n_estimators=700, total=   0.3s\n",
            "[CV] randomforestregressor__max_depth=1, randomforestregressor__min_samples_split=1, randomforestregressor__n_estimators=1000 \n"
          ],
          "name": "stdout"
        },
        {
          "output_type": "stream",
          "text": [
            "/usr/local/lib/python3.6/dist-packages/sklearn/model_selection/_validation.py:536: FitFailedWarning: Estimator fit failed. The score on this train-test partition for these parameters will be set to nan. Details: \n",
            "ValueError: min_samples_split must be an integer greater than 1 or a float in (0.0, 1.0]; got the integer 1\n",
            "\n",
            "  FitFailedWarning)\n"
          ],
          "name": "stderr"
        },
        {
          "output_type": "stream",
          "text": [
            "[CV]  randomforestregressor__max_depth=1, randomforestregressor__min_samples_split=1, randomforestregressor__n_estimators=1000, total=   0.4s\n",
            "[CV] randomforestregressor__max_depth=1, randomforestregressor__min_samples_split=1, randomforestregressor__n_estimators=1000 \n"
          ],
          "name": "stdout"
        },
        {
          "output_type": "stream",
          "text": [
            "/usr/local/lib/python3.6/dist-packages/sklearn/model_selection/_validation.py:536: FitFailedWarning: Estimator fit failed. The score on this train-test partition for these parameters will be set to nan. Details: \n",
            "ValueError: min_samples_split must be an integer greater than 1 or a float in (0.0, 1.0]; got the integer 1\n",
            "\n",
            "  FitFailedWarning)\n"
          ],
          "name": "stderr"
        },
        {
          "output_type": "stream",
          "text": [
            "[CV]  randomforestregressor__max_depth=1, randomforestregressor__min_samples_split=1, randomforestregressor__n_estimators=1000, total=   0.4s\n",
            "[CV] randomforestregressor__max_depth=1, randomforestregressor__min_samples_split=1, randomforestregressor__n_estimators=1000 \n"
          ],
          "name": "stdout"
        },
        {
          "output_type": "stream",
          "text": [
            "/usr/local/lib/python3.6/dist-packages/sklearn/model_selection/_validation.py:536: FitFailedWarning: Estimator fit failed. The score on this train-test partition for these parameters will be set to nan. Details: \n",
            "ValueError: min_samples_split must be an integer greater than 1 or a float in (0.0, 1.0]; got the integer 1\n",
            "\n",
            "  FitFailedWarning)\n"
          ],
          "name": "stderr"
        },
        {
          "output_type": "stream",
          "text": [
            "[CV]  randomforestregressor__max_depth=1, randomforestregressor__min_samples_split=1, randomforestregressor__n_estimators=1000, total=   0.3s\n",
            "[CV] randomforestregressor__max_depth=1, randomforestregressor__min_samples_split=1, randomforestregressor__n_estimators=1000 \n"
          ],
          "name": "stdout"
        },
        {
          "output_type": "stream",
          "text": [
            "/usr/local/lib/python3.6/dist-packages/sklearn/model_selection/_validation.py:536: FitFailedWarning: Estimator fit failed. The score on this train-test partition for these parameters will be set to nan. Details: \n",
            "ValueError: min_samples_split must be an integer greater than 1 or a float in (0.0, 1.0]; got the integer 1\n",
            "\n",
            "  FitFailedWarning)\n"
          ],
          "name": "stderr"
        },
        {
          "output_type": "stream",
          "text": [
            "[CV]  randomforestregressor__max_depth=1, randomforestregressor__min_samples_split=1, randomforestregressor__n_estimators=1000, total=   0.4s\n",
            "[CV] randomforestregressor__max_depth=1, randomforestregressor__min_samples_split=1, randomforestregressor__n_estimators=1000 \n"
          ],
          "name": "stdout"
        },
        {
          "output_type": "stream",
          "text": [
            "/usr/local/lib/python3.6/dist-packages/sklearn/model_selection/_validation.py:536: FitFailedWarning: Estimator fit failed. The score on this train-test partition for these parameters will be set to nan. Details: \n",
            "ValueError: min_samples_split must be an integer greater than 1 or a float in (0.0, 1.0]; got the integer 1\n",
            "\n",
            "  FitFailedWarning)\n"
          ],
          "name": "stderr"
        },
        {
          "output_type": "stream",
          "text": [
            "[CV]  randomforestregressor__max_depth=1, randomforestregressor__min_samples_split=1, randomforestregressor__n_estimators=1000, total=   0.4s\n",
            "[CV] randomforestregressor__max_depth=1, randomforestregressor__min_samples_split=2, randomforestregressor__n_estimators=100 \n",
            "[CV]  randomforestregressor__max_depth=1, randomforestregressor__min_samples_split=2, randomforestregressor__n_estimators=100, total=   0.1s\n",
            "[CV] randomforestregressor__max_depth=1, randomforestregressor__min_samples_split=2, randomforestregressor__n_estimators=100 \n",
            "[CV]  randomforestregressor__max_depth=1, randomforestregressor__min_samples_split=2, randomforestregressor__n_estimators=100, total=   0.1s\n",
            "[CV] randomforestregressor__max_depth=1, randomforestregressor__min_samples_split=2, randomforestregressor__n_estimators=100 \n",
            "[CV]  randomforestregressor__max_depth=1, randomforestregressor__min_samples_split=2, randomforestregressor__n_estimators=100, total=   0.1s\n",
            "[CV] randomforestregressor__max_depth=1, randomforestregressor__min_samples_split=2, randomforestregressor__n_estimators=100 \n",
            "[CV]  randomforestregressor__max_depth=1, randomforestregressor__min_samples_split=2, randomforestregressor__n_estimators=100, total=   0.1s\n",
            "[CV] randomforestregressor__max_depth=1, randomforestregressor__min_samples_split=2, randomforestregressor__n_estimators=100 \n",
            "[CV]  randomforestregressor__max_depth=1, randomforestregressor__min_samples_split=2, randomforestregressor__n_estimators=100, total=   0.1s\n",
            "[CV] randomforestregressor__max_depth=1, randomforestregressor__min_samples_split=2, randomforestregressor__n_estimators=500 \n",
            "[CV]  randomforestregressor__max_depth=1, randomforestregressor__min_samples_split=2, randomforestregressor__n_estimators=500, total=   0.7s\n",
            "[CV] randomforestregressor__max_depth=1, randomforestregressor__min_samples_split=2, randomforestregressor__n_estimators=500 \n",
            "[CV]  randomforestregressor__max_depth=1, randomforestregressor__min_samples_split=2, randomforestregressor__n_estimators=500, total=   0.7s\n",
            "[CV] randomforestregressor__max_depth=1, randomforestregressor__min_samples_split=2, randomforestregressor__n_estimators=500 \n",
            "[CV]  randomforestregressor__max_depth=1, randomforestregressor__min_samples_split=2, randomforestregressor__n_estimators=500, total=   0.7s\n",
            "[CV] randomforestregressor__max_depth=1, randomforestregressor__min_samples_split=2, randomforestregressor__n_estimators=500 \n",
            "[CV]  randomforestregressor__max_depth=1, randomforestregressor__min_samples_split=2, randomforestregressor__n_estimators=500, total=   0.7s\n",
            "[CV] randomforestregressor__max_depth=1, randomforestregressor__min_samples_split=2, randomforestregressor__n_estimators=500 \n",
            "[CV]  randomforestregressor__max_depth=1, randomforestregressor__min_samples_split=2, randomforestregressor__n_estimators=500, total=   0.7s\n",
            "[CV] randomforestregressor__max_depth=1, randomforestregressor__min_samples_split=2, randomforestregressor__n_estimators=700 \n",
            "[CV]  randomforestregressor__max_depth=1, randomforestregressor__min_samples_split=2, randomforestregressor__n_estimators=700, total=   0.9s\n",
            "[CV] randomforestregressor__max_depth=1, randomforestregressor__min_samples_split=2, randomforestregressor__n_estimators=700 \n",
            "[CV]  randomforestregressor__max_depth=1, randomforestregressor__min_samples_split=2, randomforestregressor__n_estimators=700, total=   0.9s\n",
            "[CV] randomforestregressor__max_depth=1, randomforestregressor__min_samples_split=2, randomforestregressor__n_estimators=700 \n",
            "[CV]  randomforestregressor__max_depth=1, randomforestregressor__min_samples_split=2, randomforestregressor__n_estimators=700, total=   0.9s\n",
            "[CV] randomforestregressor__max_depth=1, randomforestregressor__min_samples_split=2, randomforestregressor__n_estimators=700 \n",
            "[CV]  randomforestregressor__max_depth=1, randomforestregressor__min_samples_split=2, randomforestregressor__n_estimators=700, total=   0.9s\n",
            "[CV] randomforestregressor__max_depth=1, randomforestregressor__min_samples_split=2, randomforestregressor__n_estimators=700 \n",
            "[CV]  randomforestregressor__max_depth=1, randomforestregressor__min_samples_split=2, randomforestregressor__n_estimators=700, total=   0.9s\n",
            "[CV] randomforestregressor__max_depth=1, randomforestregressor__min_samples_split=2, randomforestregressor__n_estimators=1000 \n",
            "[CV]  randomforestregressor__max_depth=1, randomforestregressor__min_samples_split=2, randomforestregressor__n_estimators=1000, total=   1.3s\n",
            "[CV] randomforestregressor__max_depth=1, randomforestregressor__min_samples_split=2, randomforestregressor__n_estimators=1000 \n",
            "[CV]  randomforestregressor__max_depth=1, randomforestregressor__min_samples_split=2, randomforestregressor__n_estimators=1000, total=   1.3s\n",
            "[CV] randomforestregressor__max_depth=1, randomforestregressor__min_samples_split=2, randomforestregressor__n_estimators=1000 \n",
            "[CV]  randomforestregressor__max_depth=1, randomforestregressor__min_samples_split=2, randomforestregressor__n_estimators=1000, total=   1.3s\n",
            "[CV] randomforestregressor__max_depth=1, randomforestregressor__min_samples_split=2, randomforestregressor__n_estimators=1000 \n",
            "[CV]  randomforestregressor__max_depth=1, randomforestregressor__min_samples_split=2, randomforestregressor__n_estimators=1000, total=   1.4s\n",
            "[CV] randomforestregressor__max_depth=1, randomforestregressor__min_samples_split=2, randomforestregressor__n_estimators=1000 \n",
            "[CV]  randomforestregressor__max_depth=1, randomforestregressor__min_samples_split=2, randomforestregressor__n_estimators=1000, total=   1.3s\n",
            "[CV] randomforestregressor__max_depth=1, randomforestregressor__min_samples_split=3, randomforestregressor__n_estimators=100 \n",
            "[CV]  randomforestregressor__max_depth=1, randomforestregressor__min_samples_split=3, randomforestregressor__n_estimators=100, total=   0.1s\n",
            "[CV] randomforestregressor__max_depth=1, randomforestregressor__min_samples_split=3, randomforestregressor__n_estimators=100 \n",
            "[CV]  randomforestregressor__max_depth=1, randomforestregressor__min_samples_split=3, randomforestregressor__n_estimators=100, total=   0.1s\n",
            "[CV] randomforestregressor__max_depth=1, randomforestregressor__min_samples_split=3, randomforestregressor__n_estimators=100 \n",
            "[CV]  randomforestregressor__max_depth=1, randomforestregressor__min_samples_split=3, randomforestregressor__n_estimators=100, total=   0.1s\n",
            "[CV] randomforestregressor__max_depth=1, randomforestregressor__min_samples_split=3, randomforestregressor__n_estimators=100 \n",
            "[CV]  randomforestregressor__max_depth=1, randomforestregressor__min_samples_split=3, randomforestregressor__n_estimators=100, total=   0.1s\n",
            "[CV] randomforestregressor__max_depth=1, randomforestregressor__min_samples_split=3, randomforestregressor__n_estimators=100 \n",
            "[CV]  randomforestregressor__max_depth=1, randomforestregressor__min_samples_split=3, randomforestregressor__n_estimators=100, total=   0.1s\n",
            "[CV] randomforestregressor__max_depth=1, randomforestregressor__min_samples_split=3, randomforestregressor__n_estimators=500 \n",
            "[CV]  randomforestregressor__max_depth=1, randomforestregressor__min_samples_split=3, randomforestregressor__n_estimators=500, total=   0.7s\n",
            "[CV] randomforestregressor__max_depth=1, randomforestregressor__min_samples_split=3, randomforestregressor__n_estimators=500 \n",
            "[CV]  randomforestregressor__max_depth=1, randomforestregressor__min_samples_split=3, randomforestregressor__n_estimators=500, total=   0.7s\n",
            "[CV] randomforestregressor__max_depth=1, randomforestregressor__min_samples_split=3, randomforestregressor__n_estimators=500 \n",
            "[CV]  randomforestregressor__max_depth=1, randomforestregressor__min_samples_split=3, randomforestregressor__n_estimators=500, total=   0.7s\n",
            "[CV] randomforestregressor__max_depth=1, randomforestregressor__min_samples_split=3, randomforestregressor__n_estimators=500 \n",
            "[CV]  randomforestregressor__max_depth=1, randomforestregressor__min_samples_split=3, randomforestregressor__n_estimators=500, total=   0.7s\n",
            "[CV] randomforestregressor__max_depth=1, randomforestregressor__min_samples_split=3, randomforestregressor__n_estimators=500 \n",
            "[CV]  randomforestregressor__max_depth=1, randomforestregressor__min_samples_split=3, randomforestregressor__n_estimators=500, total=   0.7s\n",
            "[CV] randomforestregressor__max_depth=1, randomforestregressor__min_samples_split=3, randomforestregressor__n_estimators=700 \n",
            "[CV]  randomforestregressor__max_depth=1, randomforestregressor__min_samples_split=3, randomforestregressor__n_estimators=700, total=   0.9s\n",
            "[CV] randomforestregressor__max_depth=1, randomforestregressor__min_samples_split=3, randomforestregressor__n_estimators=700 \n",
            "[CV]  randomforestregressor__max_depth=1, randomforestregressor__min_samples_split=3, randomforestregressor__n_estimators=700, total=   0.9s\n",
            "[CV] randomforestregressor__max_depth=1, randomforestregressor__min_samples_split=3, randomforestregressor__n_estimators=700 \n",
            "[CV]  randomforestregressor__max_depth=1, randomforestregressor__min_samples_split=3, randomforestregressor__n_estimators=700, total=   0.9s\n",
            "[CV] randomforestregressor__max_depth=1, randomforestregressor__min_samples_split=3, randomforestregressor__n_estimators=700 \n",
            "[CV]  randomforestregressor__max_depth=1, randomforestregressor__min_samples_split=3, randomforestregressor__n_estimators=700, total=   0.9s\n",
            "[CV] randomforestregressor__max_depth=1, randomforestregressor__min_samples_split=3, randomforestregressor__n_estimators=700 \n",
            "[CV]  randomforestregressor__max_depth=1, randomforestregressor__min_samples_split=3, randomforestregressor__n_estimators=700, total=   0.9s\n",
            "[CV] randomforestregressor__max_depth=1, randomforestregressor__min_samples_split=3, randomforestregressor__n_estimators=1000 \n",
            "[CV]  randomforestregressor__max_depth=1, randomforestregressor__min_samples_split=3, randomforestregressor__n_estimators=1000, total=   1.3s\n",
            "[CV] randomforestregressor__max_depth=1, randomforestregressor__min_samples_split=3, randomforestregressor__n_estimators=1000 \n",
            "[CV]  randomforestregressor__max_depth=1, randomforestregressor__min_samples_split=3, randomforestregressor__n_estimators=1000, total=   1.3s\n",
            "[CV] randomforestregressor__max_depth=1, randomforestregressor__min_samples_split=3, randomforestregressor__n_estimators=1000 \n",
            "[CV]  randomforestregressor__max_depth=1, randomforestregressor__min_samples_split=3, randomforestregressor__n_estimators=1000, total=   1.3s\n",
            "[CV] randomforestregressor__max_depth=1, randomforestregressor__min_samples_split=3, randomforestregressor__n_estimators=1000 \n",
            "[CV]  randomforestregressor__max_depth=1, randomforestregressor__min_samples_split=3, randomforestregressor__n_estimators=1000, total=   1.3s\n",
            "[CV] randomforestregressor__max_depth=1, randomforestregressor__min_samples_split=3, randomforestregressor__n_estimators=1000 \n",
            "[CV]  randomforestregressor__max_depth=1, randomforestregressor__min_samples_split=3, randomforestregressor__n_estimators=1000, total=   1.3s\n",
            "[CV] randomforestregressor__max_depth=2, randomforestregressor__min_samples_split=1, randomforestregressor__n_estimators=100 \n",
            "[CV]  randomforestregressor__max_depth=2, randomforestregressor__min_samples_split=1, randomforestregressor__n_estimators=100, total=   0.0s\n",
            "[CV] randomforestregressor__max_depth=2, randomforestregressor__min_samples_split=1, randomforestregressor__n_estimators=100 \n",
            "[CV]  randomforestregressor__max_depth=2, randomforestregressor__min_samples_split=1, randomforestregressor__n_estimators=100, total=   0.0s\n",
            "[CV] randomforestregressor__max_depth=2, randomforestregressor__min_samples_split=1, randomforestregressor__n_estimators=100 \n",
            "[CV]  randomforestregressor__max_depth=2, randomforestregressor__min_samples_split=1, randomforestregressor__n_estimators=100, total=   0.0s\n",
            "[CV] randomforestregressor__max_depth=2, randomforestregressor__min_samples_split=1, randomforestregressor__n_estimators=100 \n",
            "[CV]  randomforestregressor__max_depth=2, randomforestregressor__min_samples_split=1, randomforestregressor__n_estimators=100, total=   0.0s\n",
            "[CV] randomforestregressor__max_depth=2, randomforestregressor__min_samples_split=1, randomforestregressor__n_estimators=100 \n",
            "[CV]  randomforestregressor__max_depth=2, randomforestregressor__min_samples_split=1, randomforestregressor__n_estimators=100, total=   0.0s\n",
            "[CV] randomforestregressor__max_depth=2, randomforestregressor__min_samples_split=1, randomforestregressor__n_estimators=500 \n"
          ],
          "name": "stdout"
        },
        {
          "output_type": "stream",
          "text": [
            "/usr/local/lib/python3.6/dist-packages/sklearn/model_selection/_validation.py:536: FitFailedWarning: Estimator fit failed. The score on this train-test partition for these parameters will be set to nan. Details: \n",
            "ValueError: min_samples_split must be an integer greater than 1 or a float in (0.0, 1.0]; got the integer 1\n",
            "\n",
            "  FitFailedWarning)\n",
            "/usr/local/lib/python3.6/dist-packages/sklearn/model_selection/_validation.py:536: FitFailedWarning: Estimator fit failed. The score on this train-test partition for these parameters will be set to nan. Details: \n",
            "ValueError: min_samples_split must be an integer greater than 1 or a float in (0.0, 1.0]; got the integer 1\n",
            "\n",
            "  FitFailedWarning)\n",
            "/usr/local/lib/python3.6/dist-packages/sklearn/model_selection/_validation.py:536: FitFailedWarning: Estimator fit failed. The score on this train-test partition for these parameters will be set to nan. Details: \n",
            "ValueError: min_samples_split must be an integer greater than 1 or a float in (0.0, 1.0]; got the integer 1\n",
            "\n",
            "  FitFailedWarning)\n",
            "/usr/local/lib/python3.6/dist-packages/sklearn/model_selection/_validation.py:536: FitFailedWarning: Estimator fit failed. The score on this train-test partition for these parameters will be set to nan. Details: \n",
            "ValueError: min_samples_split must be an integer greater than 1 or a float in (0.0, 1.0]; got the integer 1\n",
            "\n",
            "  FitFailedWarning)\n",
            "/usr/local/lib/python3.6/dist-packages/sklearn/model_selection/_validation.py:536: FitFailedWarning: Estimator fit failed. The score on this train-test partition for these parameters will be set to nan. Details: \n",
            "ValueError: min_samples_split must be an integer greater than 1 or a float in (0.0, 1.0]; got the integer 1\n",
            "\n",
            "  FitFailedWarning)\n",
            "/usr/local/lib/python3.6/dist-packages/sklearn/model_selection/_validation.py:536: FitFailedWarning: Estimator fit failed. The score on this train-test partition for these parameters will be set to nan. Details: \n",
            "ValueError: min_samples_split must be an integer greater than 1 or a float in (0.0, 1.0]; got the integer 1\n",
            "\n",
            "  FitFailedWarning)\n",
            "/usr/local/lib/python3.6/dist-packages/sklearn/model_selection/_validation.py:536: FitFailedWarning: Estimator fit failed. The score on this train-test partition for these parameters will be set to nan. Details: \n",
            "ValueError: min_samples_split must be an integer greater than 1 or a float in (0.0, 1.0]; got the integer 1\n",
            "\n",
            "  FitFailedWarning)\n"
          ],
          "name": "stderr"
        },
        {
          "output_type": "stream",
          "text": [
            "[CV]  randomforestregressor__max_depth=2, randomforestregressor__min_samples_split=1, randomforestregressor__n_estimators=500, total=   0.2s\n",
            "[CV] randomforestregressor__max_depth=2, randomforestregressor__min_samples_split=1, randomforestregressor__n_estimators=500 \n",
            "[CV]  randomforestregressor__max_depth=2, randomforestregressor__min_samples_split=1, randomforestregressor__n_estimators=500, total=   0.2s\n",
            "[CV] randomforestregressor__max_depth=2, randomforestregressor__min_samples_split=1, randomforestregressor__n_estimators=500 \n"
          ],
          "name": "stdout"
        },
        {
          "output_type": "stream",
          "text": [
            "/usr/local/lib/python3.6/dist-packages/sklearn/model_selection/_validation.py:536: FitFailedWarning: Estimator fit failed. The score on this train-test partition for these parameters will be set to nan. Details: \n",
            "ValueError: min_samples_split must be an integer greater than 1 or a float in (0.0, 1.0]; got the integer 1\n",
            "\n",
            "  FitFailedWarning)\n",
            "/usr/local/lib/python3.6/dist-packages/sklearn/model_selection/_validation.py:536: FitFailedWarning: Estimator fit failed. The score on this train-test partition for these parameters will be set to nan. Details: \n",
            "ValueError: min_samples_split must be an integer greater than 1 or a float in (0.0, 1.0]; got the integer 1\n",
            "\n",
            "  FitFailedWarning)\n"
          ],
          "name": "stderr"
        },
        {
          "output_type": "stream",
          "text": [
            "[CV]  randomforestregressor__max_depth=2, randomforestregressor__min_samples_split=1, randomforestregressor__n_estimators=500, total=   0.2s\n",
            "[CV] randomforestregressor__max_depth=2, randomforestregressor__min_samples_split=1, randomforestregressor__n_estimators=500 \n",
            "[CV]  randomforestregressor__max_depth=2, randomforestregressor__min_samples_split=1, randomforestregressor__n_estimators=500, total=   0.2s\n",
            "[CV] randomforestregressor__max_depth=2, randomforestregressor__min_samples_split=1, randomforestregressor__n_estimators=500 \n"
          ],
          "name": "stdout"
        },
        {
          "output_type": "stream",
          "text": [
            "/usr/local/lib/python3.6/dist-packages/sklearn/model_selection/_validation.py:536: FitFailedWarning: Estimator fit failed. The score on this train-test partition for these parameters will be set to nan. Details: \n",
            "ValueError: min_samples_split must be an integer greater than 1 or a float in (0.0, 1.0]; got the integer 1\n",
            "\n",
            "  FitFailedWarning)\n"
          ],
          "name": "stderr"
        },
        {
          "output_type": "stream",
          "text": [
            "[CV]  randomforestregressor__max_depth=2, randomforestregressor__min_samples_split=1, randomforestregressor__n_estimators=500, total=   0.2s\n",
            "[CV] randomforestregressor__max_depth=2, randomforestregressor__min_samples_split=1, randomforestregressor__n_estimators=700 \n"
          ],
          "name": "stdout"
        },
        {
          "output_type": "stream",
          "text": [
            "/usr/local/lib/python3.6/dist-packages/sklearn/model_selection/_validation.py:536: FitFailedWarning: Estimator fit failed. The score on this train-test partition for these parameters will be set to nan. Details: \n",
            "ValueError: min_samples_split must be an integer greater than 1 or a float in (0.0, 1.0]; got the integer 1\n",
            "\n",
            "  FitFailedWarning)\n"
          ],
          "name": "stderr"
        },
        {
          "output_type": "stream",
          "text": [
            "[CV]  randomforestregressor__max_depth=2, randomforestregressor__min_samples_split=1, randomforestregressor__n_estimators=700, total=   0.2s\n",
            "[CV] randomforestregressor__max_depth=2, randomforestregressor__min_samples_split=1, randomforestregressor__n_estimators=700 \n"
          ],
          "name": "stdout"
        },
        {
          "output_type": "stream",
          "text": [
            "/usr/local/lib/python3.6/dist-packages/sklearn/model_selection/_validation.py:536: FitFailedWarning: Estimator fit failed. The score on this train-test partition for these parameters will be set to nan. Details: \n",
            "ValueError: min_samples_split must be an integer greater than 1 or a float in (0.0, 1.0]; got the integer 1\n",
            "\n",
            "  FitFailedWarning)\n"
          ],
          "name": "stderr"
        },
        {
          "output_type": "stream",
          "text": [
            "[CV]  randomforestregressor__max_depth=2, randomforestregressor__min_samples_split=1, randomforestregressor__n_estimators=700, total=   0.3s\n",
            "[CV] randomforestregressor__max_depth=2, randomforestregressor__min_samples_split=1, randomforestregressor__n_estimators=700 \n"
          ],
          "name": "stdout"
        },
        {
          "output_type": "stream",
          "text": [
            "/usr/local/lib/python3.6/dist-packages/sklearn/model_selection/_validation.py:536: FitFailedWarning: Estimator fit failed. The score on this train-test partition for these parameters will be set to nan. Details: \n",
            "ValueError: min_samples_split must be an integer greater than 1 or a float in (0.0, 1.0]; got the integer 1\n",
            "\n",
            "  FitFailedWarning)\n"
          ],
          "name": "stderr"
        },
        {
          "output_type": "stream",
          "text": [
            "[CV]  randomforestregressor__max_depth=2, randomforestregressor__min_samples_split=1, randomforestregressor__n_estimators=700, total=   0.2s\n",
            "[CV] randomforestregressor__max_depth=2, randomforestregressor__min_samples_split=1, randomforestregressor__n_estimators=700 \n"
          ],
          "name": "stdout"
        },
        {
          "output_type": "stream",
          "text": [
            "/usr/local/lib/python3.6/dist-packages/sklearn/model_selection/_validation.py:536: FitFailedWarning: Estimator fit failed. The score on this train-test partition for these parameters will be set to nan. Details: \n",
            "ValueError: min_samples_split must be an integer greater than 1 or a float in (0.0, 1.0]; got the integer 1\n",
            "\n",
            "  FitFailedWarning)\n"
          ],
          "name": "stderr"
        },
        {
          "output_type": "stream",
          "text": [
            "[CV]  randomforestregressor__max_depth=2, randomforestregressor__min_samples_split=1, randomforestregressor__n_estimators=700, total=   0.2s\n",
            "[CV] randomforestregressor__max_depth=2, randomforestregressor__min_samples_split=1, randomforestregressor__n_estimators=700 \n"
          ],
          "name": "stdout"
        },
        {
          "output_type": "stream",
          "text": [
            "/usr/local/lib/python3.6/dist-packages/sklearn/model_selection/_validation.py:536: FitFailedWarning: Estimator fit failed. The score on this train-test partition for these parameters will be set to nan. Details: \n",
            "ValueError: min_samples_split must be an integer greater than 1 or a float in (0.0, 1.0]; got the integer 1\n",
            "\n",
            "  FitFailedWarning)\n"
          ],
          "name": "stderr"
        },
        {
          "output_type": "stream",
          "text": [
            "[CV]  randomforestregressor__max_depth=2, randomforestregressor__min_samples_split=1, randomforestregressor__n_estimators=700, total=   0.2s\n",
            "[CV] randomforestregressor__max_depth=2, randomforestregressor__min_samples_split=1, randomforestregressor__n_estimators=1000 \n"
          ],
          "name": "stdout"
        },
        {
          "output_type": "stream",
          "text": [
            "/usr/local/lib/python3.6/dist-packages/sklearn/model_selection/_validation.py:536: FitFailedWarning: Estimator fit failed. The score on this train-test partition for these parameters will be set to nan. Details: \n",
            "ValueError: min_samples_split must be an integer greater than 1 or a float in (0.0, 1.0]; got the integer 1\n",
            "\n",
            "  FitFailedWarning)\n"
          ],
          "name": "stderr"
        },
        {
          "output_type": "stream",
          "text": [
            "[CV]  randomforestregressor__max_depth=2, randomforestregressor__min_samples_split=1, randomforestregressor__n_estimators=1000, total=   0.4s\n",
            "[CV] randomforestregressor__max_depth=2, randomforestregressor__min_samples_split=1, randomforestregressor__n_estimators=1000 \n"
          ],
          "name": "stdout"
        },
        {
          "output_type": "stream",
          "text": [
            "/usr/local/lib/python3.6/dist-packages/sklearn/model_selection/_validation.py:536: FitFailedWarning: Estimator fit failed. The score on this train-test partition for these parameters will be set to nan. Details: \n",
            "ValueError: min_samples_split must be an integer greater than 1 or a float in (0.0, 1.0]; got the integer 1\n",
            "\n",
            "  FitFailedWarning)\n"
          ],
          "name": "stderr"
        },
        {
          "output_type": "stream",
          "text": [
            "[CV]  randomforestregressor__max_depth=2, randomforestregressor__min_samples_split=1, randomforestregressor__n_estimators=1000, total=   0.4s\n",
            "[CV] randomforestregressor__max_depth=2, randomforestregressor__min_samples_split=1, randomforestregressor__n_estimators=1000 \n"
          ],
          "name": "stdout"
        },
        {
          "output_type": "stream",
          "text": [
            "/usr/local/lib/python3.6/dist-packages/sklearn/model_selection/_validation.py:536: FitFailedWarning: Estimator fit failed. The score on this train-test partition for these parameters will be set to nan. Details: \n",
            "ValueError: min_samples_split must be an integer greater than 1 or a float in (0.0, 1.0]; got the integer 1\n",
            "\n",
            "  FitFailedWarning)\n"
          ],
          "name": "stderr"
        },
        {
          "output_type": "stream",
          "text": [
            "[CV]  randomforestregressor__max_depth=2, randomforestregressor__min_samples_split=1, randomforestregressor__n_estimators=1000, total=   0.4s\n",
            "[CV] randomforestregressor__max_depth=2, randomforestregressor__min_samples_split=1, randomforestregressor__n_estimators=1000 \n"
          ],
          "name": "stdout"
        },
        {
          "output_type": "stream",
          "text": [
            "/usr/local/lib/python3.6/dist-packages/sklearn/model_selection/_validation.py:536: FitFailedWarning: Estimator fit failed. The score on this train-test partition for these parameters will be set to nan. Details: \n",
            "ValueError: min_samples_split must be an integer greater than 1 or a float in (0.0, 1.0]; got the integer 1\n",
            "\n",
            "  FitFailedWarning)\n"
          ],
          "name": "stderr"
        },
        {
          "output_type": "stream",
          "text": [
            "[CV]  randomforestregressor__max_depth=2, randomforestregressor__min_samples_split=1, randomforestregressor__n_estimators=1000, total=   0.4s\n",
            "[CV] randomforestregressor__max_depth=2, randomforestregressor__min_samples_split=1, randomforestregressor__n_estimators=1000 \n"
          ],
          "name": "stdout"
        },
        {
          "output_type": "stream",
          "text": [
            "/usr/local/lib/python3.6/dist-packages/sklearn/model_selection/_validation.py:536: FitFailedWarning: Estimator fit failed. The score on this train-test partition for these parameters will be set to nan. Details: \n",
            "ValueError: min_samples_split must be an integer greater than 1 or a float in (0.0, 1.0]; got the integer 1\n",
            "\n",
            "  FitFailedWarning)\n"
          ],
          "name": "stderr"
        },
        {
          "output_type": "stream",
          "text": [
            "[CV]  randomforestregressor__max_depth=2, randomforestregressor__min_samples_split=1, randomforestregressor__n_estimators=1000, total=   0.4s\n",
            "[CV] randomforestregressor__max_depth=2, randomforestregressor__min_samples_split=2, randomforestregressor__n_estimators=100 \n",
            "[CV]  randomforestregressor__max_depth=2, randomforestregressor__min_samples_split=2, randomforestregressor__n_estimators=100, total=   0.2s\n",
            "[CV] randomforestregressor__max_depth=2, randomforestregressor__min_samples_split=2, randomforestregressor__n_estimators=100 \n",
            "[CV]  randomforestregressor__max_depth=2, randomforestregressor__min_samples_split=2, randomforestregressor__n_estimators=100, total=   0.2s\n",
            "[CV] randomforestregressor__max_depth=2, randomforestregressor__min_samples_split=2, randomforestregressor__n_estimators=100 \n",
            "[CV]  randomforestregressor__max_depth=2, randomforestregressor__min_samples_split=2, randomforestregressor__n_estimators=100, total=   0.2s\n",
            "[CV] randomforestregressor__max_depth=2, randomforestregressor__min_samples_split=2, randomforestregressor__n_estimators=100 \n",
            "[CV]  randomforestregressor__max_depth=2, randomforestregressor__min_samples_split=2, randomforestregressor__n_estimators=100, total=   0.2s\n",
            "[CV] randomforestregressor__max_depth=2, randomforestregressor__min_samples_split=2, randomforestregressor__n_estimators=100 \n",
            "[CV]  randomforestregressor__max_depth=2, randomforestregressor__min_samples_split=2, randomforestregressor__n_estimators=100, total=   0.2s\n",
            "[CV] randomforestregressor__max_depth=2, randomforestregressor__min_samples_split=2, randomforestregressor__n_estimators=500 \n",
            "[CV]  randomforestregressor__max_depth=2, randomforestregressor__min_samples_split=2, randomforestregressor__n_estimators=500, total=   0.7s\n",
            "[CV] randomforestregressor__max_depth=2, randomforestregressor__min_samples_split=2, randomforestregressor__n_estimators=500 \n",
            "[CV]  randomforestregressor__max_depth=2, randomforestregressor__min_samples_split=2, randomforestregressor__n_estimators=500, total=   0.7s\n",
            "[CV] randomforestregressor__max_depth=2, randomforestregressor__min_samples_split=2, randomforestregressor__n_estimators=500 \n",
            "[CV]  randomforestregressor__max_depth=2, randomforestregressor__min_samples_split=2, randomforestregressor__n_estimators=500, total=   0.8s\n",
            "[CV] randomforestregressor__max_depth=2, randomforestregressor__min_samples_split=2, randomforestregressor__n_estimators=500 \n",
            "[CV]  randomforestregressor__max_depth=2, randomforestregressor__min_samples_split=2, randomforestregressor__n_estimators=500, total=   0.7s\n",
            "[CV] randomforestregressor__max_depth=2, randomforestregressor__min_samples_split=2, randomforestregressor__n_estimators=500 \n",
            "[CV]  randomforestregressor__max_depth=2, randomforestregressor__min_samples_split=2, randomforestregressor__n_estimators=500, total=   0.8s\n",
            "[CV] randomforestregressor__max_depth=2, randomforestregressor__min_samples_split=2, randomforestregressor__n_estimators=700 \n",
            "[CV]  randomforestregressor__max_depth=2, randomforestregressor__min_samples_split=2, randomforestregressor__n_estimators=700, total=   1.0s\n",
            "[CV] randomforestregressor__max_depth=2, randomforestregressor__min_samples_split=2, randomforestregressor__n_estimators=700 \n",
            "[CV]  randomforestregressor__max_depth=2, randomforestregressor__min_samples_split=2, randomforestregressor__n_estimators=700, total=   1.0s\n",
            "[CV] randomforestregressor__max_depth=2, randomforestregressor__min_samples_split=2, randomforestregressor__n_estimators=700 \n",
            "[CV]  randomforestregressor__max_depth=2, randomforestregressor__min_samples_split=2, randomforestregressor__n_estimators=700, total=   1.0s\n",
            "[CV] randomforestregressor__max_depth=2, randomforestregressor__min_samples_split=2, randomforestregressor__n_estimators=700 \n",
            "[CV]  randomforestregressor__max_depth=2, randomforestregressor__min_samples_split=2, randomforestregressor__n_estimators=700, total=   1.0s\n",
            "[CV] randomforestregressor__max_depth=2, randomforestregressor__min_samples_split=2, randomforestregressor__n_estimators=700 \n",
            "[CV]  randomforestregressor__max_depth=2, randomforestregressor__min_samples_split=2, randomforestregressor__n_estimators=700, total=   1.0s\n",
            "[CV] randomforestregressor__max_depth=2, randomforestregressor__min_samples_split=2, randomforestregressor__n_estimators=1000 \n",
            "[CV]  randomforestregressor__max_depth=2, randomforestregressor__min_samples_split=2, randomforestregressor__n_estimators=1000, total=   1.5s\n",
            "[CV] randomforestregressor__max_depth=2, randomforestregressor__min_samples_split=2, randomforestregressor__n_estimators=1000 \n",
            "[CV]  randomforestregressor__max_depth=2, randomforestregressor__min_samples_split=2, randomforestregressor__n_estimators=1000, total=   1.5s\n",
            "[CV] randomforestregressor__max_depth=2, randomforestregressor__min_samples_split=2, randomforestregressor__n_estimators=1000 \n",
            "[CV]  randomforestregressor__max_depth=2, randomforestregressor__min_samples_split=2, randomforestregressor__n_estimators=1000, total=   1.5s\n",
            "[CV] randomforestregressor__max_depth=2, randomforestregressor__min_samples_split=2, randomforestregressor__n_estimators=1000 \n",
            "[CV]  randomforestregressor__max_depth=2, randomforestregressor__min_samples_split=2, randomforestregressor__n_estimators=1000, total=   1.5s\n",
            "[CV] randomforestregressor__max_depth=2, randomforestregressor__min_samples_split=2, randomforestregressor__n_estimators=1000 \n",
            "[CV]  randomforestregressor__max_depth=2, randomforestregressor__min_samples_split=2, randomforestregressor__n_estimators=1000, total=   1.5s\n",
            "[CV] randomforestregressor__max_depth=2, randomforestregressor__min_samples_split=3, randomforestregressor__n_estimators=100 \n",
            "[CV]  randomforestregressor__max_depth=2, randomforestregressor__min_samples_split=3, randomforestregressor__n_estimators=100, total=   0.2s\n",
            "[CV] randomforestregressor__max_depth=2, randomforestregressor__min_samples_split=3, randomforestregressor__n_estimators=100 \n",
            "[CV]  randomforestregressor__max_depth=2, randomforestregressor__min_samples_split=3, randomforestregressor__n_estimators=100, total=   0.2s\n",
            "[CV] randomforestregressor__max_depth=2, randomforestregressor__min_samples_split=3, randomforestregressor__n_estimators=100 \n",
            "[CV]  randomforestregressor__max_depth=2, randomforestregressor__min_samples_split=3, randomforestregressor__n_estimators=100, total=   0.2s\n",
            "[CV] randomforestregressor__max_depth=2, randomforestregressor__min_samples_split=3, randomforestregressor__n_estimators=100 \n",
            "[CV]  randomforestregressor__max_depth=2, randomforestregressor__min_samples_split=3, randomforestregressor__n_estimators=100, total=   0.2s\n",
            "[CV] randomforestregressor__max_depth=2, randomforestregressor__min_samples_split=3, randomforestregressor__n_estimators=100 \n",
            "[CV]  randomforestregressor__max_depth=2, randomforestregressor__min_samples_split=3, randomforestregressor__n_estimators=100, total=   0.2s\n",
            "[CV] randomforestregressor__max_depth=2, randomforestregressor__min_samples_split=3, randomforestregressor__n_estimators=500 \n",
            "[CV]  randomforestregressor__max_depth=2, randomforestregressor__min_samples_split=3, randomforestregressor__n_estimators=500, total=   0.8s\n",
            "[CV] randomforestregressor__max_depth=2, randomforestregressor__min_samples_split=3, randomforestregressor__n_estimators=500 \n",
            "[CV]  randomforestregressor__max_depth=2, randomforestregressor__min_samples_split=3, randomforestregressor__n_estimators=500, total=   0.7s\n",
            "[CV] randomforestregressor__max_depth=2, randomforestregressor__min_samples_split=3, randomforestregressor__n_estimators=500 \n",
            "[CV]  randomforestregressor__max_depth=2, randomforestregressor__min_samples_split=3, randomforestregressor__n_estimators=500, total=   0.7s\n",
            "[CV] randomforestregressor__max_depth=2, randomforestregressor__min_samples_split=3, randomforestregressor__n_estimators=500 \n",
            "[CV]  randomforestregressor__max_depth=2, randomforestregressor__min_samples_split=3, randomforestregressor__n_estimators=500, total=   0.8s\n",
            "[CV] randomforestregressor__max_depth=2, randomforestregressor__min_samples_split=3, randomforestregressor__n_estimators=500 \n",
            "[CV]  randomforestregressor__max_depth=2, randomforestregressor__min_samples_split=3, randomforestregressor__n_estimators=500, total=   0.7s\n",
            "[CV] randomforestregressor__max_depth=2, randomforestregressor__min_samples_split=3, randomforestregressor__n_estimators=700 \n",
            "[CV]  randomforestregressor__max_depth=2, randomforestregressor__min_samples_split=3, randomforestregressor__n_estimators=700, total=   1.0s\n",
            "[CV] randomforestregressor__max_depth=2, randomforestregressor__min_samples_split=3, randomforestregressor__n_estimators=700 \n",
            "[CV]  randomforestregressor__max_depth=2, randomforestregressor__min_samples_split=3, randomforestregressor__n_estimators=700, total=   1.0s\n",
            "[CV] randomforestregressor__max_depth=2, randomforestregressor__min_samples_split=3, randomforestregressor__n_estimators=700 \n",
            "[CV]  randomforestregressor__max_depth=2, randomforestregressor__min_samples_split=3, randomforestregressor__n_estimators=700, total=   1.0s\n",
            "[CV] randomforestregressor__max_depth=2, randomforestregressor__min_samples_split=3, randomforestregressor__n_estimators=700 \n",
            "[CV]  randomforestregressor__max_depth=2, randomforestregressor__min_samples_split=3, randomforestregressor__n_estimators=700, total=   1.1s\n",
            "[CV] randomforestregressor__max_depth=2, randomforestregressor__min_samples_split=3, randomforestregressor__n_estimators=700 \n",
            "[CV]  randomforestregressor__max_depth=2, randomforestregressor__min_samples_split=3, randomforestregressor__n_estimators=700, total=   1.0s\n",
            "[CV] randomforestregressor__max_depth=2, randomforestregressor__min_samples_split=3, randomforestregressor__n_estimators=1000 \n",
            "[CV]  randomforestregressor__max_depth=2, randomforestregressor__min_samples_split=3, randomforestregressor__n_estimators=1000, total=   1.5s\n",
            "[CV] randomforestregressor__max_depth=2, randomforestregressor__min_samples_split=3, randomforestregressor__n_estimators=1000 \n",
            "[CV]  randomforestregressor__max_depth=2, randomforestregressor__min_samples_split=3, randomforestregressor__n_estimators=1000, total=   1.5s\n",
            "[CV] randomforestregressor__max_depth=2, randomforestregressor__min_samples_split=3, randomforestregressor__n_estimators=1000 \n",
            "[CV]  randomforestregressor__max_depth=2, randomforestregressor__min_samples_split=3, randomforestregressor__n_estimators=1000, total=   1.5s\n",
            "[CV] randomforestregressor__max_depth=2, randomforestregressor__min_samples_split=3, randomforestregressor__n_estimators=1000 \n",
            "[CV]  randomforestregressor__max_depth=2, randomforestregressor__min_samples_split=3, randomforestregressor__n_estimators=1000, total=   1.5s\n",
            "[CV] randomforestregressor__max_depth=2, randomforestregressor__min_samples_split=3, randomforestregressor__n_estimators=1000 \n",
            "[CV]  randomforestregressor__max_depth=2, randomforestregressor__min_samples_split=3, randomforestregressor__n_estimators=1000, total=   1.5s\n",
            "[CV] randomforestregressor__max_depth=3, randomforestregressor__min_samples_split=1, randomforestregressor__n_estimators=100 \n",
            "[CV]  randomforestregressor__max_depth=3, randomforestregressor__min_samples_split=1, randomforestregressor__n_estimators=100, total=   0.0s\n",
            "[CV] randomforestregressor__max_depth=3, randomforestregressor__min_samples_split=1, randomforestregressor__n_estimators=100 \n",
            "[CV]  randomforestregressor__max_depth=3, randomforestregressor__min_samples_split=1, randomforestregressor__n_estimators=100, total=   0.0s\n",
            "[CV] randomforestregressor__max_depth=3, randomforestregressor__min_samples_split=1, randomforestregressor__n_estimators=100 \n",
            "[CV]  randomforestregressor__max_depth=3, randomforestregressor__min_samples_split=1, randomforestregressor__n_estimators=100, total=   0.0s\n",
            "[CV] randomforestregressor__max_depth=3, randomforestregressor__min_samples_split=1, randomforestregressor__n_estimators=100 \n",
            "[CV]  randomforestregressor__max_depth=3, randomforestregressor__min_samples_split=1, randomforestregressor__n_estimators=100, total=   0.0s\n",
            "[CV] randomforestregressor__max_depth=3, randomforestregressor__min_samples_split=1, randomforestregressor__n_estimators=100 \n",
            "[CV]  randomforestregressor__max_depth=3, randomforestregressor__min_samples_split=1, randomforestregressor__n_estimators=100, total=   0.0s\n",
            "[CV] randomforestregressor__max_depth=3, randomforestregressor__min_samples_split=1, randomforestregressor__n_estimators=500 \n"
          ],
          "name": "stdout"
        },
        {
          "output_type": "stream",
          "text": [
            "/usr/local/lib/python3.6/dist-packages/sklearn/model_selection/_validation.py:536: FitFailedWarning: Estimator fit failed. The score on this train-test partition for these parameters will be set to nan. Details: \n",
            "ValueError: min_samples_split must be an integer greater than 1 or a float in (0.0, 1.0]; got the integer 1\n",
            "\n",
            "  FitFailedWarning)\n",
            "/usr/local/lib/python3.6/dist-packages/sklearn/model_selection/_validation.py:536: FitFailedWarning: Estimator fit failed. The score on this train-test partition for these parameters will be set to nan. Details: \n",
            "ValueError: min_samples_split must be an integer greater than 1 or a float in (0.0, 1.0]; got the integer 1\n",
            "\n",
            "  FitFailedWarning)\n",
            "/usr/local/lib/python3.6/dist-packages/sklearn/model_selection/_validation.py:536: FitFailedWarning: Estimator fit failed. The score on this train-test partition for these parameters will be set to nan. Details: \n",
            "ValueError: min_samples_split must be an integer greater than 1 or a float in (0.0, 1.0]; got the integer 1\n",
            "\n",
            "  FitFailedWarning)\n",
            "/usr/local/lib/python3.6/dist-packages/sklearn/model_selection/_validation.py:536: FitFailedWarning: Estimator fit failed. The score on this train-test partition for these parameters will be set to nan. Details: \n",
            "ValueError: min_samples_split must be an integer greater than 1 or a float in (0.0, 1.0]; got the integer 1\n",
            "\n",
            "  FitFailedWarning)\n",
            "/usr/local/lib/python3.6/dist-packages/sklearn/model_selection/_validation.py:536: FitFailedWarning: Estimator fit failed. The score on this train-test partition for these parameters will be set to nan. Details: \n",
            "ValueError: min_samples_split must be an integer greater than 1 or a float in (0.0, 1.0]; got the integer 1\n",
            "\n",
            "  FitFailedWarning)\n",
            "/usr/local/lib/python3.6/dist-packages/sklearn/model_selection/_validation.py:536: FitFailedWarning: Estimator fit failed. The score on this train-test partition for these parameters will be set to nan. Details: \n",
            "ValueError: min_samples_split must be an integer greater than 1 or a float in (0.0, 1.0]; got the integer 1\n",
            "\n",
            "  FitFailedWarning)\n",
            "/usr/local/lib/python3.6/dist-packages/sklearn/model_selection/_validation.py:536: FitFailedWarning: Estimator fit failed. The score on this train-test partition for these parameters will be set to nan. Details: \n",
            "ValueError: min_samples_split must be an integer greater than 1 or a float in (0.0, 1.0]; got the integer 1\n",
            "\n",
            "  FitFailedWarning)\n"
          ],
          "name": "stderr"
        },
        {
          "output_type": "stream",
          "text": [
            "[CV]  randomforestregressor__max_depth=3, randomforestregressor__min_samples_split=1, randomforestregressor__n_estimators=500, total=   0.2s\n",
            "[CV] randomforestregressor__max_depth=3, randomforestregressor__min_samples_split=1, randomforestregressor__n_estimators=500 \n",
            "[CV]  randomforestregressor__max_depth=3, randomforestregressor__min_samples_split=1, randomforestregressor__n_estimators=500, total=   0.2s\n",
            "[CV] randomforestregressor__max_depth=3, randomforestregressor__min_samples_split=1, randomforestregressor__n_estimators=500 \n"
          ],
          "name": "stdout"
        },
        {
          "output_type": "stream",
          "text": [
            "/usr/local/lib/python3.6/dist-packages/sklearn/model_selection/_validation.py:536: FitFailedWarning: Estimator fit failed. The score on this train-test partition for these parameters will be set to nan. Details: \n",
            "ValueError: min_samples_split must be an integer greater than 1 or a float in (0.0, 1.0]; got the integer 1\n",
            "\n",
            "  FitFailedWarning)\n",
            "/usr/local/lib/python3.6/dist-packages/sklearn/model_selection/_validation.py:536: FitFailedWarning: Estimator fit failed. The score on this train-test partition for these parameters will be set to nan. Details: \n",
            "ValueError: min_samples_split must be an integer greater than 1 or a float in (0.0, 1.0]; got the integer 1\n",
            "\n",
            "  FitFailedWarning)\n"
          ],
          "name": "stderr"
        },
        {
          "output_type": "stream",
          "text": [
            "[CV]  randomforestregressor__max_depth=3, randomforestregressor__min_samples_split=1, randomforestregressor__n_estimators=500, total=   0.2s\n",
            "[CV] randomforestregressor__max_depth=3, randomforestregressor__min_samples_split=1, randomforestregressor__n_estimators=500 \n",
            "[CV]  randomforestregressor__max_depth=3, randomforestregressor__min_samples_split=1, randomforestregressor__n_estimators=500, total=   0.2s\n",
            "[CV] randomforestregressor__max_depth=3, randomforestregressor__min_samples_split=1, randomforestregressor__n_estimators=500 \n"
          ],
          "name": "stdout"
        },
        {
          "output_type": "stream",
          "text": [
            "/usr/local/lib/python3.6/dist-packages/sklearn/model_selection/_validation.py:536: FitFailedWarning: Estimator fit failed. The score on this train-test partition for these parameters will be set to nan. Details: \n",
            "ValueError: min_samples_split must be an integer greater than 1 or a float in (0.0, 1.0]; got the integer 1\n",
            "\n",
            "  FitFailedWarning)\n"
          ],
          "name": "stderr"
        },
        {
          "output_type": "stream",
          "text": [
            "[CV]  randomforestregressor__max_depth=3, randomforestregressor__min_samples_split=1, randomforestregressor__n_estimators=500, total=   0.2s\n",
            "[CV] randomforestregressor__max_depth=3, randomforestregressor__min_samples_split=1, randomforestregressor__n_estimators=700 \n"
          ],
          "name": "stdout"
        },
        {
          "output_type": "stream",
          "text": [
            "/usr/local/lib/python3.6/dist-packages/sklearn/model_selection/_validation.py:536: FitFailedWarning: Estimator fit failed. The score on this train-test partition for these parameters will be set to nan. Details: \n",
            "ValueError: min_samples_split must be an integer greater than 1 or a float in (0.0, 1.0]; got the integer 1\n",
            "\n",
            "  FitFailedWarning)\n"
          ],
          "name": "stderr"
        },
        {
          "output_type": "stream",
          "text": [
            "[CV]  randomforestregressor__max_depth=3, randomforestregressor__min_samples_split=1, randomforestregressor__n_estimators=700, total=   0.3s\n",
            "[CV] randomforestregressor__max_depth=3, randomforestregressor__min_samples_split=1, randomforestregressor__n_estimators=700 \n"
          ],
          "name": "stdout"
        },
        {
          "output_type": "stream",
          "text": [
            "/usr/local/lib/python3.6/dist-packages/sklearn/model_selection/_validation.py:536: FitFailedWarning: Estimator fit failed. The score on this train-test partition for these parameters will be set to nan. Details: \n",
            "ValueError: min_samples_split must be an integer greater than 1 or a float in (0.0, 1.0]; got the integer 1\n",
            "\n",
            "  FitFailedWarning)\n"
          ],
          "name": "stderr"
        },
        {
          "output_type": "stream",
          "text": [
            "[CV]  randomforestregressor__max_depth=3, randomforestregressor__min_samples_split=1, randomforestregressor__n_estimators=700, total=   0.2s\n",
            "[CV] randomforestregressor__max_depth=3, randomforestregressor__min_samples_split=1, randomforestregressor__n_estimators=700 \n"
          ],
          "name": "stdout"
        },
        {
          "output_type": "stream",
          "text": [
            "/usr/local/lib/python3.6/dist-packages/sklearn/model_selection/_validation.py:536: FitFailedWarning: Estimator fit failed. The score on this train-test partition for these parameters will be set to nan. Details: \n",
            "ValueError: min_samples_split must be an integer greater than 1 or a float in (0.0, 1.0]; got the integer 1\n",
            "\n",
            "  FitFailedWarning)\n"
          ],
          "name": "stderr"
        },
        {
          "output_type": "stream",
          "text": [
            "[CV]  randomforestregressor__max_depth=3, randomforestregressor__min_samples_split=1, randomforestregressor__n_estimators=700, total=   0.3s\n",
            "[CV] randomforestregressor__max_depth=3, randomforestregressor__min_samples_split=1, randomforestregressor__n_estimators=700 \n"
          ],
          "name": "stdout"
        },
        {
          "output_type": "stream",
          "text": [
            "/usr/local/lib/python3.6/dist-packages/sklearn/model_selection/_validation.py:536: FitFailedWarning: Estimator fit failed. The score on this train-test partition for these parameters will be set to nan. Details: \n",
            "ValueError: min_samples_split must be an integer greater than 1 or a float in (0.0, 1.0]; got the integer 1\n",
            "\n",
            "  FitFailedWarning)\n"
          ],
          "name": "stderr"
        },
        {
          "output_type": "stream",
          "text": [
            "[CV]  randomforestregressor__max_depth=3, randomforestregressor__min_samples_split=1, randomforestregressor__n_estimators=700, total=   0.2s\n",
            "[CV] randomforestregressor__max_depth=3, randomforestregressor__min_samples_split=1, randomforestregressor__n_estimators=700 \n"
          ],
          "name": "stdout"
        },
        {
          "output_type": "stream",
          "text": [
            "/usr/local/lib/python3.6/dist-packages/sklearn/model_selection/_validation.py:536: FitFailedWarning: Estimator fit failed. The score on this train-test partition for these parameters will be set to nan. Details: \n",
            "ValueError: min_samples_split must be an integer greater than 1 or a float in (0.0, 1.0]; got the integer 1\n",
            "\n",
            "  FitFailedWarning)\n"
          ],
          "name": "stderr"
        },
        {
          "output_type": "stream",
          "text": [
            "[CV]  randomforestregressor__max_depth=3, randomforestregressor__min_samples_split=1, randomforestregressor__n_estimators=700, total=   0.3s\n",
            "[CV] randomforestregressor__max_depth=3, randomforestregressor__min_samples_split=1, randomforestregressor__n_estimators=1000 \n"
          ],
          "name": "stdout"
        },
        {
          "output_type": "stream",
          "text": [
            "/usr/local/lib/python3.6/dist-packages/sklearn/model_selection/_validation.py:536: FitFailedWarning: Estimator fit failed. The score on this train-test partition for these parameters will be set to nan. Details: \n",
            "ValueError: min_samples_split must be an integer greater than 1 or a float in (0.0, 1.0]; got the integer 1\n",
            "\n",
            "  FitFailedWarning)\n"
          ],
          "name": "stderr"
        },
        {
          "output_type": "stream",
          "text": [
            "[CV]  randomforestregressor__max_depth=3, randomforestregressor__min_samples_split=1, randomforestregressor__n_estimators=1000, total=   0.4s\n",
            "[CV] randomforestregressor__max_depth=3, randomforestregressor__min_samples_split=1, randomforestregressor__n_estimators=1000 \n"
          ],
          "name": "stdout"
        },
        {
          "output_type": "stream",
          "text": [
            "/usr/local/lib/python3.6/dist-packages/sklearn/model_selection/_validation.py:536: FitFailedWarning: Estimator fit failed. The score on this train-test partition for these parameters will be set to nan. Details: \n",
            "ValueError: min_samples_split must be an integer greater than 1 or a float in (0.0, 1.0]; got the integer 1\n",
            "\n",
            "  FitFailedWarning)\n"
          ],
          "name": "stderr"
        },
        {
          "output_type": "stream",
          "text": [
            "[CV]  randomforestregressor__max_depth=3, randomforestregressor__min_samples_split=1, randomforestregressor__n_estimators=1000, total=   0.4s\n",
            "[CV] randomforestregressor__max_depth=3, randomforestregressor__min_samples_split=1, randomforestregressor__n_estimators=1000 \n"
          ],
          "name": "stdout"
        },
        {
          "output_type": "stream",
          "text": [
            "/usr/local/lib/python3.6/dist-packages/sklearn/model_selection/_validation.py:536: FitFailedWarning: Estimator fit failed. The score on this train-test partition for these parameters will be set to nan. Details: \n",
            "ValueError: min_samples_split must be an integer greater than 1 or a float in (0.0, 1.0]; got the integer 1\n",
            "\n",
            "  FitFailedWarning)\n"
          ],
          "name": "stderr"
        },
        {
          "output_type": "stream",
          "text": [
            "[CV]  randomforestregressor__max_depth=3, randomforestregressor__min_samples_split=1, randomforestregressor__n_estimators=1000, total=   0.4s\n",
            "[CV] randomforestregressor__max_depth=3, randomforestregressor__min_samples_split=1, randomforestregressor__n_estimators=1000 \n"
          ],
          "name": "stdout"
        },
        {
          "output_type": "stream",
          "text": [
            "/usr/local/lib/python3.6/dist-packages/sklearn/model_selection/_validation.py:536: FitFailedWarning: Estimator fit failed. The score on this train-test partition for these parameters will be set to nan. Details: \n",
            "ValueError: min_samples_split must be an integer greater than 1 or a float in (0.0, 1.0]; got the integer 1\n",
            "\n",
            "  FitFailedWarning)\n"
          ],
          "name": "stderr"
        },
        {
          "output_type": "stream",
          "text": [
            "[CV]  randomforestregressor__max_depth=3, randomforestregressor__min_samples_split=1, randomforestregressor__n_estimators=1000, total=   0.4s\n",
            "[CV] randomforestregressor__max_depth=3, randomforestregressor__min_samples_split=1, randomforestregressor__n_estimators=1000 \n"
          ],
          "name": "stdout"
        },
        {
          "output_type": "stream",
          "text": [
            "/usr/local/lib/python3.6/dist-packages/sklearn/model_selection/_validation.py:536: FitFailedWarning: Estimator fit failed. The score on this train-test partition for these parameters will be set to nan. Details: \n",
            "ValueError: min_samples_split must be an integer greater than 1 or a float in (0.0, 1.0]; got the integer 1\n",
            "\n",
            "  FitFailedWarning)\n"
          ],
          "name": "stderr"
        },
        {
          "output_type": "stream",
          "text": [
            "[CV]  randomforestregressor__max_depth=3, randomforestregressor__min_samples_split=1, randomforestregressor__n_estimators=1000, total=   0.4s\n",
            "[CV] randomforestregressor__max_depth=3, randomforestregressor__min_samples_split=2, randomforestregressor__n_estimators=100 \n",
            "[CV]  randomforestregressor__max_depth=3, randomforestregressor__min_samples_split=2, randomforestregressor__n_estimators=100, total=   0.2s\n",
            "[CV] randomforestregressor__max_depth=3, randomforestregressor__min_samples_split=2, randomforestregressor__n_estimators=100 \n",
            "[CV]  randomforestregressor__max_depth=3, randomforestregressor__min_samples_split=2, randomforestregressor__n_estimators=100, total=   0.2s\n",
            "[CV] randomforestregressor__max_depth=3, randomforestregressor__min_samples_split=2, randomforestregressor__n_estimators=100 \n",
            "[CV]  randomforestregressor__max_depth=3, randomforestregressor__min_samples_split=2, randomforestregressor__n_estimators=100, total=   0.2s\n",
            "[CV] randomforestregressor__max_depth=3, randomforestregressor__min_samples_split=2, randomforestregressor__n_estimators=100 \n",
            "[CV]  randomforestregressor__max_depth=3, randomforestregressor__min_samples_split=2, randomforestregressor__n_estimators=100, total=   0.2s\n",
            "[CV] randomforestregressor__max_depth=3, randomforestregressor__min_samples_split=2, randomforestregressor__n_estimators=100 \n",
            "[CV]  randomforestregressor__max_depth=3, randomforestregressor__min_samples_split=2, randomforestregressor__n_estimators=100, total=   0.2s\n",
            "[CV] randomforestregressor__max_depth=3, randomforestregressor__min_samples_split=2, randomforestregressor__n_estimators=500 \n",
            "[CV]  randomforestregressor__max_depth=3, randomforestregressor__min_samples_split=2, randomforestregressor__n_estimators=500, total=   0.8s\n",
            "[CV] randomforestregressor__max_depth=3, randomforestregressor__min_samples_split=2, randomforestregressor__n_estimators=500 \n",
            "[CV]  randomforestregressor__max_depth=3, randomforestregressor__min_samples_split=2, randomforestregressor__n_estimators=500, total=   0.8s\n",
            "[CV] randomforestregressor__max_depth=3, randomforestregressor__min_samples_split=2, randomforestregressor__n_estimators=500 \n",
            "[CV]  randomforestregressor__max_depth=3, randomforestregressor__min_samples_split=2, randomforestregressor__n_estimators=500, total=   0.8s\n",
            "[CV] randomforestregressor__max_depth=3, randomforestregressor__min_samples_split=2, randomforestregressor__n_estimators=500 \n",
            "[CV]  randomforestregressor__max_depth=3, randomforestregressor__min_samples_split=2, randomforestregressor__n_estimators=500, total=   0.8s\n",
            "[CV] randomforestregressor__max_depth=3, randomforestregressor__min_samples_split=2, randomforestregressor__n_estimators=500 \n",
            "[CV]  randomforestregressor__max_depth=3, randomforestregressor__min_samples_split=2, randomforestregressor__n_estimators=500, total=   0.8s\n",
            "[CV] randomforestregressor__max_depth=3, randomforestregressor__min_samples_split=2, randomforestregressor__n_estimators=700 \n",
            "[CV]  randomforestregressor__max_depth=3, randomforestregressor__min_samples_split=2, randomforestregressor__n_estimators=700, total=   1.1s\n",
            "[CV] randomforestregressor__max_depth=3, randomforestregressor__min_samples_split=2, randomforestregressor__n_estimators=700 \n",
            "[CV]  randomforestregressor__max_depth=3, randomforestregressor__min_samples_split=2, randomforestregressor__n_estimators=700, total=   1.2s\n",
            "[CV] randomforestregressor__max_depth=3, randomforestregressor__min_samples_split=2, randomforestregressor__n_estimators=700 \n",
            "[CV]  randomforestregressor__max_depth=3, randomforestregressor__min_samples_split=2, randomforestregressor__n_estimators=700, total=   1.2s\n",
            "[CV] randomforestregressor__max_depth=3, randomforestregressor__min_samples_split=2, randomforestregressor__n_estimators=700 \n",
            "[CV]  randomforestregressor__max_depth=3, randomforestregressor__min_samples_split=2, randomforestregressor__n_estimators=700, total=   1.2s\n",
            "[CV] randomforestregressor__max_depth=3, randomforestregressor__min_samples_split=2, randomforestregressor__n_estimators=700 \n",
            "[CV]  randomforestregressor__max_depth=3, randomforestregressor__min_samples_split=2, randomforestregressor__n_estimators=700, total=   1.2s\n",
            "[CV] randomforestregressor__max_depth=3, randomforestregressor__min_samples_split=2, randomforestregressor__n_estimators=1000 \n",
            "[CV]  randomforestregressor__max_depth=3, randomforestregressor__min_samples_split=2, randomforestregressor__n_estimators=1000, total=   1.6s\n",
            "[CV] randomforestregressor__max_depth=3, randomforestregressor__min_samples_split=2, randomforestregressor__n_estimators=1000 \n",
            "[CV]  randomforestregressor__max_depth=3, randomforestregressor__min_samples_split=2, randomforestregressor__n_estimators=1000, total=   1.7s\n",
            "[CV] randomforestregressor__max_depth=3, randomforestregressor__min_samples_split=2, randomforestregressor__n_estimators=1000 \n",
            "[CV]  randomforestregressor__max_depth=3, randomforestregressor__min_samples_split=2, randomforestregressor__n_estimators=1000, total=   1.6s\n",
            "[CV] randomforestregressor__max_depth=3, randomforestregressor__min_samples_split=2, randomforestregressor__n_estimators=1000 \n",
            "[CV]  randomforestregressor__max_depth=3, randomforestregressor__min_samples_split=2, randomforestregressor__n_estimators=1000, total=   1.6s\n",
            "[CV] randomforestregressor__max_depth=3, randomforestregressor__min_samples_split=2, randomforestregressor__n_estimators=1000 \n",
            "[CV]  randomforestregressor__max_depth=3, randomforestregressor__min_samples_split=2, randomforestregressor__n_estimators=1000, total=   1.6s\n",
            "[CV] randomforestregressor__max_depth=3, randomforestregressor__min_samples_split=3, randomforestregressor__n_estimators=100 \n",
            "[CV]  randomforestregressor__max_depth=3, randomforestregressor__min_samples_split=3, randomforestregressor__n_estimators=100, total=   0.2s\n",
            "[CV] randomforestregressor__max_depth=3, randomforestregressor__min_samples_split=3, randomforestregressor__n_estimators=100 \n",
            "[CV]  randomforestregressor__max_depth=3, randomforestregressor__min_samples_split=3, randomforestregressor__n_estimators=100, total=   0.2s\n",
            "[CV] randomforestregressor__max_depth=3, randomforestregressor__min_samples_split=3, randomforestregressor__n_estimators=100 \n",
            "[CV]  randomforestregressor__max_depth=3, randomforestregressor__min_samples_split=3, randomforestregressor__n_estimators=100, total=   0.2s\n",
            "[CV] randomforestregressor__max_depth=3, randomforestregressor__min_samples_split=3, randomforestregressor__n_estimators=100 \n",
            "[CV]  randomforestregressor__max_depth=3, randomforestregressor__min_samples_split=3, randomforestregressor__n_estimators=100, total=   0.2s\n",
            "[CV] randomforestregressor__max_depth=3, randomforestregressor__min_samples_split=3, randomforestregressor__n_estimators=100 \n",
            "[CV]  randomforestregressor__max_depth=3, randomforestregressor__min_samples_split=3, randomforestregressor__n_estimators=100, total=   0.2s\n",
            "[CV] randomforestregressor__max_depth=3, randomforestregressor__min_samples_split=3, randomforestregressor__n_estimators=500 \n",
            "[CV]  randomforestregressor__max_depth=3, randomforestregressor__min_samples_split=3, randomforestregressor__n_estimators=500, total=   0.8s\n",
            "[CV] randomforestregressor__max_depth=3, randomforestregressor__min_samples_split=3, randomforestregressor__n_estimators=500 \n",
            "[CV]  randomforestregressor__max_depth=3, randomforestregressor__min_samples_split=3, randomforestregressor__n_estimators=500, total=   0.8s\n",
            "[CV] randomforestregressor__max_depth=3, randomforestregressor__min_samples_split=3, randomforestregressor__n_estimators=500 \n",
            "[CV]  randomforestregressor__max_depth=3, randomforestregressor__min_samples_split=3, randomforestregressor__n_estimators=500, total=   0.8s\n",
            "[CV] randomforestregressor__max_depth=3, randomforestregressor__min_samples_split=3, randomforestregressor__n_estimators=500 \n",
            "[CV]  randomforestregressor__max_depth=3, randomforestregressor__min_samples_split=3, randomforestregressor__n_estimators=500, total=   0.8s\n",
            "[CV] randomforestregressor__max_depth=3, randomforestregressor__min_samples_split=3, randomforestregressor__n_estimators=500 \n",
            "[CV]  randomforestregressor__max_depth=3, randomforestregressor__min_samples_split=3, randomforestregressor__n_estimators=500, total=   0.8s\n",
            "[CV] randomforestregressor__max_depth=3, randomforestregressor__min_samples_split=3, randomforestregressor__n_estimators=700 \n",
            "[CV]  randomforestregressor__max_depth=3, randomforestregressor__min_samples_split=3, randomforestregressor__n_estimators=700, total=   1.2s\n",
            "[CV] randomforestregressor__max_depth=3, randomforestregressor__min_samples_split=3, randomforestregressor__n_estimators=700 \n",
            "[CV]  randomforestregressor__max_depth=3, randomforestregressor__min_samples_split=3, randomforestregressor__n_estimators=700, total=   1.2s\n",
            "[CV] randomforestregressor__max_depth=3, randomforestregressor__min_samples_split=3, randomforestregressor__n_estimators=700 \n",
            "[CV]  randomforestregressor__max_depth=3, randomforestregressor__min_samples_split=3, randomforestregressor__n_estimators=700, total=   1.2s\n",
            "[CV] randomforestregressor__max_depth=3, randomforestregressor__min_samples_split=3, randomforestregressor__n_estimators=700 \n",
            "[CV]  randomforestregressor__max_depth=3, randomforestregressor__min_samples_split=3, randomforestregressor__n_estimators=700, total=   1.1s\n",
            "[CV] randomforestregressor__max_depth=3, randomforestregressor__min_samples_split=3, randomforestregressor__n_estimators=700 \n",
            "[CV]  randomforestregressor__max_depth=3, randomforestregressor__min_samples_split=3, randomforestregressor__n_estimators=700, total=   1.2s\n",
            "[CV] randomforestregressor__max_depth=3, randomforestregressor__min_samples_split=3, randomforestregressor__n_estimators=1000 \n",
            "[CV]  randomforestregressor__max_depth=3, randomforestregressor__min_samples_split=3, randomforestregressor__n_estimators=1000, total=   1.6s\n",
            "[CV] randomforestregressor__max_depth=3, randomforestregressor__min_samples_split=3, randomforestregressor__n_estimators=1000 \n",
            "[CV]  randomforestregressor__max_depth=3, randomforestregressor__min_samples_split=3, randomforestregressor__n_estimators=1000, total=   1.6s\n",
            "[CV] randomforestregressor__max_depth=3, randomforestregressor__min_samples_split=3, randomforestregressor__n_estimators=1000 \n",
            "[CV]  randomforestregressor__max_depth=3, randomforestregressor__min_samples_split=3, randomforestregressor__n_estimators=1000, total=   1.7s\n",
            "[CV] randomforestregressor__max_depth=3, randomforestregressor__min_samples_split=3, randomforestregressor__n_estimators=1000 \n",
            "[CV]  randomforestregressor__max_depth=3, randomforestregressor__min_samples_split=3, randomforestregressor__n_estimators=1000, total=   1.6s\n",
            "[CV] randomforestregressor__max_depth=3, randomforestregressor__min_samples_split=3, randomforestregressor__n_estimators=1000 \n",
            "[CV]  randomforestregressor__max_depth=3, randomforestregressor__min_samples_split=3, randomforestregressor__n_estimators=1000, total=   1.6s\n"
          ],
          "name": "stdout"
        },
        {
          "output_type": "stream",
          "text": [
            "[Parallel(n_jobs=1)]: Done 240 out of 240 | elapsed:  3.0min finished\n"
          ],
          "name": "stderr"
        },
        {
          "output_type": "execute_result",
          "data": {
            "text/plain": [
              "GridSearchCV(cv=5, error_score=nan,\n",
              "             estimator=Pipeline(memory=None,\n",
              "                                steps=[('sc',\n",
              "                                        StandardScaler(copy=True,\n",
              "                                                       with_mean=True,\n",
              "                                                       with_std=True)),\n",
              "                                       ('randomforestregressor',\n",
              "                                        RandomForestRegressor(bootstrap=True,\n",
              "                                                              ccp_alpha=0.0,\n",
              "                                                              criterion='mse',\n",
              "                                                              max_depth=None,\n",
              "                                                              max_features='auto',\n",
              "                                                              max_leaf_nodes=None,\n",
              "                                                              max_samples=None,\n",
              "                                                              min_impurity_decrease=0.0,\n",
              "                                                              min_impurity_split=None,\n",
              "                                                              mi...\n",
              "                                                              oob_score=False,\n",
              "                                                              random_state=None,\n",
              "                                                              verbose=0,\n",
              "                                                              warm_start=False))],\n",
              "                                verbose=False),\n",
              "             iid='deprecated', n_jobs=None,\n",
              "             param_grid={'randomforestregressor__max_depth': [None, 1, 2, 3],\n",
              "                         'randomforestregressor__min_samples_split': [1, 2, 3],\n",
              "                         'randomforestregressor__n_estimators': [100, 500, 700,\n",
              "                                                                 1000]},\n",
              "             pre_dispatch='2*n_jobs', refit=True, return_train_score=False,\n",
              "             scoring=None, verbose=2)"
            ]
          },
          "metadata": {
            "tags": []
          },
          "execution_count": 31
        }
      ]
    },
    {
      "cell_type": "markdown",
      "metadata": {
        "id": "YihEoAIyoand",
        "colab_type": "text"
      },
      "source": [
        "\n",
        "## View The Best Parameters"
      ]
    },
    {
      "cell_type": "code",
      "metadata": {
        "id": "hEOFe-EVobi-",
        "colab_type": "code",
        "colab": {
          "base_uri": "https://localhost:8080/",
          "height": 217
        },
        "outputId": "6bdf2771-97af-4125-e7aa-55a45091fb9c"
      },
      "source": [
        "print('Best Criterion:', clf.best_estimator_.get_params()['randomforestregressor__n_estimators'])\n",
        "print('Best max_depth:', clf.best_estimator_.get_params()['randomforestregressor__max_depth'])\n",
        "print('Best min samples split:', clf.best_estimator_.get_params()['randomforestregressor__min_samples_split'])\n",
        "print(); print(clf.best_estimator_.get_params()['randomforestregressor'])"
      ],
      "execution_count": 33,
      "outputs": [
        {
          "output_type": "stream",
          "text": [
            "Best Criterion: 700\n",
            "Best max_depth: None\n",
            "Best min samples split: 2\n",
            "\n",
            "RandomForestRegressor(bootstrap=True, ccp_alpha=0.0, criterion='mse',\n",
            "                      max_depth=None, max_features='auto', max_leaf_nodes=None,\n",
            "                      max_samples=None, min_impurity_decrease=0.0,\n",
            "                      min_impurity_split=None, min_samples_leaf=1,\n",
            "                      min_samples_split=2, min_weight_fraction_leaf=0.0,\n",
            "                      n_estimators=700, n_jobs=None, oob_score=False,\n",
            "                      random_state=None, verbose=0, warm_start=False)\n"
          ],
          "name": "stdout"
        }
      ]
    },
    {
      "cell_type": "markdown",
      "metadata": {
        "id": "_4QDaCSYpYWH",
        "colab_type": "text"
      },
      "source": [
        "## Predictions"
      ]
    },
    {
      "cell_type": "code",
      "metadata": {
        "id": "TQ-MEdyJpaI5",
        "colab_type": "code",
        "colab": {}
      },
      "source": [
        "y_pred = clf.predict(X_test)"
      ],
      "execution_count": 0,
      "outputs": []
    },
    {
      "cell_type": "markdown",
      "metadata": {
        "id": "hxQ8bMSVpelV",
        "colab_type": "text"
      },
      "source": [
        "## summarize the fit of the model\n"
      ]
    },
    {
      "cell_type": "code",
      "metadata": {
        "id": "pULGQ3pGphR4",
        "colab_type": "code",
        "colab": {
          "base_uri": "https://localhost:8080/",
          "height": 54
        },
        "outputId": "ddf0757c-d309-4448-c50c-ce47eae85cc3"
      },
      "source": [
        "print(f'R Squared error: {r2_score(y_test, y_pred)}')\n",
        "print(f'Root Mean Squared error: {np.sqrt(mean_squared_error(y_test, y_pred))}')"
      ],
      "execution_count": 37,
      "outputs": [
        {
          "output_type": "stream",
          "text": [
            "R Squared error: 0.9127732645369078\n",
            "Root Mean Squared error: 2.936050162620357\n"
          ],
          "name": "stdout"
        }
      ]
    },
    {
      "cell_type": "markdown",
      "metadata": {
        "id": "LhQlDkQIqKx3",
        "colab_type": "text"
      },
      "source": [
        "## plot regression\n",
        " "
      ]
    },
    {
      "cell_type": "code",
      "metadata": {
        "id": "ciWDgmy-qNVP",
        "colab_type": "code",
        "colab": {
          "base_uri": "https://localhost:8080/",
          "height": 610
        },
        "outputId": "0f426bfb-bc01-4898-daa3-3537a68cf8fd"
      },
      "source": [
        "plt.figure(figsize=(10,10))\n",
        "sns.regplot(y_test, y_pred, fit_reg=True, scatter_kws={\"s\": 100})"
      ],
      "execution_count": 38,
      "outputs": [
        {
          "output_type": "execute_result",
          "data": {
            "text/plain": [
              "<matplotlib.axes._subplots.AxesSubplot at 0x7f706c5c83c8>"
            ]
          },
          "metadata": {
            "tags": []
          },
          "execution_count": 38
        },
        {
          "output_type": "display_data",
          "data": {
            "image/png": "[encoded data removed]",
            "text/plain": [
              "<Figure size 720x720 with 1 Axes>"
            ]
          },
          "metadata": {
            "tags": [],
            "needs_background": "light"
          }
        }
      ]
    }
  ]
}