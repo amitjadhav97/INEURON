{
  "nbformat": 4,
  "nbformat_minor": 0,
  "metadata": {
    "colab": {
      "name": "Select_right_Threshold_using_ROC_curve.ipynb",
      "provenance": [],
      "authorship_tag": "ABX9TyPkwTcjnXN4Q5vQEUdZRQEg",
      "include_colab_link": true
    },
    "kernelspec": {
      "name": "python3",
      "display_name": "Python 3"
    }
  },
  "cells": [
    {
      "cell_type": "markdown",
      "metadata": {
        "id": "view-in-github",
        "colab_type": "text"
      },
      "source": [
        "<a href=\"https://colab.research.google.com/github/plaban1981/INEURON/blob/Supervised-Models/Select_right_Threshold_using_ROC_curve.ipynb\" target=\"_parent\"><img src=\"https://colab.research.google.com/assets/colab-badge.svg\" alt=\"Open In Colab\"/></a>"
      ]
    },
    {
      "cell_type": "code",
      "metadata": {
        "id": "g3E0M3kPZ7Mr",
        "colab_type": "code",
        "colab": {}
      },
      "source": [
        "import pandas as pd\n",
        "import numpy as np\n",
        "import seaborn as sns\n",
        "import matplotlib.pyplot as plt\n",
        "from sklearn.datasets import make_classification\n",
        "\n",
        "from sklearn.model_selection import train_test_split\n",
        "from sklearn.metrics import roc_curve,roc_auc_score\n",
        "\n",
        "from sklearn.ensemble import RandomForestClassifier,AdaBoostClassifier\n",
        "from sklearn.linear_model import LogisticRegression\n",
        "from sklearn.neighbors import KNeighborsClassifier\n",
        "\n"
      ],
      "execution_count": 0,
      "outputs": []
    },
    {
      "cell_type": "code",
      "metadata": {
        "id": "iw7FU8XQhibg",
        "colab_type": "code",
        "colab": {
          "base_uri": "https://localhost:8080/",
          "height": 35
        },
        "outputId": "28fd2dfc-c623-4c4c-c093-5ee7000a2fcc"
      },
      "source": [
        "X,y = make_classification(n_samples=2000,n_classes=2,weights=[1,1],random_state=1)#weigts=[1,1]=> balanced dataset with respect to output\n",
        "print(X.shape)"
      ],
      "execution_count": 3,
      "outputs": [
        {
          "output_type": "stream",
          "text": [
            "(2000, 20)\n"
          ],
          "name": "stdout"
        }
      ]
    },
    {
      "cell_type": "code",
      "metadata": {
        "id": "qOSekt6hipge",
        "colab_type": "code",
        "colab": {
          "base_uri": "https://localhost:8080/",
          "height": 265
        },
        "outputId": "1fc4620c-be9c-4aea-f38c-0a576ee974a3"
      },
      "source": [
        "plt.hist(y)\n",
        "plt.show()"
      ],
      "execution_count": 7,
      "outputs": [
        {
          "output_type": "display_data",
          "data": {
            "image/png": "[encoded data removed]",
            "text/plain": [
              "<Figure size 432x288 with 1 Axes>"
            ]
          },
          "metadata": {
            "tags": [],
            "needs_background": "light"
          }
        }
      ]
    },
    {
      "cell_type": "code",
      "metadata": {
        "id": "xC7OORLAiYNE",
        "colab_type": "code",
        "colab": {}
      },
      "source": [
        "X_train,X_test,y_train,y_test = train_test_split(X,y,test_size=0.2,random_state=1)"
      ],
      "execution_count": 0,
      "outputs": []
    },
    {
      "cell_type": "markdown",
      "metadata": {
        "id": "IOGvlp_SjFyc",
        "colab_type": "text"
      },
      "source": [
        "## RandomForestClassifier"
      ]
    },
    {
      "cell_type": "code",
      "metadata": {
        "id": "sRjARN3kjIXs",
        "colab_type": "code",
        "colab": {
          "base_uri": "https://localhost:8080/",
          "height": 54
        },
        "outputId": "6dc13e5b-6dbb-47f3-a938-22041ee413ef"
      },
      "source": [
        "model = RandomForestClassifier()\n",
        "model.fit(X_train,y_train)\n",
        "y_train_pred = model.predict_proba(X_train)\n",
        "print(f'Training data - RandoForestClassifier - ROC AUC Score : {roc_auc_score(y_train,y_train_pred[:,1])}')\n",
        "y_test_pred = rf.predict_proba(X_test)\n",
        "print(f'Test data - RandoForestClassifier - ROC AUC Score : {roc_auc_score(y_test,y_test_pred[:,1])}')"
      ],
      "execution_count": 12,
      "outputs": [
        {
          "output_type": "stream",
          "text": [
            "Training data - RandoForestClassifier - ROC AUC Score : 1.0\n",
            "Test data - RandoForestClassifier - ROC AUC Score : 0.9887997199929999\n"
          ],
          "name": "stdout"
        }
      ]
    },
    {
      "cell_type": "markdown",
      "metadata": {
        "id": "zC_QspyBlBU-",
        "colab_type": "text"
      },
      "source": [
        "## Logistic Regression"
      ]
    },
    {
      "cell_type": "code",
      "metadata": {
        "id": "5fWhkp9ylERM",
        "colab_type": "code",
        "colab": {
          "base_uri": "https://localhost:8080/",
          "height": 54
        },
        "outputId": "15bfae72-9550-4719-f4de-d7011e46dac0"
      },
      "source": [
        "model = LogisticRegression()\n",
        "model.fit(X_train,y_train)\n",
        "y_train_pred = model.predict_proba(X_train)\n",
        "print(f'Training data - LogisticRegression - ROC AUC Score : {roc_auc_score(y_train,y_train_pred[:,1])}')\n",
        "y_test_pred = rf.predict_proba(X_test)\n",
        "print(f'Test data - LogisticRegression - ROC AUC Score : {roc_auc_score(y_test,y_test_pred[:,1])}')"
      ],
      "execution_count": 13,
      "outputs": [
        {
          "output_type": "stream",
          "text": [
            "Training data - LogisticRegression - ROC AUC Score : 0.9859918372959324\n",
            "Test data - LogisticRegression - ROC AUC Score : 0.9887997199929999\n"
          ],
          "name": "stdout"
        }
      ]
    },
    {
      "cell_type": "markdown",
      "metadata": {
        "id": "rs15M4kPlaUP",
        "colab_type": "text"
      },
      "source": [
        "## AdaboostClassifier"
      ]
    },
    {
      "cell_type": "code",
      "metadata": {
        "id": "UdTR2rOrlcWC",
        "colab_type": "code",
        "colab": {
          "base_uri": "https://localhost:8080/",
          "height": 54
        },
        "outputId": "78d962c8-579c-404d-fbff-b6ff77b9dd81"
      },
      "source": [
        "model = AdaBoostClassifier()\n",
        "model.fit(X_train,y_train)\n",
        "y_train_pred = model.predict_proba(X_train)\n",
        "print(f'Training data - AdaboostClassifier - ROC AUC Score : {roc_auc_score(y_train,y_train_pred[:,1])}')\n",
        "y_test_pred = rf.predict_proba(X_test)\n",
        "print(f'Test data - AdaboostClassifier - ROC AUC Score : {roc_auc_score(y_test,y_test_pred[:,1])}')"
      ],
      "execution_count": 14,
      "outputs": [
        {
          "output_type": "stream",
          "text": [
            "Training data - AdaboostClassifier - ROC AUC Score : 0.9965046001150029\n",
            "Test data - AdaboostClassifier - ROC AUC Score : 0.9887997199929999\n"
          ],
          "name": "stdout"
        }
      ]
    },
    {
      "cell_type": "markdown",
      "metadata": {
        "id": "7QrXXFpilo15",
        "colab_type": "text"
      },
      "source": [
        "##KNNCalssifier"
      ]
    },
    {
      "cell_type": "code",
      "metadata": {
        "id": "jEJaAchzlr3D",
        "colab_type": "code",
        "colab": {
          "base_uri": "https://localhost:8080/",
          "height": 54
        },
        "outputId": "e1931b2d-d76e-4913-f011-39a0e4a92183"
      },
      "source": [
        "model = KNeighborsClassifier()\n",
        "model.fit(X_train,y_train)\n",
        "y_train_pred = model.predict_proba(X_train)\n",
        "print(f'Training data - Knearest Neigbors - ROC AUC Score : {roc_auc_score(y_train,y_train_pred[:,1])}')\n",
        "y_test_pred = rf.predict_proba(X_test)\n",
        "print(f'Test data - Knearest Neigbors - ROC AUC Score : {roc_auc_score(y_test,y_test_pred[:,1])}')"
      ],
      "execution_count": 16,
      "outputs": [
        {
          "output_type": "stream",
          "text": [
            "Training data - Knearest Neigbors - ROC AUC Score : 0.9799213730343259\n",
            "Test data - Knearest Neigbors - ROC AUC Score : 0.9887997199929999\n"
          ],
          "name": "stdout"
        }
      ]
    },
    {
      "cell_type": "markdown",
      "metadata": {
        "id": "yCdQjEjNmcNK",
        "colab_type": "text"
      },
      "source": [
        "## Selecting the best threshold for accuracy"
      ]
    },
    {
      "cell_type": "code",
      "metadata": {
        "id": "dGdfWA0Ymfqm",
        "colab_type": "code",
        "colab": {
          "base_uri": "https://localhost:8080/",
          "height": 35
        },
        "outputId": "b34cbac0-9385-4094-ff3d-adecc8ebf354"
      },
      "source": [
        "pred = []\n",
        "for model in [LogisticRegression(),RandomForestClassifier(),AdaBoostClassifier(),KNeighborsClassifier()]:\n",
        "  model.fit(X_train,y_train)\n",
        "  pred.append(pd.Series(model.predict_proba(X_test)[:,1]))\n",
        "final_prediction = pd.concat(pred,axis=1).mean(axis=1)\n",
        "print(f'Ensemble test roc auc score :{roc_auc_score(y_test,final_prediction)}')\n"
      ],
      "execution_count": 19,
      "outputs": [
        {
          "output_type": "stream",
          "text": [
            "Ensemble test roc auc score :0.988724718117953\n"
          ],
          "name": "stdout"
        }
      ]
    },
    {
      "cell_type": "code",
      "metadata": {
        "id": "1qOI317Un_sh",
        "colab_type": "code",
        "colab": {
          "base_uri": "https://localhost:8080/",
          "height": 835
        },
        "outputId": "f37bca30-9a0b-44be-e4c8-1513a273ee31"
      },
      "source": [
        "pred"
      ],
      "execution_count": 21,
      "outputs": [
        {
          "output_type": "execute_result",
          "data": {
            "text/plain": [
              "[0      0.989774\n",
              " 1      0.000009\n",
              " 2      0.972823\n",
              " 3      0.721809\n",
              " 4      0.803965\n",
              "          ...   \n",
              " 395    0.994052\n",
              " 396    0.805889\n",
              " 397    0.686832\n",
              " 398    0.000628\n",
              " 399    0.989800\n",
              " Length: 400, dtype: float64, 0      0.95\n",
              " 1      0.02\n",
              " 2      0.95\n",
              " 3      0.83\n",
              " 4      0.71\n",
              "        ... \n",
              " 395    0.99\n",
              " 396    0.82\n",
              " 397    0.52\n",
              " 398    0.05\n",
              " 399    1.00\n",
              " Length: 400, dtype: float64, 0      0.542292\n",
              " 1      0.459245\n",
              " 2      0.535539\n",
              " 3      0.500480\n",
              " 4      0.496834\n",
              "          ...   \n",
              " 395    0.550197\n",
              " 396    0.534903\n",
              " 397    0.494029\n",
              " 398    0.465754\n",
              " 399    0.546334\n",
              " Length: 400, dtype: float64, 0      1.0\n",
              " 1      0.0\n",
              " 2      0.8\n",
              " 3      0.8\n",
              " 4      0.4\n",
              "       ... \n",
              " 395    0.8\n",
              " 396    1.0\n",
              " 397    0.8\n",
              " 398    0.2\n",
              " 399    0.8\n",
              " Length: 400, dtype: float64]"
            ]
          },
          "metadata": {
            "tags": []
          },
          "execution_count": 21
        }
      ]
    },
    {
      "cell_type": "code",
      "metadata": {
        "id": "C14F09mzneQE",
        "colab_type": "code",
        "colab": {
          "base_uri": "https://localhost:8080/",
          "height": 407
        },
        "outputId": "d848fb9e-15b9-4af9-8be1-527155c0b3e3"
      },
      "source": [
        "pd.concat(pred,axis=1)"
      ],
      "execution_count": 20,
      "outputs": [
        {
          "output_type": "execute_result",
          "data": {
            "text/html": [
              "<div>\n",
              "<style scoped>\n",
              "    .dataframe tbody tr th:only-of-type {\n",
              "        vertical-align: middle;\n",
              "    }\n",
              "\n",
              "    .dataframe tbody tr th {\n",
              "        vertical-align: top;\n",
              "    }\n",
              "\n",
              "    .dataframe thead th {\n",
              "        text-align: right;\n",
              "    }\n",
              "</style>\n",
              "<table border=\"1\" class=\"dataframe\">\n",
              "  <thead>\n",
              "    <tr style=\"text-align: right;\">\n",
              "      <th></th>\n",
              "      <th>0</th>\n",
              "      <th>1</th>\n",
              "      <th>2</th>\n",
              "      <th>3</th>\n",
              "    </tr>\n",
              "  </thead>\n",
              "  <tbody>\n",
              "    <tr>\n",
              "      <th>0</th>\n",
              "      <td>0.989774</td>\n",
              "      <td>0.95</td>\n",
              "      <td>0.542292</td>\n",
              "      <td>1.0</td>\n",
              "    </tr>\n",
              "    <tr>\n",
              "      <th>1</th>\n",
              "      <td>0.000009</td>\n",
              "      <td>0.02</td>\n",
              "      <td>0.459245</td>\n",
              "      <td>0.0</td>\n",
              "    </tr>\n",
              "    <tr>\n",
              "      <th>2</th>\n",
              "      <td>0.972823</td>\n",
              "      <td>0.95</td>\n",
              "      <td>0.535539</td>\n",
              "      <td>0.8</td>\n",
              "    </tr>\n",
              "    <tr>\n",
              "      <th>3</th>\n",
              "      <td>0.721809</td>\n",
              "      <td>0.83</td>\n",
              "      <td>0.500480</td>\n",
              "      <td>0.8</td>\n",
              "    </tr>\n",
              "    <tr>\n",
              "      <th>4</th>\n",
              "      <td>0.803965</td>\n",
              "      <td>0.71</td>\n",
              "      <td>0.496834</td>\n",
              "      <td>0.4</td>\n",
              "    </tr>\n",
              "    <tr>\n",
              "      <th>...</th>\n",
              "      <td>...</td>\n",
              "      <td>...</td>\n",
              "      <td>...</td>\n",
              "      <td>...</td>\n",
              "    </tr>\n",
              "    <tr>\n",
              "      <th>395</th>\n",
              "      <td>0.994052</td>\n",
              "      <td>0.99</td>\n",
              "      <td>0.550197</td>\n",
              "      <td>0.8</td>\n",
              "    </tr>\n",
              "    <tr>\n",
              "      <th>396</th>\n",
              "      <td>0.805889</td>\n",
              "      <td>0.82</td>\n",
              "      <td>0.534903</td>\n",
              "      <td>1.0</td>\n",
              "    </tr>\n",
              "    <tr>\n",
              "      <th>397</th>\n",
              "      <td>0.686832</td>\n",
              "      <td>0.52</td>\n",
              "      <td>0.494029</td>\n",
              "      <td>0.8</td>\n",
              "    </tr>\n",
              "    <tr>\n",
              "      <th>398</th>\n",
              "      <td>0.000628</td>\n",
              "      <td>0.05</td>\n",
              "      <td>0.465754</td>\n",
              "      <td>0.2</td>\n",
              "    </tr>\n",
              "    <tr>\n",
              "      <th>399</th>\n",
              "      <td>0.989800</td>\n",
              "      <td>1.00</td>\n",
              "      <td>0.546334</td>\n",
              "      <td>0.8</td>\n",
              "    </tr>\n",
              "  </tbody>\n",
              "</table>\n",
              "<p>400 rows × 4 columns</p>\n",
              "</div>"
            ],
            "text/plain": [
              "            0     1         2    3\n",
              "0    0.989774  0.95  0.542292  1.0\n",
              "1    0.000009  0.02  0.459245  0.0\n",
              "2    0.972823  0.95  0.535539  0.8\n",
              "3    0.721809  0.83  0.500480  0.8\n",
              "4    0.803965  0.71  0.496834  0.4\n",
              "..        ...   ...       ...  ...\n",
              "395  0.994052  0.99  0.550197  0.8\n",
              "396  0.805889  0.82  0.534903  1.0\n",
              "397  0.686832  0.52  0.494029  0.8\n",
              "398  0.000628  0.05  0.465754  0.2\n",
              "399  0.989800  1.00  0.546334  0.8\n",
              "\n",
              "[400 rows x 4 columns]"
            ]
          },
          "metadata": {
            "tags": []
          },
          "execution_count": 20
        }
      ]
    },
    {
      "cell_type": "code",
      "metadata": {
        "id": "jE7EWsGLoLVW",
        "colab_type": "code",
        "colab": {
          "base_uri": "https://localhost:8080/",
          "height": 235
        },
        "outputId": "3b4946d4-0676-4e7c-a0f6-00977a98e620"
      },
      "source": [
        "final_prediction"
      ],
      "execution_count": 22,
      "outputs": [
        {
          "output_type": "execute_result",
          "data": {
            "text/plain": [
              "0      0.870516\n",
              "1      0.119813\n",
              "2      0.814590\n",
              "3      0.713072\n",
              "4      0.602700\n",
              "         ...   \n",
              "395    0.833562\n",
              "396    0.790198\n",
              "397    0.625215\n",
              "398    0.179096\n",
              "399    0.834034\n",
              "Length: 400, dtype: float64"
            ]
          },
          "metadata": {
            "tags": []
          },
          "execution_count": 22
        }
      ]
    },
    {
      "cell_type": "markdown",
      "metadata": {
        "id": "LBygDcU-ogbA",
        "colab_type": "text"
      },
      "source": [
        "## Roc Curve"
      ]
    },
    {
      "cell_type": "code",
      "metadata": {
        "id": "53AtPEP2oiEa",
        "colab_type": "code",
        "colab": {
          "base_uri": "https://localhost:8080/",
          "height": 145
        },
        "outputId": "529fcdab-e6d7-4a11-811d-2837732a8211"
      },
      "source": [
        "fpr,tpr,thresholds = roc_curve(y_test,final_prediction)\n",
        "thresholds"
      ],
      "execution_count": 23,
      "outputs": [
        {
          "output_type": "execute_result",
          "data": {
            "text/plain": [
              "array([1.92698558, 0.92698558, 0.91131973, 0.91117965, 0.75890838,\n",
              "       0.75845052, 0.75482975, 0.75149364, 0.74123084, 0.74028477,\n",
              "       0.70219083, 0.70185269, 0.69353074, 0.65980237, 0.63030927,\n",
              "       0.62521521, 0.60269985, 0.58739845, 0.56698384, 0.56511035,\n",
              "       0.5478233 , 0.53418488, 0.51650139, 0.50776837, 0.4628474 ,\n",
              "       0.44260717, 0.42317778, 0.41326177, 0.41324909, 0.40146561,\n",
              "       0.38278389, 0.21040201, 0.21022466, 0.10586113])"
            ]
          },
          "metadata": {
            "tags": []
          },
          "execution_count": 23
        }
      ]
    },
    {
      "cell_type": "code",
      "metadata": {
        "id": "1OGbhEorpPCh",
        "colab_type": "code",
        "colab": {
          "base_uri": "https://localhost:8080/",
          "height": 198
        },
        "outputId": "15c5df5f-9014-440a-d509-c8ce5a30d6d1"
      },
      "source": [
        "from sklearn.metrics import accuracy_score\n",
        "accuracy_ls = []\n",
        "for thres in thresholds:\n",
        "  y_pred = np.where(final_prediction > thres,1,0)\n",
        "  accuracy_ls.append(accuracy_score(y_test,y_pred))\n",
        "\n",
        "accuracy_df = pd.concat([pd.Series(thresholds),pd.Series(accuracy_ls)],axis=1)\n",
        "accuracy_df.columns=['Thresholds','Accuracy']\n",
        "accuracy_df.sort_values(by='Accuracy',ascending=False,inplace=True)\n",
        "accuracy_df.head()\n"
      ],
      "execution_count": 30,
      "outputs": [
        {
          "output_type": "execute_result",
          "data": {
            "text/html": [
              "<div>\n",
              "<style scoped>\n",
              "    .dataframe tbody tr th:only-of-type {\n",
              "        vertical-align: middle;\n",
              "    }\n",
              "\n",
              "    .dataframe tbody tr th {\n",
              "        vertical-align: top;\n",
              "    }\n",
              "\n",
              "    .dataframe thead th {\n",
              "        text-align: right;\n",
              "    }\n",
              "</style>\n",
              "<table border=\"1\" class=\"dataframe\">\n",
              "  <thead>\n",
              "    <tr style=\"text-align: right;\">\n",
              "      <th></th>\n",
              "      <th>Thresholds</th>\n",
              "      <th>Accuracy</th>\n",
              "    </tr>\n",
              "  </thead>\n",
              "  <tbody>\n",
              "    <tr>\n",
              "      <th>25</th>\n",
              "      <td>0.442607</td>\n",
              "      <td>0.96</td>\n",
              "    </tr>\n",
              "    <tr>\n",
              "      <th>24</th>\n",
              "      <td>0.462847</td>\n",
              "      <td>0.96</td>\n",
              "    </tr>\n",
              "    <tr>\n",
              "      <th>23</th>\n",
              "      <td>0.507768</td>\n",
              "      <td>0.96</td>\n",
              "    </tr>\n",
              "    <tr>\n",
              "      <th>21</th>\n",
              "      <td>0.534185</td>\n",
              "      <td>0.96</td>\n",
              "    </tr>\n",
              "    <tr>\n",
              "      <th>19</th>\n",
              "      <td>0.565110</td>\n",
              "      <td>0.96</td>\n",
              "    </tr>\n",
              "  </tbody>\n",
              "</table>\n",
              "</div>"
            ],
            "text/plain": [
              "    Thresholds  Accuracy\n",
              "25    0.442607      0.96\n",
              "24    0.462847      0.96\n",
              "23    0.507768      0.96\n",
              "21    0.534185      0.96\n",
              "19    0.565110      0.96"
            ]
          },
          "metadata": {
            "tags": []
          },
          "execution_count": 30
        }
      ]
    },
    {
      "cell_type": "markdown",
      "metadata": {
        "id": "wE52wpNlu8iv",
        "colab_type": "text"
      },
      "source": [
        "## Roc Curve"
      ]
    },
    {
      "cell_type": "code",
      "metadata": {
        "id": "QITNqxMzu-P0",
        "colab_type": "code",
        "colab": {
          "base_uri": "https://localhost:8080/",
          "height": 295
        },
        "outputId": "1cf1745c-a575-44e1-c4ff-d80c3137a6a0"
      },
      "source": [
        "plt.plot(fpr,tpr,color='orange',label='ROC')\n",
        "plt.plot([0,1],[0,1],color='blue',linestyle='--')\n",
        "plt.xlabel('False Positive Rate')\n",
        "plt.ylabel('True Positive Rate')\n",
        "plt.title('Roc Curve')\n",
        "plt.show()"
      ],
      "execution_count": 31,
      "outputs": [
        {
          "output_type": "display_data",
          "data": {
            "image/png": "[encoded data removed]",
            "text/plain": [
              "<Figure size 432x288 with 1 Axes>"
            ]
          },
          "metadata": {
            "tags": [],
            "needs_background": "light"
          }
        }
      ]
    }
  ]
}