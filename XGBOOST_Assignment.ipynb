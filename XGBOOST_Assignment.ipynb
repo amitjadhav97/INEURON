{
  "nbformat": 4,
  "nbformat_minor": 0,
  "metadata": {
    "colab": {
      "name": "XGBOOST_Assignment.ipynb",
      "provenance": [],
      "authorship_tag": "ABX9TyP4QE11FL27mhhWOXasdYoU",
      "include_colab_link": true
    },
    "kernelspec": {
      "name": "python3",
      "display_name": "Python 3"
    }
  },
  "cells": [
    {
      "cell_type": "markdown",
      "metadata": {
        "id": "view-in-github",
        "colab_type": "text"
      },
      "source": [
        "<a href=\"https://colab.research.google.com/github/plaban1981/INEURON/blob/Supervised-Models/XGBOOST_Assignment.ipynb\" target=\"_parent\"><img src=\"https://colab.research.google.com/assets/colab-badge.svg\" alt=\"Open In Colab\"/></a>"
      ]
    },
    {
      "cell_type": "markdown",
      "metadata": {
        "id": "8mpPlu8qRZ6u",
        "colab_type": "text"
      },
      "source": [
        "# Problem Statement:\n",
        "In this assignment students need to predict whether a person makes over\n",
        "50K per year or not from classic adult dataset using XGBoost."
      ]
    },
    {
      "cell_type": "markdown",
      "metadata": {
        "id": "nLCKX4SSRlkC",
        "colab_type": "text"
      },
      "source": [
        "# Data Set Information:\n",
        "Extraction was done by Barry Becker from the 1994 Census\n",
        "database. A set of reasonably clean records was extracted using the\n",
        "following conditions: ((AAGE>16) && (AGI>100) &&\n",
        "(AFNLWGT>1)&& (HRSWK>0))\n",
        "\n",
        "# Attribute Information:\n",
        "Listing of attributes: \n",
        "\n",
        ">50K, <=50K.\n",
        "age: continuous.\n",
        "workclass: Private, Self-emp-not-inc, Self-emp-inc, Federal-gov,\n",
        "Local-gov, State-gov, Without-pay, Never-worked.\n",
        "fnlwgt: continuous.\n",
        "education: Bachelors, Some-college, 11th, HS-grad, Prof-school,\n",
        "Assoc-acdm, Assoc-voc, 9th, 7th-8th, 12th, Masters, 1st-4th, 10th,\n",
        "Doctorate, 5th-6th, Preschool.\n",
        "education-num: continuous.\n",
        "\n",
        "marital-status: Married-civ-spouse, Divorced, Never-married,\n",
        "Separated, Widowed, Married-spouse-absent, Married-AF-spouse.\n",
        "\n",
        "occupation: Tech-support, Craft-repair, Other-service, Sales, Exec-\n",
        "managerial, Prof-specialty, Handlers-cleaners, Machine-op-inspct,\n",
        "\n",
        "Adm-clerical, Farming-fishing, Transport-moving, Priv-house-serv,\n",
        "Protective-serv, Armed-Forces.\n",
        "relationship: Wife, Own-child, Husband, Not-in-family, Other-relative,\n",
        "Unmarried.\n",
        "race: White, Asian-Pac-Islander, Amer-Indian-Eskimo, Other, Black.\n",
        "sex: Female, Male.\n",
        "capital-gain: continuous.\n",
        "capital-loss: continuous.\n",
        "hours-per-week: continuous.\n",
        "native-country: United-States, Cambodia, England, Puerto-Rico,\n",
        "Canada, Germany, Outlying-US(Guam-USVI-etc), India, Japan,\n",
        "Greece, South, China, Cuba, Iran, Honduras, Philippines, Italy,\n",
        "Poland, Jamaica, Vietnam, Mexico, Portugal, Ireland, France,\n",
        "Dominican-Republic, Laos, Ecuador, Taiwan, Haiti, Columbia,\n",
        "\n",
        "Hungary, Guatemala, Nicaragua, Scotland, Thailand, Yugoslavia, El-\n",
        "Salvador, Trinadad&Tobago, Peru, Hong, Holand-Netherlands."
      ]
    },
    {
      "cell_type": "markdown",
      "metadata": {
        "id": "y_TGO7TLSQL0",
        "colab_type": "text"
      },
      "source": [
        "# Import Libraries"
      ]
    },
    {
      "cell_type": "code",
      "metadata": {
        "id": "X5zhTZB2Rfey",
        "colab_type": "code",
        "colab": {}
      },
      "source": [
        "import pandas as pd\n",
        "import numpy as np\n",
        "import seaborn as sns\n",
        "import matplotlib.pyplot as plt\n",
        "\n",
        "from xgboost import XGBClassifier\n",
        "from sklearn.model_selection import train_test_split\n",
        "from sklearn.model_selection import RandomizedSearchCV\n",
        "from sklearn.preprocessing import LabelEncoder\n",
        "\n",
        "from sklearn.metrics import plot_roc_curve,accuracy_score,confusion_matrix,classification_report\n",
        "\n",
        "%matplotlib inline"
      ],
      "execution_count": 0,
      "outputs": []
    },
    {
      "cell_type": "markdown",
      "metadata": {
        "id": "mxYZfruKUkjq",
        "colab_type": "text"
      },
      "source": [
        "# Load Dataset"
      ]
    },
    {
      "cell_type": "code",
      "metadata": {
        "id": "CvC0366sUmto",
        "colab_type": "code",
        "colab": {}
      },
      "source": [
        "train_set = pd.read_csv('http://archive.ics.uci.edu/ml/machine-learning-databases/adult/adult.data', header = None)\n",
        "\n",
        "test_set = pd.read_csv('http://archive.ics.uci.edu/ml/machine-learning-databases/adult/adult.test' , skiprows = 1, header = None)\n",
        "\n",
        "col_labels = ['age', 'workclass', 'fnlwgt', 'education', 'education_num','marital_status', 'occupation','relationship', 'race', 'sex', 'capital_gain',\n",
        "'capital_loss', 'hours_per_week', 'native_country', 'wage_class']\n",
        "train_set.columns = col_labels\n",
        "test_set.columns = col_labels"
      ],
      "execution_count": 0,
      "outputs": []
    },
    {
      "cell_type": "code",
      "metadata": {
        "id": "AFWY-Roajh6_",
        "colab_type": "code",
        "colab": {
          "base_uri": "https://localhost:8080/",
          "height": 35
        },
        "outputId": "cde499bb-749f-4d68-a0f3-e30cceade5d3"
      },
      "source": [
        "test_set.shape"
      ],
      "execution_count": 137,
      "outputs": [
        {
          "output_type": "execute_result",
          "data": {
            "text/plain": [
              "(16281, 15)"
            ]
          },
          "metadata": {
            "tags": []
          },
          "execution_count": 137
        }
      ]
    },
    {
      "cell_type": "code",
      "metadata": {
        "id": "de9QlVRkjj8o",
        "colab_type": "code",
        "colab": {
          "base_uri": "https://localhost:8080/",
          "height": 35
        },
        "outputId": "81d1d2b1-1cab-4a1c-a9f3-e382f352104d"
      },
      "source": [
        "train_set.shape"
      ],
      "execution_count": 138,
      "outputs": [
        {
          "output_type": "execute_result",
          "data": {
            "text/plain": [
              "(32561, 15)"
            ]
          },
          "metadata": {
            "tags": []
          },
          "execution_count": 138
        }
      ]
    },
    {
      "cell_type": "code",
      "metadata": {
        "id": "Ha-MnU7JjXrQ",
        "colab_type": "code",
        "colab": {
          "base_uri": "https://localhost:8080/",
          "height": 35
        },
        "outputId": "9e08a2b8-31bf-4874-acaf-99ed266ec320"
      },
      "source": [
        "dataset = train_set.append(test_set)\n",
        "dataset.shape"
      ],
      "execution_count": 184,
      "outputs": [
        {
          "output_type": "execute_result",
          "data": {
            "text/plain": [
              "(48842, 15)"
            ]
          },
          "metadata": {
            "tags": []
          },
          "execution_count": 184
        }
      ]
    },
    {
      "cell_type": "code",
      "metadata": {
        "id": "98vMxy-WVjuQ",
        "colab_type": "code",
        "colab": {
          "base_uri": "https://localhost:8080/",
          "height": 417
        },
        "outputId": "65eac4da-b018-41a1-ef0f-865daf342ff5"
      },
      "source": [
        "dataset.info()"
      ],
      "execution_count": 154,
      "outputs": [
        {
          "output_type": "stream",
          "text": [
            "<class 'pandas.core.frame.DataFrame'>\n",
            "Int64Index: 48842 entries, 0 to 16280\n",
            "Data columns (total 15 columns):\n",
            " #   Column          Non-Null Count  Dtype \n",
            "---  ------          --------------  ----- \n",
            " 0   age             48842 non-null  int64 \n",
            " 1   workclass       48842 non-null  object\n",
            " 2   fnlwgt          48842 non-null  int64 \n",
            " 3   education       48842 non-null  object\n",
            " 4   education_num   48842 non-null  int64 \n",
            " 5   marital_status  48842 non-null  object\n",
            " 6   occupation      48842 non-null  object\n",
            " 7   relationship    48842 non-null  object\n",
            " 8   race            48842 non-null  object\n",
            " 9   sex             48842 non-null  object\n",
            " 10  capital_gain    48842 non-null  int64 \n",
            " 11  capital_loss    48842 non-null  int64 \n",
            " 12  hours_per_week  48842 non-null  int64 \n",
            " 13  native_country  48842 non-null  object\n",
            " 14  wage_class      48842 non-null  object\n",
            "dtypes: int64(6), object(9)\n",
            "memory usage: 6.0+ MB\n"
          ],
          "name": "stdout"
        }
      ]
    },
    {
      "cell_type": "markdown",
      "metadata": {
        "id": "LkqCscECVhjw",
        "colab_type": "text"
      },
      "source": [
        "## Check For Missing Values"
      ]
    },
    {
      "cell_type": "code",
      "metadata": {
        "id": "eKCRQnNZV0w4",
        "colab_type": "code",
        "colab": {
          "base_uri": "https://localhost:8080/",
          "height": 35
        },
        "outputId": "bceaa51d-478e-4fae-b17f-cc9adb0bcd82"
      },
      "source": [
        "dataset.isnull().sum()[dataset.isnull().sum() > 0]"
      ],
      "execution_count": 141,
      "outputs": [
        {
          "output_type": "execute_result",
          "data": {
            "text/plain": [
              "Series([], dtype: int64)"
            ]
          },
          "metadata": {
            "tags": []
          },
          "execution_count": 141
        }
      ]
    },
    {
      "cell_type": "code",
      "metadata": {
        "id": "HlsE8qqPL_Sz",
        "colab_type": "code",
        "colab": {
          "base_uri": "https://localhost:8080/",
          "height": 108
        },
        "outputId": "32b79365-8350-4f2b-b09a-a1b1ed6d397c"
      },
      "source": [
        "dataset.wage_class.value_counts()"
      ],
      "execution_count": 163,
      "outputs": [
        {
          "output_type": "execute_result",
          "data": {
            "text/plain": [
              " <=50K     24720\n",
              " <=50K.    12435\n",
              " >50K       7841\n",
              " >50K.      3846\n",
              "Name: wage_class, dtype: int64"
            ]
          },
          "metadata": {
            "tags": []
          },
          "execution_count": 163
        }
      ]
    },
    {
      "cell_type": "code",
      "metadata": {
        "id": "M0Horx1pOJ7b",
        "colab_type": "code",
        "colab": {}
      },
      "source": [
        "import re\n",
        "def clean_text(text):\n",
        "  if text == ' <=50K':\n",
        "    text = 0\n",
        "  elif text == ' <=50K.':\n",
        "    text = 0\n",
        "  else:\n",
        "    text = 1\n",
        "  return text"
      ],
      "execution_count": 0,
      "outputs": []
    },
    {
      "cell_type": "code",
      "metadata": {
        "id": "zoyYtWXrCMvp",
        "colab_type": "code",
        "colab": {}
      },
      "source": [
        "dataset['wage_class'] = dataset['wage_class'].apply(lambda x: clean_text(x))"
      ],
      "execution_count": 0,
      "outputs": []
    },
    {
      "cell_type": "code",
      "metadata": {
        "id": "CdMruW7zNjyy",
        "colab_type": "code",
        "colab": {
          "base_uri": "https://localhost:8080/",
          "height": 72
        },
        "outputId": "8edca9e8-1233-459e-95ae-2cba03672e3f"
      },
      "source": [
        "dataset['wage_class'].value_counts()"
      ],
      "execution_count": 187,
      "outputs": [
        {
          "output_type": "execute_result",
          "data": {
            "text/plain": [
              "0    37155\n",
              "1    11687\n",
              "Name: wage_class, dtype: int64"
            ]
          },
          "metadata": {
            "tags": []
          },
          "execution_count": 187
        }
      ]
    },
    {
      "cell_type": "markdown",
      "metadata": {
        "id": "MTi9dXgjMpr9",
        "colab_type": "text"
      },
      "source": [
        "## Visualize the distribution of label"
      ]
    },
    {
      "cell_type": "code",
      "metadata": {
        "id": "1R8TvVMDMt3o",
        "colab_type": "code",
        "colab": {
          "base_uri": "https://localhost:8080/",
          "height": 298
        },
        "outputId": "e37b42b3-0d30-401c-a12f-cb6ca52ca40b"
      },
      "source": [
        "sns.countplot(x='wage_class',data=dataset)"
      ],
      "execution_count": 188,
      "outputs": [
        {
          "output_type": "execute_result",
          "data": {
            "text/plain": [
              "<matplotlib.axes._subplots.AxesSubplot at 0x7f6395abfc50>"
            ]
          },
          "metadata": {
            "tags": []
          },
          "execution_count": 188
        },
        {
          "output_type": "display_data",
          "data": {
            "image/png": "[encoded data removed]",
            "text/plain": [
              "<Figure size 432x288 with 1 Axes>"
            ]
          },
          "metadata": {
            "tags": [],
            "needs_background": "light"
          }
        }
      ]
    },
    {
      "cell_type": "code",
      "metadata": {
        "id": "Sb6gb-8BbkWL",
        "colab_type": "code",
        "colab": {}
      },
      "source": [
        "X = dataset.drop('wage_class',axis=1)\n",
        "Y = dataset['wage_class']"
      ],
      "execution_count": 0,
      "outputs": []
    },
    {
      "cell_type": "code",
      "metadata": {
        "id": "VtWns_fRZgwm",
        "colab_type": "code",
        "colab": {}
      },
      "source": [
        "cat_cols = [ col for col in X.columns if X[col].dtypes == 'O']"
      ],
      "execution_count": 0,
      "outputs": []
    },
    {
      "cell_type": "code",
      "metadata": {
        "id": "KV-jECrSimfH",
        "colab_type": "code",
        "colab": {
          "base_uri": "https://localhost:8080/",
          "height": 35
        },
        "outputId": "a1deecca-8308-489d-f4d0-909ff4b874c5"
      },
      "source": [
        "len(cat_cols)"
      ],
      "execution_count": 191,
      "outputs": [
        {
          "output_type": "execute_result",
          "data": {
            "text/plain": [
              "8"
            ]
          },
          "metadata": {
            "tags": []
          },
          "execution_count": 191
        }
      ]
    },
    {
      "cell_type": "code",
      "metadata": {
        "id": "Vo6rJgMyZ0IF",
        "colab_type": "code",
        "colab": {}
      },
      "source": [
        "X_enc = pd.get_dummies(X[cat_cols])"
      ],
      "execution_count": 0,
      "outputs": []
    },
    {
      "cell_type": "code",
      "metadata": {
        "id": "E2nHKTf-dXxE",
        "colab_type": "code",
        "colab": {}
      },
      "source": [
        "X = pd.concat([X,X_enc],axis=1)\n",
        "X = X.drop(cat_cols,axis=1)"
      ],
      "execution_count": 0,
      "outputs": []
    },
    {
      "cell_type": "code",
      "metadata": {
        "id": "01EbmwXFiW0D",
        "colab_type": "code",
        "colab": {
          "base_uri": "https://localhost:8080/",
          "height": 35
        },
        "outputId": "8636d908-3747-4c3f-c30e-5e48744f68a4"
      },
      "source": [
        "X.shape"
      ],
      "execution_count": 194,
      "outputs": [
        {
          "output_type": "execute_result",
          "data": {
            "text/plain": [
              "(48842, 108)"
            ]
          },
          "metadata": {
            "tags": []
          },
          "execution_count": 194
        }
      ]
    },
    {
      "cell_type": "markdown",
      "metadata": {
        "id": "R6StexK9kO6X",
        "colab_type": "text"
      },
      "source": [
        "## Train Test Split"
      ]
    },
    {
      "cell_type": "code",
      "metadata": {
        "id": "LXyaR3NfWiG7",
        "colab_type": "code",
        "colab": {}
      },
      "source": [
        "from sklearn.model_selection import StratifiedShuffleSplit\n",
        "split = StratifiedShuffleSplit(n_splits=5, test_size=0.2, random_state=0)\n",
        "for train_index,test_index in split.split(X,Y):\n",
        "  X_train,X_test = X.iloc[train_index],X.iloc[test_index]\n",
        "  y_train,y_test = Y.iloc[train_index],Y.iloc[test_index]"
      ],
      "execution_count": 0,
      "outputs": []
    },
    {
      "cell_type": "code",
      "metadata": {
        "id": "H_DnxcPVkSDE",
        "colab_type": "code",
        "colab": {
          "base_uri": "https://localhost:8080/",
          "height": 283
        },
        "outputId": "4597bff9-430d-4e33-f1f6-f8a86c9d3365"
      },
      "source": [
        "y_train.plot.hist()"
      ],
      "execution_count": 200,
      "outputs": [
        {
          "output_type": "execute_result",
          "data": {
            "text/plain": [
              "<matplotlib.axes._subplots.AxesSubplot at 0x7f6395917b38>"
            ]
          },
          "metadata": {
            "tags": []
          },
          "execution_count": 200
        },
        {
          "output_type": "display_data",
          "data": {
            "image/png": "[encoded data removed]",
            "text/plain": [
              "<Figure size 432x288 with 1 Axes>"
            ]
          },
          "metadata": {
            "tags": [],
            "needs_background": "light"
          }
        }
      ]
    },
    {
      "cell_type": "code",
      "metadata": {
        "id": "VtY7dlssX69z",
        "colab_type": "code",
        "colab": {
          "base_uri": "https://localhost:8080/",
          "height": 283
        },
        "outputId": "c1e43658-cb35-4181-93b0-76f716a45ed8"
      },
      "source": [
        "y_test.plot.hist()"
      ],
      "execution_count": 201,
      "outputs": [
        {
          "output_type": "execute_result",
          "data": {
            "text/plain": [
              "<matplotlib.axes._subplots.AxesSubplot at 0x7f63ade89208>"
            ]
          },
          "metadata": {
            "tags": []
          },
          "execution_count": 201
        },
        {
          "output_type": "display_data",
          "data": {
            "image/png": "[encoded data removed]",
            "text/plain": [
              "<Figure size 432x288 with 1 Axes>"
            ]
          },
          "metadata": {
            "tags": [],
            "needs_background": "light"
          }
        }
      ]
    },
    {
      "cell_type": "code",
      "metadata": {
        "id": "ntARqQmvz_nb",
        "colab_type": "code",
        "colab": {}
      },
      "source": [
        "from sklearn.preprocessing import StandardScaler\n",
        "from sklearn.pipeline import Pipeline\n",
        "sc = StandardScaler()"
      ],
      "execution_count": 0,
      "outputs": []
    },
    {
      "cell_type": "markdown",
      "metadata": {
        "id": "DH4n8HxzlJg2",
        "colab_type": "text"
      },
      "source": [
        "## Build Model"
      ]
    },
    {
      "cell_type": "code",
      "metadata": {
        "id": "9GXs1KralLSX",
        "colab_type": "code",
        "colab": {
          "base_uri": "https://localhost:8080/",
          "height": 35
        },
        "outputId": "16895d4e-a508-42c8-c279-fde0a81659ce"
      },
      "source": [
        "import random\n",
        "xgb = XGBClassifier()\n",
        "pipe = Pipeline(steps=[('sc', sc),('xgb', XGBClassifier())])\n",
        "param_grid = dict(xgb__n_estimators = [100,500,1000],xgb__learning_rate = [0.05,0.001,0.01])\n",
        "print(param_grid)"
      ],
      "execution_count": 203,
      "outputs": [
        {
          "output_type": "stream",
          "text": [
            "{'xgb__n_estimators': [100, 500, 1000], 'xgb__learning_rate': [0.05, 0.001, 0.01]}\n"
          ],
          "name": "stdout"
        }
      ]
    },
    {
      "cell_type": "code",
      "metadata": {
        "id": "VyKvByeXmcuQ",
        "colab_type": "code",
        "colab": {
          "base_uri": "https://localhost:8080/",
          "height": 690
        },
        "outputId": "a5c92dc9-edfe-4791-8189-a19284fdf365"
      },
      "source": [
        "searchCV = RandomizedSearchCV(pipe,param_grid, cv=5,n_iter=5,scoring='accuracy',verbose=2,n_jobs=-1)  \n",
        "searchCV.fit(X_train, y_train)  "
      ],
      "execution_count": 204,
      "outputs": [
        {
          "output_type": "stream",
          "text": [
            "Fitting 5 folds for each of 5 candidates, totalling 25 fits\n"
          ],
          "name": "stdout"
        },
        {
          "output_type": "stream",
          "text": [
            "[Parallel(n_jobs=-1)]: Using backend LokyBackend with 2 concurrent workers.\n",
            "[Parallel(n_jobs=-1)]: Done  25 out of  25 | elapsed: 12.9min finished\n"
          ],
          "name": "stderr"
        },
        {
          "output_type": "execute_result",
          "data": {
            "text/plain": [
              "RandomizedSearchCV(cv=5, error_score=nan,\n",
              "                   estimator=Pipeline(memory=None,\n",
              "                                      steps=[('sc',\n",
              "                                              StandardScaler(copy=True,\n",
              "                                                             with_mean=True,\n",
              "                                                             with_std=True)),\n",
              "                                             ('xgb',\n",
              "                                              XGBClassifier(base_score=0.5,\n",
              "                                                            booster='gbtree',\n",
              "                                                            colsample_bylevel=1,\n",
              "                                                            colsample_bynode=1,\n",
              "                                                            colsample_bytree=1,\n",
              "                                                            gamma=0,\n",
              "                                                            learning_rate=0.1,\n",
              "                                                            max_delta_step=0,\n",
              "                                                            max_depth=3,\n",
              "                                                            min_child_weight=1,\n",
              "                                                            missing=None,\n",
              "                                                            n_estimators...\n",
              "                                                            random_state=0,\n",
              "                                                            reg_alpha=0,\n",
              "                                                            reg_lambda=1,\n",
              "                                                            scale_pos_weight=1,\n",
              "                                                            seed=None,\n",
              "                                                            silent=None,\n",
              "                                                            subsample=1,\n",
              "                                                            verbosity=1))],\n",
              "                                      verbose=False),\n",
              "                   iid='deprecated', n_iter=5, n_jobs=-1,\n",
              "                   param_distributions={'xgb__learning_rate': [0.05, 0.001,\n",
              "                                                               0.01],\n",
              "                                        'xgb__n_estimators': [100, 500, 1000]},\n",
              "                   pre_dispatch='2*n_jobs', random_state=None, refit=True,\n",
              "                   return_train_score=False, scoring='accuracy', verbose=2)"
            ]
          },
          "metadata": {
            "tags": []
          },
          "execution_count": 204
        }
      ]
    },
    {
      "cell_type": "markdown",
      "metadata": {
        "id": "S9borTZUxH-6",
        "colab_type": "text"
      },
      "source": [
        "## Best Parameters"
      ]
    },
    {
      "cell_type": "code",
      "metadata": {
        "id": "oVR_PUxcxGmX",
        "colab_type": "code",
        "colab": {
          "base_uri": "https://localhost:8080/",
          "height": 35
        },
        "outputId": "82dda0a1-9c3b-444c-9299-dc8db9a8f68e"
      },
      "source": [
        "print(f'Best Parameters selected {searchCV.best_params_}')"
      ],
      "execution_count": 205,
      "outputs": [
        {
          "output_type": "stream",
          "text": [
            "Best Parameters selected {'xgb__n_estimators': 1000, 'xgb__learning_rate': 0.05}\n"
          ],
          "name": "stdout"
        }
      ]
    },
    {
      "cell_type": "code",
      "metadata": {
        "id": "esviHuxGzBDQ",
        "colab_type": "code",
        "colab": {
          "base_uri": "https://localhost:8080/",
          "height": 54
        },
        "outputId": "2ddc56a9-ad10-4b63-8d26-85b6f7f42c2c"
      },
      "source": [
        "print('Best number of estimators selected : ',searchCV.best_estimator_.get_params()['xgb__n_estimators'])\n",
        "print('Best Learning Rate Value  selected : ',searchCV.best_estimator_.get_params()['xgb__learning_rate'])"
      ],
      "execution_count": 206,
      "outputs": [
        {
          "output_type": "stream",
          "text": [
            "Best number of estimators selected :  1000\n",
            "Best Learning Rate Value  selected :  0.05\n"
          ],
          "name": "stdout"
        }
      ]
    },
    {
      "cell_type": "code",
      "metadata": {
        "id": "0qVeg3CdxVy6",
        "colab_type": "code",
        "colab": {
          "base_uri": "https://localhost:8080/",
          "height": 290
        },
        "outputId": "702bd523-30ea-4883-af56-c95681b33be5"
      },
      "source": [
        "print(f'Best estimators  selected {searchCV.best_estimator_}')"
      ],
      "execution_count": 207,
      "outputs": [
        {
          "output_type": "stream",
          "text": [
            "Best estimators  selected Pipeline(memory=None,\n",
            "         steps=[('sc',\n",
            "                 StandardScaler(copy=True, with_mean=True, with_std=True)),\n",
            "                ('xgb',\n",
            "                 XGBClassifier(base_score=0.5, booster='gbtree',\n",
            "                               colsample_bylevel=1, colsample_bynode=1,\n",
            "                               colsample_bytree=1, gamma=0, learning_rate=0.05,\n",
            "                               max_delta_step=0, max_depth=3,\n",
            "                               min_child_weight=1, missing=None,\n",
            "                               n_estimators=1000, n_jobs=1, nthread=None,\n",
            "                               objective='binary:logistic', random_state=0,\n",
            "                               reg_alpha=0, reg_lambda=1, scale_pos_weight=1,\n",
            "                               seed=None, silent=None, subsample=1,\n",
            "                               verbosity=1))],\n",
            "         verbose=False)\n"
          ],
          "name": "stdout"
        }
      ]
    },
    {
      "cell_type": "markdown",
      "metadata": {
        "id": "lNwDZ7Bozsae",
        "colab_type": "text"
      },
      "source": [
        "## Predictions"
      ]
    },
    {
      "cell_type": "code",
      "metadata": {
        "id": "oKulx_Unzt_5",
        "colab_type": "code",
        "colab": {}
      },
      "source": [
        "y_pred = searchCV.predict(X_test)"
      ],
      "execution_count": 0,
      "outputs": []
    },
    {
      "cell_type": "code",
      "metadata": {
        "id": "TCYP8LpSz4I5",
        "colab_type": "code",
        "colab": {
          "base_uri": "https://localhost:8080/",
          "height": 35
        },
        "outputId": "28acf0da-8904-4af8-ed96-817f4c716e2c"
      },
      "source": [
        "print(f'Accuracy Score : {accuracy_score(y_test,y_pred)}')"
      ],
      "execution_count": 209,
      "outputs": [
        {
          "output_type": "stream",
          "text": [
            "Accuracy Score : 0.8730678677449074\n"
          ],
          "name": "stdout"
        }
      ]
    },
    {
      "cell_type": "markdown",
      "metadata": {
        "id": "gGBp0TfQfjJj",
        "colab_type": "text"
      },
      "source": [
        "## Confusion Matrix"
      ]
    },
    {
      "cell_type": "code",
      "metadata": {
        "id": "PEdQopWfBPFs",
        "colab_type": "code",
        "colab": {
          "base_uri": "https://localhost:8080/",
          "height": 301
        },
        "outputId": "de5e550e-dcb0-4f10-b32a-317bb61e9631"
      },
      "source": [
        "from sklearn.metrics import plot_confusion_matrix\n",
        "plot_confusion_matrix(searchCV.best_estimator_,X_test,y_test,values_format='2g')"
      ],
      "execution_count": 211,
      "outputs": [
        {
          "output_type": "execute_result",
          "data": {
            "text/plain": [
              "<sklearn.metrics._plot.confusion_matrix.ConfusionMatrixDisplay at 0x7f6395716f28>"
            ]
          },
          "metadata": {
            "tags": []
          },
          "execution_count": 211
        },
        {
          "output_type": "display_data",
          "data": {
            "image/png": "[encoded data removed]",
            "text/plain": [
              "<Figure size 432x288 with 2 Axes>"
            ]
          },
          "metadata": {
            "tags": [],
            "needs_background": "light"
          }
        }
      ]
    },
    {
      "cell_type": "markdown",
      "metadata": {
        "id": "f3i0XOsofoWh",
        "colab_type": "text"
      },
      "source": [
        "## ROC Curve"
      ]
    },
    {
      "cell_type": "code",
      "metadata": {
        "id": "4VZwx84ub-AK",
        "colab_type": "code",
        "colab": {
          "base_uri": "https://localhost:8080/",
          "height": 297
        },
        "outputId": "c33eedf1-8f3e-409a-9658-099c0068d70f"
      },
      "source": [
        "plot_roc_curve(model,X_test,y_test,drop_intermediate=False)"
      ],
      "execution_count": 217,
      "outputs": [
        {
          "output_type": "execute_result",
          "data": {
            "text/plain": [
              "<sklearn.metrics._plot.roc_curve.RocCurveDisplay at 0x7f6394323358>"
            ]
          },
          "metadata": {
            "tags": []
          },
          "execution_count": 217
        },
        {
          "output_type": "display_data",
          "data": {
            "image/png": "[encoded data removed]",
            "text/plain": [
              "<Figure size 432x288 with 1 Axes>"
            ]
          },
          "metadata": {
            "tags": [],
            "needs_background": "light"
          }
        }
      ]
    }
  ]
}